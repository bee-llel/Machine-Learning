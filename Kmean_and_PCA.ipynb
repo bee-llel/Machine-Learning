{
  "nbformat": 4,
  "nbformat_minor": 0,
  "metadata": {
    "colab": {
      "name": "Kmean_and_PCA.ipynb",
      "provenance": [],
      "collapsed_sections": [],
      "toc_visible": true,
      "authorship_tag": "ABX9TyOS1VUHZwp4VW0fWmZNdWJA",
      "include_colab_link": true
    },
    "kernelspec": {
      "name": "python3",
      "display_name": "Python 3"
    }
  },
  "cells": [
    {
      "cell_type": "markdown",
      "metadata": {
        "id": "view-in-github",
        "colab_type": "text"
      },
      "source": [
        "<a href=\"https://colab.research.google.com/github/bee-llel/Machine-Learning/blob/master/Kmean_and_PCA.ipynb\" target=\"_parent\"><img src=\"https://colab.research.google.com/assets/colab-badge.svg\" alt=\"Open In Colab\"/></a>"
      ]
    },
    {
      "cell_type": "code",
      "metadata": {
        "id": "yrzE-5GPVdtT"
      },
      "source": [
        "######################\n",
        "\n",
        "import numpy as np \n",
        "import pandas as pd \n",
        "import matplotlib.pyplot as plt\n",
        "import seaborn as sns\n",
        "import random as rd"
      ],
      "execution_count": 4,
      "outputs": []
    },
    {
      "cell_type": "markdown",
      "metadata": {
        "id": "lXcl9IsTZ14m"
      },
      "source": [
        "1) K-means with test data \n"
      ]
    },
    {
      "cell_type": "code",
      "metadata": {
        "id": "WfqwM09kWI7Y"
      },
      "source": [
        "data = np.loadtxt(\"data_kmeans.txt\")\n",
        "np.random.shuffle(data)"
      ],
      "execution_count": 134,
      "outputs": []
    },
    {
      "cell_type": "code",
      "metadata": {
        "id": "fSiwjvPmZtsS"
      },
      "source": [
        "#function i will use for math \n",
        "def indicator(A,B):\n",
        "  I = 0\n",
        "  if A == B:\n",
        "    I = 1\n",
        "  else:\n",
        "    I = 0\n",
        "\n",
        "  return I\n",
        "\n",
        "# found on stack overflow \n",
        "def sigma_sum(start, end, expression):\n",
        "    return sum(expression(i) for i in range(start, end))\n"
      ],
      "execution_count": 135,
      "outputs": []
    },
    {
      "cell_type": "code",
      "metadata": {
        "id": "FXwJ-08-W3cz"
      },
      "source": [
        "##################\n",
        "#Definitions#\n",
        "#  X -> Represengts the Data Input \n",
        "#  K -> Represents the # of cluster\n",
        "#  I -> Represents the # of element in the Input matrix X = {x1, x2, ..., xI}\n",
        "#  J -> number of centroids which is equal to K\n",
        "##################\n",
        "# inialize and standardize the data\n",
        "## Initialize each cluster centroids which are mu1 mu2 mu3 ... muK\n",
        "### compute the distance between each point for each centroid\n",
        "#### compute the argmin of the distance between each point and each centroid\n",
        "##### assign each point to the closest centroid\n",
        "###### update the centroid by computing the barycenter of the point assigned to that centroid"
      ],
      "execution_count": 136,
      "outputs": []
    },
    {
      "cell_type": "code",
      "metadata": {
        "id": "uQcy15pye082"
      },
      "source": [
        "##################\n",
        "#Definitions#\n",
        "#  X -> Represengts the Data Input \n",
        "X_train = data[:200,:]\n",
        "X_test = data[200:,:]\n",
        "\n",
        "#  K -> Represents the # of cluster\n",
        "K = 3\n",
        "#  I -> Represents the # of element in the Input matrix X = {x1, x2, ..., xI}\n",
        "I = 300\n",
        "I_train = 200\n",
        "I_test = 100\n",
        "#  J -> number of centroids which is equal to K\n",
        "J = K\n",
        "# N -> number of features\n",
        "N = 2\n",
        "# initialize the array which will contain the distance\n",
        "D = np.zeros((I_train,K))\n"
      ],
      "execution_count": 137,
      "outputs": []
    },
    {
      "cell_type": "code",
      "metadata": {
        "colab": {
          "base_uri": "https://localhost:8080/",
          "height": 286
        },
        "id": "2SxuyBpddV_j",
        "outputId": "78eb7996-24bd-4c06-e734-8fea99d870e7"
      },
      "source": [
        "# inialize and standardize the data\n",
        "plt.scatter(X_train[:,:1],X_train[:,1:2], c=\"grey\")"
      ],
      "execution_count": 138,
      "outputs": [
        {
          "output_type": "execute_result",
          "data": {
            "text/plain": [
              "<matplotlib.collections.PathCollection at 0x7f437d5b1090>"
            ]
          },
          "metadata": {
            "tags": []
          },
          "execution_count": 138
        },
        {
          "output_type": "display_data",
          "data": {
            "image/png": "[encoded data removed]",
            "text/plain": [
              "<Figure size 432x288 with 1 Axes>"
            ]
          },
          "metadata": {
            "tags": [],
            "needs_background": "light"
          }
        }
      ]
    },
    {
      "cell_type": "code",
      "metadata": {
        "colab": {
          "base_uri": "https://localhost:8080/"
        },
        "id": "RayY0y55d9SL",
        "outputId": "d14da128-6c65-452b-db7b-c2c49b3306d8"
      },
      "source": [
        "###############################################\n",
        "## Initialize each cluster centroids which are mu1 mu2 mu3 ... muK:\n",
        "\n",
        "# We will take the min and max value of our data and take random centroid between the min and max of our data coordinate:\n",
        "max_x = np.max(X_train[:,0])\n",
        "min_x = np.min(X_train[:,0])\n",
        "\n",
        "max_y = np.max(X_train[:,1])\n",
        "min_y = np.min(X_train[:,1])\n",
        "# we compute mu :\n",
        "mu_x = [ np.random.uniform(min_x,max_x) for mu in range(J) ] \n",
        "mu_y = [ np.random.uniform(min_y,max_y) for mu in range(J) ] \n",
        "mu = np.array((mu_x,mu_y)).T\n",
        "print(mu)"
      ],
      "execution_count": 139,
      "outputs": [
        {
          "output_type": "stream",
          "text": [
            "[[8.10640862 1.55762967]\n",
            " [6.66535346 5.38842816]\n",
            " [6.84467764 3.30738771]]\n"
          ],
          "name": "stdout"
        }
      ]
    },
    {
      "cell_type": "code",
      "metadata": {
        "colab": {
          "base_uri": "https://localhost:8080/",
          "height": 286
        },
        "id": "10HAIc_Di4re",
        "outputId": "3c0fcae8-9c4f-4873-e98b-2625a2ecc2fa"
      },
      "source": [
        "# visualisation:\n",
        "plt.scatter(X_train[:,:1],X_train[:,1:2], c=\"grey\")\n",
        "plt.scatter(mu[:,0],mu[:,1],s=400,marker='+',c=\"black\")"
      ],
      "execution_count": 140,
      "outputs": [
        {
          "output_type": "execute_result",
          "data": {
            "text/plain": [
              "<matplotlib.collections.PathCollection at 0x7f437ce05e90>"
            ]
          },
          "metadata": {
            "tags": []
          },
          "execution_count": 140
        },
        {
          "output_type": "display_data",
          "data": {
            "image/png": "[encoded data removed]",
            "text/plain": [
              "<Figure size 432x288 with 1 Axes>"
            ]
          },
          "metadata": {
            "tags": [],
            "needs_background": "light"
          }
        }
      ]
    },
    {
      "cell_type": "code",
      "metadata": {
        "id": "rPzmHrfD8mTf"
      },
      "source": [
        "######################################\n",
        "# compute the distance between each point and each centroid and stock it in a distance array named D using the norm 2 \n",
        "# D is of dimension I * K because for each point (I point) we have K distance ( one for each centroid)\n",
        "\n",
        "\n",
        "def distance(I_train,K,mu,X_train,D):\n",
        "  for i in range(I_train):\n",
        "    for j in range(K):\n",
        "        D[i,j] = (X_train[i,0] - mu[j,0])**2 + (X_train[i,1] - mu[j,1])**2\n",
        "\n",
        "  return D\n",
        "\n",
        "###### update the centroid by computing the barycenter of the point assigned to that centroid\n",
        "def update_center(X_train,yes,mu,K,I_train):\n",
        "  for k in range(K):\n",
        "     mu[k,0] = sigma_sum(0,I_train, lambda i: indicator(yes[i],k)*X_train[i,0]) /  sigma_sum(0,I_train, lambda i: indicator(yes[i],k))\n",
        "     mu[k,1] = sigma_sum(0,I_train, lambda i: indicator(yes[i],k)*X_train[i,1]) / sigma_sum(0,I_train, lambda i: indicator(yes[i],k))\n",
        "  return mu\n"
      ],
      "execution_count": 141,
      "outputs": []
    },
    {
      "cell_type": "code",
      "metadata": {
        "id": "SrCme5w0c66k"
      },
      "source": [
        "######################################\n",
        "# repeat the training for 10 iteration, it will be enough to reach convergence\n",
        "for h in range(10):\n",
        "  D = distance(I_train,K,mu,X_train,D)\n",
        "  yes = np.argmin(D,axis=1)\n",
        "  mu = update_center(X_train,yes,mu,K,I_train)\n"
      ],
      "execution_count": 142,
      "outputs": []
    },
    {
      "cell_type": "code",
      "metadata": {
        "colab": {
          "base_uri": "https://localhost:8080/",
          "height": 286
        },
        "id": "oGIPEqipAy1K",
        "outputId": "1c02dee0-0465-44fa-dfe2-42f6bb2f254a"
      },
      "source": [
        "plt.scatter(X_train[:,:1],X_train[:,1:2], c=\"grey\")\n",
        "plt.scatter(mu[:,0],mu[:,1],s=400,marker='+',c=\"black\")"
      ],
      "execution_count": 143,
      "outputs": [
        {
          "output_type": "execute_result",
          "data": {
            "text/plain": [
              "<matplotlib.collections.PathCollection at 0x7f437ce05e50>"
            ]
          },
          "metadata": {
            "tags": []
          },
          "execution_count": 143
        },
        {
          "output_type": "display_data",
          "data": {
            "image/png": "[encoded data removed]",
            "text/plain": [
              "<Figure size 432x288 with 1 Axes>"
            ]
          },
          "metadata": {
            "tags": [],
            "needs_background": "light"
          }
        }
      ]
    },
    {
      "cell_type": "code",
      "metadata": {
        "id": "Y33-fa8WaRq8"
      },
      "source": [
        "#this part was a part of the lab, we will now test K-means on some real data."
      ],
      "execution_count": 144,
      "outputs": []
    },
    {
      "cell_type": "markdown",
      "metadata": {
        "id": "6p6J4_8yZ-fW"
      },
      "source": [
        "## **2.1 K-means:Clustering some real data**"
      ]
    },
    {
      "cell_type": "code",
      "metadata": {
        "id": "QLqHhvy7b8we"
      },
      "source": [
        "data=pd.read_csv(\"grade_students.csv\")\n",
        "data_array = data.to_numpy()"
      ],
      "execution_count": 185,
      "outputs": []
    },
    {
      "cell_type": "code",
      "metadata": {
        "id": "NwroO3gm0YFA"
      },
      "source": [
        "######################################\n",
        "# compute the distance between each point and each centroid and stock it in a distance array named D using the norm 2 \n",
        "# D is of dimension I * K because for each point (I point) we have K distance ( one for each centroid)\n",
        "\n",
        "\n",
        "def distance2(I_train,K,mu,X_train,D):\n",
        "  for i in range(I_train):\n",
        "    for j in range(K):\n",
        "        D[i,j] = (X_train[i,0] - mu[j,0])**2 + (X_train[i,1] - mu[j,1])**2 + (X_train[i,2] - mu[j,2])**2 + (X_train[i,3] - mu[j,3])**2 + (X_train[i,4] - mu[j,4])**2 + (X_train[i,5] - mu[j,5])**2\n",
        "  return D\n",
        "\n",
        "###### update the centroid by computing the barycenter of the point assigned to that centroid\n",
        "def update_center2(X_train,yes,mu,K,I_train):\n",
        "  for k in range(K):\n",
        "     mu[k,0] = sigma_sum(0,I_train, lambda i: indicator(yes[i],k)*X_train[i,0]) /  sigma_sum(0,I_train, lambda i: indicator(yes[i],k))\n",
        "     mu[k,1] = sigma_sum(0,I_train, lambda i: indicator(yes[i],k)*X_train[i,1]) / sigma_sum(0,I_train, lambda i: indicator(yes[i],k))\n",
        "     mu[k,2] = sigma_sum(0,I_train, lambda i: indicator(yes[i],k)*X_train[i,2]) / sigma_sum(0,I_train, lambda i: indicator(yes[i],k))\n",
        "     mu[k,3] = sigma_sum(0,I_train, lambda i: indicator(yes[i],k)*X_train[i,3]) / sigma_sum(0,I_train, lambda i: indicator(yes[i],k))\n",
        "     mu[k,4] = sigma_sum(0,I_train, lambda i: indicator(yes[i],k)*X_train[i,4]) / sigma_sum(0,I_train, lambda i: indicator(yes[i],k))\n",
        "     mu[k,5] = sigma_sum(0,I_train, lambda i: indicator(yes[i],k)*X_train[i,5]) / sigma_sum(0,I_train, lambda i: indicator(yes[i],k))\n",
        "  return mu\n"
      ],
      "execution_count": 203,
      "outputs": []
    },
    {
      "cell_type": "markdown",
      "metadata": {
        "id": "m_d1gbpVqfQQ"
      },
      "source": [
        "all the function used in this part were written above."
      ]
    },
    {
      "cell_type": "code",
      "metadata": {
        "id": "RenPOtekdcjT"
      },
      "source": [
        "##################\n",
        "#Definitions#\n",
        "# data #  X -> Represents the Data Input \n",
        "K = 3#  K -> Represents the # of cluster \n",
        "I = 5550 # I -> Represents the # of element in the Input matrix X = {x1, x2, ..., xI}\n",
        "J = K  #  J -> number of centroids which is equal to K\n",
        "N = 6 # number of feature\n",
        "\n",
        "# initialize the array which will contain the distance\n",
        "D = np.zeros((I,K))\n",
        "\n",
        "##################\n",
        "# inialize and standardize the data\n",
        "## Initialize each cluster centroids which are mu1 mu2 mu3 ... muK\n",
        "### compute the distance between each point for each centroid\n",
        "#### compute the argmin of the distance between each point and each centroid\n",
        "##### assign each point to the closest centroid\n",
        "###### update the centroid by computing the barycenter of the point assigned to that centroid"
      ],
      "execution_count": 204,
      "outputs": []
    },
    {
      "cell_type": "code",
      "metadata": {
        "colab": {
          "base_uri": "https://localhost:8080/",
          "height": 221
        },
        "id": "hYGgBxyqeSfA",
        "outputId": "50d9077c-c19d-436e-eff9-d9e994a8a9ff"
      },
      "source": [
        "# inialize and standardize the data\n",
        "print(data.shape)\n",
        "data.head()"
      ],
      "execution_count": 205,
      "outputs": [
        {
          "output_type": "stream",
          "text": [
            "(5550, 6)\n"
          ],
          "name": "stdout"
        },
        {
          "output_type": "execute_result",
          "data": {
            "text/html": [
              "<div>\n",
              "<style scoped>\n",
              "    .dataframe tbody tr th:only-of-type {\n",
              "        vertical-align: middle;\n",
              "    }\n",
              "\n",
              "    .dataframe tbody tr th {\n",
              "        vertical-align: top;\n",
              "    }\n",
              "\n",
              "    .dataframe thead th {\n",
              "        text-align: right;\n",
              "    }\n",
              "</style>\n",
              "<table border=\"1\" class=\"dataframe\">\n",
              "  <thead>\n",
              "    <tr style=\"text-align: right;\">\n",
              "      <th></th>\n",
              "      <th>g1freelunch</th>\n",
              "      <th>g1absent</th>\n",
              "      <th>g1readscore</th>\n",
              "      <th>g1mathscore</th>\n",
              "      <th>g1listeningscore</th>\n",
              "      <th>g1wordscore</th>\n",
              "    </tr>\n",
              "  </thead>\n",
              "  <tbody>\n",
              "    <tr>\n",
              "      <th>0</th>\n",
              "      <td>1</td>\n",
              "      <td>9</td>\n",
              "      <td>516</td>\n",
              "      <td>578</td>\n",
              "      <td>601</td>\n",
              "      <td>493</td>\n",
              "    </tr>\n",
              "    <tr>\n",
              "      <th>1</th>\n",
              "      <td>0</td>\n",
              "      <td>12</td>\n",
              "      <td>451</td>\n",
              "      <td>507</td>\n",
              "      <td>584</td>\n",
              "      <td>436</td>\n",
              "    </tr>\n",
              "    <tr>\n",
              "      <th>2</th>\n",
              "      <td>1</td>\n",
              "      <td>4</td>\n",
              "      <td>483</td>\n",
              "      <td>526</td>\n",
              "      <td>529</td>\n",
              "      <td>486</td>\n",
              "    </tr>\n",
              "    <tr>\n",
              "      <th>3</th>\n",
              "      <td>1</td>\n",
              "      <td>15</td>\n",
              "      <td>516</td>\n",
              "      <td>505</td>\n",
              "      <td>556</td>\n",
              "      <td>536</td>\n",
              "    </tr>\n",
              "    <tr>\n",
              "      <th>4</th>\n",
              "      <td>1</td>\n",
              "      <td>2</td>\n",
              "      <td>433</td>\n",
              "      <td>463</td>\n",
              "      <td>504</td>\n",
              "      <td>426</td>\n",
              "    </tr>\n",
              "  </tbody>\n",
              "</table>\n",
              "</div>"
            ],
            "text/plain": [
              "   g1freelunch  g1absent  ...  g1listeningscore  g1wordscore\n",
              "0            1         9  ...               601          493\n",
              "1            0        12  ...               584          436\n",
              "2            1         4  ...               529          486\n",
              "3            1        15  ...               556          536\n",
              "4            1         2  ...               504          426\n",
              "\n",
              "[5 rows x 6 columns]"
            ]
          },
          "metadata": {
            "tags": []
          },
          "execution_count": 205
        }
      ]
    },
    {
      "cell_type": "code",
      "metadata": {
        "colab": {
          "base_uri": "https://localhost:8080/"
        },
        "id": "-4d4hE1HfG0Q",
        "outputId": "16d3c45f-f093-412a-e5a0-c4539ac3626c"
      },
      "source": [
        "print(min(data[\"g1freelunch\"]),max(data[\"g1freelunch\"]))\n",
        "print(min(data[\"g1absent\"]),max(data[\"g1absent\"]))\n",
        "print(min(data[\"g1readscore\"]),max(data[\"g1readscore\"]))\n",
        "print(min(data[\"g1mathscore\"]),max(data[\"g1mathscore\"]))\n",
        "print(min(data[\"g1listeningscore\"]),max(data[\"g1listeningscore\"]))\n",
        "print(min(data[\"g1wordscore\"]),max(data[\"g1wordscore\"]))\n",
        "print(\"We have an idea of how the value the data can take for each feature, we can initialize our centroid around such value \")"
      ],
      "execution_count": 206,
      "outputs": [
        {
          "output_type": "stream",
          "text": [
            "0 1\n",
            "0 84\n",
            "404 651\n",
            "404 676\n",
            "477 708\n",
            "317 601\n",
            "We have an idea of how the value the data can take for each feature, we can initialize our centroid around such value \n"
          ],
          "name": "stdout"
        }
      ]
    },
    {
      "cell_type": "code",
      "metadata": {
        "id": "5OHKyxRyfu2P"
      },
      "source": [
        "## Initialize each cluster centroids which are mu1 mu2 mu3 ... muK\n",
        "# we have three cluster namely Weak, Average and Gifted \n",
        "# We have 6 different criteria to build our cluster \n",
        "# We should have 3 different centroid, each of a dimension 6."
      ],
      "execution_count": 207,
      "outputs": []
    },
    {
      "cell_type": "code",
      "metadata": {
        "id": "glrD2tMDgqNs",
        "colab": {
          "base_uri": "https://localhost:8080/"
        },
        "outputId": "6accb2c8-d217-4ad5-e57c-e5600c966e3d"
      },
      "source": [
        "###############################################\n",
        "## Initialize each cluster centroids which are mu1 mu2 mu3 ... muK:\n",
        "\n",
        "# We will take the min and max value of our data and take random centroid between the min and max of our data coordinate:\n",
        "# we know the max and min of each column of our dataframe \n",
        "\n",
        "# we compute mu :\n",
        "mu_x = [ np.random.uniform(0,1) for mu in range(J) ] \n",
        "mu_y = [ np.random.uniform(0,84) for mu in range(J) ] \n",
        "mu_z = [ np.random.uniform(404,651) for mu in range(J) ] \n",
        "mu_w = [ np.random.uniform(404,676) for mu in range(J) ] \n",
        "mu_u = [ np.random.uniform(477,708) for mu in range(J) ] \n",
        "mu_t = [ np.random.uniform(317,601) for mu in range(J) ] \n",
        "mu = np.array((mu_x,mu_y,mu_z,mu_w,mu_u,mu_t)).T\n",
        "print(mu)\n",
        "# we can verify that our mu have the right dimension namely 3*6 or J*N\n",
        "mu.shape"
      ],
      "execution_count": 208,
      "outputs": [
        {
          "output_type": "stream",
          "text": [
            "[[4.03559028e-01 3.39859593e+01 6.48439451e+02 4.27152262e+02\n",
            "  6.12800149e+02 5.16843797e+02]\n",
            " [3.05883122e-01 7.74708220e+01 6.37938387e+02 4.13729104e+02\n",
            "  6.43269316e+02 3.90749048e+02]\n",
            " [2.97612918e-01 7.52910125e+01 6.38274023e+02 4.56920690e+02\n",
            "  6.49007739e+02 4.85297647e+02]]\n"
          ],
          "name": "stdout"
        },
        {
          "output_type": "execute_result",
          "data": {
            "text/plain": [
              "(3, 6)"
            ]
          },
          "metadata": {
            "tags": []
          },
          "execution_count": 208
        }
      ]
    },
    {
      "cell_type": "code",
      "metadata": {
        "id": "GEsMCTtpkCTI"
      },
      "source": [
        "# we shall do a hundred iteration as it enough\n",
        "# we could create a while loop with a condition until convergence but it is easier without \n",
        "for g in range(50):\n",
        "### compute the distance between each point for each centroid\n",
        "  D = distance2(I,K,mu,data_array,D)\n",
        "#### compute the argmin of the distance between each point and each centroid yes = (y es)timated\n",
        "  yes = np.argmin(D,axis=1)\n",
        "#### update the centroid by computing the barycenter of the point assigned to that centroid\n",
        "  mu = update_center2(data_array,yes,mu,K,I)\n",
        "\n"
      ],
      "execution_count": 209,
      "outputs": []
    },
    {
      "cell_type": "code",
      "metadata": {
        "colab": {
          "base_uri": "https://localhost:8080/",
          "height": 142
        },
        "id": "adyIHzcNqL5b",
        "outputId": "022d280c-2dc5-4fc1-fa8b-509e62036d45"
      },
      "source": [
        "# we order the cluster based on the best score which means the cluster with the best score will be named gifted then average then finally weak\n",
        "mu_data = pd.DataFrame(mu[mu[:,1].argsort()], index=['Gifted', 'Average', 'Weak'], columns=data.columns)\n",
        "mu_data.head()"
      ],
      "execution_count": 222,
      "outputs": [
        {
          "output_type": "execute_result",
          "data": {
            "text/html": [
              "<div>\n",
              "<style scoped>\n",
              "    .dataframe tbody tr th:only-of-type {\n",
              "        vertical-align: middle;\n",
              "    }\n",
              "\n",
              "    .dataframe tbody tr th {\n",
              "        vertical-align: top;\n",
              "    }\n",
              "\n",
              "    .dataframe thead th {\n",
              "        text-align: right;\n",
              "    }\n",
              "</style>\n",
              "<table border=\"1\" class=\"dataframe\">\n",
              "  <thead>\n",
              "    <tr style=\"text-align: right;\">\n",
              "      <th></th>\n",
              "      <th>g1freelunch</th>\n",
              "      <th>g1absent</th>\n",
              "      <th>g1readscore</th>\n",
              "      <th>g1mathscore</th>\n",
              "      <th>g1listeningscore</th>\n",
              "      <th>g1wordscore</th>\n",
              "    </tr>\n",
              "  </thead>\n",
              "  <tbody>\n",
              "    <tr>\n",
              "      <th>Gifted</th>\n",
              "      <td>0.252149</td>\n",
              "      <td>6.608166</td>\n",
              "      <td>577.361032</td>\n",
              "      <td>580.020057</td>\n",
              "      <td>595.224928</td>\n",
              "      <td>599.065903</td>\n",
              "    </tr>\n",
              "    <tr>\n",
              "      <th>Average</th>\n",
              "      <td>0.471983</td>\n",
              "      <td>6.929741</td>\n",
              "      <td>520.566810</td>\n",
              "      <td>521.748707</td>\n",
              "      <td>535.351724</td>\n",
              "      <td>569.915517</td>\n",
              "    </tr>\n",
              "    <tr>\n",
              "      <th>Weak</th>\n",
              "      <td>0.726827</td>\n",
              "      <td>8.661941</td>\n",
              "      <td>457.386041</td>\n",
              "      <td>464.484188</td>\n",
              "      <td>491.586696</td>\n",
              "      <td>541.398582</td>\n",
              "    </tr>\n",
              "  </tbody>\n",
              "</table>\n",
              "</div>"
            ],
            "text/plain": [
              "         g1freelunch  g1absent  ...  g1listeningscore  g1wordscore\n",
              "Gifted      0.252149  6.608166  ...        595.224928   599.065903\n",
              "Average     0.471983  6.929741  ...        535.351724   569.915517\n",
              "Weak        0.726827  8.661941  ...        491.586696   541.398582\n",
              "\n",
              "[3 rows x 6 columns]"
            ]
          },
          "metadata": {
            "tags": []
          },
          "execution_count": 222
        }
      ]
    },
    {
      "cell_type": "code",
      "metadata": {
        "id": "p14S14WErDTP"
      },
      "source": [
        "###############################################\n",
        "#Interpretation \n",
        "# we can see that we obtain three different cluster where the level of the student is different \n",
        "# so we can meaningfully classify our data based on the level of the student.\n",
        "# We can then observe that there is a difference between the number of absence of a gifted children vs average and weak \n",
        "# but the difference is not to great so the absence is not a really good indicator of the children level\n",
        "\n",
        "# The most meaningful interpretation we can do is when we look at the freelunch \n",
        "# gifted children have generally not access to freelunch \n",
        "# while the majority of weak children have access to freelunch \n",
        "\n",
        "# we can conclude that people who do not have access to free lunch are wealthier than the rest \n",
        "# and it seem wealthy children have better result\n",
        "# this show that the social background of a children matter a lot in his result \n"
      ],
      "execution_count": 1,
      "outputs": []
    },
    {
      "cell_type": "markdown",
      "metadata": {
        "id": "9RGx-IZ5rdmn"
      },
      "source": [
        "# 2.2 PCA : Reducing the dimension of some synthetic data"
      ]
    },
    {
      "cell_type": "code",
      "metadata": {
        "id": "0Y5FdWhVwm3q"
      },
      "source": [
        "X = np.loadtxt(\"data_pca.txt\")\n",
        "np.random.shuffle(X)"
      ],
      "execution_count": 23,
      "outputs": []
    },
    {
      "cell_type": "code",
      "metadata": {
        "id": "juKYgXp3xRSL"
      },
      "source": [
        "X.shape\n",
        "X_train = X[:30,:]\n",
        "X_test = X[30:,:]"
      ],
      "execution_count": 24,
      "outputs": []
    },
    {
      "cell_type": "code",
      "metadata": {
        "colab": {
          "base_uri": "https://localhost:8080/",
          "height": 282
        },
        "id": "lwAjqtPPzvq9",
        "outputId": "6c165c0e-f55b-474d-a3dd-a0d772325571"
      },
      "source": [
        "# we will train our data on this \n",
        "plt.scatter(X_train[:,:1],X_train[:,1:2], c=\"grey\")"
      ],
      "execution_count": 25,
      "outputs": [
        {
          "output_type": "execute_result",
          "data": {
            "text/plain": [
              "<matplotlib.collections.PathCollection at 0x7f45b9d61ed0>"
            ]
          },
          "metadata": {
            "tags": []
          },
          "execution_count": 25
        },
        {
          "output_type": "display_data",
          "data": {
            "image/png": "[encoded data removed]",
            "text/plain": [
              "<Figure size 432x288 with 1 Axes>"
            ]
          },
          "metadata": {
            "tags": [],
            "needs_background": "light"
          }
        }
      ]
    },
    {
      "cell_type": "code",
      "metadata": {
        "id": "rsSwMZ56-9bC"
      },
      "source": [
        "# this first function give a list of all eigenvector and eigenvalue up to the newdimension\n",
        "def PCA(X,newdim):\n",
        "    # calculating the mean of the data\n",
        "    mean = np.mean(X,axis=0)\n",
        "    # centering the origin on the mean value\n",
        "    X = X - mean\n",
        "        \n",
        "    # calculating the covariance: \n",
        "    # we directly use the numpy method to compute the covariance, then we take the \n",
        "    #transpose because the np.cov return a vector in the wrong shape\n",
        "    cov = np.cov(X.T)\n",
        "        \n",
        "    # we compute the eigenvectors and eigenvalues\n",
        "    #  finding the principal eigenvectors of the covariance using the numpy method linalg:\n",
        "    \n",
        "    eigval , eigvec = np.linalg.eig(cov)\n",
        "        \n",
        "    # we now need to sort the eigenvectors according to their eigenvalues:\n",
        "    #which gives the best hyperplane onto which the data is projected\n",
        "    # the eigenvectors needs to be transposed again because of np.linalg \n",
        "    eigvec = eigvec.T\n",
        "    index = np.argsort(eigval)[::-1]\n",
        "    eigval = eigval[index]\n",
        "    eigvec = eigvec[index]\n",
        "\n",
        "    return (eigval,eigvec)\n",
        "        \n",
        "# this function project the data        \n",
        "def projection(X,eigvec,newdim):\n",
        "    mean = np.mean(X,axis=0)\n",
        "    # centering the origin on the mean value of the data \n",
        "    X = X - mean\n",
        "    # getting the first vectors up to the dimension we want \n",
        "    components=eigvec[0:newdim]\n",
        "    # we the data on the most important axis that we found by ordering the eigenvector before up to the dimensuin we want.\n",
        "    return np.dot(X,components.T)\n",
        "        "
      ],
      "execution_count": 106,
      "outputs": []
    },
    {
      "cell_type": "code",
      "metadata": {
        "colab": {
          "base_uri": "https://localhost:8080/"
        },
        "id": "hloZlpTqwliL",
        "outputId": "1e569b36-682d-4f69-f793-ed0e06146162"
      },
      "source": [
        "yes  = PCA(X_train,1)\n",
        "y_train = projection(X_train,yes[1],1)\n",
        "y_test =  projection(X_test,yes[1],1)\n",
        "print(y_test)"
      ],
      "execution_count": 107,
      "outputs": [
        {
          "output_type": "stream",
          "text": [
            "[[-0.24174721]\n",
            " [-1.99587343]\n",
            " [-2.11485002]\n",
            " [-1.64638365]\n",
            " [-3.03568872]\n",
            " [ 0.4463686 ]\n",
            " [ 2.15729706]\n",
            " [ 1.75157768]\n",
            " [ 2.16758398]\n",
            " [ 1.21046544]\n",
            " [-1.23928548]\n",
            " [-0.10628165]\n",
            " [ 0.5817497 ]\n",
            " [-1.63493676]\n",
            " [ 0.60957175]\n",
            " [ 0.66194291]\n",
            " [ 0.5028533 ]\n",
            " [ 0.02108021]\n",
            " [ 0.35974327]\n",
            " [ 1.54481303]]\n"
          ],
          "name": "stdout"
        }
      ]
    },
    {
      "cell_type": "code",
      "metadata": {
        "colab": {
          "base_uri": "https://localhost:8080/",
          "height": 282
        },
        "id": "OHkbOmTh3ktY",
        "outputId": "3a91fb33-44c2-4d34-fe8b-10e2eed06d82"
      },
      "source": [
        "orig = np.zeros(y_train.shape[0])\n",
        "orig2 = np.zeros(y_test.shape[0])\n",
        "plt.scatter(y_train,orig, c=\"grey\")\n",
        "plt.scatter(y_test,orig2, c=\"red\")\n",
        "# here is the result of our training in grey and our test in red"
      ],
      "execution_count": 108,
      "outputs": [
        {
          "output_type": "execute_result",
          "data": {
            "text/plain": [
              "<matplotlib.collections.PathCollection at 0x7f45b9ab3e10>"
            ]
          },
          "metadata": {
            "tags": []
          },
          "execution_count": 108
        },
        {
          "output_type": "display_data",
          "data": {
            "image/png": "[encoded data removed]",
            "text/plain": [
              "<Figure size 432x288 with 1 Axes>"
            ]
          },
          "metadata": {
            "tags": [],
            "needs_background": "light"
          }
        }
      ]
    },
    {
      "cell_type": "markdown",
      "metadata": {
        "id": "ZBNRwS_uKexz"
      },
      "source": [
        "# 2.3 PCA: Reducing the dimension of some real data"
      ]
    },
    {
      "cell_type": "markdown",
      "metadata": {
        "id": "0ZG4Rlu18XYr"
      },
      "source": [
        ""
      ]
    },
    {
      "cell_type": "code",
      "metadata": {
        "id": "DfCkgcus5Jjz"
      },
      "source": [
        "datapca=pd.read_csv(\"diabetes.csv\")"
      ],
      "execution_count": 109,
      "outputs": []
    },
    {
      "cell_type": "code",
      "metadata": {
        "colab": {
          "base_uri": "https://localhost:8080/",
          "height": 204
        },
        "id": "9Bt9gqizALRm",
        "outputId": "4f93cbe4-6efd-41ae-e513-9253889c5adb"
      },
      "source": [
        "diabete = datapca.to_numpy()\n",
        "datapca.head()"
      ],
      "execution_count": 110,
      "outputs": [
        {
          "output_type": "execute_result",
          "data": {
            "text/html": [
              "<div>\n",
              "<style scoped>\n",
              "    .dataframe tbody tr th:only-of-type {\n",
              "        vertical-align: middle;\n",
              "    }\n",
              "\n",
              "    .dataframe tbody tr th {\n",
              "        vertical-align: top;\n",
              "    }\n",
              "\n",
              "    .dataframe thead th {\n",
              "        text-align: right;\n",
              "    }\n",
              "</style>\n",
              "<table border=\"1\" class=\"dataframe\">\n",
              "  <thead>\n",
              "    <tr style=\"text-align: right;\">\n",
              "      <th></th>\n",
              "      <th>Pregnancies</th>\n",
              "      <th>Glucose</th>\n",
              "      <th>BloodPressure</th>\n",
              "      <th>SkinThickness</th>\n",
              "      <th>Insulin</th>\n",
              "      <th>BMI</th>\n",
              "      <th>DiabetesPedigreeFunction</th>\n",
              "      <th>Age</th>\n",
              "      <th>Outcome</th>\n",
              "    </tr>\n",
              "  </thead>\n",
              "  <tbody>\n",
              "    <tr>\n",
              "      <th>0</th>\n",
              "      <td>6</td>\n",
              "      <td>148</td>\n",
              "      <td>72</td>\n",
              "      <td>35</td>\n",
              "      <td>0</td>\n",
              "      <td>33.6</td>\n",
              "      <td>0.627</td>\n",
              "      <td>50</td>\n",
              "      <td>1</td>\n",
              "    </tr>\n",
              "    <tr>\n",
              "      <th>1</th>\n",
              "      <td>1</td>\n",
              "      <td>85</td>\n",
              "      <td>66</td>\n",
              "      <td>29</td>\n",
              "      <td>0</td>\n",
              "      <td>26.6</td>\n",
              "      <td>0.351</td>\n",
              "      <td>31</td>\n",
              "      <td>0</td>\n",
              "    </tr>\n",
              "    <tr>\n",
              "      <th>2</th>\n",
              "      <td>8</td>\n",
              "      <td>183</td>\n",
              "      <td>64</td>\n",
              "      <td>0</td>\n",
              "      <td>0</td>\n",
              "      <td>23.3</td>\n",
              "      <td>0.672</td>\n",
              "      <td>32</td>\n",
              "      <td>1</td>\n",
              "    </tr>\n",
              "    <tr>\n",
              "      <th>3</th>\n",
              "      <td>1</td>\n",
              "      <td>89</td>\n",
              "      <td>66</td>\n",
              "      <td>23</td>\n",
              "      <td>94</td>\n",
              "      <td>28.1</td>\n",
              "      <td>0.167</td>\n",
              "      <td>21</td>\n",
              "      <td>0</td>\n",
              "    </tr>\n",
              "    <tr>\n",
              "      <th>4</th>\n",
              "      <td>0</td>\n",
              "      <td>137</td>\n",
              "      <td>40</td>\n",
              "      <td>35</td>\n",
              "      <td>168</td>\n",
              "      <td>43.1</td>\n",
              "      <td>2.288</td>\n",
              "      <td>33</td>\n",
              "      <td>1</td>\n",
              "    </tr>\n",
              "  </tbody>\n",
              "</table>\n",
              "</div>"
            ],
            "text/plain": [
              "   Pregnancies  Glucose  BloodPressure  ...  DiabetesPedigreeFunction  Age  Outcome\n",
              "0            6      148             72  ...                     0.627   50        1\n",
              "1            1       85             66  ...                     0.351   31        0\n",
              "2            8      183             64  ...                     0.672   32        1\n",
              "3            1       89             66  ...                     0.167   21        0\n",
              "4            0      137             40  ...                     2.288   33        1\n",
              "\n",
              "[5 rows x 9 columns]"
            ]
          },
          "metadata": {
            "tags": []
          },
          "execution_count": 110
        }
      ]
    },
    {
      "cell_type": "code",
      "metadata": {
        "id": "ggTxKr4qAM-m"
      },
      "source": [
        "# we will reduce the dimension from 9 to 5 \n",
        "yes  = PCA(diabete,8)\n",
        "projected_diabete = projection(diabete,yes[1],5)\n",
        "PCA_diabete = pd.DataFrame(projected_diabete)"
      ],
      "execution_count": 104,
      "outputs": []
    },
    {
      "cell_type": "code",
      "metadata": {
        "colab": {
          "base_uri": "https://localhost:8080/",
          "height": 204
        },
        "id": "9BMhmLjqBzkq",
        "outputId": "b16938bb-610f-4232-b7ab-c2d52fb3621c"
      },
      "source": [
        "PCA_diabete.head()\n"
      ],
      "execution_count": 111,
      "outputs": [
        {
          "output_type": "execute_result",
          "data": {
            "text/html": [
              "<div>\n",
              "<style scoped>\n",
              "    .dataframe tbody tr th:only-of-type {\n",
              "        vertical-align: middle;\n",
              "    }\n",
              "\n",
              "    .dataframe tbody tr th {\n",
              "        vertical-align: top;\n",
              "    }\n",
              "\n",
              "    .dataframe thead th {\n",
              "        text-align: right;\n",
              "    }\n",
              "</style>\n",
              "<table border=\"1\" class=\"dataframe\">\n",
              "  <thead>\n",
              "    <tr style=\"text-align: right;\">\n",
              "      <th></th>\n",
              "      <th>0</th>\n",
              "      <th>1</th>\n",
              "      <th>2</th>\n",
              "      <th>3</th>\n",
              "      <th>4</th>\n",
              "    </tr>\n",
              "  </thead>\n",
              "  <tbody>\n",
              "    <tr>\n",
              "      <th>0</th>\n",
              "      <td>-75.714249</td>\n",
              "      <td>35.954944</td>\n",
              "      <td>-7.260683</td>\n",
              "      <td>15.670527</td>\n",
              "      <td>-16.507978</td>\n",
              "    </tr>\n",
              "    <tr>\n",
              "      <th>1</th>\n",
              "      <td>-82.358466</td>\n",
              "      <td>-28.909559</td>\n",
              "      <td>-5.496649</td>\n",
              "      <td>9.004430</td>\n",
              "      <td>-3.480381</td>\n",
              "    </tr>\n",
              "    <tr>\n",
              "      <th>2</th>\n",
              "      <td>-74.630229</td>\n",
              "      <td>67.909633</td>\n",
              "      <td>19.461753</td>\n",
              "      <td>-5.653114</td>\n",
              "      <td>10.299176</td>\n",
              "    </tr>\n",
              "    <tr>\n",
              "      <th>3</th>\n",
              "      <td>11.077206</td>\n",
              "      <td>-34.900175</td>\n",
              "      <td>-0.053004</td>\n",
              "      <td>1.314561</td>\n",
              "      <td>7.619943</td>\n",
              "    </tr>\n",
              "    <tr>\n",
              "      <th>4</th>\n",
              "      <td>89.744156</td>\n",
              "      <td>2.751263</td>\n",
              "      <td>25.213059</td>\n",
              "      <td>18.995906</td>\n",
              "      <td>-8.525785</td>\n",
              "    </tr>\n",
              "  </tbody>\n",
              "</table>\n",
              "</div>"
            ],
            "text/plain": [
              "           0          1          2          3          4\n",
              "0 -75.714249  35.954944  -7.260683  15.670527 -16.507978\n",
              "1 -82.358466 -28.909559  -5.496649   9.004430  -3.480381\n",
              "2 -74.630229  67.909633  19.461753  -5.653114  10.299176\n",
              "3  11.077206 -34.900175  -0.053004   1.314561   7.619943\n",
              "4  89.744156   2.751263  25.213059  18.995906  -8.525785"
            ]
          },
          "metadata": {
            "tags": []
          },
          "execution_count": 111
        }
      ]
    },
    {
      "cell_type": "code",
      "metadata": {
        "id": "HlEq8tfsDXWo"
      },
      "source": [
        "#interpretation:\n",
        "# the new data obtained by doing the PCA and reducing the dimension \n",
        "# cannot be directly understood now\n",
        "# it is a new data that contain and retain most of the information of our old data \n",
        "# but we need to study it further to understand the meaning of the new data \n",
        "# what we can do is study our data before doing PCA to have a deep understanding of our data then use PCA to reduce the computing time \n",
        "# and the amount of data we have\n",
        "\n",
        "# Once PCA is done we lose interpretability but we can clean our data by reducing the noise because we cut trivial dimension. \n",
        "\n",
        "\"PCA does not discard any samples or characteristics (variables). Instead, it reduces the overwhelming number of dimensions by constructing principal components (PCs).\n",
        "\" PCs describe variation and account for the varied influences of the original characteristics. Such influences, or loadings,\"\n",
        "\"can be traced back from the PCA plot to find out what produces the differences among clusters.\"\n",
        "\n",
        "# this comment from a site i found online explain that the principal component that we keep still retain the influence of all the original data \n",
        "# even more so by only cutting the least interesting dimensions ( which is why ordering our eigenvalue is so important).\n"
      ],
      "execution_count": null,
      "outputs": []
    }
  ]
}