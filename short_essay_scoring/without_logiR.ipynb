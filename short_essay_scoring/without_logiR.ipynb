{
  "nbformat": 4,
  "nbformat_minor": 0,
  "metadata": {
    "kernelspec": {
      "display_name": "Python 3",
      "language": "python",
      "name": "python3"
    },
    "language_info": {
      "codemirror_mode": {
        "name": "ipython",
        "version": 3
      },
      "file_extension": ".py",
      "mimetype": "text/x-python",
      "name": "python",
      "nbconvert_exporter": "python",
      "pygments_lexer": "ipython3",
      "version": "3.6.5"
    },
    "colab": {
      "name": "short_essay_scoring.ipynb",
      "provenance": [],
      "collapsed_sections": [],
      "include_colab_link": true
    }
  },
  "cells": [
    {
      "cell_type": "markdown",
      "metadata": {
        "id": "view-in-github",
        "colab_type": "text"
      },
      "source": [
        "<a href=\"https://colab.research.google.com/github/bee-llel/Machine-Learning/blob/master/short_essay_scoring/without_logiR.ipynb\" target=\"_parent\"><img src=\"https://colab.research.google.com/assets/colab-badge.svg\" alt=\"Open In Colab\"/></a>"
      ]
    },
    {
      "cell_type": "markdown",
      "metadata": {
        "id": "cuV5W9GxHgpe"
      },
      "source": [
        "# Short Essay Scoring\n",
        "For these last session we are going to focus on scoring elementary reading comprehension exercices."
      ]
    },
    {
      "cell_type": "code",
      "metadata": {
        "colab": {
          "base_uri": "https://localhost:8080/"
        },
        "id": "j5wrSev5Hgpt",
        "outputId": "b9fe317e-8218-4617-abf6-9161a07c675f"
      },
      "source": [
        "#First, let's import the nesseacary libraries\n",
        "import warnings\n",
        "warnings.filterwarnings('ignore')\n",
        "import pandas as pd\n",
        "import numpy as np\n",
        "import matplotlib.pyplot as plt\n",
        "import nltk\n",
        "nltk.download('punkt')\n",
        "from nltk.tokenize import word_tokenize\n",
        "from nltk.tokenize import sent_tokenize\n",
        "nltk.download('averaged_perceptron_tagger')\n",
        "from nltk.corpus import stopwords \n",
        "nltk.download('stopwords')"
      ],
      "execution_count": 45,
      "outputs": [
        {
          "output_type": "stream",
          "text": [
            "[nltk_data] Downloading package punkt to /root/nltk_data...\n",
            "[nltk_data]   Package punkt is already up-to-date!\n",
            "[nltk_data] Downloading package averaged_perceptron_tagger to\n",
            "[nltk_data]     /root/nltk_data...\n",
            "[nltk_data]   Package averaged_perceptron_tagger is already up-to-\n",
            "[nltk_data]       date!\n",
            "[nltk_data] Downloading package stopwords to /root/nltk_data...\n",
            "[nltk_data]   Package stopwords is already up-to-date!\n"
          ],
          "name": "stdout"
        },
        {
          "output_type": "execute_result",
          "data": {
            "text/plain": [
              "True"
            ]
          },
          "metadata": {
            "tags": []
          },
          "execution_count": 45
        }
      ]
    },
    {
      "cell_type": "markdown",
      "metadata": {
        "id": "xvgEqsu3Hgpv"
      },
      "source": [
        "## 1. Import the data and print some statistics \n",
        "more information about the data set can be found in:  https://archive.ics.uci.edu/ml/datasets/Bike+Sharing+Dataset"
      ]
    },
    {
      "cell_type": "code",
      "metadata": {
        "colab": {
          "base_uri": "https://localhost:8080/",
          "height": 996
        },
        "id": "rDjfKDgtHgpw",
        "outputId": "0bf9aa8b-0dd9-4168-b60f-8ee52a4ca15e"
      },
      "source": [
        "####################################################\n",
        "#Data loading and basic modification\n",
        "df = pd.read_csv(\"short_essay_scoring.csv\")\n",
        "df.drop(['Unnamed: 0'],inplace = True,axis = 1)\n",
        "df['score'] = df['score']/10\n",
        "print ('the data frame has a shape :', df.shape)\n",
        "df.head(30)"
      ],
      "execution_count": 46,
      "outputs": [
        {
          "output_type": "stream",
          "text": [
            "the data frame has a shape : (1500, 5)\n"
          ],
          "name": "stdout"
        },
        {
          "output_type": "execute_result",
          "data": {
            "text/html": [
              "<div>\n",
              "<style scoped>\n",
              "    .dataframe tbody tr th:only-of-type {\n",
              "        vertical-align: middle;\n",
              "    }\n",
              "\n",
              "    .dataframe tbody tr th {\n",
              "        vertical-align: top;\n",
              "    }\n",
              "\n",
              "    .dataframe thead th {\n",
              "        text-align: right;\n",
              "    }\n",
              "</style>\n",
              "<table border=\"1\" class=\"dataframe\">\n",
              "  <thead>\n",
              "    <tr style=\"text-align: right;\">\n",
              "      <th></th>\n",
              "      <th>answer</th>\n",
              "      <th>question_text</th>\n",
              "      <th>text_id</th>\n",
              "      <th>grade</th>\n",
              "      <th>score</th>\n",
              "    </tr>\n",
              "  </thead>\n",
              "  <tbody>\n",
              "    <tr>\n",
              "      <th>0</th>\n",
              "      <td>Destiny would be a good friend beacu like to r...</td>\n",
              "      <td>Would you enjoy being friends with the main ch...</td>\n",
              "      <td>AUTJfAnEIe5XGTq1jvkynEr-Q</td>\n",
              "      <td>3</td>\n",
              "      <td>0.7</td>\n",
              "    </tr>\n",
              "    <tr>\n",
              "      <th>1</th>\n",
              "      <td>I think Mr.Popper would disagree because he wa...</td>\n",
              "      <td>Which character do you think would disagree wi...</td>\n",
              "      <td>BASEvlmqaEWAE9oL3mOT2KG9JQ</td>\n",
              "      <td>3</td>\n",
              "      <td>0.9</td>\n",
              "    </tr>\n",
              "    <tr>\n",
              "      <th>2</th>\n",
              "      <td>i think that it has made me a better person be...</td>\n",
              "      <td>Do you think reading this text has made you a ...</td>\n",
              "      <td>BASEAOH8j3w9WsZOxNQ9dzAUFQ</td>\n",
              "      <td>5</td>\n",
              "      <td>0.8</td>\n",
              "    </tr>\n",
              "    <tr>\n",
              "      <th>3</th>\n",
              "      <td>A part that I could not stop reading was when ...</td>\n",
              "      <td>Tell us about one part of this book that total...</td>\n",
              "      <td>AUToHuz362h0RJY-hPa7O6MDw</td>\n",
              "      <td>3</td>\n",
              "      <td>0.9</td>\n",
              "    </tr>\n",
              "    <tr>\n",
              "      <th>4</th>\n",
              "      <td>its not as good as the any of the other ones</td>\n",
              "      <td>Does this book remind you of the last book you...</td>\n",
              "      <td>BASEasfHPZhAW77njjMyzqLqOw</td>\n",
              "      <td>1</td>\n",
              "      <td>0.3</td>\n",
              "    </tr>\n",
              "    <tr>\n",
              "      <th>5</th>\n",
              "      <td>I wuld rather be friends with the last charact...</td>\n",
              "      <td>Would you rather be friends with the main char...</td>\n",
              "      <td>BASEMzne0vBjgFUM6niwywRV5g</td>\n",
              "      <td>3</td>\n",
              "      <td>0.9</td>\n",
              "    </tr>\n",
              "    <tr>\n",
              "      <th>6</th>\n",
              "      <td>Tracking sunspots and predicting solar storms ...</td>\n",
              "      <td>Flip through the part of the text you have rea...</td>\n",
              "      <td>BASENMSJzWLV07CKMlT7yr2vPA</td>\n",
              "      <td>7</td>\n",
              "      <td>0.7</td>\n",
              "    </tr>\n",
              "    <tr>\n",
              "      <th>7</th>\n",
              "      <td>I rather be friends with the main character be...</td>\n",
              "      <td>Would you rather be friends with the main char...</td>\n",
              "      <td>BASE1sursGwC9Gcmr64d_7Z77A</td>\n",
              "      <td>4</td>\n",
              "      <td>0.7</td>\n",
              "    </tr>\n",
              "    <tr>\n",
              "      <th>8</th>\n",
              "      <td>He never gave up when he was turned into a mou...</td>\n",
              "      <td>The boy is never given a name in the story, ye...</td>\n",
              "      <td>BASEkAITp4dIe3STuqsJ7CGKUw</td>\n",
              "      <td>2</td>\n",
              "      <td>0.9</td>\n",
              "    </tr>\n",
              "    <tr>\n",
              "      <th>9</th>\n",
              "      <td>His friend and copying each other  and going t...</td>\n",
              "      <td>What does the main character or person really ...</td>\n",
              "      <td>BASEAM1_r5k4MpfL2PfLuQxruQ</td>\n",
              "      <td>2</td>\n",
              "      <td>0.9</td>\n",
              "    </tr>\n",
              "    <tr>\n",
              "      <th>10</th>\n",
              "      <td>I think this text has made me a better person ...</td>\n",
              "      <td>Do you think reading this text has made you a ...</td>\n",
              "      <td>BASE5AyoBJr1pcxWYKszjYPJhw</td>\n",
              "      <td>5</td>\n",
              "      <td>0.9</td>\n",
              "    </tr>\n",
              "    <tr>\n",
              "      <th>11</th>\n",
              "      <td>Katie brown is the narrator. i would choose Ni...</td>\n",
              "      <td>Who is the narrator in this book? If you had t...</td>\n",
              "      <td>BASEg5gS1h9muP0l0GLxHOsHDQ</td>\n",
              "      <td>3</td>\n",
              "      <td>1.0</td>\n",
              "    </tr>\n",
              "    <tr>\n",
              "      <th>12</th>\n",
              "      <td>no 1 i don't have any pets 2 i don't like sleding</td>\n",
              "      <td>Do you think you are like the main character o...</td>\n",
              "      <td>BASEfCcjC2QXzf2AczXyBG-t_g</td>\n",
              "      <td>4</td>\n",
              "      <td>0.7</td>\n",
              "    </tr>\n",
              "    <tr>\n",
              "      <th>13</th>\n",
              "      <td>They kept saying birthday cause the main idea ...</td>\n",
              "      <td>Are any words or sentences repeated? Which one...</td>\n",
              "      <td>BASEys9wenk21PX1PxUbR-fXRw</td>\n",
              "      <td>3</td>\n",
              "      <td>0.9</td>\n",
              "    </tr>\n",
              "    <tr>\n",
              "      <th>14</th>\n",
              "      <td>I am so happy that there aren't as many poison...</td>\n",
              "      <td>What part of the text made you the happiest? W...</td>\n",
              "      <td>MANUmrds4Wx4Hw0YkR-wQVf2QQ</td>\n",
              "      <td>4</td>\n",
              "      <td>1.0</td>\n",
              "    </tr>\n",
              "    <tr>\n",
              "      <th>15</th>\n",
              "      <td>no because you was being mean to people on the...</td>\n",
              "      <td>Do you think reading this text has made you a ...</td>\n",
              "      <td>BASE7MX-Ksxq81E1Sc4qr9-XVA</td>\n",
              "      <td>3</td>\n",
              "      <td>0.6</td>\n",
              "    </tr>\n",
              "    <tr>\n",
              "      <th>16</th>\n",
              "      <td>yes because it was very detailed funny and hap...</td>\n",
              "      <td>Will you ever read this book again? Why?</td>\n",
              "      <td>BASEshoJRmiwe2OdV8j3W1Mctw</td>\n",
              "      <td>0</td>\n",
              "      <td>0.9</td>\n",
              "    </tr>\n",
              "    <tr>\n",
              "      <th>17</th>\n",
              "      <td>I hated the part where she was in the air port...</td>\n",
              "      <td>Describe one part of this text that totally bo...</td>\n",
              "      <td>AUT2F_wA0tHwqo3mTza35gKWg</td>\n",
              "      <td>7</td>\n",
              "      <td>0.6</td>\n",
              "    </tr>\n",
              "    <tr>\n",
              "      <th>18</th>\n",
              "      <td>he like abcccccccccccccccccccccccccccccccccccc...</td>\n",
              "      <td>What are some ways that the main character or ...</td>\n",
              "      <td>BASE3BPQQ237cdAsJw-pJ-_I2Q</td>\n",
              "      <td>1</td>\n",
              "      <td>0.0</td>\n",
              "    </tr>\n",
              "    <tr>\n",
              "      <th>19</th>\n",
              "      <td>ghosts in new places are more scary than old. ...</td>\n",
              "      <td>Come up with a new name for this book.</td>\n",
              "      <td>BASE8Ezhzvdd13q_9bNuLcXZZg</td>\n",
              "      <td>2</td>\n",
              "      <td>0.9</td>\n",
              "    </tr>\n",
              "    <tr>\n",
              "      <th>20</th>\n",
              "      <td>I believe they have a wonderful relationship. ...</td>\n",
              "      <td>How would you describe the relationship betwee...</td>\n",
              "      <td>BASEdQWOaqvxIKc0AD1xWYC_sQ</td>\n",
              "      <td>6</td>\n",
              "      <td>1.0</td>\n",
              "    </tr>\n",
              "    <tr>\n",
              "      <th>21</th>\n",
              "      <td>David is my favorite character.because it gets...</td>\n",
              "      <td>Who is your favorite character or person, and ...</td>\n",
              "      <td>BASE-W9_8VNXPiAPpHAajdmNng</td>\n",
              "      <td>2</td>\n",
              "      <td>0.9</td>\n",
              "    </tr>\n",
              "    <tr>\n",
              "      <th>22</th>\n",
              "      <td>i will help cheyenne because she doesn't know ...</td>\n",
              "      <td>Based only on how the characters or people com...</td>\n",
              "      <td>AUTs3NPHFNEpOdWMicXCLVBLg</td>\n",
              "      <td>7</td>\n",
              "      <td>0.6</td>\n",
              "    </tr>\n",
              "    <tr>\n",
              "      <th>23</th>\n",
              "      <td>I think that Bradley was a bully at the first ...</td>\n",
              "      <td>What was the main character or person like at ...</td>\n",
              "      <td>BASE0T-701KYmeUkzaQ5SZMAoQ</td>\n",
              "      <td>4</td>\n",
              "      <td>1.0</td>\n",
              "    </tr>\n",
              "    <tr>\n",
              "      <th>24</th>\n",
              "      <td>Their friendship was strong, like nothing woul...</td>\n",
              "      <td>Describe a friendship that existed between two...</td>\n",
              "      <td>MANUmSzU71_0-4R4mGCDFS0Uog</td>\n",
              "      <td>6</td>\n",
              "      <td>0.5</td>\n",
              "    </tr>\n",
              "    <tr>\n",
              "      <th>25</th>\n",
              "      <td>I would rather be with the book.I read before ...</td>\n",
              "      <td>Would you rather live in the world described i...</td>\n",
              "      <td>AUTWzkIPjkfkBykwLwFc1MMEA</td>\n",
              "      <td>5</td>\n",
              "      <td>0.9</td>\n",
              "    </tr>\n",
              "    <tr>\n",
              "      <th>26</th>\n",
              "      <td>kkkkkkkkkkkkkkkkkkkkkkkkkkkkkkkkkkkkkkkkkkkkkk...</td>\n",
              "      <td>Find a line from the text that would make a go...</td>\n",
              "      <td>BASEd1AOyZXNco7p7V3DjsN5bw</td>\n",
              "      <td>4</td>\n",
              "      <td>0.0</td>\n",
              "    </tr>\n",
              "    <tr>\n",
              "      <th>27</th>\n",
              "      <td>Jessie because she would understand all of my ...</td>\n",
              "      <td>Do you think the main character or person woul...</td>\n",
              "      <td>BASEdRowu6sYSSjXYTix_fCcfg</td>\n",
              "      <td>4</td>\n",
              "      <td>0.8</td>\n",
              "    </tr>\n",
              "    <tr>\n",
              "      <th>28</th>\n",
              "      <td>when they saved all the chickens</td>\n",
              "      <td>What part of the text made you the happiest? W...</td>\n",
              "      <td>AUTbL3G28RsrAtwiyWOc2eKyw</td>\n",
              "      <td>4</td>\n",
              "      <td>0.7</td>\n",
              "    </tr>\n",
              "    <tr>\n",
              "      <th>29</th>\n",
              "      <td>An Official Mojang Book Hardcover  November 26...</td>\n",
              "      <td>What was your opinion of this topic before you...</td>\n",
              "      <td>BASEvo-Y6oP4mlZ-d6ID-xbecg</td>\n",
              "      <td>6</td>\n",
              "      <td>0.0</td>\n",
              "    </tr>\n",
              "  </tbody>\n",
              "</table>\n",
              "</div>"
            ],
            "text/plain": [
              "                                               answer  ... score\n",
              "0   Destiny would be a good friend beacu like to r...  ...   0.7\n",
              "1   I think Mr.Popper would disagree because he wa...  ...   0.9\n",
              "2   i think that it has made me a better person be...  ...   0.8\n",
              "3   A part that I could not stop reading was when ...  ...   0.9\n",
              "4        its not as good as the any of the other ones  ...   0.3\n",
              "5   I wuld rather be friends with the last charact...  ...   0.9\n",
              "6   Tracking sunspots and predicting solar storms ...  ...   0.7\n",
              "7   I rather be friends with the main character be...  ...   0.7\n",
              "8   He never gave up when he was turned into a mou...  ...   0.9\n",
              "9   His friend and copying each other  and going t...  ...   0.9\n",
              "10  I think this text has made me a better person ...  ...   0.9\n",
              "11  Katie brown is the narrator. i would choose Ni...  ...   1.0\n",
              "12  no 1 i don't have any pets 2 i don't like sleding  ...   0.7\n",
              "13  They kept saying birthday cause the main idea ...  ...   0.9\n",
              "14  I am so happy that there aren't as many poison...  ...   1.0\n",
              "15  no because you was being mean to people on the...  ...   0.6\n",
              "16  yes because it was very detailed funny and hap...  ...   0.9\n",
              "17  I hated the part where she was in the air port...  ...   0.6\n",
              "18  he like abcccccccccccccccccccccccccccccccccccc...  ...   0.0\n",
              "19  ghosts in new places are more scary than old. ...  ...   0.9\n",
              "20  I believe they have a wonderful relationship. ...  ...   1.0\n",
              "21  David is my favorite character.because it gets...  ...   0.9\n",
              "22  i will help cheyenne because she doesn't know ...  ...   0.6\n",
              "23  I think that Bradley was a bully at the first ...  ...   1.0\n",
              "24  Their friendship was strong, like nothing woul...  ...   0.5\n",
              "25  I would rather be with the book.I read before ...  ...   0.9\n",
              "26  kkkkkkkkkkkkkkkkkkkkkkkkkkkkkkkkkkkkkkkkkkkkkk...  ...   0.0\n",
              "27  Jessie because she would understand all of my ...  ...   0.8\n",
              "28                   when they saved all the chickens  ...   0.7\n",
              "29  An Official Mojang Book Hardcover  November 26...  ...   0.0\n",
              "\n",
              "[30 rows x 5 columns]"
            ]
          },
          "metadata": {
            "tags": []
          },
          "execution_count": 46
        }
      ]
    },
    {
      "cell_type": "markdown",
      "metadata": {
        "id": "BCzxBtFtHgpz"
      },
      "source": [
        "## 2. A little bit about processing text data (NLP)\n",
        "https://www.nltk.org"
      ]
    },
    {
      "cell_type": "code",
      "metadata": {
        "id": "Q16B0MHLHgpz"
      },
      "source": [
        "#we are going to use nltk sentence tokenizer, word tokenizer, pos tagger, lemmatizer, ngrams"
      ],
      "execution_count": 47,
      "outputs": []
    },
    {
      "cell_type": "code",
      "metadata": {
        "colab": {
          "base_uri": "https://localhost:8080/"
        },
        "id": "I26-TUMvHgp0",
        "outputId": "76acb179-639a-4117-ac0e-e73625ead91e"
      },
      "source": [
        "# Explanation of the usefulness of tokenizer. \n",
        "sentence = 'This is a great sentence because i wrote it. We\\'ll see how this goes. Harry Potter said \"I love Quiddich.\"'\n",
        "print(sentence.split(\" \"))\n",
        "tokens = word_tokenize(sentence)\n",
        "print(tokens)\n",
        "print(len(tokens))"
      ],
      "execution_count": 48,
      "outputs": [
        {
          "output_type": "stream",
          "text": [
            "['This', 'is', 'a', 'great', 'sentence', 'because', 'i', 'wrote', 'it.', \"We'll\", 'see', 'how', 'this', 'goes.', 'Harry', 'Potter', 'said', '\"I', 'love', 'Quiddich.\"']\n",
            "['This', 'is', 'a', 'great', 'sentence', 'because', 'i', 'wrote', 'it', '.', 'We', \"'ll\", 'see', 'how', 'this', 'goes', '.', 'Harry', 'Potter', 'said', '``', 'I', 'love', 'Quiddich', '.', \"''\"]\n",
            "26\n"
          ],
          "name": "stdout"
        }
      ]
    },
    {
      "cell_type": "code",
      "metadata": {
        "colab": {
          "base_uri": "https://localhost:8080/"
        },
        "id": "bB4dFtlcHgp0",
        "outputId": "337352df-dd00-4403-8408-ebe0ef658708"
      },
      "source": [
        "# SENT TOKENIZER\n",
        "from nltk.tokenize import sent_tokenize\n",
        "sents = sent_tokenize('This is a great sentence because i wrote it. We\\'ll see how this goes. Harry Potter said \"I love Quiddich.\"')\n",
        "sents\n",
        "print(sents)"
      ],
      "execution_count": 49,
      "outputs": [
        {
          "output_type": "stream",
          "text": [
            "['This is a great sentence because i wrote it.', \"We'll see how this goes.\", 'Harry Potter said \"I love Quiddich.\"']\n"
          ],
          "name": "stdout"
        }
      ]
    },
    {
      "cell_type": "code",
      "metadata": {
        "id": "UeZ8JOQpHgp1",
        "colab": {
          "base_uri": "https://localhost:8080/"
        },
        "outputId": "3b984dec-b5b9-4c79-862a-5a1b6a52ac4e"
      },
      "source": [
        "# PART OF SPEECH TAGGING\n",
        "tagged = nltk.pos_tag(tokens)\n",
        "tagged"
      ],
      "execution_count": 50,
      "outputs": [
        {
          "output_type": "execute_result",
          "data": {
            "text/plain": [
              "[('This', 'DT'),\n",
              " ('is', 'VBZ'),\n",
              " ('a', 'DT'),\n",
              " ('great', 'JJ'),\n",
              " ('sentence', 'NN'),\n",
              " ('because', 'IN'),\n",
              " ('i', 'NN'),\n",
              " ('wrote', 'VBD'),\n",
              " ('it', 'PRP'),\n",
              " ('.', '.'),\n",
              " ('We', 'PRP'),\n",
              " (\"'ll\", 'MD'),\n",
              " ('see', 'VB'),\n",
              " ('how', 'WRB'),\n",
              " ('this', 'DT'),\n",
              " ('goes', 'VBZ'),\n",
              " ('.', '.'),\n",
              " ('Harry', 'NNP'),\n",
              " ('Potter', 'NNP'),\n",
              " ('said', 'VBD'),\n",
              " ('``', '``'),\n",
              " ('I', 'PRP'),\n",
              " ('love', 'VBP'),\n",
              " ('Quiddich', 'NNP'),\n",
              " ('.', '.'),\n",
              " (\"''\", \"''\")]"
            ]
          },
          "metadata": {
            "tags": []
          },
          "execution_count": 50
        }
      ]
    },
    {
      "cell_type": "code",
      "metadata": {
        "colab": {
          "base_uri": "https://localhost:8080/"
        },
        "id": "6rzsoItYHgp2",
        "outputId": "10b7d206-892a-4e3d-817e-2cc0cb2534dc"
      },
      "source": [
        "# STOPWORDS\n",
        "print(stopwords.words('english'))"
      ],
      "execution_count": 51,
      "outputs": [
        {
          "output_type": "stream",
          "text": [
            "['i', 'me', 'my', 'myself', 'we', 'our', 'ours', 'ourselves', 'you', \"you're\", \"you've\", \"you'll\", \"you'd\", 'your', 'yours', 'yourself', 'yourselves', 'he', 'him', 'his', 'himself', 'she', \"she's\", 'her', 'hers', 'herself', 'it', \"it's\", 'its', 'itself', 'they', 'them', 'their', 'theirs', 'themselves', 'what', 'which', 'who', 'whom', 'this', 'that', \"that'll\", 'these', 'those', 'am', 'is', 'are', 'was', 'were', 'be', 'been', 'being', 'have', 'has', 'had', 'having', 'do', 'does', 'did', 'doing', 'a', 'an', 'the', 'and', 'but', 'if', 'or', 'because', 'as', 'until', 'while', 'of', 'at', 'by', 'for', 'with', 'about', 'against', 'between', 'into', 'through', 'during', 'before', 'after', 'above', 'below', 'to', 'from', 'up', 'down', 'in', 'out', 'on', 'off', 'over', 'under', 'again', 'further', 'then', 'once', 'here', 'there', 'when', 'where', 'why', 'how', 'all', 'any', 'both', 'each', 'few', 'more', 'most', 'other', 'some', 'such', 'no', 'nor', 'not', 'only', 'own', 'same', 'so', 'than', 'too', 'very', 's', 't', 'can', 'will', 'just', 'don', \"don't\", 'should', \"should've\", 'now', 'd', 'll', 'm', 'o', 're', 've', 'y', 'ain', 'aren', \"aren't\", 'couldn', \"couldn't\", 'didn', \"didn't\", 'doesn', \"doesn't\", 'hadn', \"hadn't\", 'hasn', \"hasn't\", 'haven', \"haven't\", 'isn', \"isn't\", 'ma', 'mightn', \"mightn't\", 'mustn', \"mustn't\", 'needn', \"needn't\", 'shan', \"shan't\", 'shouldn', \"shouldn't\", 'wasn', \"wasn't\", 'weren', \"weren't\", 'won', \"won't\", 'wouldn', \"wouldn't\"]\n"
          ],
          "name": "stdout"
        }
      ]
    },
    {
      "cell_type": "code",
      "metadata": {
        "colab": {
          "base_uri": "https://localhost:8080/"
        },
        "id": "GhKBi24HHgp3",
        "outputId": "8e07a349-34dd-49e9-c1b6-f276cf0fe523"
      },
      "source": [
        "# NGRAMS\n",
        "from nltk import ngrams\n",
        "#n for number\n",
        "#g for group of words \n",
        "#unigram 1 word bigram 2 word etc...\n",
        "n = 5\n",
        "question = \" Who is the main character?\"\n",
        "answer = \"The main character is Harry Potter\"\n",
        "\n",
        "question_gram = ngrams( word_tokenize(question), n)\n",
        "answer_gram = ngrams( word_tokenize(answer), n)\n",
        "\n",
        "print(list(question_gram))\n",
        "print(list(answer_gram))"
      ],
      "execution_count": 52,
      "outputs": [
        {
          "output_type": "stream",
          "text": [
            "[('Who', 'is', 'the', 'main', 'character'), ('is', 'the', 'main', 'character', '?')]\n",
            "[('The', 'main', 'character', 'is', 'Harry'), ('main', 'character', 'is', 'Harry', 'Potter')]\n"
          ],
          "name": "stdout"
        }
      ]
    },
    {
      "cell_type": "code",
      "metadata": {
        "id": "ussZjZ3jHgp4"
      },
      "source": [
        "# TFIDF \n",
        "#it's a way to mesure word rarity within a context\n",
        "# term frequency / document frequency\n",
        "#term frequency the amount of time a word appear in a sentence\n",
        "# DOcument frequency : amount of document that have the word\n",
        "from sklearn.feature_extraction.text import TfidfVectorizer\n",
        "\n",
        "      "
      ],
      "execution_count": 53,
      "outputs": []
    },
    {
      "cell_type": "markdown",
      "metadata": {
        "id": "qN7k2q03Hgp4"
      },
      "source": [
        "## 3. Looking at length\n",
        "Here we are going to create a new feature called length and visualize it's relationship with our target"
      ]
    },
    {
      "cell_type": "code",
      "metadata": {
        "id": "xbflBeZvHgp5"
      },
      "source": [
        "df['length'] = [len(answer) for answer in df.answer]"
      ],
      "execution_count": 54,
      "outputs": []
    },
    {
      "cell_type": "code",
      "metadata": {
        "colab": {
          "base_uri": "https://localhost:8080/",
          "height": 312
        },
        "id": "19JCcT92Hgp5",
        "outputId": "45e4646f-a8dc-4c3f-a666-eda41d278ffd"
      },
      "source": [
        "fig = plt.figure(figsize=(6, 4))\n",
        "fig.clf()\n",
        "ax = fig.gca()\n",
        "df.plot(kind = 'scatter', x = 'length', y = 'score', ax = ax, alpha = 0.05)\n",
        "ax.set_xlabel('Char Length')\n",
        "ax.set_ylabel('Score')\n",
        "ax.set_title('Char Length vs. Score')"
      ],
      "execution_count": 55,
      "outputs": [
        {
          "output_type": "execute_result",
          "data": {
            "text/plain": [
              "Text(0.5, 1.0, 'Char Length vs. Score')"
            ]
          },
          "metadata": {
            "tags": []
          },
          "execution_count": 55
        },
        {
          "output_type": "display_data",
          "data": {
            "image/png": "[encoded data removed]",
            "text/plain": [
              "<Figure size 432x288 with 1 Axes>"
            ]
          },
          "metadata": {
            "tags": [],
            "needs_background": "light"
          }
        }
      ]
    },
    {
      "cell_type": "code",
      "metadata": {
        "colab": {
          "base_uri": "https://localhost:8080/"
        },
        "id": "_F09yt7_Hgp8",
        "outputId": "ee61aebe-02f5-404d-81ff-80bccf6de1a6"
      },
      "source": [
        "from sklearn.model_selection import train_test_split\n",
        "# your code here\n",
        "X_train, X_test, y_train, y_test = train_test_split(np.array(df['length']).reshape(-1,1), df[\"score\"], test_size=0.3, random_state=1)\n",
        "\n",
        "print (\"train shape\", X_train.shape, y_train.shape)\n",
        "print (\"test shape\", X_test.shape, y_test.shape)"
      ],
      "execution_count": 56,
      "outputs": [
        {
          "output_type": "stream",
          "text": [
            "train shape (1050, 1) (1050,)\n",
            "test shape (450, 1) (450,)\n"
          ],
          "name": "stdout"
        }
      ]
    },
    {
      "cell_type": "code",
      "metadata": {
        "colab": {
          "base_uri": "https://localhost:8080/"
        },
        "id": "ioFRGHs65KEd",
        "outputId": "ed2199eb-ffcd-4797-b190-7666f9725a88"
      },
      "source": [
        "print(np.array(df['length']).reshape(-1,1))"
      ],
      "execution_count": 57,
      "outputs": [
        {
          "output_type": "stream",
          "text": [
            "[[103]\n",
            " [215]\n",
            " [149]\n",
            " ...\n",
            " [ 66]\n",
            " [107]\n",
            " [ 84]]\n"
          ],
          "name": "stdout"
        }
      ]
    },
    {
      "cell_type": "code",
      "metadata": {
        "colab": {
          "base_uri": "https://localhost:8080/"
        },
        "id": "vRZ9p_lTHgp_",
        "outputId": "502c5a4d-b02e-4889-d6e2-d9292a5cc7fe"
      },
      "source": [
        "from sklearn.model_selection import *\n",
        "from sklearn.linear_model import *\n",
        "from sklearn.metrics import *\n",
        "reg = LinearRegression()\n",
        "reg.fit(X_train, y_train)\n",
        "predictions = reg.predict(X_test)\n",
        "\n",
        "train_score = reg.score(X_train, y_train)\n",
        "test_score = reg.score(X_test, y_test)\n",
        "print  ('train score =' , train_score)\n",
        "print  ('test score = {}'.format(test_score))\n",
        "print ('mse = {}'.format(mean_squared_error(predictions, y_test)))\n",
        "print('mae = {}'.format(mean_absolute_error(predictions, y_test)))"
      ],
      "execution_count": 58,
      "outputs": [
        {
          "output_type": "stream",
          "text": [
            "train score = 0.0750142588037207\n",
            "test score = 0.013233546425281628\n",
            "mse = 0.06820749008542583\n",
            "mae = 0.20294926905567431\n"
          ],
          "name": "stdout"
        }
      ]
    },
    {
      "cell_type": "markdown",
      "metadata": {
        "id": "XaH6wCLFY3jG"
      },
      "source": [
        ""
      ]
    },
    {
      "cell_type": "markdown",
      "metadata": {
        "id": "sa6eyk2OHgqB"
      },
      "source": [
        "## 4. Feature Engineering for linear regression\n",
        "Create at least 3 different features"
      ]
    },
    {
      "cell_type": "code",
      "metadata": {
        "id": "y-bd2b2V1boX"
      },
      "source": [
        "from nltk import *\r\n",
        "import string\r\n",
        "#############################\r\n",
        "#data pre processing, we will \r\n",
        "df[\"normalized\"] = \"\"\r\n",
        "#############################\r\n",
        "#we are using answer everywhere let's normalize answer\r\n",
        "#we will withdraw punctuation and lower ever word. We could use stemming but we wont for now.\r\n",
        "for i in range(1500):\r\n",
        "  df.normalized[i] = df.answer[i].lower().translate(str.maketrans('', '', string.punctuation))\r\n",
        "#tokens = [normal_answer.lower() for token in normal_answer]\r\n"
      ],
      "execution_count": 59,
      "outputs": []
    },
    {
      "cell_type": "code",
      "metadata": {
        "id": "Mn4q1NIIHgqB"
      },
      "source": [
        "## USAGE OF TDFI FEATURES \r\n",
        "#let's take the mean of the tf idf for each answer so we will have a feature giving us an overall idea of the richness of the children vocabulary\r\n",
        "from sklearn.model_selection import train_test_split\r\n",
        "\r\n",
        "answer_vectorizer = TfidfVectorizer(stop_words=\"english\")\r\n",
        "X1 =answer_vectorizer.fit_transform(df['normalized'])\r\n",
        "y = df[\"score\"]\r\n",
        "\r\n",
        "plop = []\r\n",
        "for r in range(len(df.normalized)):\r\n",
        "  #print(\"ROW \" + str(r) + \" - \" + df.normalized[r])\r\n",
        "  x = 0\r\n",
        "  y = 0\r\n",
        "  for z in zip(answer_vectorizer.get_feature_names(), X1[r,:].toarray()[0]):\r\n",
        "    if z[1] > 0:\r\n",
        "      x += z[1]\r\n",
        "      y += 1\r\n",
        "      #print(z[1])  \r\n",
        "    else:\r\n",
        "      y=1  \r\n",
        "  plop.append(x/y)  \r\n",
        "\r\n",
        "df['word_rarity'] = plop"
      ],
      "execution_count": 61,
      "outputs": []
    },
    {
      "cell_type": "code",
      "metadata": {
        "id": "uhHOXDSr6bZl"
      },
      "source": [
        "############################################################\r\n",
        "#After looking the data i found that lenght alone was not enough, because the younger ones write less words but still deserve a good grade\r\n",
        "#let's correlate the number of word per answer with the grade as a first feature, \r\n",
        "# we added a +2 to grade because of grade 0 and -1 which create some division by 0 \r\n",
        "\r\n",
        "df['wordcount'] = [len(word_tokenize(answer)) for answer in df.normalized]\r\n",
        "df['wordcountovergrade'] = df['wordcount']/(df['grade']+2)"
      ],
      "execution_count": 62,
      "outputs": []
    },
    {
      "cell_type": "code",
      "metadata": {
        "id": "T24I237E8egI"
      },
      "source": [
        "#a big thank you for my classmate nassim\r\n",
        "#having huge trouble while trying to install librairy like Pyechant or other spellcheck one, i just settled for the same method as him\r\n",
        "#but we undestood the underlying logic before using it\r\n"
      ],
      "execution_count": 63,
      "outputs": []
    },
    {
      "cell_type": "code",
      "metadata": {
        "colab": {
          "base_uri": "https://localhost:8080/"
        },
        "id": "qOC4-Tr8S-iw",
        "outputId": "b6bda731-d3f3-4f50-ad6d-e9b7bd2ed2e2"
      },
      "source": [
        "!pip install --upgrade language_tool_python"
      ],
      "execution_count": 39,
      "outputs": [
        {
          "output_type": "stream",
          "text": [
            "Requirement already up-to-date: language_tool_python in /usr/local/lib/python3.6/dist-packages (2.5.2)\n",
            "Requirement already satisfied, skipping upgrade: tqdm in /usr/local/lib/python3.6/dist-packages (from language_tool_python) (4.41.1)\n",
            "Requirement already satisfied, skipping upgrade: requests in /usr/local/lib/python3.6/dist-packages (from language_tool_python) (2.23.0)\n",
            "Requirement already satisfied, skipping upgrade: urllib3!=1.25.0,!=1.25.1,<1.26,>=1.21.1 in /usr/local/lib/python3.6/dist-packages (from requests->language_tool_python) (1.24.3)\n",
            "Requirement already satisfied, skipping upgrade: idna<3,>=2.5 in /usr/local/lib/python3.6/dist-packages (from requests->language_tool_python) (2.10)\n",
            "Requirement already satisfied, skipping upgrade: chardet<4,>=3.0.2 in /usr/local/lib/python3.6/dist-packages (from requests->language_tool_python) (3.0.4)\n",
            "Requirement already satisfied, skipping upgrade: certifi>=2017.4.17 in /usr/local/lib/python3.6/dist-packages (from requests->language_tool_python) (2020.12.5)\n"
          ],
          "name": "stdout"
        }
      ]
    },
    {
      "cell_type": "code",
      "metadata": {
        "id": "-zot6uYTtRYh"
      },
      "source": [
        "#will take you ages ( approximatively 5-6 full minute) ( i found more efficient way but could not get them to work with my IDE)\r\n",
        "import language_tool_python\r\n",
        "errorcheck = language_tool_python.LanguageTool('en-US')\r\n",
        "df[\"error_num\"] = \"\"\r\n",
        "for k in range(df.shape[0]):\r\n",
        "  df.error_num[k] = len(errorcheck.check(df['normalized'].loc[k]))/len(word_tokenize(df['normalized'].loc[k]))\r\n"
      ],
      "execution_count": 64,
      "outputs": []
    },
    {
      "cell_type": "code",
      "metadata": {
        "colab": {
          "base_uri": "https://localhost:8080/",
          "height": 289
        },
        "id": "KsReXSxnCQ2w",
        "outputId": "7d4442a9-6d48-4493-fc53-7101280b122d"
      },
      "source": [
        "df.head()"
      ],
      "execution_count": 65,
      "outputs": [
        {
          "output_type": "execute_result",
          "data": {
            "text/html": [
              "<div>\n",
              "<style scoped>\n",
              "    .dataframe tbody tr th:only-of-type {\n",
              "        vertical-align: middle;\n",
              "    }\n",
              "\n",
              "    .dataframe tbody tr th {\n",
              "        vertical-align: top;\n",
              "    }\n",
              "\n",
              "    .dataframe thead th {\n",
              "        text-align: right;\n",
              "    }\n",
              "</style>\n",
              "<table border=\"1\" class=\"dataframe\">\n",
              "  <thead>\n",
              "    <tr style=\"text-align: right;\">\n",
              "      <th></th>\n",
              "      <th>answer</th>\n",
              "      <th>question_text</th>\n",
              "      <th>text_id</th>\n",
              "      <th>grade</th>\n",
              "      <th>score</th>\n",
              "      <th>length</th>\n",
              "      <th>normalized</th>\n",
              "      <th>word_rarity</th>\n",
              "      <th>wordcount</th>\n",
              "      <th>wordcountovergrade</th>\n",
              "      <th>error_num</th>\n",
              "    </tr>\n",
              "  </thead>\n",
              "  <tbody>\n",
              "    <tr>\n",
              "      <th>0</th>\n",
              "      <td>Destiny would be a good friend beacu like to r...</td>\n",
              "      <td>Would you enjoy being friends with the main ch...</td>\n",
              "      <td>AUTJfAnEIe5XGTq1jvkynEr-Q</td>\n",
              "      <td>3</td>\n",
              "      <td>0.7</td>\n",
              "      <td>103</td>\n",
              "      <td>destiny would be a good friend beacu like to r...</td>\n",
              "      <td>2.378056</td>\n",
              "      <td>21</td>\n",
              "      <td>4.200000</td>\n",
              "      <td>0.190476</td>\n",
              "    </tr>\n",
              "    <tr>\n",
              "      <th>1</th>\n",
              "      <td>I think Mr.Popper would disagree because he wa...</td>\n",
              "      <td>Which character do you think would disagree wi...</td>\n",
              "      <td>BASEvlmqaEWAE9oL3mOT2KG9JQ</td>\n",
              "      <td>3</td>\n",
              "      <td>0.9</td>\n",
              "      <td>215</td>\n",
              "      <td>i think mrpopper would disagree because he was...</td>\n",
              "      <td>3.805589</td>\n",
              "      <td>41</td>\n",
              "      <td>8.200000</td>\n",
              "      <td>0.121951</td>\n",
              "    </tr>\n",
              "    <tr>\n",
              "      <th>2</th>\n",
              "      <td>i think that it has made me a better person be...</td>\n",
              "      <td>Do you think reading this text has made you a ...</td>\n",
              "      <td>BASEAOH8j3w9WsZOxNQ9dzAUFQ</td>\n",
              "      <td>5</td>\n",
              "      <td>0.8</td>\n",
              "      <td>149</td>\n",
              "      <td>i think that it has made me a better person be...</td>\n",
              "      <td>2.937624</td>\n",
              "      <td>31</td>\n",
              "      <td>4.428571</td>\n",
              "      <td>0.0645161</td>\n",
              "    </tr>\n",
              "    <tr>\n",
              "      <th>3</th>\n",
              "      <td>A part that I could not stop reading was when ...</td>\n",
              "      <td>Tell us about one part of this book that total...</td>\n",
              "      <td>AUToHuz362h0RJY-hPa7O6MDw</td>\n",
              "      <td>3</td>\n",
              "      <td>0.9</td>\n",
              "      <td>146</td>\n",
              "      <td>a part that i could not stop reading was when ...</td>\n",
              "      <td>2.758104</td>\n",
              "      <td>29</td>\n",
              "      <td>5.800000</td>\n",
              "      <td>0.103448</td>\n",
              "    </tr>\n",
              "    <tr>\n",
              "      <th>4</th>\n",
              "      <td>its not as good as the any of the other ones</td>\n",
              "      <td>Does this book remind you of the last book you...</td>\n",
              "      <td>BASEasfHPZhAW77njjMyzqLqOw</td>\n",
              "      <td>1</td>\n",
              "      <td>0.3</td>\n",
              "      <td>44</td>\n",
              "      <td>its not as good as the any of the other ones</td>\n",
              "      <td>1.373612</td>\n",
              "      <td>11</td>\n",
              "      <td>3.666667</td>\n",
              "      <td>0.0909091</td>\n",
              "    </tr>\n",
              "  </tbody>\n",
              "</table>\n",
              "</div>"
            ],
            "text/plain": [
              "                                              answer  ...  error_num\n",
              "0  Destiny would be a good friend beacu like to r...  ...   0.190476\n",
              "1  I think Mr.Popper would disagree because he wa...  ...   0.121951\n",
              "2  i think that it has made me a better person be...  ...  0.0645161\n",
              "3  A part that I could not stop reading was when ...  ...   0.103448\n",
              "4       its not as good as the any of the other ones  ...  0.0909091\n",
              "\n",
              "[5 rows x 11 columns]"
            ]
          },
          "metadata": {
            "tags": []
          },
          "execution_count": 65
        }
      ]
    },
    {
      "cell_type": "markdown",
      "metadata": {
        "id": "wldPwKOaHgqD"
      },
      "source": [
        "## 5. Visualize the data\n",
        "Create at least 3 graphs visualizing your features with respect to the target"
      ]
    },
    {
      "cell_type": "code",
      "metadata": {
        "id": "SiKk3qCpHgqD",
        "colab": {
          "base_uri": "https://localhost:8080/",
          "height": 363
        },
        "outputId": "f1b34dc1-cf57-4dd8-d6b1-e68a2b345216"
      },
      "source": [
        "\r\n",
        "# The correlation matrix will show the correlation\r\n",
        "# i used seaborn to print the coorelation matrix as i found it to be easy to read.\r\n",
        "import seaborn as sns\r\n",
        "corrMatrix = df.corr()\r\n",
        "sns.heatmap(corrMatrix, annot=True)\r\n",
        "plt.show()"
      ],
      "execution_count": 66,
      "outputs": [
        {
          "output_type": "display_data",
          "data": {
            "image/png": "[encoded data removed]",
            "text/plain": [
              "<Figure size 432x288 with 2 Axes>"
            ]
          },
          "metadata": {
            "tags": [],
            "needs_background": "light"
          }
        }
      ]
    },
    {
      "cell_type": "code",
      "metadata": {
        "id": "YJS6ueRiHgqD",
        "colab": {
          "base_uri": "https://localhost:8080/",
          "height": 335
        },
        "outputId": "1c29bed5-c5a3-4039-c119-8e788c7d7ba3"
      },
      "source": [
        "## YOUR CODE HERE\r\n",
        "# let's reuse our barplot function from last assignement \r\n",
        "%matplotlib inline\r\n",
        "import matplotlib.pyplot as plt\r\n",
        "print ('score =', df['score'].mean())\r\n",
        "(df.groupby('score').size()/df.shape[0]).plot(kind=\"bar\",title=\"Target (%each class)\", color = \"crimson\")"
      ],
      "execution_count": 67,
      "outputs": [
        {
          "output_type": "stream",
          "text": [
            "score = 0.693066666666666\n"
          ],
          "name": "stdout"
        },
        {
          "output_type": "execute_result",
          "data": {
            "text/plain": [
              "<matplotlib.axes._subplots.AxesSubplot at 0x7fbc9fc9b2b0>"
            ]
          },
          "metadata": {
            "tags": []
          },
          "execution_count": 67
        },
        {
          "output_type": "display_data",
          "data": {
            "image/png": "[encoded data removed]",
            "text/plain": [
              "<Figure size 432x288 with 1 Axes>"
            ]
          },
          "metadata": {
            "tags": [],
            "needs_background": "light"
          }
        }
      ]
    },
    {
      "cell_type": "code",
      "metadata": {
        "id": "KtngbMLRHgqE",
        "colab": {
          "base_uri": "https://localhost:8080/",
          "height": 1000
        },
        "outputId": "087c77b2-14c9-4be2-d548-cc644dc90ed7"
      },
      "source": [
        "## YOUR CODE HERE\r\n",
        "# imported from our great course on bike \r\n",
        "%matplotlib inline   \r\n",
        "\r\n",
        "def score_scatter(df, cols):\r\n",
        "    import matplotlib.pyplot as plt\r\n",
        "    import statsmodels.nonparametric.smoothers_lowess as lw\r\n",
        "    \r\n",
        "    ## Loop over the columns and create the scatter plots\r\n",
        "    for col in cols:\r\n",
        "        ## first compute a lowess fit to the data\r\n",
        "        los = lw.lowess(df['score'], df[col], frac = 0.3)\r\n",
        "    \r\n",
        "        ## Now make the plots\r\n",
        "        fig = plt.figure(figsize=(6, 4))\r\n",
        "        fig.clf()\r\n",
        "        ax = fig.gca()\r\n",
        "        df.plot(kind = 'scatter', x = col, y = 'score', ax = ax, alpha = 0.05)\r\n",
        "        plt.plot(los[:, 0], los[:, 1], axes = ax, color = 'red')\r\n",
        "        ax.set_xlabel(col)\r\n",
        "        ax.set_ylabel('scores')\r\n",
        "        ax.set_title('scores vs. ' + col)    \r\n",
        "    return 'Done'\r\n",
        "\r\n",
        "num_cols = [\"grade\", \"word_rarity\", \"wordcountovergrade\", \"error_num\"]\r\n",
        "score_scatter(df, num_cols)"
      ],
      "execution_count": 68,
      "outputs": [
        {
          "output_type": "execute_result",
          "data": {
            "application/vnd.google.colaboratory.intrinsic+json": {
              "type": "string"
            },
            "text/plain": [
              "'Done'"
            ]
          },
          "metadata": {
            "tags": []
          },
          "execution_count": 68
        },
        {
          "output_type": "display_data",
          "data": {
            "image/png": "[encoded data removed]",
            "text/plain": [
              "<Figure size 432x288 with 1 Axes>"
            ]
          },
          "metadata": {
            "tags": [],
            "needs_background": "light"
          }
        },
        {
          "output_type": "display_data",
          "data": {
            "image/png": "[encoded data removed]",
            "text/plain": [
              "<Figure size 432x288 with 1 Axes>"
            ]
          },
          "metadata": {
            "tags": [],
            "needs_background": "light"
          }
        },
        {
          "output_type": "display_data",
          "data": {
            "image/png": "[encoded data removed]",
            "text/plain": [
              "<Figure size 432x288 with 1 Axes>"
            ]
          },
          "metadata": {
            "tags": [],
            "needs_background": "light"
          }
        },
        {
          "output_type": "display_data",
          "data": {
            "image/png": "[encoded data removed]",
            "text/plain": [
              "<Figure size 432x288 with 1 Axes>"
            ]
          },
          "metadata": {
            "tags": [],
            "needs_background": "light"
          }
        }
      ]
    },
    {
      "cell_type": "code",
      "metadata": {
        "colab": {
          "base_uri": "https://localhost:8080/",
          "height": 870
        },
        "id": "gBsjo7NsZ-QS",
        "outputId": "c56b841f-297f-427a-af04-f0d4eab8cdd2"
      },
      "source": [
        "def score_hist(df, cols):    \r\n",
        "    import matplotlib.pyplot as plt\r\n",
        "    \r\n",
        "    ## Loop over columns and plot histograms\r\n",
        "    for col in cols:\r\n",
        "        fig = plt.figure(figsize=(6, 4))\r\n",
        "        fig.clf()\r\n",
        "        ax = fig.gca()\r\n",
        "        df[col].hist(bins = 30, ax = ax)\r\n",
        "        ax.set_xlabel(col)\r\n",
        "        ax.set_ylabel('Density of ' + col)\r\n",
        "        ax.set_title('Density of ' + col) \r\n",
        "    \r\n",
        "    return 'Done'\r\n",
        "hist_cols = [\"score\",\"grade\", \"word_rarity\"]\r\n",
        "score_hist(df, hist_cols)"
      ],
      "execution_count": 69,
      "outputs": [
        {
          "output_type": "execute_result",
          "data": {
            "application/vnd.google.colaboratory.intrinsic+json": {
              "type": "string"
            },
            "text/plain": [
              "'Done'"
            ]
          },
          "metadata": {
            "tags": []
          },
          "execution_count": 69
        },
        {
          "output_type": "display_data",
          "data": {
            "image/png": "[encoded data removed]",
            "text/plain": [
              "<Figure size 432x288 with 1 Axes>"
            ]
          },
          "metadata": {
            "tags": [],
            "needs_background": "light"
          }
        },
        {
          "output_type": "display_data",
          "data": {
            "image/png": "[encoded data removed]",
            "text/plain": [
              "<Figure size 432x288 with 1 Axes>"
            ]
          },
          "metadata": {
            "tags": [],
            "needs_background": "light"
          }
        },
        {
          "output_type": "display_data",
          "data": {
            "image/png": "[encoded data removed]",
            "text/plain": [
              "<Figure size 432x288 with 1 Axes>"
            ]
          },
          "metadata": {
            "tags": [],
            "needs_background": "light"
          }
        }
      ]
    },
    {
      "cell_type": "markdown",
      "metadata": {
        "id": "o6xK6iIsHgqE"
      },
      "source": [
        "## 6. Model Training\n",
        "Pick a model, fit your features and print performance metrics"
      ]
    },
    {
      "cell_type": "code",
      "metadata": {
        "id": "3HQsBCqrHgqE",
        "colab": {
          "base_uri": "https://localhost:8080/"
        },
        "outputId": "ed2053c1-ae6d-4103-ef5e-2e80b0654430"
      },
      "source": [
        "## YOUR CODE HERE FOR MODEL TRAINING\r\n",
        "from sklearn.model_selection import train_test_split\r\n",
        "from sklearn.linear_model import LinearRegression\r\n",
        "\r\n",
        "y = df.score\r\n",
        "X = df[['word_rarity', 'wordcountovergrade','error_num']]\r\n",
        "X_train,X_test ,y_train, y_test = train_test_split(X,y, test_size = 0.3, random_state =125)\r\n",
        "\r\n",
        "clf = LinearRegression()\r\n",
        "#Fit the model according to the given training data. \r\n",
        "clf.fit(X_train,y_train) \r\n",
        "\r\n"
      ],
      "execution_count": 134,
      "outputs": [
        {
          "output_type": "execute_result",
          "data": {
            "text/plain": [
              "LinearRegression(copy_X=True, fit_intercept=True, n_jobs=None, normalize=False)"
            ]
          },
          "metadata": {
            "tags": []
          },
          "execution_count": 134
        }
      ]
    },
    {
      "cell_type": "code",
      "metadata": {
        "id": "Tb4C18b0HgqF",
        "colab": {
          "base_uri": "https://localhost:8080/"
        },
        "outputId": "e1d7d184-59f6-4f22-ecb8-341dde81701b"
      },
      "source": [
        "## YOUR CODE HERE FOR PRINTING PERFORMANCES\r\n",
        "print (\"train shape\", X_train.shape, y_train.shape)\r\n",
        "print (\"test shape\", X_test.shape, y_test.shape)\r\n",
        "train_score = clf.score(X_train,y_train)\r\n",
        "test_score = clf.score(X_test,y_test)\r\n",
        "print ('train accuracy =', train_score)\r\n",
        "print ('test accuracy =', test_score)"
      ],
      "execution_count": 133,
      "outputs": [
        {
          "output_type": "stream",
          "text": [
            "train shape (1050, 3) (1050,)\n",
            "test shape (450, 3) (450,)\n",
            "train accuracy = 0.333133190048015\n",
            "test accuracy = 0.34235731533030456\n"
          ],
          "name": "stdout"
        }
      ]
    },
    {
      "cell_type": "markdown",
      "metadata": {
        "id": "iB43tNjpHgqF"
      },
      "source": [
        "## 7. RESULT INTERPRETATION\n",
        "Look at parameters, print or visualize predictions"
      ]
    },
    {
      "cell_type": "code",
      "metadata": {
        "id": "vGg4dSvwHgqG"
      },
      "source": [
        "########################################################################\r\n",
        "#we took the mean of the tf idf for each answer so we will have a feature giving us an overall idea of the richness of the children vocabulary\r\n",
        "# looking at the correlation matrix and the graph we can see that this is the most meaningfull feature we have as it is well correlated with the score\r\n",
        "#which is understandable as the vocabulary of a children is a clear sign of his of his overall grade"
      ],
      "execution_count": 117,
      "outputs": []
    },
    {
      "cell_type": "code",
      "metadata": {
        "id": "j7J3hyUgHgqG"
      },
      "source": [
        "#######################################################################\n",
        "# wordcountovergrade was used as we wanted to have an idea of the lenght of the copy but still thinking about the grade and the fact\n",
        "#that a younger children would write less than an older one\n",
        "\n"
      ],
      "execution_count": 118,
      "outputs": []
    },
    {
      "cell_type": "code",
      "metadata": {
        "id": "tk-SwaRDft-9"
      },
      "source": [
        "#######################################################################\r\n",
        "# the amount of mistake one make is a relatively good way to assess one's mastery of a language.\r\n",
        "#the problem with the low correlation of this feature is that it may not be precise enough because of our too simplistic implementation.\r\n",
        "# But the idea really seem good"
      ],
      "execution_count": 119,
      "outputs": []
    },
    {
      "cell_type": "code",
      "metadata": {
        "colab": {
          "base_uri": "https://localhost:8080/",
          "height": 608
        },
        "id": "CE48rTsjZ0He",
        "outputId": "131c12b4-822d-4dd2-f483-0e161b9326b7"
      },
      "source": [
        "#visualisation of our linear regression:\r\n",
        "#Generated Predictions\r\n",
        "y_pred = clf.predict(X)\r\n",
        "\r\n",
        "plt.figure(figsize=(10,10))\r\n",
        "plt.scatter(y, y_pred, c='crimson')\r\n",
        "\r\n",
        "p1 = max(max(y_pred), max(y))\r\n",
        "p2 = min(min(y_pred), min(y))\r\n",
        "plt.plot([p1, p2], [p1, p2], 'b-')\r\n",
        "plt.xlabel('True Values', fontsize=10)\r\n",
        "plt.ylabel('Predictions', fontsize=10)\r\n",
        "plt.axis('equal')\r\n",
        "plt.show()\r\n"
      ],
      "execution_count": 140,
      "outputs": [
        {
          "output_type": "display_data",
          "data": {
            "image/png": "[encoded data removed]",
            "text/plain": [
              "<Figure size 720x720 with 1 Axes>"
            ]
          },
          "metadata": {
            "tags": []
          }
        }
      ]
    },
    {
      "cell_type": "markdown",
      "metadata": {
        "id": "uVbXvnrsHgqG"
      },
      "source": [
        "## 8. Second interation improvement\n"
      ]
    },
    {
      "cell_type": "code",
      "metadata": {
        "id": "Z6EmpAajHgqH"
      },
      "source": [
        "## NEW FEATURE ENGINEERING\r\n",
        "\r\n",
        "# i wanted to try feature that try to assess the context of a word in a sentence and other more complexe idea\r\n",
        "# about measuring the meaning of a text.\r\n",
        "\r\n",
        "# If we look at the way we approached this data, we can see we measured the correctness of the language and not the \r\n",
        "# idea and meaning of the text compared to the question\r\n",
        "\r\n",
        "# This speaks a lot about the innacurracy of our system and show that our data is not enough for multiple reason:\r\n",
        "\r\n",
        "# 1) The grade: we dont have enough answer per grade. Each grade represent a whole other way of score assessment as we ask\r\n",
        "# very specific thing related to the age of a student\r\n",
        "# example: we may be focused on the accuracy of the syntax for younger student and more the meaning for older ones.\r\n",
        "\r\n",
        "# 2) The answer, book and lack of context:\r\n",
        "#we have relatively few way of assessing the correlation between the question and answer with our dataset even though\r\n",
        "# it seem possible and we will try inmplementing such a feature in our spare time ( n-gram for example)\r\n",
        "# We need more information about the book read by the student, at least keyword to describe it because every answer seem to be related to the book\r\n",
        "# making the question feature incomplete because the answer depend on the book.\r\n",
        "\r\n",
        "# The last point i wanted to make is the fact that we learn that data science need algorithm as much as a deep understanding of data\r\n",
        "# because meaningless good result are not exploitable \r\n",
        "\r\n",
        "\r\n",
        "\r\n",
        "\r\n"
      ],
      "execution_count": null,
      "outputs": []
    },
    {
      "cell_type": "code",
      "metadata": {
        "id": "gsVbFObAHgqH"
      },
      "source": [
        "## NEW MODEL TRAINING\r\n",
        "\r\n",
        "#let's try our simple feature using logistic regression this time\r\n",
        "\r\n",
        "\r\n"
      ],
      "execution_count": null,
      "outputs": []
    },
    {
      "cell_type": "code",
      "metadata": {
        "id": "pinXs3CMHgqI"
      },
      "source": [
        "## NEW PERFORMANCE ASSESMENT"
      ],
      "execution_count": null,
      "outputs": []
    }
  ]
}