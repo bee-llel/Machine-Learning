{
  "nbformat": 4,
  "nbformat_minor": 0,
  "metadata": {
    "colab": {
      "name": "Naives_Bayes.ipynb",
      "provenance": [],
      "collapsed_sections": [],
      "include_colab_link": true
    },
    "kernelspec": {
      "name": "python3",
      "display_name": "Python 3"
    },
    "language_info": {
      "name": "python"
    }
  },
  "cells": [
    {
      "cell_type": "markdown",
      "metadata": {
        "id": "view-in-github",
        "colab_type": "text"
      },
      "source": [
        "<a href=\"https://colab.research.google.com/github/bee-llel/Machine-Learning/blob/master/ML_from_scratch/Naives_Bayes.ipynb\" target=\"_parent\"><img src=\"https://colab.research.google.com/assets/colab-badge.svg\" alt=\"Open In Colab\"/></a>"
      ]
    },
    {
      "cell_type": "code",
      "metadata": {
        "id": "B9pxgXxpxuz7"
      },
      "source": [
        "import pandas as pd\n",
        "import numpy as np\n",
        "from collections import Counter\n",
        "np.random.seed(42)"
      ],
      "execution_count": null,
      "outputs": []
    },
    {
      "cell_type": "code",
      "metadata": {
        "id": "zCLWrD2OyA3e"
      },
      "source": [
        "df = pd.read_csv('messages.txt', delimiter='\\t', names=['type', 'message'])"
      ],
      "execution_count": null,
      "outputs": []
    },
    {
      "cell_type": "markdown",
      "metadata": {
        "id": "2uvZW9ueAOXb"
      },
      "source": [
        "## 1) Divide the data into two groups: training and testing\n",
        "## 2) Parse both the training and test examples to generate both the spam and ham data **sets**"
      ]
    },
    {
      "cell_type": "code",
      "metadata": {
        "id": "IhOe0xNoyIoI"
      },
      "source": [
        "df.head(100)\n",
        "for i in range(len(df['type'])):\n",
        "  if df['type'].iloc[i] == 'ham':\n",
        "    df['type'].loc[i] = 0\n",
        "  else:\n",
        "    df['type'].loc[i] = 1"
      ],
      "execution_count": null,
      "outputs": []
    },
    {
      "cell_type": "code",
      "metadata": {
        "id": "PJ0a18bLyWtS"
      },
      "source": [
        "#Creating a mask to separate train and test from the dataset. \n",
        "msk = np.random.rand(len(df)) < 0.7\n",
        "X_train = df[msk]\n",
        "X_test= df[~msk] \n",
        "\n",
        "N = 3000\n",
        "I = len(X_train)\n",
        "\n",
        "# divide ham_train,spam_train,ham_test,ham_train\n",
        "X_train_ham = X_train[X_train['type'] == 0]\n",
        "X_train_spam = X_train[X_train['type'] == 1]\n",
        "X_test_ham = X_test[X_test['type'] == 0]\n",
        "X_test_spam = X_test[X_test['type'] == 1]\n",
        "\n",
        "# X_train = X_train.to_numpy()\n",
        "# X_test = X_test.to_numpy()\n",
        "# X_test_spam = X_test_spam.to_numpy()\n",
        "# X_test_ham = X_test_ham.to_numpy()\n",
        "# X_train_spam = X_train_spam.to_numpy()\n",
        "# X_train_ham = X_train_ham.to_numpy()\n",
        "# data = df.to_numpy()"
      ],
      "execution_count": null,
      "outputs": []
    },
    {
      "cell_type": "markdown",
      "metadata": {
        "id": "4ZBugbQ4AJaq"
      },
      "source": [
        "## 3) Generate a dictionary from the training data"
      ]
    },
    {
      "cell_type": "code",
      "metadata": {
        "id": "E2__TiMD623X"
      },
      "source": [
        "def make_Dictionary(train_dir,N):\n",
        "    emails = train_dir['message']\n",
        "    all_words = []\n",
        "    for i,line in enumerate(emails):\n",
        "      words = line.split()\n",
        "      all_words += words\n",
        "\n",
        "    dictionary = Counter(all_words)\n",
        "    for item in list(dictionary): \n",
        "        if item.isalpha() == False:\n",
        "            del dictionary[item]\n",
        "        elif len(item) == 1:\n",
        "            del dictionary[item]\n",
        "    dictionary = dictionary.most_common(N)\n",
        "    return dictionary"
      ],
      "execution_count": null,
      "outputs": []
    },
    {
      "cell_type": "code",
      "metadata": {
        "colab": {
          "base_uri": "https://localhost:8080/"
        },
        "id": "MtVTcCGR4eCi",
        "outputId": "a2b869e0-f4aa-41ee-924b-1af58551a080"
      },
      "source": [
        "dictionary_X_train = make_Dictionary(X_train,N)\n",
        "dictionary_X_train_spam = make_Dictionary(X_train_spam,N)\n",
        "dictionary_X_train_ham = make_Dictionary(X_train_ham,N)\n",
        "\n",
        "dictionary_X_test = make_Dictionary(X_test,N)\n",
        "\n",
        "print(dictionary_X_train)"
      ],
      "execution_count": null,
      "outputs": [
        {
          "output_type": "stream",
          "name": "stdout",
          "text": [
            "[('to', 1335), ('you', 1053), ('the', 759), ('and', 541), ('is', 515), ('in', 508), ('for', 412), ('my', 408), ('of', 381), ('your', 353), ('me', 338), ('on', 295), ('have', 278), ('that', 264), ('are', 261), ('it', 249), ('call', 237), ('at', 225), ('with', 223), ('or', 222), ('get', 220), ('not', 219), ('be', 219), ('will', 197), ('so', 196), ('ur', 190), ('can', 188), ('but', 183), ('You', 172), ('if', 166), ('from', 162), ('just', 162), ('do', 159), ('know', 154), ('when', 151), ('up', 148), ('like', 148), ('we', 147), ('out', 145), ('go', 145), ('this', 136), ('was', 136), ('all', 134), ('now', 130), ('come', 129), ('am', 129), ('got', 120), ('time', 103), ('about', 101), ('by', 98), ('only', 96), ('send', 94), ('then', 94), ('want', 93), ('one', 91), ('Call', 91), ('If', 90), ('still', 88), ('But', 87), ('How', 83), ('what', 82), ('need', 82), ('as', 82), ('its', 81), ('No', 80), ('going', 80), ('text', 79), ('Just', 77), ('our', 76), ('So', 76), ('he', 75), ('no', 75), ('good', 75), ('some', 74), ('home', 71), ('an', 71), ('love', 71), ('What', 71), ('My', 71), ('been', 69), ('Ok', 69), ('see', 69), ('Do', 68), ('any', 68), ('has', 68), ('how', 67), ('back', 66), ('think', 66), ('day', 65), ('dont', 65), ('free', 64), ('FREE', 64), ('more', 63), ('tell', 63), ('We', 62), ('To', 61), ('phone', 61), ('And', 61), ('mobile', 60), ('later', 59), ('Your', 59), ('The', 58), ('there', 58), ('him', 57), ('take', 57), ('her', 56), ('new', 56), ('who', 56), ('Are', 55), ('Have', 54), ('Hey', 53), ('ask', 52), ('they', 52), ('great', 51), ('This', 50), ('claim', 50), ('much', 50), ('Can', 48), ('reply', 48), ('too', 48), ('txt', 48), ('give', 47), ('she', 47), ('last', 46), ('would', 45), ('here', 45), ('gonna', 45), ('them', 45), ('Ur', 45), ('say', 45), ('very', 44), ('Hi', 44), ('way', 44), ('find', 44), ('meet', 44), ('number', 43), ('Pls', 43), ('Good', 43), ('make', 43), ('where', 42), ('really', 42), ('work', 42), ('Txt', 42), ('doing', 42), ('stop', 42), ('It', 42), ('miss', 41), ('Its', 41), ('sent', 41), ('right', 41), ('after', 40), ('ok', 40), ('contact', 40), ('said', 39), ('da', 39), ('week', 39), ('night', 39), ('many', 38), ('around', 37), ('next', 37), ('Sorry', 37), ('feel', 37), ('could', 37), ('had', 36), ('per', 36), ('should', 36), ('told', 35), ('Then', 35), ('were', 35), ('Reply', 35), ('Not', 35), ('Please', 35), ('did', 35), ('wan', 34), ('She', 34), ('leave', 34), ('keep', 34), ('every', 34), ('us', 33), ('anything', 33), ('Get', 33), ('let', 33), ('Did', 33), ('cant', 33), ('buy', 33), ('tomorrow', 33), ('Gud', 33), ('pick', 33), ('even', 33), ('his', 32), ('wait', 32), ('thing', 32), ('Nokia', 32), ('being', 32), ('When', 32), ('sure', 32), ('hope', 31), ('awarded', 31), ('dun', 31), ('went', 31), ('always', 31), ('something', 31), ('He', 31), ('also', 30), ('happy', 30), ('service', 30), ('which', 30), ('dear', 30), ('before', 30), ('Is', 30), ('Lol', 30), ('getting', 29), ('STOP', 29), ('Yeah', 29), ('msg', 29), ('Hope', 29), ('down', 29), ('cash', 29), ('today', 28), ('someone', 28), ('why', 28), ('message', 28), ('other', 28), ('Text', 28), ('please', 28), ('cos', 28), ('Dear', 28), ('coming', 27), ('few', 27), ('Yes', 27), ('already', 27), ('place', 27), ('Or', 26), ('For', 26), ('care', 26), ('morning', 26), ('They', 26), ('In', 26), ('Will', 26), ('Oh', 26), ('waiting', 26), ('prize', 26), ('won', 25), ('win', 25), ('New', 25), ('over', 25), ('bit', 25), ('finish', 25), ('dat', 25), ('another', 25), ('well', 24), ('sleep', 24), ('Where', 24), ('wont', 24), ('little', 24), ('trying', 24), ('long', 24), ('than', 24), ('things', 24), ('Yup', 23), ('pls', 23), ('never', 23), ('thk', 23), ('life', 23), ('late', 23), ('As', 23), ('off', 23), ('Free', 23), ('use', 23), ('That', 23), ('THE', 23), ('stuff', 23), ('thought', 22), ('having', 22), ('All', 22), ('between', 22), ('sorry', 22), ('look', 22), ('wish', 22), ('first', 22), ('try', 22), ('receive', 22), ('Wat', 21), ('best', 21), ('friends', 21), ('people', 21), ('Mobile', 21), ('better', 21), ('Thanks', 21), ('lunch', 21), ('talk', 21), ('car', 21), ('Happy', 21), ('face', 21), ('im', 21), ('ever', 21), ('IS', 21), ('customer', 21), ('may', 21), ('might', 20), ('special', 20), ('guys', 20), ('meeting', 20), ('big', 20), ('called', 20), ('watch', 20), ('half', 20), ('wanted', 20), ('ready', 20), ('shows', 20), ('name', 20), ('because', 19), ('part', 19), ('YOU', 19), ('mind', 19), ('days', 19), ('lot', 19), ('quite', 19), ('reach', 19), ('person', 19), ('wat', 19), ('makes', 19), ('minutes', 19), ('Only', 19), ('PO', 19), ('Love', 19), ('hour', 19), ('entry', 19), ('draw', 19), ('Dont', 19), ('made', 18), ('nice', 18), ('ill', 18), ('again', 18), ('says', 18), ('put', 18), ('pay', 18), ('came', 18), ('hi', 18), ('friend', 18), ('able', 18), ('real', 18), ('forgot', 18), ('Well', 18), ('smile', 18), ('dinner', 18), ('account', 18), ('chance', 18), ('selected', 18), ('money', 17), ('into', 17), ('abt', 17), ('wif', 17), ('eat', 17), ('job', 17), ('babe', 17), ('guaranteed', 17), ('Why', 17), ('once', 17), ('Now', 17), ('Tell', 17), ('two', 17), ('See', 17), ('didnt', 17), ('same', 17), ('ME', 17), ('fun', 17), ('soon', 16), ('check', 16), ('texts', 16), ('drive', 16), ('until', 16), ('details', 16), ('everything', 16), ('Am', 16), ('mins', 16), ('word', 16), ('Send', 16), ('working', 16), ('left', 16), ('tonight', 16), ('help', 16), ('shopping', 16), ('guess', 16), ('UR', 16), ('means', 16), ('AT', 16), ('wants', 15), ('till', 15), ('wake', 15), ('Got', 15), ('MY', 15), ('year', 15), ('probably', 15), ('shit', 15), ('most', 15), ('looking', 15), ('sexy', 15), ('end', 15), ('plan', 15), ('asked', 15), ('CALL', 15), ('without', 15), ('Box', 15), ('heart', 15), ('those', 15), ('wanna', 15), ('til', 15), ('school', 15), ('done', 15), ('remember', 15), ('chat', 15), ('sweet', 15), ('IN', 15), ('network', 15), ('house', 15), ('start', 14), ('collect', 14), ('Going', 14), ('latest', 14), ('dad', 14), ('Was', 14), ('early', 14), ('feeling', 14), ('hav', 14), ('since', 14), ('shall', 14), ('room', 14), ('must', 14), ('watching', 14), ('bring', 14), ('away', 14), ('yeah', 14), ('Today', 14), ('class', 14), ('Claim', 14), ('guy', 14), ('lor', 14), ('yet', 14), ('head', 14), ('tot', 14), ('line', 14), ('IM', 14), ('bus', 14), ('Me', 14), ('tv', 14), ('town', 14), ('smoke', 13), ('ya', 13), ('dis', 13), ('telling', 13), ('UP', 13), ('bad', 13), ('attempt', 13), ('tone', 13), ('tried', 13), ('mean', 13), ('NEW', 13), ('Orange', 13), ('apply', 13), ('pounds', 13), ('pain', 13), ('happen', 13), ('does', 13), ('NOW', 13), ('Take', 13), ('trip', 13), ('important', 13), ('enough', 13), ('Customer', 13), ('hurt', 13), ('live', 13), ('saw', 13), ('goes', 12), ('join', 12), ('food', 12), ('hear', 12), ('top', 12), ('delivery', 12), ('havent', 12), ('stay', 12), ('tones', 12), ('forget', 12), ('ON', 12), ('saying', 12), ('gift', 12), ('SMS', 12), ('Cos', 12), ('WIN', 12), ('decided', 12), ('weekly', 12), ('believe', 12), ('speak', 12), ('either', 12), ('online', 12), ('though', 12), ('May', 12), ('wil', 12), ('Expires', 12), ('finished', 11), ('worry', 11), ('taking', 11), ('NOKIA', 11), ('Should', 11), ('LOVE', 11), ('WITH', 11), ('hold', 11), ('walk', 11), ('FOR', 11), ('calling', 11), ('thats', 11), ('times', 11), ('OF', 11), ('WON', 11), ('making', 11), ('run', 11), ('Want', 11), ('re', 11), ('took', 11), ('these', 11), ('thinking', 11), ('whole', 11), ('hair', 11), ('Let', 11), ('Yo', 11), ('knw', 11), ('years', 11), ('seeing', 11), ('world', 11), ('leaving', 11), ('boy', 11), ('knew', 11), ('TO', 11), ('video', 11), ('actually', 11), ('enjoy', 11), ('worth', 11), ('land', 11), ('final', 11), ('sat', 11), ('problem', 11), ('Thats', 11), ('Thank', 11), ('ringtone', 11), ('show', 11), ('change', 11), ('GO', 11), ('jus', 11), ('Identifier', 11), ('test', 11), ('play', 11), ('missing', 11), ('Smile', 11), ('smth', 10), ('office', 10), ('sending', 10), ('old', 10), ('words', 10), ('together', 10), ('haf', 10), ('On', 10), ('sch', 10), ('each', 10), ('weeks', 10), ('tmr', 10), ('sad', 10), ('With', 10), ('lose', 10), ('sort', 10), ('de', 10), ('wid', 10), ('Holiday', 10), ('gud', 10), ('man', 10), ('min', 10), ('Double', 10), ('Our', 10), ('aft', 10), ('everyone', 10), ('driving', 10), ('started', 10), ('Im', 10), ('Had', 10), ('THIS', 10), ('operator', 10), ('Come', 10), ('within', 10), ('colour', 10), ('busy', 10), ('search', 10), ('pretty', 10), ('CHAT', 10), ('wonderful', 10), ('Any', 10), ('thanks', 10), ('Account', 10), ('Statement', 10), ('maybe', 9), ('visit', 9), ('picking', 9), ('heard', 9), ('Dunno', 9), ('mail', 9), ('Stop', 9), ('ten', 9), ('Win', 9), ('player', 9), ('At', 9), ('Bonus', 9), ('Prize', 9), ('offer', 9), ('game', 9), ('post', 9), ('dating', 9), ('Haha', 9), ('missed', 9), ('Still', 9), ('calls', 9), ('holiday', 9), ('dunno', 9), ('Congratulations', 9), ('Xmas', 9), ('story', 9), ('Last', 9), ('felt', 9), ('full', 9), ('Valid', 9), ('alone', 9), ('break', 9), ('opt', 9), ('their', 9), ('Aight', 9), ('project', 9), ('lucky', 9), ('plz', 9), ('lots', 9), ('least', 9), ('Todays', 9), ('set', 9), ('outside', 9), ('checking', 9), ('direct', 8), ('takes', 8), ('treat', 8), ('lar', 8), ('YOUR', 8), ('noe', 8), ('asking', 8), ('gone', 8), ('Fuck', 8), ('while', 8), ('From', 8), ('order', 8), ('minute', 8), ('Okie', 8), ('ALL', 8), ('Hows', 8), ('finally', 8), ('hit', 8), ('There', 8), ('bt', 8), ('Ya', 8), ('luv', 8), ('seen', 8), ('Thanx', 8), ('await', 8), ('Which', 8), ('prob', 8), ('birthday', 8), ('couple', 8), ('smiling', 8), ('eg', 8), ('crave', 8), ('Even', 8), ('rate', 8), ('kiss', 8), ('messages', 8), ('fuck', 8), ('Be', 8), ('anyone', 8), ('sis', 8), ('cause', 8), ('Wish', 8), ('girls', 8), ('juz', 8), ('GOOD', 8), ('shop', 8), ('kind', 8), ('Cost', 8), ('close', 8), ('choose', 8), ('Also', 8), ('rates', 8), ('Huh', 8), ('found', 8), ('brings', 8), ('HEY', 8), ('weekend', 8), ('Jus', 8), ('via', 8), ('blue', 8), ('anytime', 8), ('cool', 8), ('nothing', 8), ('touch', 8), ('gave', 8), ('HAVE', 8), ('date', 8), ('price', 8), ('mayb', 8), ('wkly', 8), ('sms', 8), ('open', 8), ('Check', 8), ('yr', 8), ('mom', 8), ('link', 7), ('light', 7), ('train', 7), ('lovely', 7), ('happened', 7), ('em', 7), ('thinks', 7), ('whats', 7), ('After', 7), ('Hello', 7), ('WILL', 7), ('txting', 7), ('POBox', 7), ('Tones', 7), ('comes', 7), ('case', 7), ('camera', 7), ('Wen', 7), ('angry', 7), ('bath', 7), ('support', 7), ('SAE', 7), ('meant', 7), ('family', 7), ('party', 7), ('movie', 7), ('noon', 7), ('tht', 7), ('God', 7), ('wonder', 7), ('crazy', 7), ('catch', 7), ('rply', 7), ('den', 7), ('during', 7), ('quick', 7), ('invited', 7), ('NTT', 7), ('Make', 7), ('anyway', 7), ('pics', 7), ('vouchers', 7), ('offers', 7), ('Bluetooth', 7), ('CASH', 7), ('needs', 7), ('fri', 7), ('Think', 7), ('almost', 7), ('fr', 7), ('second', 7), ('disturb', 7), ('somewhere', 7), ('sea', 7), ('yo', 7), ('talking', 7), ('bout', 7), ('net', 7), ('Abiola', 7), ('hungry', 7), ('comp', 7), ('happiness', 7), ('company', 7), ('OUT', 7), ('card', 7), ('BSLVYL', 7), ('tomo', 7), ('ITS', 7), ('Who', 7), ('Night', 7), ('numbers', 7), ('code', 7), ('Maybe', 7), ('gd', 7), ('Actually', 7), ('brother', 7), ('ONLY', 7), ('dreams', 7), ('Anything', 7), ('THAT', 7), ('type', 7), ('Very', 7), ('ARE', 7), ('frnds', 7), ('mine', 7), ('available', 7), ('Does', 7), ('MUSIC', 7), ('FREEPHONE', 7), ('Enjoy', 7), ('representative', 7), ('else', 7), ('By', 7), ('sell', 7), ('month', 7), ('computer', 7), ('Need', 7), ('hours', 7), ('side', 7), ('reason', 6), ('plus', 6), ('players', 6), ('pm', 6), ('Plus', 6), ('Lets', 6), ('pass', 6), ('Nothing', 6), ('neva', 6), ('UK', 6), ('Dogging', 6), ('mid', 6), ('Caller', 6), ('phones', 6), ('mob', 6), ('nite', 6), ('bank', 6), ('Man', 6), ('booked', 6), ('Great', 6), ('Mm', 6), ('decide', 6), ('friendship', 6), ('coz', 6), ('drugs', 6), ('Thk', 6), ('rest', 6), ('hot', 6), ('drink', 6), ('lect', 6), ('sounds', 6), ('entered', 6), ('Friends', 6), ('none', 6), ('DO', 6), ('hoping', 6), ('One', 6), ('bed', 6), ('understand', 6), ('txts', 6), ('Latest', 6), ('currently', 6), ('unsubscribe', 6), ('info', 6), ('frm', 6), ('answer', 6), ('news', 6), ('secret', 6), ('easy', 6), ('Yar', 6), ('Keep', 6), ('style', 6), ('trust', 6), ('running', 6), ('following', 6), ('lets', 6), ('bill', 6), ('wot', 6), ('wana', 6), ('completely', 6), ('wk', 6), ('liked', 6), ('cum', 6), ('JUST', 6), ('drop', 6), ('Oops', 6), ('services', 6), ('spent', 6), ('tel', 6), ('excuse', 6), ('ends', 6), ('SiPix', 6), ('Digital', 6), ('Delivery', 6), ('Would', 6), ('WAS', 6), ('safe', 6), ('cost', 6), ('knows', 6), ('complimentary', 6), ('mistake', 6), ('valued', 6), ('leaves', 6), ('fine', 6), ('YES', 6), ('club', 6), ('whatever', 6), ('thinkin', 6), ('street', 6), ('saturday', 6), ('mrng', 6), ('nyt', 6), ('SO', 6), ('hard', 6), ('bid', 6), ('Ard', 6), ('library', 6), ('stand', 6), ('TONE', 6), ('sister', 6), ('gym', 6), ('oso', 6), ('Shall', 6), ('usf', 6), ('log', 6), ('CD', 6), ('Watching', 6), ('chennai', 6), ('Of', 6), ('course', 6), ('mum', 6), ('snow', 6), ('write', 6), ('gotta', 6), ('frens', 6), ('specially', 6), ('Chat', 6), ('award', 6), ('wit', 6), ('far', 6), ('exam', 6), ('address', 6), ('Video', 6), ('Miss', 6), ('Never', 6), ('myself', 6), ('cut', 6), ('Kate', 6), ('afternoon', 6), ('gas', 5), ('happens', 5), ('somebody', 5), ('ard', 5), ('paying', 5), ('NAME', 5), ('jay', 5), ('sun', 5), ('amount', 5), ('march', 5), ('sleeping', 5), ('Service', 5), ('sex', 5), ('Sony', 5), ('DVD', 5), ('plans', 5), ('access', 5), ('FROM', 5), ('TODAY', 5), ('urself', 5), ('Wanna', 5), ('fone', 5), ('boytoy', 5), ('sick', 5), ('lol', 5), ('murder', 5), ('oredi', 5), ('Urgent', 5), ('Fancy', 5), ('Mins', 5), ('Coz', 5), ('true', 5), ('Juz', 5), ('laptop', 5), ('Sat', 5), ('Okay', 5), ('lost', 5), ('password', 5), ('reading', 5), ('th', 5), ('goin', 5), ('loads', 5), ('exactly', 5), ('Were', 5), ('poly', 5), ('bedroom', 5), ('SURPRISE', 5), ('Croydon', 5), ('question', 5), ('gap', 5), ('holding', 5), ('XXX', 5), ('discount', 5), ('Cs', 5), ('swing', 5), ('maximize', 5), ('BOX', 5), ('sit', 5), ('summer', 5), ('Nope', 5), ('group', 5), ('reference', 5), ('Lovely', 5), ('less', 5), ('usual', 5), ('Someone', 5), ('Sounds', 5), ('ass', 5), ('Mark', 5), ('din', 5), ('eh', 5), ('NOT', 5), ('xxx', 5), ('IT', 5), ('WORK', 5), ('Voucher', 5), ('IF', 5), ('spree', 5), ('whenever', 5), ('teach', 5), ('orchard', 5), ('TIME', 5), ('area', 5), ('Guess', 5), ('spend', 5), ('share', 5), ('Morning', 5), ('fact', 5), ('track', 5), ('HI', 5), ('CAN', 5), ('yrs', 5), ('Camera', 5), ('ending', 5), ('match', 5), ('hurts', 5), ('GET', 5), ('replying', 5), ('photo', 5), ('Eh', 5), ('darlin', 5), ('film', 5), ('questions', 5), ('Like', 5), ('across', 5), ('Same', 5), ('tho', 5), ('difficult', 5), ('Update', 5), ('wiv', 5), ('evening', 5), ('Always', 5), ('Speak', 5), ('mrt', 5), ('tampa', 5), ('point', 5), ('sunny', 5), ('add', 5), ('Waiting', 5), ('earlier', 5), ('loving', 5), ('naughty', 5), ('Dad', 5), ('Auction', 5), ('round', 5), ('yours', 5), ('staying', 5), ('empty', 5), ('gets', 5), ('Probably', 5), ('Ill', 5), ('ago', 5), ('through', 5), ('nt', 5), ('longer', 5), ('Cant', 5), ('book', 5), ('First', 5), ('Time', 5), ('listen', 5), ('enter', 5), ('muz', 5), ('trouble', 5), ('bb', 5), ('WOT', 5), ('rem', 5), ('especially', 5), ('National', 5), ('ha', 5), ('both', 5), ('kick', 5), ('wrong', 5), ('luck', 5), ('Loves', 5), ('lazy', 5), ('copy', 5), ('wen', 5), ('mr', 5), ('save', 5), ('registered', 5), ('voucher', 5), ('Merry', 5), ('used', 5), ('giving', 5), ('song', 5), ('fucking', 5), ('extra', 5), ('fancy', 5), ('tired', 5), ('Pete', 5), ('wun', 5), ('shower', 5), ('yourself', 5), ('pray', 5), ('Press', 5), ('WAP', 5), ('HAPPY', 5), ('figure', 5), ('xx', 5), ('towards', 5), ('update', 5), ('pic', 5), ('TXT', 5), ('self', 4), ('dnt', 4), ('reaching', 4), ('balance', 4), ('nokia', 4), ('father', 4), ('eatin', 4), ('miracle', 4), ('cup', 4), ('dropped', 4), ('Some', 4), ('leh', 4), ('complete', 4), ('imma', 4), ('friday', 4), ('Join', 4), ('sign', 4), ('Sunshine', 4), ('Quiz', 4), ('Nah', 4), ('iPod', 4), ('spoke', 4), ('darling', 4), ('mates', 4), ('camcorder', 4), ('afraid', 4), ('vl', 4), ('baby', 4), ('ignore', 4), ('DATE', 4), ('AND', 4), ('deep', 4), ('cine', 4), ('Go', 4), ('broke', 4), ('wishing', 4), ('cal', 4), ('fat', 4), ('menu', 4), ('Wow', 4), ('become', 4), ('Dude', 4), ('id', 4), ('god', 4), ('evng', 4), ('Alright', 4), ('POLY', 4), ('warm', 4), ('dry', 4), ('tkts', 4), ('POBOX', 4), ('BABE', 4), ('marry', 4), ('sound', 4), ('askd', 4), ('sed', 4), ('minuts', 4), ('latr', 4), ('national', 4), ('receipt', 4), ('created', 4), ('hand', 4), ('tyler', 4), ('Wake', 4), ('request', 4), ('bored', 4), ('lesson', 4), ('paper', 4), ('woke', 4), ('REVEAL', 4), ('weak', 4), ('black', 4), ('Bt', 4), ('wonders', 4), ('WORLD', 4), ('Personality', 4), ('Nature', 4), ('LIVE', 4), ('list', 4), ('supposed', 4), ('Half', 4), ('searching', 4), ('thank', 4), ('budget', 4), ('darren', 4), ('frnd', 4), ('beautiful', 4), ('own', 4), ('weather', 4), ('straight', 4), ('posted', 4), ('return', 4), ('park', 4), ('CDs', 4), ('fixed', 4), ('wishes', 4), ('rent', 4), ('paid', 4), ('Been', 4), ('met', 4), ('inside', 4), ('POD', 4), ('uncles', 4), ('charged', 4), ('planned', 4), ('worse', 4), ('gettin', 4), ('arrive', 4), ('awake', 4), ('basically', 4), ('Iam', 4), ('addicted', 4), ('PC', 4), ('GOING', 4), ('seems', 4), ('truth', 4), ('Shopping', 4), ('expect', 4), ('Change', 4), ('terms', 4), ('hop', 4), ('under', 4), ('hotel', 4), ('Nobody', 4), ('hw', 4), ('medical', 4), ('coffee', 4), ('competition', 4), ('fromm', 4), ('die', 4), ('Voda', 4), ('quoting', 4), ('standard', 4), ('app', 4), ('HOW', 4), ('study', 4), ('contacted', 4), ('bucks', 4), ('slowly', 4), ('single', 4), ('wherever', 4), ('ice', 4), ('etc', 4), ('Missing', 4), ('plenty', 4), ('Landline', 4), ('BT', 4), ('landline', 4), ('pleased', 4), ('ans', 4), ('yan', 4), ('jiu', 4), ('center', 4), ('ended', 4), ('worries', 4), ('yahoo', 4), ('five', 4), ('OR', 4), ('omw', 4), ('eyes', 4), ('Loyalty', 4), ('dint', 4), ('NICE', 4), ('Heart', 4), ('horny', 4), ('Phone', 4), ('official', 4), ('recently', 4), ('fix', 4), ('promise', 4), ('rock', 4), ('IMPORTANT', 4), ('slow', 4), ('exciting', 4), ('GOD', 4), ('lookin', 4), ('Once', 4), ('uncle', 4), ('Plz', 4), ('original', 4), ('normal', 4), ('VIP', 4), ('row', 4), ('lemme', 4), ('forward', 4), ('past', 4), ('quality', 4), ('wondering', 4), ('stock', 4), ('appreciate', 4), ('pound', 4), ('slept', 4), ('box', 4), ('His', 4), ('centre', 4), ('weed', 4), ('WANT', 4), ('receiving', 4), ('Ha', 4), ('passed', 4), ('picked', 4), ('situation', 4), ('however', 4), ('ones', 4), ('looked', 4), ('mu', 4), ('carlos', 4), ('FANTASTIC', 4), ('sim', 4), ('correct', 4), ('entitled', 4), ('thru', 4), ('information', 4), ('GOT', 4), ('loss', 4), ('urgent', 4), ('WELL', 4), ('Aiyar', 4), ('London', 4), ('forever', 4), ('learn', 4), ('xy', 4), ('goto', 4), ('possible', 4), ('ring', 4), ('custcare', 4), ('DA', 4), ('added', 4), ('NO', 4), ('Many', 4), ('returns', 4), ('download', 4), ('meds', 4), ('BIRTHDAY', 4), ('winner', 4), ('doesnt', 4), ('results', 4), ('using', 4), ('argue', 4), ('girl', 4), ('regards', 4), ('kept', 4), ('south', 4), ('confirm', 4), ('dream', 4), ('texting', 4), ('Valentine', 4), ('TnCs', 4), ('ticket', 4), ('reached', 4), ('wine', 4), ('turns', 4), ('ONE', 4), ('PHONE', 4), ('fall', 4), ('barely', 4), ('Aiyah', 4), ('credit', 4), ('FA', 4), ('ac', 4), ('END', 4), ('kinda', 4), ('LIKE', 4), ('Tenerife', 4), ('Sometimes', 4), ('URN', 4), ('cars', 3), ('arrange', 3), ('tells', 3), ('apparently', 3), ('Congrats', 3), ('surprise', 3), ('checked', 3), ('acc', 3), ('John', 3), ('NEED', 3), ('loved', 3), ('anti', 3), ('deliver', 3), ('finishing', 3), ('games', 3), ('fingers', 3), ('worried', 3), ('ran', 3), ('Content', 3), ('Find', 3), ('TRY', 3), ('CHANCE', 3), ('assume', 3), ('except', 3), ('fight', 3), ('death', 3), ('Wkly', 3), ('country', 3), ('Liverpool', 3), ('played', 3), ('ansr', 3), ('AS', 3), ('DID', 3), ('LAST', 3), ('role', 3), ('lab', 3), ('Glad', 3), ('deal', 3), ('COLLECT', 3), ('MANEESHA', 3), ('satisfied', 3), ('Toll', 3), ('drug', 3), ('ge', 3), ('locations', 3), ('response', 3), ('doors', 3), ('gt', 3), ('wife', 3), ('arrested', 3), ('weekends', 3), ('songs', 3), ('wear', 3), ('pictures', 3), ('married', 3), ('movies', 3), ('Offer', 3), ('bathe', 3), ('technical', 3), ('mon', 3), ('middle', 3), ('unable', 3), ('Loving', 3), ('responding', 3), ('three', 3), ('Chinese', 3), ('Remember', 3), ('Really', 3), ('various', 3), ('points', 3), ('child', 3), ('shd', 3), ('Forgot', 3), ('Purity', 3), ('forwarded', 3), ('returned', 3), ('strong', 3), ('bringing', 3), ('shot', 3), ('Easy', 3), ('Geeee', 3), ('rose', 3), ('Sad', 3), ('Wife', 3), ('Parents', 3), ('Kids', 3), ('Colleagues', 3), ('BE', 3), ('handle', 3), ('Indian', 3), ('against', 3), ('becoz', 3), ('air', 3), ('gaps', 3), ('bother', 3), ('key', 3), ('PORN', 3), ('SHOP', 3), ('SavaMob', 3), ('Wine', 3), ('bought', 3), ('present', 3), ('SonyEricsson', 3), ('simple', 3), ('magical', 3), ('flat', 3), ('Fine', 3), ('simply', 3), ('birds', 3), ('lady', 3), ('yoga', 3), ('behave', 3), ('morn', 3), ('lecture', 3), ('notice', 3), ('Transaction', 3), ('credited', 3), ('wer', 3), ('Year', 3), ('bell', 3), ('raining', 3), ('HL', 3), ('HOT', 3), ('FANTASIES', 3), ('nobody', 3), ('released', 3), ('Welcome', 3), ('Price', 3), ('Life', 3), ('cleared', 3), ('chill', 3), ('oh', 3), ('click', 3), ('FLOWER', 3), ('Cash', 3), ('surprised', 3), ('cafe', 3), ('discuss', 3), ('bf', 3), ('store', 3), ('walked', 3), ('Right', 3), ('convey', 3), ('gals', 3), ('semester', 3), ('Short', 3), ('knowing', 3), ('purchase', 3), ('orange', 3), ('dearer', 3), ('MSG', 3), ('TEXT', 3), ('BIT', 3), ('CHEERS', 3), ('KEEP', 3), ('Havent', 3), ('Bcoz', 3), ('Ugh', 3), ('tape', 3), ('cruise', 3), ('remain', 3), ('BEFORE', 3), ('Pound', 3), ('unique', 3), ('STORE', 3), ('cuz', 3), ('auto', 3), ('died', 3), ('OH', 3), ('KNOW', 3), ('successful', 3), ('anybody', 3), ('asks', 3), ('college', 3), ('GIVE', 3), ('Hurry', 3), ('surely', 3), ('smoking', 3), ('pub', 3), ('throat', 3), ('answering', 3), ('BUT', 3), ('MESSAGE', 3), ('score', 3), ('isnt', 3), ('AM', 3), ('throw', 3), ('idea', 3), ('attend', 3), ('Looks', 3), ('URGENT', 3), ('billed', 3), ('workin', 3), ('kallis', 3), ('review', 3), ('GOODMORNING', 3), ('Camcorder', 3), ('LIFE', 3), ('Christmas', 3), ('further', 3), ('ordered', 3), ('software', 3), ('opportunity', 3), ('Dun', 3), ('Friendship', 3), ('More', 3), ('Luv', 3), ('future', 3), ('rays', 3), ('photos', 3), ('yesterday', 3), ('lik', 3), ('ll', 3), ('tat', 3), ('apartment', 3), ('issues', 3), ('OVER', 3), ('Two', 3), ('doin', 3), ('cheap', 3), ('willing', 3), ('Years', 3), ('tickets', 3), ('sale', 3), ('selling', 3), ('Prepare', 3), ('WHO', 3), ('inc', 3), ('Sent', 3), ('TC', 3), ('small', 3), ('Mind', 3), ('Otherwise', 3), ('dubsack', 3), ('playing', 3), ('studying', 3), ('poor', 3), ('flag', 3), ('yer', 3), ('FLAG', 3), ('ENG', 3), ('Club', 3), ('fell', 3), ('Carlos', 3), ('woman', 3), ('informed', 3), ('LOL', 3), ('picture', 3), ('ache', 3), ('todays', 3), ('comin', 3), ('LDN', 3), ('chikku', 3), ('Accept', 3), ('moment', 3), ('near', 3), ('stopped', 3), ('singles', 3), ('gives', 3), ('bag', 3), ('belly', 3), ('Start', 3), ('eating', 3), ('XMAS', 3), ('pc', 3), ('Nice', 3), ('pizza', 3), ('awaiting', 3), ('personal', 3), ('keeping', 3), ('internet', 3), ('gentle', 3), ('pple', 3), ('infernal', 3), ('affairs', 3), ('shuhui', 3), ('lines', 3), ('charge', 3), ('Darren', 3), ('aight', 3), ('Bored', 3), ('BEEN', 3), ('MUCH', 3), ('mother', 3), ('Wot', 3), ('RECEIVE', 3), ('system', 3), ('body', 3), ('battery', 3), ('starting', 3), ('definitely', 3), ('short', 3), ('rooms', 3), ('befor', 3), ('activities', 3), ('Quite', 3), ('mo', 3), ('adore', 3), ('green', 3), ('quote', 3), ('Person', 3), ('Much', 3), ('fetch', 3), ('rental', 3), ('fantastic', 3), ('tog', 3), ('Hmm', 3), ('eye', 3), ('directly', 3), ('Each', 3), ('ave', 3), ('Available', 3), ('Motorola', 3), ('putting', 3), ('England', 3), ('Omg', 3), ('user', 3), ('onto', 3), ('AWAITING', 3), ('Den', 3), ('reasons', 3), ('WENT', 3), ('immediately', 3), ('lonely', 3), ('HOME', 3), ('DONE', 3), ('TELL', 3), ('Give', 3), ('sir', 3), ('Videophones', 3), ('videochat', 3), ('java', 3), ('Dload', 3), ('noline', 3), ('king', 3), ('read', 3), ('Use', 3), ('Ltd', 3), ('Doing', 3), ('planning', 3), ('beyond', 3), ('Ask', 3), ('gay', 3), ('upload', 3), ('WHAT', 3), ('Storming', 3), ('lift', 3), ('wt', 3), ('meaning', 3), ('girlfrnd', 3), ('Grahmbell', 3), ('invnted', 3), ('parking', 3), ('cancel', 3), ('seriously', 3), ('Ranjith', 3), ('meetin', 3), ('Neva', 3), ('askin', 3), ('laugh', 3), ('sorting', 3), ('Talk', 3), ('Try', 3), ('exams', 3), ('SOMEONE', 3), ('hows', 3), ('JEN', 3), ('sup', 3), ('stuck', 3), ('bday', 3), ('DOWN', 3), ('Might', 3), ('sunday', 3), ('content', 3), ('fill', 3), ('Don', 3), ('remove', 3), ('Nt', 3), ('looks', 3), ('GIRL', 3), ('IVE', 3), ('BABY', 3), ('boston', 3), ('hanging', 3), ('Ummmmmaah', 3), ('valuable', 3), ('vote', 3), ('others', 3), ('Argument', 3), ('wins', 3), ('loses', 3), ('Convey', 3), ('RINGTONE', 3), ('result', 3), ('clean', 3), ('wise', 3), ('wednesday', 3), ('intro', 3), ('selection', 3), ('Sweet', 3), ('AUCTION', 3), ('auction', 3), ('rather', 3), ('collection', 3), ('children', 3), ('malaria', 3), ('business', 3), ('pa', 3), ('Pleasure', 3), ('Jay', 3), ('Wait', 3), ('Wishing', 3), ('eve', 3), ('generally', 3), ('sing', 3), ('surfing', 3), ('postcode', 3), ('spell', 3), ('Aft', 3), ('gram', 3), ('callertune', 3), ('Callertune', 3), ('msgs', 3), ('qatar', 3), ('deleted', 3), ('birla', 3), ('soft', 3), ('ahead', 3), ('finishes', 3), ('flirt', 3), ('CAMERA', 3), ('upgrade', 3), ('high', 3), ('interested', 3), ('MINUTES', 3), ('starts', 3), ('vary', 3), ('dollars', 3), ('fb', 3), ('opinion', 3), ('Every', 3), ('music', 3), ('twice', 3), ('Da', 3), ('pieces', 3), ('walls', 3), ('ma', 3), ('ate', 3), ('Yun', 3), ('wats', 3), ('move', 3), ('ve', 2), ('shipping', 2), ('partnership', 2), ('Hiya', 2), ('Mandan', 2), ('Say', 2), ('HEART', 2), ('files', 2), ('Mmmmm', 2), ('waking', 2), ('happening', 2), ('gotten', 2), ('combine', 2), ('inch', 2), ('chain', 2), ('Company', 2), ('terrific', 2), ('tea', 2), ('keys', 2), ('Xy', 2), ('suggest', 2), ('Under', 2), ('lays', 2), ('appt', 2), ('contract', 2), ('subscribed', 2), ('Helpline', 2), ('Msgs', 2), ('asleep', 2), ('fathima', 2), ('hr', 2), ('follow', 2), ('model', 2), ('umma', 2), ('speed', 2), ('HELLO', 2), ('WEN', 2), ('ability', 2), ('location', 2), ('fab', 2), ('pap', 2), ('joined', 2), ('IBHltd', 2), ('blessing', 2), ('dollar', 2), ('loan', 2), ('booty', 2), ('dance', 2), ('problems', 2), ('norm', 2), ('laid', 2), ('largest', 2), ('replied', 2), ('Super', 2), ('northampton', 2), ('racing', 2), ('instructions', 2), ('Solve', 2), ('Case', 2), ('Found', 2), ('Murdered', 2), ('questioned', 2), ('Police', 2), ('murderer', 2), ('snowman', 2), ('vikky', 2), ('il', 2), ('flights', 2), ('Sept', 2), ('shirts', 2), ('YM', 2), ('facebook', 2), ('Hugs', 2), ('fastest', 2), ('growing', 2), ('rcvd', 2), ('tablets', 2), ('DOUBLE', 2), ('enjoyed', 2), ('lovable', 2), ('showing', 2), ('steam', 2), ('reg', 2), ('inches', 2), ('luxury', 2), ('Canary', 2), ('Islands', 2), ('Next', 2), ('itself', 2), ('dare', 2), ('Hear', 2), ('screaming', 2), ('dude', 2), ('dark', 2), ('Long', 2), ('contents', 2), ('pg', 2), ('cover', 2), ('dead', 2), ('Play', 2), ('Player', 2), ('OptOut', 2), ('Valentines', 2), ('musthu', 2), ('murdered', 2), ('public', 2), ('Depends', 2), ('radio', 2), ('Poly', 2), ('TITLE', 2), ('private', 2), ('property', 2), ('logo', 2), ('lover', 2), ('names', 2), ('EVE', 2), ('CUP', 2), ('FINAL', 2), ('cabin', 2), ('PA', 2), ('Boss', 2), ('REALITY', 2), ('FANTASY', 2), ('SHOW', 2), ('interview', 2), ('doubt', 2), ('Gd', 2), ('note', 2), ('Japanese', 2), ('LET', 2), ('HIM', 2), ('Kerala', 2), ('strike', 2), ('coin', 2), ('fills', 2), ('shortly', 2), ('Shuhui', 2), ('closer', 2), ('worlds', 2), ('runs', 2), ('mite', 2), ('otherwise', 2), ('flaked', 2), ('pilates', 2), ('supervisor', 2), ('Leave', 2), ('Damn', 2), ('Id', 2), ('exhausted', 2), ('Everything', 2), ('Cust', 2), ('buzz', 2), ('Buzz', 2), ('chest', 2), ('Sir', 2), ('idiot', 2), ('faster', 2), ('NEFT', 2), ('beneficiary', 2), ('dey', 2), ('Height', 2), ('Aftr', 2), ('ws', 2), ('Dey', 2), ('liao', 2), ('fo', 2), ('POLYPHONIC', 2), ('Tone', 2), ('interest', 2), ('understood', 2), ('bottom', 2), ('instead', 2), ('phoned', 2), ('Sex', 2), ('UNLIMITED', 2), ('hrs', 2), ('Gary', 2), ('freak', 2), ('depends', 2), ('john', 2), ('considering', 2), ('mah', 2), ('footprints', 2), ('clearing', 2), ('Must', 2), ('hell', 2), ('awesome', 2), ('delete', 2), ('cute', 2), ('EASTENDERS', 2), ('TV', 2), ('DOT', 2), ('compare', 2), ('herself', 2), ('VIOLET', 2), ('TULIP', 2), ('LILY', 2), ('tons', 2), ('babes', 2), ('brand', 2), ('Boy', 2), ('wkg', 2), ('sense', 2), ('foot', 2), ('payoh', 2), ('vth', 2), ('LOTR', 2), ('printed', 2), ('forum', 2), ('exact', 2), ('gpu', 2), ('Hopefully', 2), ('creepy', 2), ('Shijas', 2), ('remind', 2), ('tuition', 2), ('Uncle', 2), ('HIT', 2), ('thurs', 2), ('cancelled', 2), ('wet', 2), ('gold', 2), ('YEAH', 2), ('HUNNY', 2), ('LOVEME', 2), ('rang', 2), ('seemed', 2), ('FEEL', 2), ('Mystery', 2), ('email', 2), ('sweetie', 2), ('misbehaved', 2), ('SLAP', 2), ('URSELF', 2), ('hopefully', 2), ('ppl', 2), ('randomly', 2), ('otside', 2), ('CallFREEFONE', 2), ('Bahamas', 2), ('size', 2), ('Maintain', 2), ('FUCKING', 2), ('lead', 2), ('tight', 2), ('City', 2), ('Break', 2), ('Summer', 2), ('lick', 2), ('curious', 2), ('def', 2), ('hip', 2), ('weirdest', 2), ('GREAT', 2), ('LOOK', 2), ('AFTER', 2), ('GIRLS', 2), ('SIX', 2), ('chances', 2), ('TsandCs', 2), ('plm', 2), ('Read', 2), ('spending', 2), ('necessary', 2), ('watever', 2), ('shared', 2), ('accept', 2), ('begging', 2), ('teaches', 2), ('KATE', 2), ('ASAP', 2), ('tour', 2), ('sofa', 2), ('fren', 2), ('caller', 2), ('Lucky', 2), ('station', 2), ('smokes', 2), ('ruining', 2), ('cud', 2), ('easier', 2), ('Monday', 2), ('easily', 2), ('DARLIN', 2), ('MUM', 2), ('REALLY', 2), ('GOIN', 2), ('SOON', 2), ('Activate', 2), ('Messages', 2), ('shoot', 2), ('freezing', 2), ('mate', 2), ('Dat', 2), ('custom', 2), ('approx', 2), ('Babe', 2), ('forgotten', 2), ('Reverse', 2), ('hate', 2), ('Tomorrow', 2), ('electricity', 2), ('charges', 2), ('Bit', 2), ('Back', 2), ('advise', 2), ('recent', 2), ('Mob', 2), ('Amazing', 2), ('Beautiful', 2), ('feels', 2), ('Whats', 2), ('remains', 2), ('bros', 2), ('truly', 2), ('Save', 2), ('Sure', 2), ('parents', 2), ('greetings', 2), ('joy', 2), ('file', 2), ('testing', 2), ('cleaning', 2), ('Live', 2), ('XX', 2), ('bugis', 2), ('Sun', 2), ('Bloomberg', 2), ('Apply', 2), ('january', 2), ('cinema', 2), ('period', 2), ('character', 2), ('Dnt', 2), ('rumour', 2), ('Granite', 2), ('EXPLOSIVE', 2), ('PICK', 2), ('OUR', 2), ('MEMBERS', 2), ('Nasdaq', 2), ('Symbol', 2), ('CDGT', 2), ('spoken', 2), ('Already', 2), ('apps', 2), ('Fri', 2), ('sooooo', 2), ('Mmmm', 2), ('inform', 2), ('prolly', 2), ('monday', 2), ('MATE', 2), ('ILL', 2), ('BACK', 2), ('philosophy', 2), ('Mumtaz', 2), ('husband', 2), ('PARIS', 2), ('salary', 2), ('slip', 2), ('START', 2), ('ship', 2), ('understanding', 2), ('IBH', 2), ('Yours', 2), ('local', 2), ('Netcollex', 2), ('escape', 2), ('theatre', 2), ('KAVALAN', 2), ('Colour', 2), ('Delivered', 2), ('handed', 2), ('Busy', 2), ('roommate', 2), ('football', 2), ('Meeting', 2), ('Tel', 2), ('ENGLAND', 2), ('tonights', 2), ('Optout', 2), ('Oooh', 2), ('SAME', 2), ('ABOUT', 2), ('despite', 2), ('arms', 2), ('wearing', 2), ('shirt', 2), ('silent', 2), ('Honey', 2), ('buns', 2), ('Moji', 2), ('saved', 2), ('stays', 2), ('legs', 2), ('Reading', 2), ('ru', 2), ('rite', 2), ('outstanding', 2), ('Networking', 2), ('pool', 2), ('imagine', 2), ('thnk', 2), ('whom', 2), ('jst', 2), ('tacos', 2), ('lip', 2), ('tear', 2), ('forevr', 2), ('GOODFRIEND', 2), ('tahan', 2), ('adult', 2), ('stayed', 2), ('tree', 2), ('MTALK', 2), ('ful', 2), ('seat', 2), ('funk', 2), ('Ahmad', 2), ('prove', 2), ('thread', 2), ('page', 2), ('SHESIL', 2), ('hella', 2), ('anythin', 2), ('likes', 2), ('funeral', 2), ('iscoming', 2), ('TnC', 2), ('possession', 2), ('desparate', 2), ('Tickets', 2), ('Blu', 2), ('concert', 2), ('farm', 2), ('scared', 2), ('places', 2), ('welcome', 2), ('aunts', 2), ('YESTERDAY', 2), ('practice', 2), ('unredeemed', 2), ('coping', 2), ('distance', 2), ('Later', 2), ('usually', 2), ('melt', 2), ('REAL', 2), ('sentence', 2), ('drinking', 2), ('needed', 2), ('WHEN', 2), ('FIRST', 2), ('BEGIN', 2), ('daddy', 2), ('Asking', 2), ('AG', 2), ('Promo', 2), ('callin', 2), ('March', 2), ('Ringtone', 2), ('polys', 2), ('rush', 2), ('Anyway', 2), ('Yep', 2), ('beneath', 2), ('pale', 2), ('moon', 2), ('goodnite', 2), ('pattern', 2), ('TOWN', 2), ('American', 2), ('British', 2), ('hotels', 2), ('Rate', 2), ('dress', 2), ('bak', 2), ('CHOSEN', 2), ('ne', 2), ('nxt', 2), ('social', 2), ('SP', 2), ('member', 2), ('Fyi', 2), ('chasing', 2), ('jess', 2), ('avoiding', 2), ('actual', 2), ('FRIEND', 2), ('season', 2), ('raise', 2), ('english', 2), ('doc', 2), ('reasonable', 2), ('admirer', 2), ('Thought', 2), ('horrible', 2), ('kappa', 2), ('law', 2), ('Male', 2), ('Hot', 2), ('Gay', 2), ('boys', 2), ('Ever', 2), ('Jerry', 2), ('cartoon', 2), ('Irritates', 2), ('Vry', 2), ('Fails', 2), ('Express', 2), ('cramps', 2), ('Costa', 2), ('Del', 2), ('Sol', 2), ('answers', 2), ('karaoke', 2), ('whether', 2), ('water', 2), ('royal', 2), ('skype', 2), ('calicut', 2), ('foreign', 2), ('stamps', 2), ('alright', 2), ('INFORMATION', 2), ('LUCKY', 2), ('FIND', 2), ('WHY', 2), ('LOG', 2), ('ONTO', 2), ('Missed', 2), ('These', 2), ('Er', 2), ('filled', 2), ('iz', 2), ('violence', 2), ('pig', 2), ('records', 2), ('indicate', 2), ('Accident', 2), ('Gift', 2), ('wtf', 2), ('Click', 2), ('Joanna', 2), ('birthdate', 2), ('cuddle', 2), ('drivin', 2), ('faggy', 2), ('earth', 2), ('losing', 2), ('SORRY', 2), ('hamster', 2), ('Wn', 2), ('potential', 2), ('scold', 2), ('popped', 2), ('basic', 2), ('guide', 2), ('rs', 2), ('PLEASE', 2), ('LUV', 2), ('mokka', 2), ('epsilon', 2), ('outta', 2), ('mesages', 2), ('allow', 2), ('Rose', 2), ('About', 2), ('yes', 2), ('subscription', 2), ('Polo', 2), ('Suite', 2), ('torch', 2), ('advice', 2), ('mood', 2), ('google', 2), ('wee', 2), ('CONVINCED', 2), ('bin', 2), ('taunton', 2), ('MMM', 2), ('status', 2), ('COME', 2), ('celebrate', 2), ('EuroDisinc', 2), ('DIS', 2), ('constantly', 2), ('ear', 2), ('Future', 2), ('cutting', 2), ('drpd', 2), ('Deeraj', 2), ('deepak', 2), ('along', 2), ('transport', 2), ('True', 2), ('essential', 2), ('roommates', 2), ('inclusive', 2), ('items', 2), ('Buy', 2), ('Money', 2), ('valentine', 2), ('LATE', 2), ('WAY', 2), ('Both', 2), ('chip', 2), ('FreeMsg', 2), ('cam', 2), ('Hlp', 2), ('panic', 2), ('hospital', 2), ('blackberry', 2), ('bold', 2), ('silver', 2), ('Ptbo', 2), ('Msg', 2), ('reward', 2), ('feelin', 2), ('damn', 2), ('THANX', 2), ('FONE', 2), ('glad', 2), ('favourite', 2), ('capital', 2), ('LONG', 2), ('six', 2), ('Rental', 2), ('vry', 2), ('Finally', 2), ('infront', 2), ('print', 2), ('Another', 2), ('connection', 2), ('nw', 2), ('oz', 2), ('ladies', 2), ('preferably', 2), ('Okey', 2), ('Foley', 2), ('prizes', 2), ('booking', 2), ('cell', 2), ('Games', 2), ('Arcade', 2), ('Terms', 2), ('bein', 2), ('thousands', 2), ('drinks', 2), ('Crazy', 2), ('BUS', 2), ('ID', 2), ('road', 2), ('denis', 2), ('cbe', 2), ('Especially', 2), ('changed', 2), ('realized', 2), ('Santa', 2), ('flirting', 2), ('texted', 2), ('masters', 2), ('worst', 2), ('building', 2), ('slightly', 2), ('Before', 2), ('Mobiles', 2), ('MUST', 2), ('WERE', 2), ('shut', 2), ('shoppin', 2), ('Vodafone', 2), ('allah', 2), ('works', 2), ('demand', 2), ('site', 2), ('occupy', 2), ('cares', 2), ('Unsubscribe', 2), ('celebration', 2), ('nuther', 2), ('dog', 2), ('cat', 2), ('control', 2), ('SN', 2), ('Village', 2), ('WE', 2), ('YOR', 2), ('Arsenal', 2), ('goal', 2), ('Wating', 2), ('WRC', 2), ('Rally', 2), ('Lucozade', 2), ('RALLY', 2), ('LE', 2), ('packs', 2), ('itcould', 2), ('Tomarrow', 2), ('regarding', 2), ('bloody', 2), ('somethin', 2), ('comedy', 2), ('garage', 2), ('HOPE', 2), ('addie', 2), ('Since', 2), ('dough', 2), ('wallpaper', 2), ('JD', 2), ('Accounts', 2), ('Executive', 2), ('doctor', 2), ('Edison', 2), ('rightly', 2), ('fool', 2), ('speechless', 2), ('Lmao', 2), ('ho', 2), ('Geeeee', 2), ('transfered', 2), ('Hai', 2), ('different', 2), ('flash', 2), ('letters', 2), ('Aiya', 2), ('Pick', 2), ('fever', 2), ('premium', 2), ('animation', 2), ('confuses', 2), ('nap', 2), ('shouted', 2), ('hv', 2), ('MISS', 2), ('December', 2), ('Lions', 2), ('lionm', 2), ('mono', 2), ('lionp', 2), ('UNI', 2), ('Cuz', 2), ('don', 2), ('wed', 2), ('tis', 2), ('garden', 2), ('bulbs', 2), ('seeds', 2), ('Scotsman', 2), ('sitting', 2), ('PARTY', 2), ('THEN', 2), ('BRAND', 2), ('la', 2), ('CLAIM', 2), ('zed', 2), ('Germany', 2), ('pence', 2), ('replace', 2), ('temp', 2), ('limiting', 2), ('illness', 2), ('inviting', 2), ('FRND', 2), ('YEAR', 2), ('GIV', 2), ('Pain', 2), ('pours', 2), ('Rain', 2), ('Hurts', 2), ('sory', 2), ('IQ', 2), ('juicy', 2), ('purse', 2), ('ad', 2), ('PUB', 2), ('ENJOYIN', 2), ('table', 2), ('fault', 2), ('Best', 2), ('step', 2), ('membership', 2), ('tirunelvali', 2), ('feb', 2), ('Here', 2), ('favorite', 2), ('earn', 2), ('fyi', 2), ('hols', 2), ('Aiyo', 2), ('Living', 2), ('Laughing', 2), ('Winning', 2), ('tooo', 2), ('Red', 2), ('claims', 2), ('current', 2), ('Somebody', 2), ('painful', 2), ('necessarily', 2), ('shu', 2), ('chicken', 2), ('unless', 2), ('yest', 2), ('buying', 2), ('lessons', 2), ('loves', 2), ('bud', 2), ('female', 2), ('smart', 2), ('theres', 2), ('mummy', 2), ('tough', 2), ('keeps', 2), ('skip', 2), ('lately', 2), ('attached', 2), ('DONT', 2), ('lotta', 2), ('moments', 2), ('practicing', 2), ('ericsson', 2), ('valid', 2), ('Cup', 2), ('XxX', 2), ('rcv', 2), ('anymore', 2), ('str', 2), ('turn', 2), ('caught', 2), ('letter', 2), ('invite', 2), ('embarassed', 2), ('dedicated', 2), ('dedicate', 2), ('WANNA', 2), ('coins', 2), ('Simply', 2), ('Usher', 2), ('Melle', 2), ('Minnaminunginte', 2), ('Nurungu', 2), ('men', 2), ('noun', 2), ('Code', 2), ('AN', 2), ('flowing', 2), ('sometimes', 2), ('Mr', 2), ('Anyways', 2), ('settled', 2), ('persons', 2), ('cannot', 2), ('po', 2), ('AGE', 2), ('parked', 2), ('accidentally', 2), ('Blind', 2), ('newest', 2), ('ACCEPT', 2), ('Brother', 2), ('Sister', 2), ('Lover', 2), ('Lvblefrnd', 2), ('Jstfrnd', 2), ('Cutefrnd', 2), ('Lifpartnr', 2), ('Belovd', 2), ('Swtheart', 2), ('Bstfrnd', 2), ('enemy', 2), ('kb', 2), ('power', 2), ('Dis', 2), ('recognise', 2), ('ovulation', 2), ('Meet', 2), ('licks', 2), ('MobilesDirect', 2), ('blah', 2), ('mobiles', 2), ('URE', 2), ('fave', 2), ('taste', 2), ('fish', 2), ('Over', 2), ('Cha', 2), ('press', 2), ('loose', 2), ('headache', 2), ('hardly', 2), ('NICHOLS', 2), ('ALEX', 2), ('KNOWS', 2), ('TEXTBUDDY', 2), ('Search', 2), ('login', 2), ('taken', 2), ('impatient', 2), ('river', 2), ('seem', 2), ('st', 2), ('Book', 2), ('tonite', 2), ('announcement', 2), ('anywhere', 2), ('Hmmm', 2), ('Top', 2), ('SUBPOLY', 2), ('charity', 2), ('skyped', 2), ('kz', 2), ('pleasure', 2), ('given', 2), ('ultimatum', 2), ('countin', 2), ('Meanwhile', 2), ('xavier', 2), ('seconds', 2), ('supply', 2), ('GUARANTEED', 2), ('Yourself', 2), ('wanting', 2), ('campus', 2), ('fancies', 2), ('ZOE', 2), ('Subscriber', 2), ('Something', 2), ('Horrible', 2), ('delivered', 2), ('april', 2), ('havin', 2), ('HER', 2), ('RIGHT', 2), ('FRAN', 2), ('CREDIT', 2), ('credits', 2), ('Whenevr', 2), ('saucy', 2), ('loverboy', 2), ('nigeria', 2), ('Sinco', 2), ('Log', 2), ('Beware', 2), ('disclose', 2), ('coat', 2), ('CLAIRE', 2), ('Fighting', 2), ('fightng', 2), ('dificult', 2), ('lyfu', 2), ('lyf', 2), ('yuo', 2), ('tihs', 2), ('hmmm', 2), ('buff', 2), ('costs', 2), ('dime', 2), ('laughing', 2), ('TAKE', 2), ('compromised', 2), ('toughest', 2), ('dislikes', 2), ('Muz', 2), ('JUS', 2), ('Becomes', 2), ('Ola', 1), ('US', 1), ('bids', 1), ('Invest', 1), ('reliant', 1), ('Fwiw', 1), ('afford', 1), ('constant', 1), ('arrival', 1), ('pleasant', 1), ('statements', 1), ('digital', 1), ('Bognor', 1), ('splendid', 1), ('ktv', 1), ('Misplaced', 1), ('Wondering', 1), ('atlanta', 1), ('Ten', 1), ('begun', 1), ('registration', 1), ('permanent', 1), ('residency', 1), ('relatives', 1), ('benefits', 1), ('monthly', 1), ('terrible', 1), ('predicting', 1), ('Package', 1), ('programs', 1), ('belongs', 1), ('Pray', 1), ('fated', 1), ('Shoranur', 1), ('hands', 1), ('fuelled', 1), ('concern', 1), ('prior', 1), ('grief', 1), ('VIOLENCE', 1), ('AGAINST', 1), ('slippers', 1), ('logos', 1), ('Honestly', 1), ('promptly', 1), ('burnt', 1), ('FreeMSG', 1), ('mini', 1), ('DIGITAL', 1), ('SNAP', 1), ('Opt', 1), ('brought', 1), ('GMW', 1), ('connected', 1), ('rain', 1), ('Dr', 1), ('elaborating', 1), ('safety', 1), ('aspects', 1), ('TAROT', 1), ('respond', 1), ('superior', 1), ('department', 1), ('waheed', 1), ('conform', 1), ('horniest', 1), ('ENTRY', 1), ('upping', 1), ('grams', 1), ('Gosh', 1), ('Spose', 1), ('rimac', 1), ('FINISH', 1), ('FANCY', 1), ('MEETIN', 1), ('WIV', 1), ('TONITE', 1), ('BREAK', 1), ('HRS', 1), ('Luckily', 1), ('starring', 1), ('madam', 1), ('restocked', 1), ('mental', 1), ('hon', 1), ('breakfast', 1), ('reality', 1), ('above', 1), ('lacking', 1), ('particular', 1), ('haha', 1), ('treated', 1), ('digi', 1), ('coupla', 1), ('CAL', 1), ('held', 1), ('Tiwary', 1), ('bang', 1), ('Moms', 1), ('regular', 1), ('checkup', 1), ('aka', 1), ('smear', 1), ('Pandy', 1), ('technologies', 1), ('Tee', 1), ('hee', 1), ('taxt', 1), ('argh', 1), ('shaking', 1), ('scarcasim', 1), ('Dai', 1), ('naal', 1), ('PARK', 1), ('management', 1), ('ish', 1), ('Better', 1), ('needy', 1), ('slave', 1), ('playng', 1), ('Sara', 1), ('Chasing', 1), ('slots', 1), ('ericson', 1), ('luks', 1), ('modl', 1), ('cheesy', 1), ('frosty', 1), ('witin', 1), ('Europe', 1), ('nudist', 1), ('themed', 1), ('Feb', 1), ('evn', 1), ('Evr', 1), ('neither', 1), ('unusual', 1), ('printing', 1), ('handing', 1), ('UKs', 1), ('optout', 1), ('chase', 1), ('stated', 1), ('Reaction', 1), ('tariffs', 1), ('perpetual', 1), ('DD', 1), ('Provided', 1), ('bcums', 1), ('childish', 1), ('kettoda', 1), ('pract', 1), ('Flung', 1), ('justbeen', 1), ('overa', 1), ('brains', 1), ('ben', 1), ('crashed', 1), ('cuddled', 1), ('Chachi', 1), ('Pl', 1), ('tiz', 1), ('Kanagu', 1), ('prices', 1), ('ringing', 1), ('houseful', 1), ('brats', 1), ('pulling', 1), ('diwali', 1), ('complaint', 1), ('abusers', 1), ('lives', 1), ('Watch', 1), ('netflix', 1), ('Thgt', 1), ('ARR', 1), ('funs', 1), ('teenager', 1), ('likely', 1), ('Google', 1), ('paracetamol', 1), ('unlimited', 1), ('cThen', 1), ('conclusion', 1), ('Bin', 1), ('Awarded', 1), ('Instant', 1), ('EVERY', 1), ('Wins', 1)]\n"
          ]
        }
      ]
    },
    {
      "cell_type": "markdown",
      "metadata": {
        "id": "2SMszLhzAEg7"
      },
      "source": [
        "## 4) Extract features from both the training data and test data"
      ]
    },
    {
      "cell_type": "code",
      "metadata": {
        "id": "t0H0Gfykm-Ws"
      },
      "source": [
        "def extract_features(dff,dictionary,N):\n",
        "    features_matrix = np.zeros((len(dff), N))\n",
        "    docID = 0\n",
        "    emails = dff['message'] #colonne message de X_train\n",
        "    all_words = []\n",
        "    for i,line in enumerate(emails): \n",
        "        words = line.split()\n",
        "        for word in words:\n",
        "            wordID = 0\n",
        "            for i, d in enumerate(dictionary):\n",
        "                if d[0] == word:\n",
        "                    wordID = i\n",
        "                    features_matrix[docID, wordID] = words.count(word)\n",
        "        docID = docID + 1\n",
        "    return features_matrix"
      ],
      "execution_count": null,
      "outputs": []
    },
    {
      "cell_type": "code",
      "metadata": {
        "id": "81M0L-Ysl73m"
      },
      "source": [
        "train_matrix = extract_features(X_train,dictionary_X_train,N)\n",
        "test_matrix = extract_features(X_test,dictionary_X_test,N)"
      ],
      "execution_count": null,
      "outputs": []
    },
    {
      "cell_type": "code",
      "metadata": {
        "colab": {
          "base_uri": "https://localhost:8080/"
        },
        "id": "RuXtPDVT5RBc",
        "outputId": "44494bfc-14ad-45aa-85c9-9e80c447c066"
      },
      "source": [
        "print(train_matrix)\n",
        "sum_train_matrix = np.sum(train_matrix, axis=1)\n",
        "print(sum_train_matrix)"
      ],
      "execution_count": null,
      "outputs": [
        {
          "output_type": "stream",
          "name": "stdout",
          "text": [
            "[[0. 0. 0. ... 0. 0. 0.]\n",
            " [1. 4. 2. ... 0. 0. 0.]\n",
            " [4. 0. 1. ... 0. 0. 0.]\n",
            " ...\n",
            " [0. 0. 0. ... 0. 0. 0.]\n",
            " [1. 0. 1. ... 0. 0. 0.]\n",
            " [0. 0. 0. ... 0. 0. 0.]]\n",
            "[ 2. 53. 37. ...  7. 13.  1.]\n"
          ]
        }
      ]
    },
    {
      "cell_type": "markdown",
      "metadata": {
        "id": "GEL-CpIa_8th"
      },
      "source": [
        "## 5) Implement the Naïve Bayes from scratch, and fit it to the training data"
      ]
    },
    {
      "cell_type": "code",
      "metadata": {
        "id": "czfgTjjN7kj9"
      },
      "source": [
        "# phi_n_sachant_y_egal_1 \n",
        "# print(train_matrix)\n",
        "# print(X_train.head)\n",
        "\n",
        "def presence_mot(train_matrix,X):\n",
        "  mot_spam = np.zeros(N)\n",
        "  mot_ham = np.zeros(N)\n",
        "  for n in range(0,N):\n",
        "    count = 0\n",
        "    count2 = 0\n",
        "    for i in range(0,I):\n",
        "        #si le n iè mot est présent dans le i ème message\n",
        "        #si le message est un spam\n",
        "          if ((train_matrix[i][n] > 0) & X['type'].iloc[i]) == True :\n",
        "            count = 1\n",
        "          elif ((train_matrix[i][n] > 0) &  (not X['type'].iloc[i])) == True :\n",
        "            count2 = 1\n",
        "    mot_spam[n] = count\n",
        "    mot_ham[n] = count2\n",
        "  return (mot_spam,mot_ham)\n",
        "\n",
        "# nombre de spam dans train\n",
        "def nombre_de_spam_ham(X):\n",
        "  spam = 0\n",
        "  ham = 0\n",
        "  for i in range(len(X)):\n",
        "    if X['type'].iloc[i] == 1:\n",
        "      spam = spam + 1\n",
        "    else:\n",
        "      ham = ham + 1\n",
        "\n",
        "  return (spam,ham)\n",
        "\n"
      ],
      "execution_count": null,
      "outputs": []
    },
    {
      "cell_type": "code",
      "metadata": {
        "id": "qc_l4u798o4m"
      },
      "source": [
        "# loooong a calculer\n",
        "mot_spam,mot_ham = presence_mot(train_matrix,X_train)"
      ],
      "execution_count": null,
      "outputs": []
    },
    {
      "cell_type": "code",
      "metadata": {
        "colab": {
          "base_uri": "https://localhost:8080/"
        },
        "id": "xWE2tRfAsHQ2",
        "outputId": "fab619aa-1934-44eb-f02c-bb2a2142b56b"
      },
      "source": [
        "nbre_spam,nbre_ham = nombre_de_spam_ham(X_train)\n",
        "print(nbre_spam,nbre_ham)"
      ],
      "execution_count": null,
      "outputs": [
        {
          "output_type": "stream",
          "name": "stdout",
          "text": [
            "470 3059\n"
          ]
        }
      ]
    },
    {
      "cell_type": "code",
      "metadata": {
        "id": "zZgP_jSOipEp"
      },
      "source": [
        "#Parameter\n",
        "alpha = 0.00000000000000001"
      ],
      "execution_count": null,
      "outputs": []
    },
    {
      "cell_type": "code",
      "metadata": {
        "colab": {
          "base_uri": "https://localhost:8080/"
        },
        "id": "KSkNKWlMrCoL",
        "outputId": "8ba962a0-f111-40ab-98b0-c70537ad2b78"
      },
      "source": [
        "# fit\n",
        "phi_n_y1 = (mot_spam + alpha)/(nbre_spam + 2*alpha) \n",
        "print(phi_n_y1)\n",
        "phi_n_y0 = (mot_ham + alpha)/(nbre_ham + 2*alpha)\n",
        "print(phi_n_y0)\n",
        "phi_y = (nbre_spam + alpha) / ((nbre_spam +nbre_ham) + 2*alpha)\n",
        "print(\"phi_y:\\n\",phi_y)"
      ],
      "execution_count": null,
      "outputs": [
        {
          "output_type": "stream",
          "name": "stdout",
          "text": [
            "[0.00212766 0.00212766 0.00212766 ... 0.00212766 0.00212766 0.00212766]\n",
            "[3.26904217e-04 3.26904217e-04 3.26904217e-04 ... 3.26904217e-21\n",
            " 3.26904217e-21 3.26904217e-21]\n",
            "phi_y:\n",
            " 0.13318220459053556\n"
          ]
        }
      ]
    },
    {
      "cell_type": "code",
      "metadata": {
        "colab": {
          "base_uri": "https://localhost:8080/"
        },
        "id": "UPEebTHLOvzg",
        "outputId": "2e8c2484-8834-4079-cabe-f613c13d1ad4"
      },
      "source": [
        "# (X_train['type'].iloc[8] and train_matrix[1][1]) == True\n",
        "# train_matrix[1][1]\n",
        "# X_train['type'].iloc[8]\n",
        "# (4>1 and (not 0))\n",
        "\n",
        "test_matrix\n",
        "test_matrix[2][4]\n"
      ],
      "execution_count": null,
      "outputs": [
        {
          "output_type": "execute_result",
          "data": {
            "text/plain": [
              "0.0"
            ]
          },
          "metadata": {},
          "execution_count": 475
        }
      ]
    },
    {
      "cell_type": "markdown",
      "metadata": {
        "id": "XregmN8ZAZsS"
      },
      "source": [
        "## 6) make a Prediction with test data"
      ]
    },
    {
      "cell_type": "code",
      "metadata": {
        "id": "Ey2CxR7VvzrK"
      },
      "source": [
        "def predict(X,matrix_x,phi_y,phi_n_y1,phi_n_y0, alpha):\n",
        "\n",
        "\n",
        "  nbre_spam,nbre_ham = nombre_de_spam_ham(X) \n",
        "  # laplace smoothing to find a value to replace zero, it is wrong but i dont have\n",
        "  proba_minimal_Y1 = alpha/(nbre_spam + 2*alpha)\n",
        "  proba_minimal_Y0 = alpha/(nbre_ham + 2*alpha)\n",
        "  \n",
        "  #on initialise toute les proba a 0\n",
        "  P_X_sachant_Y1 = np.zeros(len(X['message']))\n",
        "  P_X_sachant_Y0 = np.zeros(len(X['message']))\n",
        "\n",
        "  for i in range (len(X['message'])):\n",
        "  #for chaque mot n dans i mail, on recup phi_n_y1 pour le mot n, je multiplie ces proba entr elle P( x | y = 1)\n",
        "    ####################################\n",
        "    produit = 1\n",
        "    for n in range(N):\n",
        "      if matrix_x[i][n] > 0:\n",
        "        produit = produit * phi_n_y1[n]\n",
        "\n",
        "    if produit != 1:\n",
        "        P_X_sachant_Y1[i] = produit\n",
        "\n",
        "    ####################################\n",
        "  #for chaque mot n dans i mail, on recup phi_n_y0 pour le mot n, je multiplie ces proba entr elle P( x | y = 0)\n",
        "    ####################################\n",
        "    produit = 1\n",
        "    for n in range(N):\n",
        "      if (matrix_x[i][n] > 0):\n",
        "        produit =  produit * phi_n_y0[n]\n",
        "     \n",
        "    if produit != 1:\n",
        "        P_X_sachant_Y0[i] = produit\n",
        "    ####################################\n",
        "\n",
        "    if P_X_sachant_Y1[i] == 0:\n",
        "      P_X_sachant_Y1[i] = proba_minimal_Y1\n",
        "    if P_X_sachant_Y0[0] == 0:\n",
        "      P_X_sachant_Y0[i] = proba_minimal_Y0\n",
        "\n",
        "  # formule 30 P( y = 0 | x ) et P( y = 1 | x)\n",
        "  P_Y1_sachant_X =   (P_X_sachant_Y1 * phi_y)/ (P_X_sachant_Y1 * phi_y + P_X_sachant_Y0 * (1 - phi_y))\n",
        "  P_Y0_sachant_X =   (P_X_sachant_Y0 * (1 - phi_y)) / (P_X_sachant_Y1 * phi_y + P_X_sachant_Y0 * (1 - phi_y))\n",
        "\n",
        "  #formule 28 pour faire la prediction argmax y P(x|y), on compare les deux listes terme à terme \n",
        "  prediction = P_X_sachant_Y0 = np.zeros(len(X['message']))\n",
        "  for i in range(len(X['message'])):\n",
        "    if P_Y1_sachant_X[i] > P_Y0_sachant_X[i]:\n",
        "      prediction[i] = 1\n",
        "    else:\n",
        "      prediction[i] = 0\n",
        "\n",
        "  return prediction\n",
        "  \n",
        "  "
      ],
      "execution_count": null,
      "outputs": []
    },
    {
      "cell_type": "code",
      "metadata": {
        "id": "nFr8Yw04xDe-"
      },
      "source": [
        "prediction =predict(X_test,test_matrix,phi_y,phi_n_y1,phi_n_y0, alpha)"
      ],
      "execution_count": null,
      "outputs": []
    },
    {
      "cell_type": "code",
      "metadata": {
        "colab": {
          "base_uri": "https://localhost:8080/"
        },
        "id": "ZcadYtGSkrf6",
        "outputId": "bf167e98-3da5-4b5f-8b89-3ef2289efedf"
      },
      "source": [
        "print(prediction)"
      ],
      "execution_count": null,
      "outputs": [
        {
          "output_type": "stream",
          "name": "stdout",
          "text": [
            "[0. 1. 0. ... 0. 0. 0.]\n"
          ]
        }
      ]
    },
    {
      "cell_type": "markdown",
      "metadata": {
        "id": "T8GQkYmWAj3j"
      },
      "source": [
        "## 7)Measure the spam-filtering performance for each approach through the confusion matrix, precision, and recall.\n"
      ]
    },
    {
      "cell_type": "code",
      "metadata": {
        "colab": {
          "base_uri": "https://localhost:8080/"
        },
        "id": "Ilj55WN1Z81S",
        "outputId": "8036181d-beb5-4f32-9522-62b49e480692"
      },
      "source": [
        "accuracy = 0\n",
        "\n",
        "for i in range(len(prediction)):\n",
        "  if prediction[i] == (X_test['type'].iloc[i]):\n",
        "    accuracy += 1\n",
        "print(\"accuracy\",accuracy/len(prediction))"
      ],
      "execution_count": null,
      "outputs": [
        {
          "output_type": "stream",
          "name": "stdout",
          "text": [
            "accuracy 0.6732471068754254\n"
          ]
        }
      ]
    },
    {
      "cell_type": "code",
      "metadata": {
        "colab": {
          "base_uri": "https://localhost:8080/"
        },
        "id": "GNcw_7ZUf-UV",
        "outputId": "4f330575-ae92-4cd6-ff07-72b19734ab7c"
      },
      "source": [
        "# Confusion matrix\n",
        "accuracy = 0\n",
        "TP = 0\n",
        "TN = 0\n",
        "FP = 0\n",
        "FN = 0\n",
        "for i in range(len(prediction)):\n",
        "  if prediction[i] == 0:\n",
        "    if X_test['type'].iloc[i] == 0:\n",
        "      TN = TN +1\n",
        "    else:\n",
        "      FN = FN + 1\n",
        "    \n",
        "  if prediction[i] == 1:\n",
        "    if X_test['type'].iloc[i] == 0:\n",
        "      FP = FP +1\n",
        "    else:\n",
        "      TP = TP +1\n",
        "print(TP,FP,TN,FN)\n",
        "precision = TP / (TP + FP)\n",
        "recall = TP / (TP + FN)\n",
        "\n",
        "print(precision,recall)"
      ],
      "execution_count": null,
      "outputs": [
        {
          "output_type": "stream",
          "name": "stdout",
          "text": [
            "19 297 970 183\n",
            "0.060126582278481014 0.09405940594059406\n"
          ]
        }
      ]
    },
    {
      "cell_type": "markdown",
      "metadata": {
        "id": "7_zv6wweAvkl"
      },
      "source": [
        "## 8. Discuss your results."
      ]
    },
    {
      "cell_type": "markdown",
      "metadata": {
        "id": "vekjm4DlzqkJ"
      },
      "source": [
        "The confusion result seem to be broken, the rest is working.\n",
        "\n",
        "Our prediction function need to be improved, the laplace smoothing is not done properly or can at least be improved.\n",
        "\n",
        "a very small alpha allow us to reach a high accuracy of 65 percent. a big alpha gives us really bad result\n",
        "\n",
        "We have created to much variable that are not useful.\n",
        "\n",
        "\n",
        "\n",
        "\n"
      ]
    }
  ]
}