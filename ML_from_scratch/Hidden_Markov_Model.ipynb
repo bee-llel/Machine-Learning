{
  "nbformat": 4,
  "nbformat_minor": 0,
  "metadata": {
    "colab": {
      "name": "Hidden_Markov_Model.ipynb",
      "provenance": [],
      "authorship_tag": "ABX9TyPifB0wnbdLBIjdvXLAHMkw",
      "include_colab_link": true
    },
    "kernelspec": {
      "name": "python3",
      "display_name": "Python 3"
    },
    "language_info": {
      "name": "python"
    }
  },
  "cells": [
    {
      "cell_type": "markdown",
      "metadata": {
        "id": "view-in-github",
        "colab_type": "text"
      },
      "source": [
        "<a href=\"https://colab.research.google.com/github/bee-llel/Machine-Learning/blob/master/Hidden_Markov_Model.ipynb\" target=\"_parent\"><img src=\"https://colab.research.google.com/assets/colab-badge.svg\" alt=\"Open In Colab\"/></a>"
      ]
    },
    {
      "cell_type": "code",
      "metadata": {
        "id": "fEbbfOBsH4CX"
      },
      "source": [
        "import numpy as np"
      ],
      "execution_count": 1,
      "outputs": []
    },
    {
      "cell_type": "code",
      "metadata": {
        "colab": {
          "base_uri": "https://localhost:8080/"
        },
        "id": "95P8mixiIU2_",
        "outputId": "52f1508a-c105-4aa5-9ffd-75850ec88edf"
      },
      "source": [
        "A = np.array([[1,0,0,0],[0.2,0.3,0.1,0.4],[0.2,0.5,0.2,0.1],[0.7,0.1,0.1,0.1]])\n",
        "B = np.array([[1,0,0,0,0],[0,0.3,0.4,0.1,0.2],[0,0.1,0.1,0.7,0.1],[0,0.5,0.2,0.1,0.2]])\n",
        "print(B)\n"
      ],
      "execution_count": 2,
      "outputs": [
        {
          "output_type": "stream",
          "name": "stdout",
          "text": [
            "[[1.  0.  0.  0.  0. ]\n",
            " [0.  0.3 0.4 0.1 0.2]\n",
            " [0.  0.1 0.1 0.7 0.1]\n",
            " [0.  0.5 0.2 0.1 0.2]]\n"
          ]
        }
      ]
    },
    {
      "cell_type": "markdown",
      "metadata": {
        "id": "xscaziVUM3DE"
      },
      "source": [
        "Initialization of alpha:"
      ]
    },
    {
      "cell_type": "code",
      "metadata": {
        "colab": {
          "base_uri": "https://localhost:8080/"
        },
        "id": "YFEcmNINJRC1",
        "outputId": "f91d6a1e-0bcc-4f5f-e656-a6cf3303351c"
      },
      "source": [
        "b = np.shape(B)\n",
        "T = b[1] #T=5\n",
        "J = b[0]#J=4\n",
        "\n",
        "#Initialisation\n",
        "alpha = np.zeros((J,T))\n",
        "alpha"
      ],
      "execution_count": 3,
      "outputs": [
        {
          "output_type": "execute_result",
          "data": {
            "text/plain": [
              "array([[0., 0., 0., 0., 0.],\n",
              "       [0., 0., 0., 0., 0.],\n",
              "       [0., 0., 0., 0., 0.],\n",
              "       [0., 0., 0., 0., 0.]])"
            ]
          },
          "metadata": {},
          "execution_count": 3
        }
      ]
    },
    {
      "cell_type": "code",
      "metadata": {
        "id": "PIb3LoxDLRxV"
      },
      "source": [
        "def forward(A,B):\n",
        "    b = np.shape(B)\n",
        "    T = b[1] #T=5\n",
        "    J = b[0]#J=4\n",
        "    alpha = np.zeros((J,T))\n",
        "    alpha[1,0]=1 #Initial state\n",
        "    k_array = np.array([0,1,3,2,0])\n",
        "    \n",
        "    for t in range(1,T):\n",
        "        for j in range(0,J):\n",
        "            somme = 0\n",
        "            k = k_array[t]\n",
        "            for i in range(0,J):\n",
        "                somme += alpha[i,t-1]*A[i,j]*B[j,k]\n",
        "            alpha[j,t] = somme\n",
        "    return alpha"
      ],
      "execution_count": 4,
      "outputs": []
    },
    {
      "cell_type": "code",
      "metadata": {
        "colab": {
          "base_uri": "https://localhost:8080/"
        },
        "id": "veRayg8yPMqo",
        "outputId": "6ea8ce7c-fff9-4a4f-ef7a-4425a8c73c4e"
      },
      "source": [
        "alpha = forward(A,B)\n",
        "alpha"
      ],
      "execution_count": 5,
      "outputs": [
        {
          "output_type": "execute_result",
          "data": {
            "text/plain": [
              "array([[0.0000e+00, 0.0000e+00, 0.0000e+00, 0.0000e+00, 1.8218e-03],\n",
              "       [1.0000e+00, 9.0000e-02, 5.2000e-03, 5.1920e-03, 0.0000e+00],\n",
              "       [0.0000e+00, 1.0000e-02, 2.1700e-02, 5.4300e-04, 0.0000e+00],\n",
              "       [0.0000e+00, 2.0000e-01, 5.7000e-03, 9.6400e-04, 0.0000e+00]])"
            ]
          },
          "metadata": {},
          "execution_count": 5
        }
      ]
    },
    {
      "cell_type": "code",
      "metadata": {
        "id": "vmsl2HCzShk5"
      },
      "source": [
        ""
      ],
      "execution_count": 5,
      "outputs": []
    }
  ]
}