{
  "nbformat": 4,
  "nbformat_minor": 0,
  "metadata": {
    "kernelspec": {
      "display_name": "Python 3",
      "language": "python",
      "name": "python3"
    },
    "language_info": {
      "codemirror_mode": {
        "name": "ipython",
        "version": 3
      },
      "file_extension": ".py",
      "mimetype": "text/x-python",
      "name": "python",
      "nbconvert_exporter": "python",
      "pygments_lexer": "ipython3",
      "version": "3.6.5"
    },
    "colab": {
      "name": "Assignment 3.ipynb",
      "provenance": [],
      "include_colab_link": true
    }
  },
  "cells": [
    {
      "cell_type": "markdown",
      "metadata": {
        "id": "view-in-github",
        "colab_type": "text"
      },
      "source": [
        "<a href=\"https://colab.research.google.com/github/bee-llel/Machine-Learning/blob/master/Assignment_3%3ALogistic%20Regression.ipynb\" target=\"_parent\"><img src=\"https://colab.research.google.com/assets/colab-badge.svg\" alt=\"Open In Colab\"/></a>"
      ]
    },
    {
      "cell_type": "markdown",
      "metadata": {
        "id": "Dg-ETmq38b4y"
      },
      "source": [
        "# Assignment 3: Logistic Regression\n"
      ]
    },
    {
      "cell_type": "markdown",
      "metadata": {
        "id": "TwCLWEAq8b45"
      },
      "source": [
        "## Problem statement\n",
        "\n",
        "You are working as a Data Scientist at a Finance company which proposes home loans. When a customer applies for a home loan, the company studies his demand to decide whether he/she is eligible or not.\n",
        "\n",
        "Your boss asks you to develop a decision-aid tool to automate the loan eligibility process. The tool is supposed to be given as input the information provided by the customer while filling his/her online loan application form. These information include customer's personal citeria such as Gender, Marital Status, Education, Number of Dependents, Income, Loan Amount, Credit History, etc... To develop the algorithm/model to be applied in the tool, you are given a data set containing historical information about applicants (**features**) as well as their loan status (**output** given as binary variable indicating whether or not a the loan was approved)."
      ]
    },
    {
      "cell_type": "markdown",
      "metadata": {
        "id": "Z5HSmHmu8b47"
      },
      "source": [
        "![image.png](attachment:image.png)"
      ]
    },
    {
      "cell_type": "markdown",
      "metadata": {
        "id": "cI2Bz0rT8b47"
      },
      "source": [
        "1- Load data"
      ]
    },
    {
      "cell_type": "code",
      "metadata": {
        "id": "J7wzP3ak8b48"
      },
      "source": [
        "# imports\n",
        "import warnings\n",
        "warnings.filterwarnings('ignore')\n",
        "import numpy as np\n",
        "import pandas as pd\n",
        "import matplotlib.pyplot as plt\n",
        "# show plots in the notebook\n",
        "%matplotlib inline"
      ],
      "execution_count": 1,
      "outputs": []
    },
    {
      "cell_type": "code",
      "metadata": {
        "scrolled": true,
        "id": "yE6ClIIs8b48"
      },
      "source": [
        "# load dataset\n",
        "\n",
        "# shape of df\n"
      ],
      "execution_count": null,
      "outputs": []
    },
    {
      "cell_type": "code",
      "metadata": {
        "id": "qhtqPS_88b49"
      },
      "source": [
        "assert df.shape == (614, 13)"
      ],
      "execution_count": null,
      "outputs": []
    },
    {
      "cell_type": "code",
      "metadata": {
        "id": "iydLsbga8b49"
      },
      "source": [
        "# head of df"
      ],
      "execution_count": null,
      "outputs": []
    },
    {
      "cell_type": "markdown",
      "metadata": {
        "id": "uJgbBKCv8b49"
      },
      "source": [
        "2- Remove the \"Loan_ID\" column, and then transform the \"Loan_Status\" feature from categorical into numerical values (Y ==> 1, N ==> 0)"
      ]
    },
    {
      "cell_type": "code",
      "metadata": {
        "id": "UMnMsXBV8b4-"
      },
      "source": [
        "# your code here"
      ],
      "execution_count": null,
      "outputs": []
    },
    {
      "cell_type": "code",
      "metadata": {
        "id": "LKbU05hP8b4-"
      },
      "source": [
        "assert df.shape == (614, 12); assert df[\"Loan_Status\"].dtype != 'O'"
      ],
      "execution_count": null,
      "outputs": []
    },
    {
      "cell_type": "markdown",
      "metadata": {
        "id": "NK97jfFw8b4-"
      },
      "source": [
        "## Data Exploration"
      ]
    },
    {
      "cell_type": "markdown",
      "metadata": {
        "id": "ODuONozu8b4-"
      },
      "source": [
        "3- Build a dataframe named `stats` displaying information about df columns. The index is the columns names and the columns are the following :\n",
        "\n",
        "* `type` : type of the column\n",
        "* `# null` : number of null values\n",
        "* `# unique` : number of unique values\n",
        "* `unique values` : unique values, concatenated as one text separated with ` - `. If the number of unique values is greater than equal 10 (>= 10), print only the the first *20* characters followed by `...`\n",
        "\n",
        "`stats` would look like this (only the last rows are displayed)\n",
        "\n",
        "![](img/stats.png)"
      ]
    },
    {
      "cell_type": "code",
      "metadata": {
        "id": "dKDU4kKr8b4_"
      },
      "source": [
        "# your code here"
      ],
      "execution_count": null,
      "outputs": []
    },
    {
      "cell_type": "code",
      "metadata": {
        "id": "pIL_DKFB8b4_"
      },
      "source": [
        "stats = # your code here\n",
        "stats"
      ],
      "execution_count": null,
      "outputs": []
    },
    {
      "cell_type": "markdown",
      "metadata": {
        "id": "gICxYK3Z8b4_"
      },
      "source": [
        "4- Fill the null values in the column **[Married]** by the most frequent one (which is \"Yes\"). Then, remove all the rows containing at least one NullValue."
      ]
    },
    {
      "cell_type": "code",
      "metadata": {
        "id": "Dcb1qJwx8b4_"
      },
      "source": [
        "# your code here\n",
        "print(df.shape)"
      ],
      "execution_count": null,
      "outputs": []
    },
    {
      "cell_type": "code",
      "metadata": {
        "id": "Mh6T3dY88b5A"
      },
      "source": [
        "assert df.isnull().sum().sum() == 0"
      ],
      "execution_count": null,
      "outputs": []
    },
    {
      "cell_type": "markdown",
      "metadata": {
        "id": "n_LPAyJ78b5A"
      },
      "source": [
        "# Data Visualization"
      ]
    },
    {
      "cell_type": "markdown",
      "metadata": {
        "id": "QqeE3a3A8b5A"
      },
      "source": [
        "5-1- Plot a **bar plot** of the column **Loan_Status** (% of each class). "
      ]
    },
    {
      "cell_type": "code",
      "metadata": {
        "scrolled": true,
        "id": "p20hlDuT8b5B"
      },
      "source": [
        "# your code here"
      ],
      "execution_count": null,
      "outputs": []
    },
    {
      "cell_type": "markdown",
      "metadata": {
        "id": "_cYwAHUJ8b5B"
      },
      "source": [
        "5-2- How many approved and non approved loans are there ? How much accuracy can you get if prediction is always equal to \"*1*\" ?"
      ]
    },
    {
      "cell_type": "code",
      "metadata": {
        "id": "RjSP4mnE8b5C"
      },
      "source": [
        "# your code here"
      ],
      "execution_count": null,
      "outputs": []
    },
    {
      "cell_type": "code",
      "metadata": {
        "id": "RYG_OPxj8b5C"
      },
      "source": [
        "# your answer here"
      ],
      "execution_count": null,
      "outputs": []
    },
    {
      "cell_type": "markdown",
      "metadata": {
        "id": "P68rTSqp8b5D"
      },
      "source": [
        "6-1- Create a function to be named **make_bar_plot**, which takes two parameters as input: a dataframe df (parameter 1) and a column name (parameter 2). The function must output a borplot of the approval rate `Loan_Status` by value of the column.\n",
        "\n",
        "Calling `make_bar_plot` on `Property_Area` should look like this\n",
        "\n",
        "![](img/bar_plot.png)"
      ]
    },
    {
      "cell_type": "code",
      "metadata": {
        "id": "Vf8HmFyv8b5D"
      },
      "source": [
        "def make_bar_plot(df, column):\n",
        "    # your code here"
      ],
      "execution_count": null,
      "outputs": []
    },
    {
      "cell_type": "code",
      "metadata": {
        "id": "Dyzuqg_S8b5D"
      },
      "source": [
        "make_bar_plot(df, 'Property_Area')"
      ],
      "execution_count": null,
      "outputs": []
    },
    {
      "cell_type": "markdown",
      "metadata": {
        "id": "HK5dJKGb8b5E"
      },
      "source": [
        "6-2- Create a function to be named **make_box_plot**, which takes two parameters as input: a dataframe df (parameter 1) and a column name (parameter 2). The function must output a boxplot of the distribution of the column by `Loan_Status`.\n",
        "\n",
        "Calling `make_box_plot` on `ApplicantIncome` should look like this\n",
        "\n",
        "![](img/box_plot.png)"
      ]
    },
    {
      "cell_type": "code",
      "metadata": {
        "id": "_0ZjyzP38b5E"
      },
      "source": [
        "def make_box_plot(df, column):  \n",
        "    # your code here"
      ],
      "execution_count": null,
      "outputs": []
    },
    {
      "cell_type": "code",
      "metadata": {
        "id": "rwrspqiM8b5E"
      },
      "source": [
        "make_box_plot(df, 'ApplicantIncome')"
      ],
      "execution_count": null,
      "outputs": []
    },
    {
      "cell_type": "markdown",
      "metadata": {
        "id": "Mm7ym3wM8b5E"
      },
      "source": [
        "6-3- Loop through df columns, except for the target and make a plot depending:\n",
        "\n",
        "* if the column is numeric, call `make_box_plot`\n",
        "* else, call `make_bar_plot`"
      ]
    },
    {
      "cell_type": "code",
      "metadata": {
        "id": "BUqPa-RN8b5F"
      },
      "source": [
        "for col in # your code here:\n",
        "    print(f'****************** {col} *******************')\n",
        "    # your code here"
      ],
      "execution_count": null,
      "outputs": []
    },
    {
      "cell_type": "markdown",
      "metadata": {
        "id": "Aw6Ax2kC8b5F"
      },
      "source": [
        "# Model Training & Evaluation"
      ]
    },
    {
      "cell_type": "markdown",
      "metadata": {
        "id": "qHp5ExJq8b5F"
      },
      "source": [
        "7-1- Use [pandas.get_dummies](https://pandas.pydata.org/pandas-docs/stable/generated/pandas.get_dummies.html) to transform `Property_Area` and `Dependents` into dummy variables"
      ]
    },
    {
      "cell_type": "code",
      "metadata": {
        "scrolled": true,
        "id": "9AA2JX8X8b5F"
      },
      "source": [
        "# your code here"
      ],
      "execution_count": null,
      "outputs": []
    },
    {
      "cell_type": "markdown",
      "metadata": {
        "id": "NYT3aNI_8b5F"
      },
      "source": [
        "print the head of df"
      ]
    },
    {
      "cell_type": "code",
      "metadata": {
        "id": "BiVjvZHJ8b5G"
      },
      "source": [
        "# your code here"
      ],
      "execution_count": null,
      "outputs": []
    },
    {
      "cell_type": "code",
      "metadata": {
        "id": "5Zg4F63N8b5G"
      },
      "source": [
        "assert df.shape == (480, 17)"
      ],
      "execution_count": null,
      "outputs": []
    },
    {
      "cell_type": "markdown",
      "metadata": {
        "id": "5Upa-0HC8b5G"
      },
      "source": [
        "7-2- Use `pandas.Categorical` (as seen in *Titanic* notebook) to transform the remaining text columns of df into numerical ones"
      ]
    },
    {
      "cell_type": "code",
      "metadata": {
        "id": "s2rqob4w8b5G"
      },
      "source": [
        "# your code here"
      ],
      "execution_count": null,
      "outputs": []
    },
    {
      "cell_type": "markdown",
      "metadata": {
        "id": "ICadimOj8b5G"
      },
      "source": [
        "Print the head of df"
      ]
    },
    {
      "cell_type": "code",
      "metadata": {
        "scrolled": true,
        "id": "vTWblmq68b5G"
      },
      "source": [
        "# your code here"
      ],
      "execution_count": null,
      "outputs": []
    },
    {
      "cell_type": "code",
      "metadata": {
        "id": "p-qakPto8b5H"
      },
      "source": [
        "assert 'object' not in [df[f].dtype for f in df.columns]"
      ],
      "execution_count": null,
      "outputs": []
    },
    {
      "cell_type": "markdown",
      "metadata": {
        "id": "_UOHGBsb8b5H"
      },
      "source": [
        "8-1 Load the target variable \"Loan_Status\" into a dataframe and call it y. Then, load the features into a second dataframe and call it X. "
      ]
    },
    {
      "cell_type": "code",
      "metadata": {
        "id": "N3W2wfLe8b5H"
      },
      "source": [
        "y = # your code here\n",
        "X = # your code here\n",
        "print (X.columns)"
      ],
      "execution_count": null,
      "outputs": []
    },
    {
      "cell_type": "markdown",
      "metadata": {
        "id": "cj0jV44c8b5H"
      },
      "source": [
        "8-2 Split the data set into a training set and a test set. Set: test_size=0.3, random_state=123"
      ]
    },
    {
      "cell_type": "code",
      "metadata": {
        "id": "fCvbiklr8b5H"
      },
      "source": [
        "# your code here\n",
        "\n",
        "print (\"train shape\", # your code here)\n",
        "print (\"test shape\", # your code here)"
      ],
      "execution_count": null,
      "outputs": []
    },
    {
      "cell_type": "markdown",
      "metadata": {
        "id": "nbDi-9rC8b5I"
      },
      "source": [
        "8-3- Fit a logistic model to the training set, and then report the training and testing accuracies"
      ]
    },
    {
      "cell_type": "code",
      "metadata": {
        "id": "95lv7u0o8b5I"
      },
      "source": [
        "# your code here\n",
        "\n",
        "train_score = # your code here\n",
        "test_score = # your code here\n",
        "print ('train accuracy =', # your code here)\n",
        "print ('test accuracy =', # your code here)"
      ],
      "execution_count": null,
      "outputs": []
    },
    {
      "cell_type": "markdown",
      "metadata": {
        "id": "ozzXpH2s8b5I"
      },
      "source": [
        "9- Print the confusion matrix and compute the **precision** for class **0**, **recall** for class **1** using the formulas learned in class (you should not use metrics.classification_report)"
      ]
    },
    {
      "cell_type": "code",
      "metadata": {
        "id": "h6glTu_Z8b5J"
      },
      "source": [
        "# your code here"
      ],
      "execution_count": null,
      "outputs": []
    },
    {
      "cell_type": "code",
      "metadata": {
        "id": "NLImGk_D8b5J"
      },
      "source": [
        "precision_0 = # your code here\n",
        "recall_1 = # your code here\n",
        "print ('precision_0 =', # your code here)\n",
        "print ('recall_1 =',# your code here)"
      ],
      "execution_count": null,
      "outputs": []
    },
    {
      "cell_type": "markdown",
      "metadata": {
        "id": "mGhGA9Z88b5J"
      },
      "source": [
        "10- Use 5-fold [cross-validation](https://scikit-learn.org/stable/modules/generated/sklearn.model_selection.cross_val_score.html) and choose `f1` for scoring. Print the mean and standard deviation of scores"
      ]
    },
    {
      "cell_type": "code",
      "metadata": {
        "id": "kz8bIYYu8b5J"
      },
      "source": [
        "# evaluate the model using 5-fold cross-validation\n",
        "# your code here\n",
        "scores = # your code here\n",
        "print (scores)\n",
        "print ('scores mean =', '# your code here', 'scores std =', '# your code here')"
      ],
      "execution_count": null,
      "outputs": []
    },
    {
      "cell_type": "markdown",
      "metadata": {
        "id": "Lb915VCB8b5K"
      },
      "source": [
        "how is the mean `f1_score` compared to the first one with train_test_split"
      ]
    },
    {
      "cell_type": "markdown",
      "metadata": {
        "id": "IufTKANu8b5K"
      },
      "source": [
        "Looks good. It's still performing at the same range of f1 score."
      ]
    },
    {
      "cell_type": "code",
      "metadata": {
        "id": "d6Y3XFad8b5L"
      },
      "source": [
        ""
      ],
      "execution_count": null,
      "outputs": []
    }
  ]
}