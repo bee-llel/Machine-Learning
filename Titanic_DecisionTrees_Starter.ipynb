{
  "nbformat": 4,
  "nbformat_minor": 0,
  "metadata": {
    "anaconda-cloud": {},
    "kernelspec": {
      "display_name": "ml_week2",
      "language": "python",
      "name": "ml_week2"
    },
    "language_info": {
      "codemirror_mode": {
        "name": "ipython",
        "version": 3
      },
      "file_extension": ".py",
      "mimetype": "text/x-python",
      "name": "python",
      "nbconvert_exporter": "python",
      "pygments_lexer": "ipython3",
      "version": "3.7.9"
    },
    "colab": {
      "name": "Titanic_DecisionTrees_Starter.ipynb",
      "provenance": [],
      "include_colab_link": true
    }
  },
  "cells": [
    {
      "cell_type": "markdown",
      "metadata": {
        "id": "view-in-github",
        "colab_type": "text"
      },
      "source": [
        "<a href=\"https://colab.research.google.com/github/bee-llel/Machine-Learning/blob/master/Titanic_DecisionTrees_Starter.ipynb\" target=\"_parent\"><img src=\"https://colab.research.google.com/assets/colab-badge.svg\" alt=\"Open In Colab\"/></a>"
      ]
    },
    {
      "cell_type": "markdown",
      "metadata": {
        "id": "PT9QptpvNMhs"
      },
      "source": [
        "# Predict survival on the Titanic\n",
        "In this Lab, we ask you to apply the tools of machine learning to predict which passengers survived the tragedy"
      ]
    },
    {
      "cell_type": "markdown",
      "metadata": {
        "id": "rb9P0MovNMhz"
      },
      "source": [
        "### Dataset\n",
        "The dataset contains 891 observations of 12 variables:\n",
        "* **PassengerId**: Unique ID for each passenger\n",
        "* **Survived**: Survival (0 = No; 1 = Yes)\n",
        "* **Pclass**: Passenger Class (1 = 1st; 2 = 2nd; 3 = 3rd)\n",
        "* **Name**: Name\n",
        "* **Sex**: Sex\n",
        "* **Age**: Age\n",
        "* **Sibsp**: Number of Siblings/Spouses Aboard\n",
        "* **Parch**: Number of Parents/Children Aboard\n",
        "* **Ticket**: Ticket Number\n",
        "* **Fare**: Passenger Fare\n",
        "* **Cabin**: Cabin\n",
        "* **Embarked** Port of Embarkation (C = Cherbourg; Q = Queenstown; S = Southampton)"
      ]
    },
    {
      "cell_type": "code",
      "metadata": {
        "id": "5sOiqYa3NMh0"
      },
      "source": [
        "# imports\n",
        "import warnings\n",
        "warnings.filterwarnings('ignore')\n",
        "import pandas as pd\n",
        "import numpy as np"
      ],
      "execution_count": 1,
      "outputs": []
    },
    {
      "cell_type": "code",
      "metadata": {
        "colab": {
          "base_uri": "https://localhost:8080/"
        },
        "id": "CnAY332qNMh0",
        "outputId": "448129b5-6716-406e-9157-ae44118a95f1"
      },
      "source": [
        "titanic = pd.read_csv(\"titanic.csv\" )\n",
        "titanic.drop('Cabin', axis=1, inplace=True) # Drop this column because it contains a lot of Nan values\n",
        "titanic[\"Age\"].fillna(titanic[\"Age\"].median(),inplace=True)\n",
        "titanic[\"Embarked\"].fillna(\"S\", inplace = True)\n",
        "print ('survival rate =', titanic.Survived.mean())"
      ],
      "execution_count": null,
      "outputs": [
        {
          "output_type": "stream",
          "text": [
            "survival rate = 0.3838383838383838\n"
          ],
          "name": "stdout"
        }
      ]
    },
    {
      "cell_type": "markdown",
      "metadata": {
        "id": "vvfk2aCHNMh1"
      },
      "source": [
        "## Model training"
      ]
    },
    {
      "cell_type": "code",
      "metadata": {
        "colab": {
          "base_uri": "https://localhost:8080/",
          "height": 272
        },
        "id": "-ETeUaeUNMh2",
        "outputId": "60378440-4527-4e31-a529-56f681505ee2"
      },
      "source": [
        "# Some of the columns don't have predictive power, so let's specify which ones are included for prediction\n",
        "predictors = [\"Pclass\", \"Sex\", \"Age\", 'SibSp' ,'Parch', \"Fare\", \"Embarked\"]  \n",
        "# We need now to convert text columns in predictors to numerical ones\n",
        "for col in predictors: # Loop through all columns in predictors\n",
        "    if titanic[col].dtype == 'object':  # check if column's type is object (text)\n",
        "        titanic[col] = pd.Categorical(titanic[col]).codes  # convert text to numerical\n",
        "\n",
        "titanic.head()"
      ],
      "execution_count": null,
      "outputs": [
        {
          "output_type": "execute_result",
          "data": {
            "text/html": [
              "<div>\n",
              "<style scoped>\n",
              "    .dataframe tbody tr th:only-of-type {\n",
              "        vertical-align: middle;\n",
              "    }\n",
              "\n",
              "    .dataframe tbody tr th {\n",
              "        vertical-align: top;\n",
              "    }\n",
              "\n",
              "    .dataframe thead th {\n",
              "        text-align: right;\n",
              "    }\n",
              "</style>\n",
              "<table border=\"1\" class=\"dataframe\">\n",
              "  <thead>\n",
              "    <tr style=\"text-align: right;\">\n",
              "      <th></th>\n",
              "      <th>PassengerId</th>\n",
              "      <th>Survived</th>\n",
              "      <th>Pclass</th>\n",
              "      <th>Name</th>\n",
              "      <th>Sex</th>\n",
              "      <th>Age</th>\n",
              "      <th>SibSp</th>\n",
              "      <th>Parch</th>\n",
              "      <th>Ticket</th>\n",
              "      <th>Fare</th>\n",
              "      <th>Embarked</th>\n",
              "    </tr>\n",
              "  </thead>\n",
              "  <tbody>\n",
              "    <tr>\n",
              "      <th>0</th>\n",
              "      <td>1</td>\n",
              "      <td>0</td>\n",
              "      <td>3</td>\n",
              "      <td>Braund, Mr. Owen Harris</td>\n",
              "      <td>1</td>\n",
              "      <td>22.0</td>\n",
              "      <td>1</td>\n",
              "      <td>0</td>\n",
              "      <td>A/5 21171</td>\n",
              "      <td>7.2500</td>\n",
              "      <td>2</td>\n",
              "    </tr>\n",
              "    <tr>\n",
              "      <th>1</th>\n",
              "      <td>2</td>\n",
              "      <td>1</td>\n",
              "      <td>1</td>\n",
              "      <td>Cumings, Mrs. John Bradley (Florence Briggs Th...</td>\n",
              "      <td>0</td>\n",
              "      <td>38.0</td>\n",
              "      <td>1</td>\n",
              "      <td>0</td>\n",
              "      <td>PC 17599</td>\n",
              "      <td>71.2833</td>\n",
              "      <td>0</td>\n",
              "    </tr>\n",
              "    <tr>\n",
              "      <th>2</th>\n",
              "      <td>3</td>\n",
              "      <td>1</td>\n",
              "      <td>3</td>\n",
              "      <td>Heikkinen, Miss. Laina</td>\n",
              "      <td>0</td>\n",
              "      <td>26.0</td>\n",
              "      <td>0</td>\n",
              "      <td>0</td>\n",
              "      <td>STON/O2. 3101282</td>\n",
              "      <td>7.9250</td>\n",
              "      <td>2</td>\n",
              "    </tr>\n",
              "    <tr>\n",
              "      <th>3</th>\n",
              "      <td>4</td>\n",
              "      <td>1</td>\n",
              "      <td>1</td>\n",
              "      <td>Futrelle, Mrs. Jacques Heath (Lily May Peel)</td>\n",
              "      <td>0</td>\n",
              "      <td>35.0</td>\n",
              "      <td>1</td>\n",
              "      <td>0</td>\n",
              "      <td>113803</td>\n",
              "      <td>53.1000</td>\n",
              "      <td>2</td>\n",
              "    </tr>\n",
              "    <tr>\n",
              "      <th>4</th>\n",
              "      <td>5</td>\n",
              "      <td>0</td>\n",
              "      <td>3</td>\n",
              "      <td>Allen, Mr. William Henry</td>\n",
              "      <td>1</td>\n",
              "      <td>35.0</td>\n",
              "      <td>0</td>\n",
              "      <td>0</td>\n",
              "      <td>373450</td>\n",
              "      <td>8.0500</td>\n",
              "      <td>2</td>\n",
              "    </tr>\n",
              "  </tbody>\n",
              "</table>\n",
              "</div>"
            ],
            "text/plain": [
              "   PassengerId  Survived  Pclass  ...            Ticket     Fare  Embarked\n",
              "0            1         0       3  ...         A/5 21171   7.2500         2\n",
              "1            2         1       1  ...          PC 17599  71.2833         0\n",
              "2            3         1       3  ...  STON/O2. 3101282   7.9250         2\n",
              "3            4         1       1  ...            113803  53.1000         2\n",
              "4            5         0       3  ...            373450   8.0500         2\n",
              "\n",
              "[5 rows x 11 columns]"
            ]
          },
          "metadata": {
            "tags": []
          },
          "execution_count": 5
        }
      ]
    },
    {
      "cell_type": "code",
      "metadata": {
        "colab": {
          "base_uri": "https://localhost:8080/"
        },
        "id": "tP6fUBXjNMh2",
        "outputId": "63815eb0-0136-4ec6-819e-ba5af4520dab"
      },
      "source": [
        "# Split the data into a training set and a testing set\n",
        "from sklearn.model_selection import train_test_split \n",
        "X_train, X_test, y_train, y_test = train_test_split(titanic[predictors], titanic['Survived'], test_size=0.3, random_state=1)\n",
        "\n",
        "from sklearn.linear_model import LogisticRegression\n",
        "clf = LogisticRegression(random_state=1)\n",
        "clf.fit(X_train, y_train)\n",
        "train_score = clf.score(X_train, y_train)\n",
        "print ('train accuracy =', clf.score(X_train, y_train))\n",
        "\n",
        "from sklearn.model_selection import cross_val_score\n",
        "scores = cross_val_score(clf, titanic[predictors], titanic[\"Survived\"], scoring='accuracy', cv=5)\n",
        "print('cross validation accuracy =', scores.mean())"
      ],
      "execution_count": null,
      "outputs": [
        {
          "output_type": "stream",
          "text": [
            "train accuracy = 0.8073836276083467\n",
            "cross validation accuracy = 0.7890025735986442\n"
          ],
          "name": "stdout"
        }
      ]
    },
    {
      "cell_type": "markdown",
      "metadata": {
        "collapsed": true,
        "id": "hH1pfe2oNMh2"
      },
      "source": [
        " # Decision Trees"
      ]
    },
    {
      "cell_type": "markdown",
      "metadata": {
        "id": "L10oCLvmNMh3"
      },
      "source": [
        "Let's start with one single tree"
      ]
    },
    {
      "cell_type": "code",
      "metadata": {
        "id": "K5PQKaBONMh3",
        "colab": {
          "base_uri": "https://localhost:8080/"
        },
        "outputId": "6b6ed70f-d6d3-46d7-be3b-612383153002"
      },
      "source": [
        "# import from: http://scikit-learn.org/stable/modules/generated/sklearn.tree.DecisionTreeClassifier.html#sklearn.tree.DecisionTreeClassifier\n",
        "from sklearn.tree import DecisionTreeClassifier\n",
        "# your code here\n",
        "clf_dt = DecisionTreeClassifier(random_state=1)\n",
        "clf_dt.fit(X_train,y_train)\n",
        "train_score = clf_dt.score(X_train, y_train)\n",
        "test_score = clf_dt.score(X_test,y_test)\n",
        "# your code here\n",
        "print ('train accuracy =', train_score)\n",
        "print ('test accuracy =', test_score)"
      ],
      "execution_count": 21,
      "outputs": [
        {
          "output_type": "stream",
          "text": [
            "train accuracy = 0.9887640449438202\n",
            "test accuracy = 0.7574626865671642\n"
          ],
          "name": "stdout"
        }
      ]
    },
    {
      "cell_type": "markdown",
      "metadata": {
        "id": "hnaXwRz5NMh3"
      },
      "source": [
        "Predictions are obtained in the same way of Logistic Regression"
      ]
    },
    {
      "cell_type": "code",
      "metadata": {
        "collapsed": true,
        "id": "InIXSSWdNMh4",
        "colab": {
          "base_uri": "https://localhost:8080/"
        },
        "outputId": "794f3e92-b3e0-4bd8-80e8-6e6dd2ebdd22"
      },
      "source": [
        "y_pred = clf_dt.predict(X_test) # your code here\n",
        "print (y_pred)"
      ],
      "execution_count": 13,
      "outputs": [
        {
          "output_type": "stream",
          "text": [
            "[1 0 1 1 1 0 0 1 0 1 0 0 0 0 1 0 0 0 0 0 0 0 1 0 0 0 1 1 0 1 0 0 1 0 0 0 1\n",
            " 0 1 0 0 0 1 0 1 0 0 0 1 1 1 1 1 0 0 0 0 0 0 0 0 0 0 0 1 0 0 0 1 0 0 0 0 0\n",
            " 1 0 1 0 0 1 0 0 0 0 0 0 0 0 0 1 0 0 0 1 0 0 0 1 0 0 0 0 1 0 1 0 0 0 0 0 1\n",
            " 1 0 0 0 0 0 0 1 0 1 1 0 0 1 1 1 1 0 0 0 0 1 0 1 1 1 0 0 1 1 0 1 0 0 0 1 0\n",
            " 0 0 1 0 0 0 0 1 0 0 1 0 0 0 1 1 0 0 1 0 1 0 1 0 1 0 1 0 0 0 1 0 1 1 0 0 1\n",
            " 0 0 1 0 1 0 1 1 1 0 1 0 1 0 0 0 1 0 1 0 0 1 0 0 0 1 0 0 1 0 0 0 1 1 0 0 0\n",
            " 1 1 0 0 1 1 1 0 1 0 1 0 0 0 0 1 0 0 0 0 0 1 0 1 1 1 0 1 0 0 1 1 1 1 1 1 0\n",
            " 0 1 0 1 0 0 0 0 1]\n"
          ],
          "name": "stdout"
        }
      ]
    },
    {
      "cell_type": "code",
      "metadata": {
        "collapsed": true,
        "id": "k1URjuyPNMh4",
        "colab": {
          "base_uri": "https://localhost:8080/"
        },
        "outputId": "9ba76651-1e91-4328-bb4f-f77f6a893660"
      },
      "source": [
        "y_prob =  clf_dt.predict_proba(X_test)# your code here\n",
        "print (y_prob)"
      ],
      "execution_count": 15,
      "outputs": [
        {
          "output_type": "stream",
          "text": [
            "[[0.   1.  ]\n",
            " [1.   0.  ]\n",
            " [0.   1.  ]\n",
            " [0.   1.  ]\n",
            " [0.   1.  ]\n",
            " [1.   0.  ]\n",
            " [1.   0.  ]\n",
            " [0.   1.  ]\n",
            " [1.   0.  ]\n",
            " [0.   1.  ]\n",
            " [1.   0.  ]\n",
            " [1.   0.  ]\n",
            " [1.   0.  ]\n",
            " [1.   0.  ]\n",
            " [0.25 0.75]\n",
            " [1.   0.  ]\n",
            " [1.   0.  ]\n",
            " [1.   0.  ]\n",
            " [1.   0.  ]\n",
            " [1.   0.  ]\n",
            " [0.5  0.5 ]\n",
            " [1.   0.  ]\n",
            " [0.   1.  ]\n",
            " [1.   0.  ]\n",
            " [1.   0.  ]\n",
            " [1.   0.  ]\n",
            " [0.   1.  ]\n",
            " [0.   1.  ]\n",
            " [1.   0.  ]\n",
            " [0.   1.  ]\n",
            " [1.   0.  ]\n",
            " [1.   0.  ]\n",
            " [0.   1.  ]\n",
            " [1.   0.  ]\n",
            " [1.   0.  ]\n",
            " [1.   0.  ]\n",
            " [0.   1.  ]\n",
            " [1.   0.  ]\n",
            " [0.   1.  ]\n",
            " [1.   0.  ]\n",
            " [1.   0.  ]\n",
            " [1.   0.  ]\n",
            " [0.   1.  ]\n",
            " [1.   0.  ]\n",
            " [0.   1.  ]\n",
            " [1.   0.  ]\n",
            " [1.   0.  ]\n",
            " [1.   0.  ]\n",
            " [0.   1.  ]\n",
            " [0.   1.  ]\n",
            " [0.   1.  ]\n",
            " [0.   1.  ]\n",
            " [0.   1.  ]\n",
            " [1.   0.  ]\n",
            " [1.   0.  ]\n",
            " [1.   0.  ]\n",
            " [1.   0.  ]\n",
            " [1.   0.  ]\n",
            " [1.   0.  ]\n",
            " [1.   0.  ]\n",
            " [1.   0.  ]\n",
            " [0.8  0.2 ]\n",
            " [1.   0.  ]\n",
            " [1.   0.  ]\n",
            " [0.   1.  ]\n",
            " [1.   0.  ]\n",
            " [1.   0.  ]\n",
            " [1.   0.  ]\n",
            " [0.   1.  ]\n",
            " [1.   0.  ]\n",
            " [1.   0.  ]\n",
            " [1.   0.  ]\n",
            " [1.   0.  ]\n",
            " [1.   0.  ]\n",
            " [0.   1.  ]\n",
            " [1.   0.  ]\n",
            " [0.   1.  ]\n",
            " [1.   0.  ]\n",
            " [1.   0.  ]\n",
            " [0.   1.  ]\n",
            " [1.   0.  ]\n",
            " [1.   0.  ]\n",
            " [1.   0.  ]\n",
            " [1.   0.  ]\n",
            " [1.   0.  ]\n",
            " [1.   0.  ]\n",
            " [1.   0.  ]\n",
            " [1.   0.  ]\n",
            " [1.   0.  ]\n",
            " [0.   1.  ]\n",
            " [1.   0.  ]\n",
            " [1.   0.  ]\n",
            " [1.   0.  ]\n",
            " [0.25 0.75]\n",
            " [1.   0.  ]\n",
            " [1.   0.  ]\n",
            " [1.   0.  ]\n",
            " [0.   1.  ]\n",
            " [1.   0.  ]\n",
            " [1.   0.  ]\n",
            " [1.   0.  ]\n",
            " [1.   0.  ]\n",
            " [0.   1.  ]\n",
            " [1.   0.  ]\n",
            " [0.   1.  ]\n",
            " [1.   0.  ]\n",
            " [1.   0.  ]\n",
            " [1.   0.  ]\n",
            " [1.   0.  ]\n",
            " [1.   0.  ]\n",
            " [0.   1.  ]\n",
            " [0.   1.  ]\n",
            " [1.   0.  ]\n",
            " [1.   0.  ]\n",
            " [1.   0.  ]\n",
            " [1.   0.  ]\n",
            " [1.   0.  ]\n",
            " [1.   0.  ]\n",
            " [0.   1.  ]\n",
            " [1.   0.  ]\n",
            " [0.   1.  ]\n",
            " [0.   1.  ]\n",
            " [1.   0.  ]\n",
            " [1.   0.  ]\n",
            " [0.   1.  ]\n",
            " [0.   1.  ]\n",
            " [0.   1.  ]\n",
            " [0.   1.  ]\n",
            " [1.   0.  ]\n",
            " [1.   0.  ]\n",
            " [1.   0.  ]\n",
            " [0.5  0.5 ]\n",
            " [0.   1.  ]\n",
            " [1.   0.  ]\n",
            " [0.   1.  ]\n",
            " [0.   1.  ]\n",
            " [0.   1.  ]\n",
            " [1.   0.  ]\n",
            " [1.   0.  ]\n",
            " [0.   1.  ]\n",
            " [0.   1.  ]\n",
            " [1.   0.  ]\n",
            " [0.   1.  ]\n",
            " [1.   0.  ]\n",
            " [1.   0.  ]\n",
            " [1.   0.  ]\n",
            " [0.   1.  ]\n",
            " [1.   0.  ]\n",
            " [1.   0.  ]\n",
            " [1.   0.  ]\n",
            " [0.   1.  ]\n",
            " [1.   0.  ]\n",
            " [1.   0.  ]\n",
            " [1.   0.  ]\n",
            " [1.   0.  ]\n",
            " [0.   1.  ]\n",
            " [1.   0.  ]\n",
            " [1.   0.  ]\n",
            " [0.   1.  ]\n",
            " [1.   0.  ]\n",
            " [1.   0.  ]\n",
            " [1.   0.  ]\n",
            " [0.   1.  ]\n",
            " [0.   1.  ]\n",
            " [1.   0.  ]\n",
            " [1.   0.  ]\n",
            " [0.   1.  ]\n",
            " [1.   0.  ]\n",
            " [0.   1.  ]\n",
            " [1.   0.  ]\n",
            " [0.   1.  ]\n",
            " [1.   0.  ]\n",
            " [0.   1.  ]\n",
            " [1.   0.  ]\n",
            " [0.   1.  ]\n",
            " [1.   0.  ]\n",
            " [1.   0.  ]\n",
            " [1.   0.  ]\n",
            " [0.   1.  ]\n",
            " [1.   0.  ]\n",
            " [0.   1.  ]\n",
            " [0.   1.  ]\n",
            " [1.   0.  ]\n",
            " [1.   0.  ]\n",
            " [0.   1.  ]\n",
            " [1.   0.  ]\n",
            " [1.   0.  ]\n",
            " [0.   1.  ]\n",
            " [1.   0.  ]\n",
            " [0.   1.  ]\n",
            " [1.   0.  ]\n",
            " [0.   1.  ]\n",
            " [0.25 0.75]\n",
            " [0.   1.  ]\n",
            " [1.   0.  ]\n",
            " [0.   1.  ]\n",
            " [1.   0.  ]\n",
            " [0.   1.  ]\n",
            " [1.   0.  ]\n",
            " [1.   0.  ]\n",
            " [1.   0.  ]\n",
            " [0.   1.  ]\n",
            " [1.   0.  ]\n",
            " [0.   1.  ]\n",
            " [1.   0.  ]\n",
            " [1.   0.  ]\n",
            " [0.   1.  ]\n",
            " [1.   0.  ]\n",
            " [1.   0.  ]\n",
            " [0.5  0.5 ]\n",
            " [0.   1.  ]\n",
            " [1.   0.  ]\n",
            " [0.8  0.2 ]\n",
            " [0.   1.  ]\n",
            " [1.   0.  ]\n",
            " [1.   0.  ]\n",
            " [1.   0.  ]\n",
            " [0.   1.  ]\n",
            " [0.   1.  ]\n",
            " [1.   0.  ]\n",
            " [1.   0.  ]\n",
            " [1.   0.  ]\n",
            " [0.   1.  ]\n",
            " [0.   1.  ]\n",
            " [1.   0.  ]\n",
            " [1.   0.  ]\n",
            " [0.   1.  ]\n",
            " [0.   1.  ]\n",
            " [0.   1.  ]\n",
            " [1.   0.  ]\n",
            " [0.   1.  ]\n",
            " [1.   0.  ]\n",
            " [0.   1.  ]\n",
            " [0.5  0.5 ]\n",
            " [1.   0.  ]\n",
            " [1.   0.  ]\n",
            " [1.   0.  ]\n",
            " [0.25 0.75]\n",
            " [1.   0.  ]\n",
            " [1.   0.  ]\n",
            " [1.   0.  ]\n",
            " [1.   0.  ]\n",
            " [1.   0.  ]\n",
            " [0.   1.  ]\n",
            " [1.   0.  ]\n",
            " [0.   1.  ]\n",
            " [0.   1.  ]\n",
            " [0.   1.  ]\n",
            " [1.   0.  ]\n",
            " [0.   1.  ]\n",
            " [1.   0.  ]\n",
            " [1.   0.  ]\n",
            " [0.   1.  ]\n",
            " [0.   1.  ]\n",
            " [0.   1.  ]\n",
            " [0.   1.  ]\n",
            " [0.   1.  ]\n",
            " [0.   1.  ]\n",
            " [1.   0.  ]\n",
            " [1.   0.  ]\n",
            " [0.   1.  ]\n",
            " [1.   0.  ]\n",
            " [0.25 0.75]\n",
            " [1.   0.  ]\n",
            " [1.   0.  ]\n",
            " [0.5  0.5 ]\n",
            " [1.   0.  ]\n",
            " [0.   1.  ]]\n"
          ],
          "name": "stdout"
        }
      ]
    },
    {
      "cell_type": "markdown",
      "metadata": {
        "id": "AVz8jAIONMh4"
      },
      "source": [
        "Let's play around with some of the decision tree's parameters"
      ]
    },
    {
      "cell_type": "code",
      "metadata": {
        "collapsed": true,
        "id": "SlGcfTZQNMh4",
        "colab": {
          "base_uri": "https://localhost:8080/"
        },
        "outputId": "53e0bcdb-113b-430a-8477-e6bfed229a52"
      },
      "source": [
        "# check the sklearn documentation and change the folowing parametrs: max_depth, min_samples_split, min_samples_leaf \n",
        "clf_dt = DecisionTreeClassifier(random_state=1, max_depth=4, min_samples_leaf=100) \n",
        "clf_dt.fit(X_train,y_train)\n",
        "# your code here\n",
        "print ('train accuracy =', clf_dt.score(X_train,y_train) )\n",
        "\n",
        "# Cross validation\n",
        "scores_dt = cross_val_score(clf, titanic[predictors], titanic[\"Survived\"], scoring='accuracy', cv=5)\n",
        "print('cross validation accuracy =', np.mean(scores_dt) )"
      ],
      "execution_count": 39,
      "outputs": [
        {
          "output_type": "stream",
          "text": [
            "train accuracy = 0.8041733547351525\n",
            "cross validation accuracy = 0.7890025735986442\n"
          ],
          "name": "stdout"
        }
      ]
    },
    {
      "cell_type": "markdown",
      "metadata": {
        "id": "mPazaEBwNMh4"
      },
      "source": [
        "### Plot the decision tree\n",
        "Set the max_depth parameter in the previous classifier to 3 and leave all the other ones to default values.<br>\n",
        "Open the tree.dot file in a text editor, copy the piece of code and paste it  [ @ webgraphviz.com](http://webgraphviz.com/)"
      ]
    },
    {
      "cell_type": "code",
      "metadata": {
        "collapsed": true,
        "id": "c5GeqtRjNMh5",
        "colab": {
          "base_uri": "https://localhost:8080/"
        },
        "outputId": "84580337-f73f-4bce-ef60-6c5636602c78"
      },
      "source": [
        "from sklearn import tree\n",
        "tree.export_graphviz(clf_dt, out_file='tree.dot')\n",
        "# As a reminder, these are the predicting features in order\n",
        "print (dict(zip(range(len(predictors)),predictors)))"
      ],
      "execution_count": 40,
      "outputs": [
        {
          "output_type": "stream",
          "text": [
            "{0: 'Pclass', 1: 'Sex', 2: 'Age', 3: 'SibSp', 4: 'Parch', 5: 'Fare', 6: 'Embarked'}\n"
          ],
          "name": "stdout"
        }
      ]
    },
    {
      "cell_type": "markdown",
      "metadata": {
        "id": "A6TA2icrNMh5"
      },
      "source": [
        "The image should look like the following"
      ]
    },
    {
      "cell_type": "code",
      "metadata": {
        "collapsed": true,
        "id": "54jjv02HNMh5",
        "colab": {
          "base_uri": "https://localhost:8080/",
          "height": 514
        },
        "outputId": "657d7095-2e21-4c19-ce8f-2ffc51f8ca4f"
      },
      "source": [
        "from IPython.display import Image\n",
        "Image(\"DT.png\")\n",
        "import pydot\n",
        "\n",
        "(graph,) =  pydot.graph_from_dot_file('tree.dot')\n",
        "graph.write_png('test.png')\n",
        "Image(\"test.png\")"
      ],
      "execution_count": 41,
      "outputs": [
        {
          "output_type": "execute_result",
          "data": {
            "image/png": "[encoded data removed]",
            "text/plain": [
              "<IPython.core.display.Image object>"
            ]
          },
          "metadata": {
            "tags": []
          },
          "execution_count": 41
        }
      ]
    },
    {
      "cell_type": "markdown",
      "metadata": {
        "id": "VAlb3rnJNMh5"
      },
      "source": [
        "Predict the survival of a female, Pclass 1 or 2, above age 2.5"
      ]
    },
    {
      "cell_type": "code",
      "metadata": {
        "collapsed": true,
        "id": "Edh9CKXkNMh5",
        "colab": {
          "base_uri": "https://localhost:8080/"
        },
        "outputId": "00914983-d82f-4713-83e5-f623051e3595"
      },
      "source": [
        "#{pclass:0sex:1:Age:2}\n",
        "passenger1=np.array([1,0,11,0,2,0,0]).reshape(1, -1)\n",
        "print ('proba =', clf_dt.predict_proba(passenger1))\n",
        "print ('class =', clf_dt.predict(passenger1))"
      ],
      "execution_count": 43,
      "outputs": [
        {
          "output_type": "stream",
          "text": [
            "proba = [[0.05128205 0.94871795]]\n",
            "class = [1]\n"
          ],
          "name": "stdout"
        }
      ]
    },
    {
      "cell_type": "markdown",
      "metadata": {
        "id": "yV9LHRKuNMh6"
      },
      "source": [
        "Predict the survival of a male, above age 11.5, Pclass 2 or 3"
      ]
    },
    {
      "cell_type": "code",
      "metadata": {
        "collapsed": true,
        "id": "yqCydqnxNMh6",
        "colab": {
          "base_uri": "https://localhost:8080/"
        },
        "outputId": "1c937323-fffb-44db-d67b-bdd60536cf1c"
      },
      "source": [
        "passenger2=np.array([2,1,22,0,0,7,0]).reshape(1, -1)\n",
        "print ('proba =', clf_dt.predict_proba(passenger2))\n",
        "print ('class =', clf.predict(passenger2))"
      ],
      "execution_count": 45,
      "outputs": [
        {
          "output_type": "stream",
          "text": [
            "proba = [[0.80869565 0.19130435]]\n",
            "class = [0]\n"
          ],
          "name": "stdout"
        }
      ]
    },
    {
      "cell_type": "markdown",
      "metadata": {
        "id": "1XUYBJDkNMh6"
      },
      "source": [
        "By looking at this decision tree, you can get a sense the relative importance between features. let's see which are the most important ones using the attribute: **feature\\_importances_**"
      ]
    },
    {
      "cell_type": "code",
      "metadata": {
        "collapsed": true,
        "id": "9ba_OS9VNMh6",
        "colab": {
          "base_uri": "https://localhost:8080/",
          "height": 266
        },
        "outputId": "e5dc09c0-eafc-44c1-eabe-038d2f13fdba"
      },
      "source": [
        "feat_imp = pd.DataFrame(clf_dt.feature_importances_, predictors, columns=['Importance'])\n",
        "feat_imp.sort_values('Importance', ascending=False)"
      ],
      "execution_count": 46,
      "outputs": [
        {
          "output_type": "execute_result",
          "data": {
            "text/html": [
              "<div>\n",
              "<style scoped>\n",
              "    .dataframe tbody tr th:only-of-type {\n",
              "        vertical-align: middle;\n",
              "    }\n",
              "\n",
              "    .dataframe tbody tr th {\n",
              "        vertical-align: top;\n",
              "    }\n",
              "\n",
              "    .dataframe thead th {\n",
              "        text-align: right;\n",
              "    }\n",
              "</style>\n",
              "<table border=\"1\" class=\"dataframe\">\n",
              "  <thead>\n",
              "    <tr style=\"text-align: right;\">\n",
              "      <th></th>\n",
              "      <th>Importance</th>\n",
              "    </tr>\n",
              "  </thead>\n",
              "  <tbody>\n",
              "    <tr>\n",
              "      <th>Sex</th>\n",
              "      <td>0.756978</td>\n",
              "    </tr>\n",
              "    <tr>\n",
              "      <th>Pclass</th>\n",
              "      <td>0.185418</td>\n",
              "    </tr>\n",
              "    <tr>\n",
              "      <th>Fare</th>\n",
              "      <td>0.041686</td>\n",
              "    </tr>\n",
              "    <tr>\n",
              "      <th>Age</th>\n",
              "      <td>0.015919</td>\n",
              "    </tr>\n",
              "    <tr>\n",
              "      <th>SibSp</th>\n",
              "      <td>0.000000</td>\n",
              "    </tr>\n",
              "    <tr>\n",
              "      <th>Parch</th>\n",
              "      <td>0.000000</td>\n",
              "    </tr>\n",
              "    <tr>\n",
              "      <th>Embarked</th>\n",
              "      <td>0.000000</td>\n",
              "    </tr>\n",
              "  </tbody>\n",
              "</table>\n",
              "</div>"
            ],
            "text/plain": [
              "          Importance\n",
              "Sex         0.756978\n",
              "Pclass      0.185418\n",
              "Fare        0.041686\n",
              "Age         0.015919\n",
              "SibSp       0.000000\n",
              "Parch       0.000000\n",
              "Embarked    0.000000"
            ]
          },
          "metadata": {
            "tags": []
          },
          "execution_count": 46
        }
      ]
    },
    {
      "cell_type": "markdown",
      "metadata": {
        "id": "3XbIJHswNMh7"
      },
      "source": [
        "As expected, **Parch** and **Fare** are the least important ones because they were not used for splitting, while **Sex** is the most important one since it was used first for splitting. "
      ]
    },
    {
      "cell_type": "markdown",
      "metadata": {
        "id": "-bhm5agrNMh7"
      },
      "source": [
        "# Random Forest\n",
        "A   [Random Forest](http://scikit-learn.org/stable/modules/generated/sklearn.ensemble.RandomForestClassifier.html#sklearn.ensemble.RandomForestClassifier from sklearn.ensemble import RandomForestClassifier) is an ensemble of [decision trees](http://scikit-learn.org/stable/modules/generated/sklearn.tree.DecisionTreeClassifier.html#sklearn.tree.DecisionTreeClassifier)"
      ]
    },
    {
      "cell_type": "code",
      "metadata": {
        "collapsed": true,
        "id": "2_AmfzOqNMh7",
        "colab": {
          "base_uri": "https://localhost:8080/"
        },
        "outputId": "fbe2f46b-1171-4173-bc5c-d5ac35e3291e"
      },
      "source": [
        "# import from: http://scikit-learn.org/stable/modules/generated/sklearn.ensemble.RandomForestClassifier.html#sklearn.ensemble.RandomForestClassifier\n",
        "from sklearn.ensemble import RandomForestClassifier\n",
        "clf_rf = RandomForestClassifier(random_state=1,n_estimators=20)  # by default, 10 trees are used\n",
        "clf_rf.fit(X_train,y_train)\n",
        "print ('train accuracy =', clf_rf.score(X_train,y_train)) # your code here)\n",
        "\n",
        "# Cross validation\n",
        "scores_rf = cross_val_score(clf_rf, titanic[predictors], titanic['Survived'], scoring = \"accuracy\", cv=5) # your code here\n",
        "print('cross validation accuracy =', scores_rf)"
      ],
      "execution_count": 51,
      "outputs": [
        {
          "output_type": "stream",
          "text": [
            "train accuracy = 0.9807383627608347\n",
            "cross validation accuracy = [0.75977654 0.80898876 0.85393258 0.79213483 0.82022472]\n"
          ],
          "name": "stdout"
        }
      ]
    },
    {
      "cell_type": "markdown",
      "metadata": {
        "id": "uXcbVZr2NMh7"
      },
      "source": [
        "In the same way, you can print the feature importance of all the trees"
      ]
    },
    {
      "cell_type": "code",
      "metadata": {
        "collapsed": true,
        "id": "2gm-OFQxNMh7",
        "colab": {
          "base_uri": "https://localhost:8080/",
          "height": 266
        },
        "outputId": "267feb4f-edd4-4fd9-fcbe-ac063d5fcfb5"
      },
      "source": [
        "# your code here\r\n",
        "feat_imp = pd.DataFrame(clf_rf.feature_importances_, predictors, columns=['Importance'])\r\n",
        "feat_imp.sort_values('Importance', ascending=False)"
      ],
      "execution_count": 52,
      "outputs": [
        {
          "output_type": "execute_result",
          "data": {
            "text/html": [
              "<div>\n",
              "<style scoped>\n",
              "    .dataframe tbody tr th:only-of-type {\n",
              "        vertical-align: middle;\n",
              "    }\n",
              "\n",
              "    .dataframe tbody tr th {\n",
              "        vertical-align: top;\n",
              "    }\n",
              "\n",
              "    .dataframe thead th {\n",
              "        text-align: right;\n",
              "    }\n",
              "</style>\n",
              "<table border=\"1\" class=\"dataframe\">\n",
              "  <thead>\n",
              "    <tr style=\"text-align: right;\">\n",
              "      <th></th>\n",
              "      <th>Importance</th>\n",
              "    </tr>\n",
              "  </thead>\n",
              "  <tbody>\n",
              "    <tr>\n",
              "      <th>Age</th>\n",
              "      <td>0.267777</td>\n",
              "    </tr>\n",
              "    <tr>\n",
              "      <th>Fare</th>\n",
              "      <td>0.267060</td>\n",
              "    </tr>\n",
              "    <tr>\n",
              "      <th>Sex</th>\n",
              "      <td>0.243650</td>\n",
              "    </tr>\n",
              "    <tr>\n",
              "      <th>Pclass</th>\n",
              "      <td>0.084202</td>\n",
              "    </tr>\n",
              "    <tr>\n",
              "      <th>SibSp</th>\n",
              "      <td>0.058213</td>\n",
              "    </tr>\n",
              "    <tr>\n",
              "      <th>Parch</th>\n",
              "      <td>0.046144</td>\n",
              "    </tr>\n",
              "    <tr>\n",
              "      <th>Embarked</th>\n",
              "      <td>0.032956</td>\n",
              "    </tr>\n",
              "  </tbody>\n",
              "</table>\n",
              "</div>"
            ],
            "text/plain": [
              "          Importance\n",
              "Age         0.267777\n",
              "Fare        0.267060\n",
              "Sex         0.243650\n",
              "Pclass      0.084202\n",
              "SibSp       0.058213\n",
              "Parch       0.046144\n",
              "Embarked    0.032956"
            ]
          },
          "metadata": {
            "tags": []
          },
          "execution_count": 52
        }
      ]
    },
    {
      "cell_type": "markdown",
      "metadata": {
        "id": "-FNy8zWONMh8"
      },
      "source": [
        "Random forest, like decision trees have a lot of parameters to tune. Usually, performance does not change linearly with parameters. Let's take as an example, the accuracy as a function of number of trees (**n_estimators**)"
      ]
    },
    {
      "cell_type": "code",
      "metadata": {
        "collapsed": true,
        "scrolled": true,
        "id": "HbFcykAENMh8",
        "colab": {
          "base_uri": "https://localhost:8080/",
          "height": 296
        },
        "outputId": "22a03e8e-b1d6-4233-c9e9-f8b21c62c9dc"
      },
      "source": [
        "%matplotlib inline\n",
        "import matplotlib.pyplot as plt\n",
        "\n",
        "trees=range(50)\n",
        "accuracy=np.zeros(50)\n",
        "for idx in range(len(trees)):\n",
        "    clf_rf=RandomForestClassifier(random_state=1, n_estimators=idx + 1)\n",
        "    clf_rf.fit(X_train,y_train)\n",
        "    accuracy[idx]=clf_rf.score(X_test, y_test)  \n",
        "\n",
        "plt.plot(trees, accuracy)\n",
        "plt.ylabel('accuracy')\n",
        "plt.xlabel('Number of Trees')"
      ],
      "execution_count": 54,
      "outputs": [
        {
          "output_type": "execute_result",
          "data": {
            "text/plain": [
              "Text(0.5, 0, 'Number of Trees')"
            ]
          },
          "metadata": {
            "tags": []
          },
          "execution_count": 54
        },
        {
          "output_type": "display_data",
          "data": {
            "image/png": "[encoded data removed]",
            "text/plain": [
              "<Figure size 432x288 with 1 Axes>"
            ]
          },
          "metadata": {
            "tags": [],
            "needs_background": "light"
          }
        }
      ]
    },
    {
      "cell_type": "markdown",
      "metadata": {
        "id": "WTFjumGgNMh8"
      },
      "source": [
        "In the following, try to tune manually the following parameters: **min_samples_leaf, min_samples_split, max_depth, n_estimators** in order to increase cross validation accuracy."
      ]
    },
    {
      "cell_type": "code",
      "metadata": {
        "collapsed": true,
        "id": "25HBGusbNMh9"
      },
      "source": [
        "clf_rf = RandomForestClassifier(random_state=1, # your code here)\n",
        "clf_rf.fit(X_train, y_train)\n",
        "print ('train accuracy =', clf_rf.score(X_train, y_train))\n",
        "\n",
        "# Cross validation\n",
        "scores_rf = cross_validation.cross_val_score(clf_rf, titanic[predictors], titanic[\"Survived\"], scoring='accuracy', cv=5)\n",
        "print('cross validation accuracy =', scores_rf.mean())"
      ],
      "execution_count": null,
      "outputs": []
    },
    {
      "cell_type": "markdown",
      "metadata": {
        "id": "zmVzFur3NMh9"
      },
      "source": [
        "This might be a difficult job to do manually. In other way is to search automatically the best combination of different ranges for these parameters. This is done using **Grid Search**"
      ]
    },
    {
      "cell_type": "markdown",
      "metadata": {
        "id": "7xe2pXxyNMh-"
      },
      "source": [
        "# Grid Search"
      ]
    },
    {
      "cell_type": "code",
      "metadata": {
        "collapsed": true,
        "id": "OT-YJImwNMh-",
        "colab": {
          "base_uri": "https://localhost:8080/"
        },
        "outputId": "ba011eca-8dbc-44e1-88f8-16f05cbaf40c"
      },
      "source": [
        "# Documentation: http://scikit-learn.org/stable/modules/generated/sklearn.model_selection.GridSearchCV.html#sklearn.model_selection.GridSearchCV\n",
        "# your code here\n",
        "from sklearn.model_selection import GridSearchCV\n",
        "params = {'min_samples_leaf':list(range(1,5)),'min_samples_split':list(range(2,10,2)),\n",
        "          'n_estimators':list(range(10,50,10))}\n",
        "clf_rf2=RandomForestClassifier(random_state=1)\n",
        "clf_gs=GridSearchCV(clf_rf2, params, scoring = 'accuracy',cv=5)\n",
        "clf_gs.fit(titanic[predictors], titanic[\"Survived\"])"
      ],
      "execution_count": 55,
      "outputs": [
        {
          "output_type": "execute_result",
          "data": {
            "text/plain": [
              "GridSearchCV(cv=5, error_score=nan,\n",
              "             estimator=RandomForestClassifier(bootstrap=True, ccp_alpha=0.0,\n",
              "                                              class_weight=None,\n",
              "                                              criterion='gini', max_depth=None,\n",
              "                                              max_features='auto',\n",
              "                                              max_leaf_nodes=None,\n",
              "                                              max_samples=None,\n",
              "                                              min_impurity_decrease=0.0,\n",
              "                                              min_impurity_split=None,\n",
              "                                              min_samples_leaf=1,\n",
              "                                              min_samples_split=2,\n",
              "                                              min_weight_fraction_leaf=0.0,\n",
              "                                              n_estimators=100, n_jobs=None,\n",
              "                                              oob_score=False, random_state=1,\n",
              "                                              verbose=0, warm_start=False),\n",
              "             iid='deprecated', n_jobs=None,\n",
              "             param_grid={'min_samples_leaf': [1, 2, 3, 4],\n",
              "                         'min_samples_split': [2, 4, 6, 8],\n",
              "                         'n_estimators': [10, 20, 30, 40]},\n",
              "             pre_dispatch='2*n_jobs', refit=True, return_train_score=False,\n",
              "             scoring='accuracy', verbose=0)"
            ]
          },
          "metadata": {
            "tags": []
          },
          "execution_count": 55
        }
      ]
    },
    {
      "cell_type": "markdown",
      "metadata": {
        "id": "whwPH2WMNMh-"
      },
      "source": [
        "Print the best score"
      ]
    },
    {
      "cell_type": "code",
      "metadata": {
        "collapsed": true,
        "id": "69gqcDGWNMh_",
        "colab": {
          "base_uri": "https://localhost:8080/"
        },
        "outputId": "44332f1e-3a9c-4c69-84b4-85e5e98cd77c"
      },
      "source": [
        "# your code here\r\n",
        "clf_gs.best_score_"
      ],
      "execution_count": 56,
      "outputs": [
        {
          "output_type": "execute_result",
          "data": {
            "text/plain": [
              "0.8327976900382902"
            ]
          },
          "metadata": {
            "tags": []
          },
          "execution_count": 56
        }
      ]
    },
    {
      "cell_type": "markdown",
      "metadata": {
        "id": "B0VuyLlpNMh_"
      },
      "source": [
        "Print the best parameters"
      ]
    },
    {
      "cell_type": "code",
      "metadata": {
        "collapsed": true,
        "id": "OKeKc5UwNMh_",
        "colab": {
          "base_uri": "https://localhost:8080/"
        },
        "outputId": "7492e0bc-6b5b-431f-db5b-d8b8aa0cc170"
      },
      "source": [
        "# your code here\r\n",
        "clf_gs.best_params_"
      ],
      "execution_count": 57,
      "outputs": [
        {
          "output_type": "execute_result",
          "data": {
            "text/plain": [
              "{'min_samples_leaf': 3, 'min_samples_split': 8, 'n_estimators': 30}"
            ]
          },
          "metadata": {
            "tags": []
          },
          "execution_count": 57
        }
      ]
    },
    {
      "cell_type": "markdown",
      "metadata": {
        "id": "6V3ceP0INMh_"
      },
      "source": [
        "Let's use these best parameters and check whether they achieve really the above cv accuracy"
      ]
    },
    {
      "cell_type": "code",
      "metadata": {
        "collapsed": true,
        "id": "9DP0MmKJNMiA",
        "colab": {
          "base_uri": "https://localhost:8080/"
        },
        "outputId": "bc9a6162-3159-4148-f0ca-d09e3e14b164"
      },
      "source": [
        "clf_rf3 = RandomForestClassifier(random_state=1,min_samples_leaf = 3, min_samples_split = 8, n_estimators =30 ) \n",
        "clf_rf3.fit(X_train, y_train)\n",
        "print ('train accuracy =', clf_rf3.score(X_train, y_train))\n",
        "\n",
        "scores_rf3 = cross_val_score(clf_rf3, titanic[predictors], titanic[\"Survived\"], scoring='accuracy', cv=5)\n",
        "print('cross validation accuracy =',scores_rf3.mean())"
      ],
      "execution_count": 59,
      "outputs": [
        {
          "output_type": "stream",
          "text": [
            "train accuracy = 0.9036918138041734\n",
            "cross validation accuracy = 0.8327976900382902\n"
          ],
          "name": "stdout"
        }
      ]
    },
    {
      "cell_type": "markdown",
      "metadata": {
        "collapsed": true,
        "id": "ybvOawrnNMiA"
      },
      "source": [
        "As you can see, grid search allows you to find the best model parameters to improve your accuracy. Now, we can see the most important features of this last classifier"
      ]
    },
    {
      "cell_type": "code",
      "metadata": {
        "collapsed": true,
        "id": "4zsbAwHFNMiA",
        "colab": {
          "base_uri": "https://localhost:8080/",
          "height": 266
        },
        "outputId": "6d9c4490-973a-4bc8-a994-56d6689ac259"
      },
      "source": [
        "feat_imp = pd.DataFrame(clf_rf3.feature_importances_, predictors, columns=['Importance'])\n",
        "feat_imp.sort_values('Importance', ascending=False)"
      ],
      "execution_count": 60,
      "outputs": [
        {
          "output_type": "execute_result",
          "data": {
            "text/html": [
              "<div>\n",
              "<style scoped>\n",
              "    .dataframe tbody tr th:only-of-type {\n",
              "        vertical-align: middle;\n",
              "    }\n",
              "\n",
              "    .dataframe tbody tr th {\n",
              "        vertical-align: top;\n",
              "    }\n",
              "\n",
              "    .dataframe thead th {\n",
              "        text-align: right;\n",
              "    }\n",
              "</style>\n",
              "<table border=\"1\" class=\"dataframe\">\n",
              "  <thead>\n",
              "    <tr style=\"text-align: right;\">\n",
              "      <th></th>\n",
              "      <th>Importance</th>\n",
              "    </tr>\n",
              "  </thead>\n",
              "  <tbody>\n",
              "    <tr>\n",
              "      <th>Sex</th>\n",
              "      <td>0.368993</td>\n",
              "    </tr>\n",
              "    <tr>\n",
              "      <th>Fare</th>\n",
              "      <td>0.215793</td>\n",
              "    </tr>\n",
              "    <tr>\n",
              "      <th>Age</th>\n",
              "      <td>0.169397</td>\n",
              "    </tr>\n",
              "    <tr>\n",
              "      <th>Pclass</th>\n",
              "      <td>0.112599</td>\n",
              "    </tr>\n",
              "    <tr>\n",
              "      <th>SibSp</th>\n",
              "      <td>0.056356</td>\n",
              "    </tr>\n",
              "    <tr>\n",
              "      <th>Parch</th>\n",
              "      <td>0.042660</td>\n",
              "    </tr>\n",
              "    <tr>\n",
              "      <th>Embarked</th>\n",
              "      <td>0.034202</td>\n",
              "    </tr>\n",
              "  </tbody>\n",
              "</table>\n",
              "</div>"
            ],
            "text/plain": [
              "          Importance\n",
              "Sex         0.368993\n",
              "Fare        0.215793\n",
              "Age         0.169397\n",
              "Pclass      0.112599\n",
              "SibSp       0.056356\n",
              "Parch       0.042660\n",
              "Embarked    0.034202"
            ]
          },
          "metadata": {
            "tags": []
          },
          "execution_count": 60
        }
      ]
    },
    {
      "cell_type": "code",
      "metadata": {
        "collapsed": true,
        "id": "uQTeGnygNMiA"
      },
      "source": [
        ""
      ],
      "execution_count": null,
      "outputs": []
    }
  ]
}