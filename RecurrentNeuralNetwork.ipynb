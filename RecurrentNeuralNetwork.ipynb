{
  "nbformat": 4,
  "nbformat_minor": 0,
  "metadata": {
    "colab": {
      "name": "RecurrentNeuralNetwork.ipynb",
      "provenance": [],
      "collapsed_sections": [],
      "authorship_tag": "ABX9TyMUhYjZiGYAAOjib/EY+6nu",
      "include_colab_link": true
    },
    "kernelspec": {
      "name": "python3",
      "display_name": "Python 3"
    }
  },
  "cells": [
    {
      "cell_type": "markdown",
      "metadata": {
        "id": "view-in-github",
        "colab_type": "text"
      },
      "source": [
        "<a href=\"https://colab.research.google.com/github/bee-llel/Machine-Learning/blob/master/RecurrentNeuralNetwork.ipynb\" target=\"_parent\"><img src=\"https://colab.research.google.com/assets/colab-badge.svg\" alt=\"Open In Colab\"/></a>"
      ]
    },
    {
      "cell_type": "code",
      "metadata": {
        "id": "Y0mapvIp7xp9"
      },
      "source": [
        "#librairy:\r\n",
        "import pandas as pd # used to manipulate the data \r\n",
        "import numpy as np\r\n",
        "import scipy as sp \r\n",
        "from numpy import *\r\n"
      ],
      "execution_count": 26,
      "outputs": []
    },
    {
      "cell_type": "markdown",
      "metadata": {
        "id": "HPAN-qGVBHYo"
      },
      "source": [
        ""
      ]
    },
    {
      "cell_type": "code",
      "metadata": {
        "colab": {
          "base_uri": "https://localhost:8080/"
        },
        "id": "3F7R-kTtxyYH",
        "outputId": "e3a570cf-1dcb-429e-d466-5373fd858fdc"
      },
      "source": [
        "\r\n",
        "import random as rd \r\n",
        "from random import *\r\n",
        "\r\n",
        "#######################################\r\n",
        "# DATA : random binary number \r\n",
        "X_train = []\r\n",
        "X_test = [] \r\n",
        "y_train = []\r\n",
        "y_test = [] \r\n",
        "\r\n",
        "for i in range(30) :\r\n",
        "  X = [randint(0, 1) for i in range(10) ]\r\n",
        "  X_train.append(X)\r\n",
        "  y_train.append(sum(X))\r\n",
        "\r\n",
        "for i in range(10):\r\n",
        "  X = [randint(0, 1) for i in range(10) ]\r\n",
        "  X_test.append(X)\r\n",
        "  y_test.append(sum(X))\r\n",
        "\r\n",
        "X_train = np.asarray(X_train)\r\n",
        "X_test = np.asarray(X_test)\r\n",
        "y_train = np.asarray(y_train)\r\n",
        "y_test = np.asarray(y_test)\r\n",
        "\r\n",
        "y_train.reshape((30,1))\r\n",
        "print(X_train)\r\n",
        "print(y_train)\r\n",
        "print(y_train.shape)"
      ],
      "execution_count": 27,
      "outputs": [
        {
          "output_type": "stream",
          "text": [
            "[[0 1 1 0 1 1 1 1 1 0]\n",
            " [0 0 1 0 0 0 1 0 0 1]\n",
            " [0 0 1 1 0 0 1 0 1 1]\n",
            " [1 0 0 0 1 1 1 0 0 1]\n",
            " [0 0 0 0 1 0 0 1 1 1]\n",
            " [0 0 0 1 1 1 1 1 1 1]\n",
            " [0 0 0 1 0 0 1 0 0 0]\n",
            " [1 0 0 1 1 1 1 0 0 0]\n",
            " [1 1 0 0 1 1 0 1 1 0]\n",
            " [1 0 1 0 0 0 1 1 1 1]\n",
            " [1 1 0 0 1 1 0 1 1 1]\n",
            " [1 0 0 1 0 1 0 1 0 0]\n",
            " [1 0 1 1 0 1 0 1 1 0]\n",
            " [1 0 0 1 1 1 0 1 1 1]\n",
            " [0 0 1 0 1 0 1 0 1 1]\n",
            " [1 0 1 0 1 1 1 0 1 1]\n",
            " [0 1 0 1 1 1 1 0 1 1]\n",
            " [1 0 1 0 0 0 1 1 0 1]\n",
            " [1 0 0 1 1 0 1 1 1 1]\n",
            " [0 0 0 1 1 0 0 1 1 1]\n",
            " [0 1 0 1 0 0 1 1 1 0]\n",
            " [1 1 0 1 1 1 0 1 1 0]\n",
            " [0 1 1 1 0 1 0 0 0 0]\n",
            " [0 1 0 1 0 0 1 1 0 0]\n",
            " [1 0 0 0 1 0 0 0 0 0]\n",
            " [0 1 0 0 1 1 0 1 0 0]\n",
            " [0 1 1 0 1 1 0 0 1 0]\n",
            " [0 1 1 0 0 0 1 1 0 0]\n",
            " [0 0 0 0 1 0 0 0 1 0]\n",
            " [1 0 1 1 1 0 0 1 0 0]]\n",
            "[7 3 5 5 4 7 2 5 6 6 7 4 6 7 5 7 7 5 7 5 5 7 4 4 2 4 5 4 2 5]\n",
            "(30,)\n"
          ],
          "name": "stdout"
        }
      ]
    },
    {
      "cell_type": "code",
      "metadata": {
        "colab": {
          "base_uri": "https://localhost:8080/"
        },
        "id": "_T9skNDSyrAv",
        "outputId": "87ef37ed-f752-43ac-c580-20fce1ad66fe"
      },
      "source": [
        "#################################\r\n",
        "######################################\r\n",
        "#allows us to always have the same result when calling a random function\r\n",
        "np.random.seed(23)\r\n",
        "# VARIABLE DECLARATION:\r\n",
        "###################################################\r\n",
        "#basic number \r\n",
        "#T = lenght of the sequence \r\n",
        "T = 10\r\n",
        "#\r\n",
        "#I = data size \r\n",
        "I = 30\r\n",
        "#\r\n",
        "#J = output dimension = 1 not needed\r\n",
        "J = 1\r\n",
        "#\r\n",
        "#K = number of hidden neuron  not needed\r\n",
        "###################################################\r\n",
        "# data: imput X = X_train and output y =  y_train:\r\n",
        "# dimension : X  : I * T\r\n",
        "\r\n",
        "X = X_train\r\n",
        "\r\n",
        "# dimension : y : I * J = 30*1\r\n",
        "\r\n",
        "y = y_train\r\n",
        "\r\n",
        "###################################################\r\n",
        "# activation function F = identity \r\n",
        "\r\n",
        "# dimension : same as X i think \r\n",
        "# we will initialize it's value to one to start \r\n",
        "F = np.zeros((I,T))\r\n",
        "#our estimation G is the last F is the sequence this time since there is no activation function\r\n",
        "#we will initialize it to zero.\r\n",
        "\r\n",
        "G = np.zeros((I))\r\n",
        "\r\n",
        "###################################################\r\n",
        "#Weight:\r\n",
        "\r\n",
        "# Vx:  weight of X \r\n",
        "#dimension : scalar\r\n",
        "\r\n",
        "Vx = np.random.uniform(0, 1)\r\n",
        "\r\n",
        "\r\n",
        "# Vf: weight of F \r\n",
        "#dimension : scalar\r\n",
        "\r\n",
        "Vf = np.random.uniform(0, 1)\r\n",
        "\r\n",
        "\r\n",
        "##################################################\r\n",
        "#learning rate aplha\r\n",
        "\r\n",
        "alpha = 0.1\r\n",
        "\r\n",
        "##################################################\r\n",
        "# resillient propagation variable:\r\n",
        "nN = 0.5\r\n",
        "nP = 1.2\r\n",
        "Dxinit = 0.001\r\n",
        "Dfinit = 0.001\r\n",
        "\r\n",
        "previousSign = 1\r\n",
        "currentSign = 1\r\n",
        "\r\n",
        "\r\n",
        "\r\n",
        "\r\n",
        "print(F.shape)\r\n",
        "print(G.shape)\r\n",
        "print(y.shape)\r\n",
        "print(Vx)\r\n",
        "print(Vf)"
      ],
      "execution_count": 38,
      "outputs": [
        {
          "output_type": "stream",
          "text": [
            "(30, 10)\n",
            "(30,)\n",
            "(30,)\n",
            "0.5172978838465893\n",
            "0.9469626038148141\n"
          ],
          "name": "stdout"
        }
      ]
    },
    {
      "cell_type": "code",
      "metadata": {
        "id": "evrG23c6EFib"
      },
      "source": [
        "#################################################\r\n",
        "# useful function\r\n",
        "def SSE(A,B):\r\n",
        " # E = 0.5*(((A-B)).sum())**\r\n",
        "  E = 1 / 2 * np.sum((A - B)**2)\r\n",
        "  return E\r\n",
        "\r\n",
        "def SIGN(A):\r\n",
        "  x = 0\r\n",
        "  if A >=0:\r\n",
        "    x = 1\r\n",
        "  else:\r\n",
        "    x = -1\r\n",
        "  return x "
      ],
      "execution_count": 31,
      "outputs": []
    },
    {
      "cell_type": "code",
      "metadata": {
        "id": "e25VXHTtFVmt"
      },
      "source": [
        "###################################################\r\n",
        "#Forward propagation \r\n",
        "def forwardprop(X,y,Vx,Vf,T,I):\r\n",
        "  for t in range(T-1):\r\n",
        "    for i in range(I):\r\n",
        "        F[i][t+1] = F[i][t] * Vf + X[i][t] * Vx\r\n",
        "        G[i] = F[i][T-1] * Vf + X[i][T-1] * Vx   \r\n",
        "\r\n",
        "            \r\n",
        "  \r\n",
        "  return(G)"
      ],
      "execution_count": 32,
      "outputs": []
    },
    {
      "cell_type": "code",
      "metadata": {
        "id": "QS2kJdXbola8"
      },
      "source": [
        "###################################################\r\n",
        "# backpropagation\r\n",
        "# we have to be mindful of the difference between T \r\n",
        "# and in range(T) because in the second case it is starting from 0 to T-1\r\n",
        "# so we have to adapt our notation \r\n",
        "def backprop(G,y,Vx,Vf,T,I,alpha):\r\n",
        "  for t in range(T):\r\n",
        "    for i in range(I):\r\n",
        "      Vx = Vx - alpha * (G[i] - y[i]) * X[i][t] * (Vf**(T-(t+1)))\r\n",
        "\r\n",
        "\r\n",
        "  for t in range(T-1):    \r\n",
        "    for i in range(I):\r\n",
        "      Vf = Vf - alpha *  (G[i] - y[i]) * F[i][t] * (Vf**(T-(t+1)))\r\n",
        "\r\n",
        "\r\n",
        "      \r\n",
        "  return(Vx,Vf)\r\n"
      ],
      "execution_count": 33,
      "outputs": []
    },
    {
      "cell_type": "code",
      "metadata": {
        "id": "QLaq6d3QQ4hr"
      },
      "source": [
        "#################################################\r\n",
        "# Resillient propagation\r\n",
        "def resillientprop(G,y,Vx,Vf,T,I,nN,nP,Dxinit,Dfinit):\r\n",
        "\r\n",
        "#################################################\r\n",
        "# Vx :\r\n",
        "  Dx = Dxinit\r\n",
        "  gradX = 0\r\n",
        "  currentSIGNX = 1\r\n",
        "  previousSIGNX = 1\r\n",
        "  for t in range(T):\r\n",
        "    for i in range(I):\r\n",
        "        gradX = gradX +  (G[i] - y[i]) * X[i][t] * (Vf**(T-(t+1)))\r\n",
        "\r\n",
        "  currentSIGNX = SIGN(gradX) \r\n",
        "\r\n",
        "  if (currentSIGNX == previousSIGNX):\r\n",
        "    Dx = Dx * nP\r\n",
        "  else:\r\n",
        "    Dx = Dx * nN\r\n",
        "# update Vx\r\n",
        "\r\n",
        "  Vx = Vx - Dx * currentSIGNX\r\n",
        "  previousSIGNX = currentSIGNX \r\n",
        "\r\n",
        "#################################################\r\n",
        "# Vf :\r\n",
        "  Df = Dfinit\r\n",
        "  gradF = 0\r\n",
        "  currentSIGNF = 1\r\n",
        "  previousSIGNF = 1\r\n",
        "\r\n",
        "  for t in range(T-1):    \r\n",
        "    for i in range(I):\r\n",
        "      gradF = gradF + (G[i] - y[i]) * F[i][t] * (Vf**(T-(t+1)))\r\n",
        "  \r\n",
        "  currentSIGNF = SIGN(gradF) \r\n",
        "\r\n",
        "  if (currentSIGNF == previousSIGNF):\r\n",
        "    Df = Df * nP\r\n",
        "  else:\r\n",
        "    Df = Df * nN\r\n",
        "\r\n",
        "# update Vf\r\n",
        "  Vf = Vf - Df * currentSIGNF\r\n",
        "  previousSIGNF = currentSIGNF \r\n",
        "\r\n",
        "  return(Vx,Vf)"
      ],
      "execution_count": 37,
      "outputs": []
    },
    {
      "cell_type": "code",
      "metadata": {
        "colab": {
          "base_uri": "https://localhost:8080/"
        },
        "id": "NA-H4H15sG5l",
        "outputId": "6fae3437-f4f1-4df1-ad31-0f8c5ad18bc6"
      },
      "source": [
        "############################################\r\n",
        "#RNN with backprop\r\n",
        "\r\n",
        "# weight for the backprop\r\n",
        "Vxbp = np.random.uniform(0, 1)*0.001\r\n",
        "Vfbp = np.random.uniform(0, 1)*0.001\r\n",
        "#learning rate for the backprop\r\n",
        "alphabp = alpha * 0.001\r\n",
        "\r\n",
        "# the backpropagation converge for extremely small value of alpha \r\n",
        "#and extremely small weight initializiation\r\n",
        "print(\"Error before using our RNN with backpropragation\", SSE(y,G))\r\n",
        "for i in range(2000):\r\n",
        "  G = forwardprop(X,y,Vxbp,Vfbp,T,I)        \r\n",
        "  (Vxbp,Vfbp) = backprop(G,y,Vxbp,Vfbp,T,I,alphabp)\r\n",
        "print(\"Error after using our RNN with backpropragation\",SSE(y,G))"
      ],
      "execution_count": 40,
      "outputs": [
        {
          "output_type": "stream",
          "text": [
            "Error before using our RNN with backpropragation 0.001449979106958384\n",
            "Error after using our RNN with backpropragation 0.017323363445311858\n"
          ],
          "name": "stdout"
        }
      ]
    },
    {
      "cell_type": "code",
      "metadata": {
        "colab": {
          "base_uri": "https://localhost:8080/"
        },
        "id": "RGKTXCUPxGhz",
        "outputId": "7532a7a3-abc6-4ddc-c804-c716a15c9bb1"
      },
      "source": [
        "############################################\r\n",
        "# RNN with resillient prop\r\n",
        "\r\n",
        "print(\"Error before using our RNN with resillient propragation\", SSE(y,G))\r\n",
        "for i in range(2000):\r\n",
        "  G = forwardprop(X,y,Vx,Vf,T,I)        \r\n",
        "  (Vx,Vf) = resillientprop(G,y,Vx,Vf,T,I,nN,nP,Dxinit,Dfinit)\r\n",
        "print(\"Error after using our RNN with resillient backpropragation\",SSE(y,G))"
      ],
      "execution_count": 39,
      "outputs": [
        {
          "output_type": "stream",
          "text": [
            "Error before using our RNN with resillient propragation 421.0\n",
            "Error after using our RNN with resillient backpropragation 0.001449979106958384\n"
          ],
          "name": "stdout"
        }
      ]
    },
    {
      "cell_type": "code",
      "metadata": {
        "id": "iSilmybLq3uW"
      },
      "source": [
        "for k in range(K+1):\r\n",
        "    for j in range(J):\r\n",
        "      W[k][j] = W[k][j] - 0.01*((G[:,j]-y[:,j]) * G[:,j] * (np.ones(G.shape)[:,j]-G[:,j]) * F_b[:,k]).sum(axis =0)"
      ],
      "execution_count": null,
      "outputs": []
    },
    {
      "cell_type": "code",
      "metadata": {
        "colab": {
          "base_uri": "https://localhost:8080/"
        },
        "id": "yw9VWrORIJUC",
        "outputId": "c9262208-2f6b-4c46-f40e-802efba26295"
      },
      "source": [
        "np.random.seed(15)\r\n",
        "        #fixing the variables:\r\n",
        "        #number of element\r\n",
        "\r\n",
        "        #input data\r\n",
        "X=X_train        \r\n",
        "I=len(X)\r\n",
        "        #length of sequence\r\n",
        "T=len(X[0])\r\n",
        "\r\n",
        "        #expected result\r\n",
        "Y=y_train\r\n",
        "        #learning rate\r\n",
        "alpha=0.1\r\n",
        "        #weight of the loop\r\n",
        "w=np.random.rand()\r\n",
        "        #weight of the input\r\n",
        "v=w\r\n",
        "        #the intermediate values created by the RNN f[0] being 0 as there is no data created before the start\r\n",
        "f=np.zeros((I,T))\r\n",
        "g=np.zeros((I))\r\n",
        "        #variables used for resilient propagation\r\n",
        "Delta_v=0.001\r\n",
        "Delta_w=0.001\r\n",
        "sign_v=1\r\n",
        "sign_w=1\r\n",
        "sign_prev_v=0\r\n",
        "sign_prev_w=0\r\n",
        "        #variables for gardient clipping\r\n",
        "n=0.2\r\n",
        "        \r\n",
        "    #the forward propagation\r\n",
        "\r\n",
        "\r\n",
        "            \r\n",
        "\r\n",
        "print(g.shape)            \r\n",
        "print(f.shape)\r\n",
        "print(g)\r\n",
        "print(I)\r\n",
        "print(T)"
      ],
      "execution_count": 127,
      "outputs": [
        {
          "output_type": "stream",
          "text": [
            "(30,)\n",
            "(30, 10)\n",
            "[0. 0. 0. 0. 0. 0. 0. 0. 0. 0. 0. 0. 0. 0. 0. 0. 0. 0. 0. 0. 0. 0. 0. 0.\n",
            " 0. 0. 0. 0. 0. 0.]\n",
            "30\n",
            "10\n"
          ],
          "name": "stdout"
        }
      ]
    },
    {
      "cell_type": "code",
      "metadata": {
        "colab": {
          "base_uri": "https://localhost:8080/"
        },
        "id": "v4db62olRfZa",
        "outputId": "053710fe-f856-4e36-fc14-9c1be678642b"
      },
      "source": [
        "for t in range(T):\r\n",
        "        for i in range(I):\r\n",
        "            if(t!=T-1):\r\n",
        "              f[i,t+1] = f[i,t] * w + X[i,t] * v\r\n",
        "            else:\r\n",
        "              g[i] = f[i,t] * w + X[i,t] * v\r\n",
        "print(g)              "
      ],
      "execution_count": 129,
      "outputs": [
        {
          "output_type": "stream",
          "text": [
            "[2.63461944 2.02353903 2.40381396 1.68645673 1.22920911 2.41130012\n",
            " 1.54029932 3.04438974 3.12286968 1.31600745 3.31298477 2.65832014\n",
            " 1.66345861 0.8722195  2.81713063 2.96063666 1.8343965  2.87323479\n",
            " 3.33476419 1.79568356 2.65007187 2.45494387 1.59839624 1.5070006\n",
            " 1.41285117 1.93195915 1.6814462  2.29301212 3.31386283 1.47508056]\n"
          ],
          "name": "stdout"
        }
      ]
    },
    {
      "cell_type": "code",
      "metadata": {
        "colab": {
          "base_uri": "https://localhost:8080/"
        },
        "id": "roLttzN9U9HB",
        "outputId": "200e6c5e-8153-4fa0-a60f-57e6039f94a4"
      },
      "source": [
        "for t in range(T-1):\r\n",
        "        for i in range(I):\r\n",
        "              f[i,t+1] = f[i,t] * w + X[i,t] * v\r\n",
        "              g[i] = f[i,T-1] * w + X[i,T-1] * v\r\n",
        "\r\n",
        "print(g)"
      ],
      "execution_count": 128,
      "outputs": [
        {
          "output_type": "stream",
          "text": [
            "[2.63461944 2.02353903 2.40381396 1.68645673 1.22920911 2.41130012\n",
            " 1.54029932 3.04438974 3.12286968 1.31600745 3.31298477 2.65832014\n",
            " 1.66345861 0.8722195  2.81713063 2.96063666 1.8343965  2.87323479\n",
            " 3.33476419 1.79568356 2.65007187 2.45494387 1.59839624 1.5070006\n",
            " 1.41285117 1.93195915 1.6814462  2.29301212 3.31386283 1.47508056]\n"
          ],
          "name": "stdout"
        }
      ]
    },
    {
      "cell_type": "code",
      "metadata": {
        "id": "wDJi7bxvYfe7"
      },
      "source": [
        ""
      ],
      "execution_count": null,
      "outputs": []
    }
  ]
}