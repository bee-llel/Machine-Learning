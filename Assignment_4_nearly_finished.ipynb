{
  "nbformat": 4,
  "nbformat_minor": 0,
  "metadata": {
    "anaconda-cloud": {},
    "kernelspec": {
      "display_name": "Python 3",
      "language": "python",
      "name": "python3"
    },
    "language_info": {
      "codemirror_mode": {
        "name": "ipython",
        "version": 3
      },
      "file_extension": ".py",
      "mimetype": "text/x-python",
      "name": "python",
      "nbconvert_exporter": "python",
      "pygments_lexer": "ipython3",
      "version": "3.6.1"
    },
    "colab": {
      "name": "Assignment 4.ipynb",
      "provenance": [],
      "toc_visible": true,
      "include_colab_link": true
    }
  },
  "cells": [
    {
      "cell_type": "markdown",
      "metadata": {
        "id": "view-in-github",
        "colab_type": "text"
      },
      "source": [
        "<a href=\"https://colab.research.google.com/github/bee-llel/Machine-Learning/blob/master/Assignment_4_nearly_finished.ipynb\" target=\"_parent\"><img src=\"https://colab.research.google.com/assets/colab-badge.svg\" alt=\"Open In Colab\"/></a>"
      ]
    },
    {
      "cell_type": "markdown",
      "metadata": {
        "id": "SXdEKT1mWbNo"
      },
      "source": [
        "# Assignment 4 : Predict Blood Donations"
      ]
    },
    {
      "cell_type": "markdown",
      "metadata": {
        "id": "2s2rZYtwWbNv"
      },
      "source": [
        "Our dataset is from a mobile blood donation vehicle in Taiwan. The Blood Transfusion Service Center drives to different universities and collects blood as part of a blood drive. We want to predict whether or not a donor will give blood the next time the vehicle comes to campus. <br>\n",
        "Data is courtesy of Yeh, I-Cheng via the [UCI Machine Learning repository](https://archive.ics.uci.edu/ml/datasets/Blood+Transfusion+Service+Center)."
      ]
    },
    {
      "cell_type": "markdown",
      "metadata": {
        "id": "0CxjwRxoWbNv"
      },
      "source": [
        "The dataset contains the following variables:\n",
        "* Months since Last Donation: this is the number of monthis since this donor's most recent donation.\n",
        "* Number of Donations: this is the total number of donations that the donor has made.\n",
        "* Total Volume Donated: this is the total amound of blood that the donor has donated in cubuc centimeters.\n",
        "* Months since First Donation: this is the number of months since the donor's first donation.\n",
        "\n",
        "Your goal is to predict the last column, which is whether the donor donated blood in March 2007."
      ]
    },
    {
      "cell_type": "code",
      "metadata": {
        "collapsed": true,
        "id": "mtPrPIgHWbNw"
      },
      "source": [
        "# import necessary libraries \r\n",
        "# imports\r\n",
        "import warnings\r\n",
        "warnings.filterwarnings('ignore')\r\n",
        "import pandas as pd\r\n",
        "import numpy as np\r\n",
        "import sklearn as sk"
      ],
      "execution_count": 121,
      "outputs": []
    },
    {
      "cell_type": "markdown",
      "metadata": {
        "id": "yKsAhjyBWbNw"
      },
      "source": [
        "1-1 load the \"transfusion.data\" dataset into a dataframe variable called df. Print the shape, head of df"
      ]
    },
    {
      "cell_type": "code",
      "metadata": {
        "scrolled": true,
        "colab": {
          "base_uri": "https://localhost:8080/",
          "height": 359
        },
        "id": "CyO1Mua8WbNw",
        "outputId": "874b368c-8d66-48b4-eeb3-357217780267"
      },
      "source": [
        "# your code here\r\n",
        "df = pd.read_csv(\"transfusion.data\" )\r\n",
        "df.head(10)"
      ],
      "execution_count": 122,
      "outputs": [
        {
          "output_type": "execute_result",
          "data": {
            "text/html": [
              "<div>\n",
              "<style scoped>\n",
              "    .dataframe tbody tr th:only-of-type {\n",
              "        vertical-align: middle;\n",
              "    }\n",
              "\n",
              "    .dataframe tbody tr th {\n",
              "        vertical-align: top;\n",
              "    }\n",
              "\n",
              "    .dataframe thead th {\n",
              "        text-align: right;\n",
              "    }\n",
              "</style>\n",
              "<table border=\"1\" class=\"dataframe\">\n",
              "  <thead>\n",
              "    <tr style=\"text-align: right;\">\n",
              "      <th></th>\n",
              "      <th>Recency (months)</th>\n",
              "      <th>Frequency (times)</th>\n",
              "      <th>Monetary (c.c. blood)</th>\n",
              "      <th>Time (months)</th>\n",
              "      <th>whether he/she donated blood in March 2007</th>\n",
              "    </tr>\n",
              "  </thead>\n",
              "  <tbody>\n",
              "    <tr>\n",
              "      <th>0</th>\n",
              "      <td>2</td>\n",
              "      <td>50</td>\n",
              "      <td>12500</td>\n",
              "      <td>98</td>\n",
              "      <td>1</td>\n",
              "    </tr>\n",
              "    <tr>\n",
              "      <th>1</th>\n",
              "      <td>0</td>\n",
              "      <td>13</td>\n",
              "      <td>3250</td>\n",
              "      <td>28</td>\n",
              "      <td>1</td>\n",
              "    </tr>\n",
              "    <tr>\n",
              "      <th>2</th>\n",
              "      <td>1</td>\n",
              "      <td>16</td>\n",
              "      <td>4000</td>\n",
              "      <td>35</td>\n",
              "      <td>1</td>\n",
              "    </tr>\n",
              "    <tr>\n",
              "      <th>3</th>\n",
              "      <td>2</td>\n",
              "      <td>20</td>\n",
              "      <td>5000</td>\n",
              "      <td>45</td>\n",
              "      <td>1</td>\n",
              "    </tr>\n",
              "    <tr>\n",
              "      <th>4</th>\n",
              "      <td>1</td>\n",
              "      <td>24</td>\n",
              "      <td>6000</td>\n",
              "      <td>77</td>\n",
              "      <td>0</td>\n",
              "    </tr>\n",
              "    <tr>\n",
              "      <th>5</th>\n",
              "      <td>4</td>\n",
              "      <td>4</td>\n",
              "      <td>1000</td>\n",
              "      <td>4</td>\n",
              "      <td>0</td>\n",
              "    </tr>\n",
              "    <tr>\n",
              "      <th>6</th>\n",
              "      <td>2</td>\n",
              "      <td>7</td>\n",
              "      <td>1750</td>\n",
              "      <td>14</td>\n",
              "      <td>1</td>\n",
              "    </tr>\n",
              "    <tr>\n",
              "      <th>7</th>\n",
              "      <td>1</td>\n",
              "      <td>12</td>\n",
              "      <td>3000</td>\n",
              "      <td>35</td>\n",
              "      <td>0</td>\n",
              "    </tr>\n",
              "    <tr>\n",
              "      <th>8</th>\n",
              "      <td>2</td>\n",
              "      <td>9</td>\n",
              "      <td>2250</td>\n",
              "      <td>22</td>\n",
              "      <td>1</td>\n",
              "    </tr>\n",
              "    <tr>\n",
              "      <th>9</th>\n",
              "      <td>5</td>\n",
              "      <td>46</td>\n",
              "      <td>11500</td>\n",
              "      <td>98</td>\n",
              "      <td>1</td>\n",
              "    </tr>\n",
              "  </tbody>\n",
              "</table>\n",
              "</div>"
            ],
            "text/plain": [
              "   Recency (months)  ...  whether he/she donated blood in March 2007\n",
              "0                 2  ...                                           1\n",
              "1                 0  ...                                           1\n",
              "2                 1  ...                                           1\n",
              "3                 2  ...                                           1\n",
              "4                 1  ...                                           0\n",
              "5                 4  ...                                           0\n",
              "6                 2  ...                                           1\n",
              "7                 1  ...                                           0\n",
              "8                 2  ...                                           1\n",
              "9                 5  ...                                           1\n",
              "\n",
              "[10 rows x 5 columns]"
            ]
          },
          "metadata": {
            "tags": []
          },
          "execution_count": 122
        }
      ]
    },
    {
      "cell_type": "markdown",
      "metadata": {
        "id": "SJH59WRaWbNx"
      },
      "source": [
        "1-2 Rename df columns to the following: `['Recency', 'Frequency', 'Volume', 'Time', 'Target']`, then print some info about df"
      ]
    },
    {
      "cell_type": "code",
      "metadata": {
        "colab": {
          "base_uri": "https://localhost:8080/",
          "height": 204
        },
        "id": "w4RjRhs7WbNx",
        "outputId": "aeb0e946-03d4-4984-e6e1-b8fe386e3f0c"
      },
      "source": [
        "# your code here\r\n",
        "df.columns = ['Recency', 'Frequency', 'Volume', 'Time', 'Target']\r\n",
        "df.head()"
      ],
      "execution_count": 123,
      "outputs": [
        {
          "output_type": "execute_result",
          "data": {
            "text/html": [
              "<div>\n",
              "<style scoped>\n",
              "    .dataframe tbody tr th:only-of-type {\n",
              "        vertical-align: middle;\n",
              "    }\n",
              "\n",
              "    .dataframe tbody tr th {\n",
              "        vertical-align: top;\n",
              "    }\n",
              "\n",
              "    .dataframe thead th {\n",
              "        text-align: right;\n",
              "    }\n",
              "</style>\n",
              "<table border=\"1\" class=\"dataframe\">\n",
              "  <thead>\n",
              "    <tr style=\"text-align: right;\">\n",
              "      <th></th>\n",
              "      <th>Recency</th>\n",
              "      <th>Frequency</th>\n",
              "      <th>Volume</th>\n",
              "      <th>Time</th>\n",
              "      <th>Target</th>\n",
              "    </tr>\n",
              "  </thead>\n",
              "  <tbody>\n",
              "    <tr>\n",
              "      <th>0</th>\n",
              "      <td>2</td>\n",
              "      <td>50</td>\n",
              "      <td>12500</td>\n",
              "      <td>98</td>\n",
              "      <td>1</td>\n",
              "    </tr>\n",
              "    <tr>\n",
              "      <th>1</th>\n",
              "      <td>0</td>\n",
              "      <td>13</td>\n",
              "      <td>3250</td>\n",
              "      <td>28</td>\n",
              "      <td>1</td>\n",
              "    </tr>\n",
              "    <tr>\n",
              "      <th>2</th>\n",
              "      <td>1</td>\n",
              "      <td>16</td>\n",
              "      <td>4000</td>\n",
              "      <td>35</td>\n",
              "      <td>1</td>\n",
              "    </tr>\n",
              "    <tr>\n",
              "      <th>3</th>\n",
              "      <td>2</td>\n",
              "      <td>20</td>\n",
              "      <td>5000</td>\n",
              "      <td>45</td>\n",
              "      <td>1</td>\n",
              "    </tr>\n",
              "    <tr>\n",
              "      <th>4</th>\n",
              "      <td>1</td>\n",
              "      <td>24</td>\n",
              "      <td>6000</td>\n",
              "      <td>77</td>\n",
              "      <td>0</td>\n",
              "    </tr>\n",
              "  </tbody>\n",
              "</table>\n",
              "</div>"
            ],
            "text/plain": [
              "   Recency  Frequency  Volume  Time  Target\n",
              "0        2         50   12500    98       1\n",
              "1        0         13    3250    28       1\n",
              "2        1         16    4000    35       1\n",
              "3        2         20    5000    45       1\n",
              "4        1         24    6000    77       0"
            ]
          },
          "metadata": {
            "tags": []
          },
          "execution_count": 123
        }
      ]
    },
    {
      "cell_type": "markdown",
      "metadata": {
        "id": "CPyd-5k3WbNx"
      },
      "source": [
        "## Data Exploration"
      ]
    },
    {
      "cell_type": "markdown",
      "metadata": {
        "id": "P30_DmqLWbNx"
      },
      "source": [
        "2- Plot a **bar plot** of the column **Target** (% of each class). How much accuracy can you get if prediction is always equal to \"*0*\" ?"
      ]
    },
    {
      "cell_type": "code",
      "metadata": {
        "scrolled": true,
        "id": "ehzohsNOWbNy"
      },
      "source": [
        "# I think i understand the question this time\r\n",
        "# it is too see how unbalanced our data is ?\r\n",
        "#as if we have let's say 50% accuracy for 0, our dataset is balanced."
      ],
      "execution_count": 124,
      "outputs": []
    },
    {
      "cell_type": "code",
      "metadata": {
        "colab": {
          "base_uri": "https://localhost:8080/",
          "height": 326
        },
        "id": "yj20aRcsWbNy",
        "outputId": "b9b3ad00-d6cd-4ed4-e05f-c2aa86dfc980"
      },
      "source": [
        "# let's reuse our barplot function from last assignement \r\n",
        "%matplotlib inline\r\n",
        "import matplotlib.pyplot as plt\r\n",
        "print ('percentage of donator =', df['Target'].mean())\r\n",
        "(df.groupby('Target').size()/df.shape[0]).plot(kind=\"bar\",title=\"Target (%each class)\", color = \"crimson\")\r\n",
        "print(\"we can see that our data is not balanced which is to be expected as blood donor are not that common\")\r\n"
      ],
      "execution_count": 125,
      "outputs": [
        {
          "output_type": "stream",
          "text": [
            "percentage of donator = 0.23796791443850268\n",
            "we can see that our data is not balanced which is to be expected as blood donor are not that common\n"
          ],
          "name": "stdout"
        },
        {
          "output_type": "display_data",
          "data": {
            "image/png": "[encoded data removed]",
            "text/plain": [
              "<Figure size 432x288 with 1 Axes>"
            ]
          },
          "metadata": {
            "tags": [],
            "needs_background": "light"
          }
        }
      ]
    },
    {
      "cell_type": "markdown",
      "metadata": {
        "id": "qiQ1A_XtWbNy"
      },
      "source": [
        "3-1 Print the [Correlation matrix](https://en.wikipedia.org/wiki/Correlation_and_dependence#Correlation_matrices) of df."
      ]
    },
    {
      "cell_type": "code",
      "metadata": {
        "colab": {
          "base_uri": "https://localhost:8080/",
          "height": 269
        },
        "id": "EdIIXGmhWbNy",
        "outputId": "17b1fa07-0d78-4e40-8b1c-7a108df5204b"
      },
      "source": [
        "# The correlation matrix will show the correlation\r\n",
        "# i used seaborn to print the coorelation matrix as i found it to be easy to read.\r\n",
        "import seaborn as sns\r\n",
        "corrMatrix = df.corr()\r\n",
        "sns.heatmap(corrMatrix, annot=True)\r\n",
        "plt.show()"
      ],
      "execution_count": 126,
      "outputs": [
        {
          "output_type": "display_data",
          "data": {
            "image/png": "[encoded data removed]",
            "text/plain": [
              "<Figure size 432x288 with 2 Axes>"
            ]
          },
          "metadata": {
            "tags": [],
            "needs_background": "light"
          }
        }
      ]
    },
    {
      "cell_type": "markdown",
      "metadata": {
        "id": "7LZ9Nq5MWbNz"
      },
      "source": [
        "3-2 Which are the 2 most correlated variables, make a scatter plot of them. Could you guess how much blood is donated each time ?"
      ]
    },
    {
      "cell_type": "code",
      "metadata": {
        "colab": {
          "base_uri": "https://localhost:8080/",
          "height": 296
        },
        "id": "p7fzo81uWbNz",
        "outputId": "75c213a0-d084-4a49-8b5e-c8fd928e8bc6"
      },
      "source": [
        "#sn.relplot(data = corrMatrix)\r\n",
        "#we can see the two most correlated variables are 'Frequency' and 'Volume' which have a correlation of 100%\r\n",
        "col = ['Frequency','Volume']\r\n",
        "df.plot(kind = 'scatter', x ='Frequency' , y = 'Volume', alpha = 0.05)"
      ],
      "execution_count": 127,
      "outputs": [
        {
          "output_type": "execute_result",
          "data": {
            "text/plain": [
              "<matplotlib.axes._subplots.AxesSubplot at 0x7f0fbdea4c50>"
            ]
          },
          "metadata": {
            "tags": []
          },
          "execution_count": 127
        },
        {
          "output_type": "display_data",
          "data": {
            "image/png": "[encoded data removed]",
            "text/plain": [
              "<Figure size 432x288 with 1 Axes>"
            ]
          },
          "metadata": {
            "tags": [],
            "needs_background": "light"
          }
        }
      ]
    },
    {
      "cell_type": "code",
      "metadata": {
        "id": "PmOiONrBWbNz",
        "colab": {
          "base_uri": "https://localhost:8080/"
        },
        "outputId": "f122931b-f529-4f71-b2fe-ff6c4bf5c3fe"
      },
      "source": [
        "print(\"250 cubic centimeter per person because if we divide the volume of blood given by a donor\") \r\n",
        "print(\"by the frequency at which he came, we always have 250 ( which is further shown in the linear scatter plot\")"
      ],
      "execution_count": 128,
      "outputs": [
        {
          "output_type": "stream",
          "text": [
            "250 cubic centimeter per person because if we divide the volume of blood given by a donor\n",
            "by the frequency at which he came, we always have 250 ( which is further shown in the linear scatter plot\n"
          ],
          "name": "stdout"
        }
      ]
    },
    {
      "cell_type": "markdown",
      "metadata": {
        "id": "SxptyM-ZWbNz"
      },
      "source": [
        "3-3 Remove one of the two most correlated variables above. The choice should have no consequence for the rest, but to have the same results among all students, remove the column with the shortest name (small number of letters)"
      ]
    },
    {
      "cell_type": "code",
      "metadata": {
        "collapsed": true,
        "id": "0r85csIzWbNz",
        "colab": {
          "base_uri": "https://localhost:8080/",
          "height": 204
        },
        "outputId": "ad6158eb-1381-4581-9c79-14321bdacfba"
      },
      "source": [
        "# your code here\r\n",
        "df.drop('Volume',axis = 1,inplace = True)\r\n",
        "df.head()"
      ],
      "execution_count": 129,
      "outputs": [
        {
          "output_type": "execute_result",
          "data": {
            "text/html": [
              "<div>\n",
              "<style scoped>\n",
              "    .dataframe tbody tr th:only-of-type {\n",
              "        vertical-align: middle;\n",
              "    }\n",
              "\n",
              "    .dataframe tbody tr th {\n",
              "        vertical-align: top;\n",
              "    }\n",
              "\n",
              "    .dataframe thead th {\n",
              "        text-align: right;\n",
              "    }\n",
              "</style>\n",
              "<table border=\"1\" class=\"dataframe\">\n",
              "  <thead>\n",
              "    <tr style=\"text-align: right;\">\n",
              "      <th></th>\n",
              "      <th>Recency</th>\n",
              "      <th>Frequency</th>\n",
              "      <th>Time</th>\n",
              "      <th>Target</th>\n",
              "    </tr>\n",
              "  </thead>\n",
              "  <tbody>\n",
              "    <tr>\n",
              "      <th>0</th>\n",
              "      <td>2</td>\n",
              "      <td>50</td>\n",
              "      <td>98</td>\n",
              "      <td>1</td>\n",
              "    </tr>\n",
              "    <tr>\n",
              "      <th>1</th>\n",
              "      <td>0</td>\n",
              "      <td>13</td>\n",
              "      <td>28</td>\n",
              "      <td>1</td>\n",
              "    </tr>\n",
              "    <tr>\n",
              "      <th>2</th>\n",
              "      <td>1</td>\n",
              "      <td>16</td>\n",
              "      <td>35</td>\n",
              "      <td>1</td>\n",
              "    </tr>\n",
              "    <tr>\n",
              "      <th>3</th>\n",
              "      <td>2</td>\n",
              "      <td>20</td>\n",
              "      <td>45</td>\n",
              "      <td>1</td>\n",
              "    </tr>\n",
              "    <tr>\n",
              "      <th>4</th>\n",
              "      <td>1</td>\n",
              "      <td>24</td>\n",
              "      <td>77</td>\n",
              "      <td>0</td>\n",
              "    </tr>\n",
              "  </tbody>\n",
              "</table>\n",
              "</div>"
            ],
            "text/plain": [
              "   Recency  Frequency  Time  Target\n",
              "0        2         50    98       1\n",
              "1        0         13    28       1\n",
              "2        1         16    35       1\n",
              "3        2         20    45       1\n",
              "4        1         24    77       0"
            ]
          },
          "metadata": {
            "tags": []
          },
          "execution_count": 129
        }
      ]
    },
    {
      "cell_type": "markdown",
      "metadata": {
        "id": "9RmvvNs4WbNz"
      },
      "source": [
        "## Model Training & Evaluation"
      ]
    },
    {
      "cell_type": "markdown",
      "metadata": {
        "id": "q2x8BqRQWbN0"
      },
      "source": [
        "4- Load the target variable into a dataframe and call it y. Then, load the features into a second dataframe and call it X. Fit a logistic model using cross validation. Use 5 folds and print the average accuracy"
      ]
    },
    {
      "cell_type": "code",
      "metadata": {
        "collapsed": true,
        "id": "qTrP6KlAWbN0",
        "colab": {
          "base_uri": "https://localhost:8080/"
        },
        "outputId": "b2827906-1f9b-41d1-a951-fdb561ff7ce6"
      },
      "source": [
        "# y dataframe containing the taget\r\n",
        "y = df['Target']\r\n",
        "X = df.drop('Target',axis = 1)\r\n",
        "print(X.head())\r\n",
        "print(y.head())"
      ],
      "execution_count": 130,
      "outputs": [
        {
          "output_type": "stream",
          "text": [
            "   Recency  Frequency  Time\n",
            "0        2         50    98\n",
            "1        0         13    28\n",
            "2        1         16    35\n",
            "3        2         20    45\n",
            "4        1         24    77\n",
            "0    1\n",
            "1    1\n",
            "2    1\n",
            "3    1\n",
            "4    0\n",
            "Name: Target, dtype: int64\n"
          ],
          "name": "stdout"
        }
      ]
    },
    {
      "cell_type": "code",
      "metadata": {
        "id": "FJe7l-vgWbN0",
        "colab": {
          "base_uri": "https://localhost:8080/"
        },
        "outputId": "db556ce4-8853-4a38-c5dc-2ad23e78f3bf"
      },
      "source": [
        "# use sklearn + creating training set\n",
        "from sklearn.linear_model import LogisticRegression\n",
        "from sklearn.model_selection import train_test_split\n",
        "from sklearn.model_selection import cross_val_score\n",
        "X_train,X_test ,y_train, y_test = train_test_split(X,y, test_size = 0.3, random_state = 11)\n",
        "clf_log = LogisticRegression(random_state=11)\n",
        "clf_log.fit(X_train,y_train)\n",
        "# cross validation\n",
        "scores_log = cross_val_score(clf_log, X, y, scoring='accuracy', cv=5)\n",
        "print('cross validation accuracy =', scores_log)\n",
        "print(scores_log.mean())"
      ],
      "execution_count": 131,
      "outputs": [
        {
          "output_type": "stream",
          "text": [
            "cross validation accuracy = [0.76       0.76       0.75333333 0.82550336 0.76510067]\n",
            "0.7727874720357942\n"
          ],
          "name": "stdout"
        }
      ]
    },
    {
      "cell_type": "markdown",
      "metadata": {
        "id": "-c2qWQJrWbN0"
      },
      "source": [
        "5- Fit a RandomForestClassifier [RandomForestClassifier](http://scikit-learn.org/stable/modules/generated/sklearn.ensemble.RandomForestClassifier.html) using cross validation. Use 5 folds and print the average accuracy. <br>\n",
        "Set random_state=1 and play around the other parameters manually to improve the score"
      ]
    },
    {
      "cell_type": "code",
      "metadata": {
        "id": "qd_BkYiwWbN0",
        "colab": {
          "base_uri": "https://localhost:8080/"
        },
        "outputId": "a38d0dbc-30ff-4e3d-8af2-43dc07c5fb04"
      },
      "source": [
        "# importing a forest\n",
        "from sklearn.ensemble import RandomForestClassifier\n",
        "# i played a bit and put some random parameter, can't get him above 76.2% accuracy even with some million leaf\n",
        "#it's as if no manual random configuration can get above 76% which is bad considering logistic regression got us 77% \n",
        "clf_rf = RandomForestClassifier(random_state=1,n_estimators=2, max_depth=1, min_samples_leaf=1000000,  min_samples_split = 11)\n",
        "clf_rf.fit(X_train,y_train)\n",
        "scores_rf = cross_val_score(clf_rf, X, y, scoring='accuracy', cv=5)\n",
        "print(scores_rf)\n",
        "print('cross validation accuracy =', scores_rf.mean())"
      ],
      "execution_count": 144,
      "outputs": [
        {
          "output_type": "stream",
          "text": [
            "[0.76       0.76       0.76       0.76510067 0.76510067]\n",
            "cross validation accuracy = 0.7620402684563758\n"
          ],
          "name": "stdout"
        }
      ]
    },
    {
      "cell_type": "markdown",
      "metadata": {
        "id": "xO2G_uLsWbN1"
      },
      "source": [
        "6- So far, you were told to leave all the parameters to default values, let's now optimize some of them using GridSearchCV. <br>\n",
        "Search the following parameters in the given values (**This may take a while**):\n",
        "* min_samples_leaf: [1, 4, 7]\n",
        "* min_samples_split: [2, 4, 6, 8, 10]\n",
        "* n_estimators: [20, 30, 40]\n",
        "* max_depth: [2,3]"
      ]
    },
    {
      "cell_type": "code",
      "metadata": {
        "id": "qluneE2nWbN1",
        "colab": {
          "base_uri": "https://localhost:8080/"
        },
        "outputId": "c96d3dab-7575-4ca9-f847-6be1ab3b0b26"
      },
      "source": [
        "from sklearn.model_selection import GridSearchCV\n",
        "params = {'min_samples_leaf':[1, 4, 7],'min_samples_split':[2, 4, 6, 8, 10],\n",
        "          'n_estimators':[20, 30, 40], 'max_depth': [2,3]}\n",
        "clf_rf2 = RandomForestClassifier(random_state=1)\n",
        "clf_gs = GridSearchCV(clf_rf2, params, scoring = 'accuracy',cv=5)\n",
        "clf_gs.fit(X_train,y_train)"
      ],
      "execution_count": 146,
      "outputs": [
        {
          "output_type": "execute_result",
          "data": {
            "text/plain": [
              "GridSearchCV(cv=5, error_score=nan,\n",
              "             estimator=RandomForestClassifier(bootstrap=True, ccp_alpha=0.0,\n",
              "                                              class_weight=None,\n",
              "                                              criterion='gini', max_depth=None,\n",
              "                                              max_features='auto',\n",
              "                                              max_leaf_nodes=None,\n",
              "                                              max_samples=None,\n",
              "                                              min_impurity_decrease=0.0,\n",
              "                                              min_impurity_split=None,\n",
              "                                              min_samples_leaf=1,\n",
              "                                              min_samples_split=2,\n",
              "                                              min_weight_fraction_leaf=0.0,\n",
              "                                              n_estimators=100, n_jobs=None,\n",
              "                                              oob_score=False, random_state=1,\n",
              "                                              verbose=0, warm_start=False),\n",
              "             iid='deprecated', n_jobs=None,\n",
              "             param_grid={'max_depth': [2, 3], 'min_samples_leaf': [1, 4, 7],\n",
              "                         'min_samples_split': [2, 4, 6, 8, 10],\n",
              "                         'n_estimators': [20, 30, 40]},\n",
              "             pre_dispatch='2*n_jobs', refit=True, return_train_score=False,\n",
              "             scoring='accuracy', verbose=0)"
            ]
          },
          "metadata": {
            "tags": []
          },
          "execution_count": 146
        }
      ]
    },
    {
      "cell_type": "markdown",
      "metadata": {
        "id": "7zjJucvYWbN1"
      },
      "source": [
        "7- Print the best score, and the best parameters"
      ]
    },
    {
      "cell_type": "code",
      "metadata": {
        "id": "aYvLy-NSWbN1",
        "colab": {
          "base_uri": "https://localhost:8080/"
        },
        "outputId": "38802804-2fb4-4ff1-eab3-3ff0baa0cb58"
      },
      "source": [
        "# bbest score\r\n",
        "clf_gs.best_score_"
      ],
      "execution_count": 147,
      "outputs": [
        {
          "output_type": "execute_result",
          "data": {
            "text/plain": [
              "0.7629120879120879"
            ]
          },
          "metadata": {
            "tags": []
          },
          "execution_count": 147
        }
      ]
    },
    {
      "cell_type": "code",
      "metadata": {
        "id": "SFU0FCUwWbN1",
        "colab": {
          "base_uri": "https://localhost:8080/"
        },
        "outputId": "d07b3972-5207-458a-f049-f5a99d4b500c"
      },
      "source": [
        "# best parameter\r\n",
        "clf_gs.best_params_"
      ],
      "execution_count": 148,
      "outputs": [
        {
          "output_type": "execute_result",
          "data": {
            "text/plain": [
              "{'max_depth': 3,\n",
              " 'min_samples_leaf': 1,\n",
              " 'min_samples_split': 4,\n",
              " 'n_estimators': 30}"
            ]
          },
          "metadata": {
            "tags": []
          },
          "execution_count": 148
        }
      ]
    },
    {
      "cell_type": "markdown",
      "metadata": {
        "id": "mXpe-qEoWbN1"
      },
      "source": [
        "8- Build a dataframe containing the importance of each feature. Sort it from the most important to the least one."
      ]
    },
    {
      "cell_type": "code",
      "metadata": {
        "id": "6PhzQtAtWbN2",
        "colab": {
          "base_uri": "https://localhost:8080/",
          "height": 142
        },
        "outputId": "92a9ea6b-33d2-4aa4-8a2d-9ecfe49f8b93"
      },
      "source": [
        "clf_rf3 = RandomForestClassifier(random_state=1, max_depth = 3, min_samples_leaf = 1, min_samples_split =4, n_estimators = 30 ) \r\n",
        "clf_rf3.fit(X_train, y_train)\r\n",
        "#freshly imported from the course \r\n",
        "feat_imp = pd.DataFrame(clf_rf3.feature_importances_, X.columns, columns=['Importance'])\r\n",
        "feat_imp.sort_values('Importance', ascending=False)"
      ],
      "execution_count": 153,
      "outputs": [
        {
          "output_type": "execute_result",
          "data": {
            "text/html": [
              "<div>\n",
              "<style scoped>\n",
              "    .dataframe tbody tr th:only-of-type {\n",
              "        vertical-align: middle;\n",
              "    }\n",
              "\n",
              "    .dataframe tbody tr th {\n",
              "        vertical-align: top;\n",
              "    }\n",
              "\n",
              "    .dataframe thead th {\n",
              "        text-align: right;\n",
              "    }\n",
              "</style>\n",
              "<table border=\"1\" class=\"dataframe\">\n",
              "  <thead>\n",
              "    <tr style=\"text-align: right;\">\n",
              "      <th></th>\n",
              "      <th>Importance</th>\n",
              "    </tr>\n",
              "  </thead>\n",
              "  <tbody>\n",
              "    <tr>\n",
              "      <th>Frequency</th>\n",
              "      <td>0.409623</td>\n",
              "    </tr>\n",
              "    <tr>\n",
              "      <th>Recency</th>\n",
              "      <td>0.398483</td>\n",
              "    </tr>\n",
              "    <tr>\n",
              "      <th>Time</th>\n",
              "      <td>0.191894</td>\n",
              "    </tr>\n",
              "  </tbody>\n",
              "</table>\n",
              "</div>"
            ],
            "text/plain": [
              "           Importance\n",
              "Frequency    0.409623\n",
              "Recency      0.398483\n",
              "Time         0.191894"
            ]
          },
          "metadata": {
            "tags": []
          },
          "execution_count": 153
        }
      ]
    },
    {
      "cell_type": "code",
      "metadata": {
        "colab": {
          "base_uri": "https://localhost:8080/"
        },
        "id": "2dBBBrVSuM46",
        "outputId": "8b66f488-a272-486b-af85-af557acf444a"
      },
      "source": [
        "scores_rf3 = cross_val_score(clf_rf3, X, y, scoring='accuracy', cv=5)\r\n",
        "print(scores_rf3)\r\n",
        "print('cross validation accuracy =', scores_rf3.mean())"
      ],
      "execution_count": 154,
      "outputs": [
        {
          "output_type": "stream",
          "text": [
            "[0.81333333 0.76       0.76       0.75167785 0.76510067]\n",
            "cross validation accuracy = 0.7700223713646531\n"
          ],
          "name": "stdout"
        }
      ]
    },
    {
      "cell_type": "markdown",
      "metadata": {
        "id": "hBKDBU_XWbN2"
      },
      "source": [
        "9- **Feature engineering**: Try to improve the *RandomForestClassifier* by adding engineered features and using 5 fold grid search for parameter tuning. Print the best score and the best parameters.   \n",
        "**Hint**: You can achieve 78,6 % accuracy or higher."
      ]
    },
    {
      "cell_type": "code",
      "metadata": {
        "id": "duYLy6foWbN2"
      },
      "source": [
        "# your code here\n",
        "clf_rf2 = # your code here\n",
        "clf_gs = # your code here\n",
        "# your code here\n",
        "print(# your code here)\n",
        "print(# your code here)"
      ],
      "execution_count": null,
      "outputs": []
    },
    {
      "cell_type": "markdown",
      "metadata": {
        "id": "Ken_IUyKWbN2"
      },
      "source": [
        "10- Always in the same setting (5 fold grid search), try different ensemble models from [sklearn](http://scikit-learn.org/stable/modules/ensemble.html#ensemble) in order to get the highest accuracy. Print the best score"
      ]
    },
    {
      "cell_type": "code",
      "metadata": {
        "collapsed": true,
        "id": "3w4R6TpQWbN2"
      },
      "source": [
        "# your code here"
      ],
      "execution_count": null,
      "outputs": []
    }
  ]
}