{
  "nbformat": 4,
  "nbformat_minor": 0,
  "metadata": {
    "colab": {
      "name": "Kmean.ipynb",
      "provenance": [],
      "authorship_tag": "ABX9TyMkjmhW0iEUCQyH/uvz9V1Q",
      "include_colab_link": true
    },
    "kernelspec": {
      "name": "python3",
      "display_name": "Python 3"
    }
  },
  "cells": [
    {
      "cell_type": "markdown",
      "metadata": {
        "id": "view-in-github",
        "colab_type": "text"
      },
      "source": [
        "<a href=\"https://colab.research.google.com/github/bee-llel/Machine-Learning/blob/master/Kmean.ipynb\" target=\"_parent\"><img src=\"https://colab.research.google.com/assets/colab-badge.svg\" alt=\"Open In Colab\"/></a>"
      ]
    },
    {
      "cell_type": "code",
      "metadata": {
        "id": "yrzE-5GPVdtT"
      },
      "source": [
        "######################\r\n",
        "\r\n",
        "import numpy as np \r\n",
        "import pandas as pd \r\n",
        "import matplotlib.pyplot as plt\r\n",
        "import seaborn as sns\r\n",
        "import random as rd"
      ],
      "execution_count": 148,
      "outputs": []
    },
    {
      "cell_type": "code",
      "metadata": {
        "id": "WfqwM09kWI7Y"
      },
      "source": [
        "data = np.loadtxt(\"data_kmeans.txt\")\r\n",
        "np.random.shuffle(data)"
      ],
      "execution_count": 149,
      "outputs": []
    },
    {
      "cell_type": "code",
      "metadata": {
        "id": "FXwJ-08-W3cz"
      },
      "source": [
        "##################\r\n",
        "#Definitions#\r\n",
        "#  X -> Represengts the Data Input \r\n",
        "#  K -> Represents the # of cluster\r\n",
        "#  I -> Represents the # of element in the Input matrix X = {x1, x2, ..., xI}\r\n",
        "#  J -> number of centroids which is equal to K\r\n",
        "##################\r\n",
        "# inialize and standardize the data\r\n",
        "## Initialize each cluster centroids which are mu1 mu2 mu3 ... muK\r\n",
        "### compute the distance between each point for each centroid\r\n",
        "#### compute the argmin of the distance between each point and each centroid\r\n",
        "##### assign each point to the closest centroid\r\n",
        "###### update the centroid by computing the barycenter of the point assigned to that centroid"
      ],
      "execution_count": 150,
      "outputs": []
    },
    {
      "cell_type": "code",
      "metadata": {
        "id": "uQcy15pye082"
      },
      "source": [
        "##################\r\n",
        "#Definitions#\r\n",
        "#  X -> Represengts the Data Input \r\n",
        "X_train = data[:200,:]\r\n",
        "X_test = data[200:,:]\r\n",
        "\r\n",
        "#  K -> Represents the # of cluster\r\n",
        "K = 3\r\n",
        "#  I -> Represents the # of element in the Input matrix X = {x1, x2, ..., xI}\r\n",
        "I = 300\r\n",
        "I_train = 200\r\n",
        "I_test = 100\r\n",
        "#  J -> number of centroids which is equal to K\r\n",
        "J = K\r\n",
        "# N -> number of features\r\n",
        "N = 2\r\n"
      ],
      "execution_count": 151,
      "outputs": []
    },
    {
      "cell_type": "code",
      "metadata": {
        "colab": {
          "base_uri": "https://localhost:8080/",
          "height": 284
        },
        "id": "2SxuyBpddV_j",
        "outputId": "9d6c7e42-e5ea-4d29-a5ca-b54248c10177"
      },
      "source": [
        "# inialize and standardize the data\r\n",
        "plt.scatter(X_train[:,:1],X_train[:,1:2], c=\"grey\")"
      ],
      "execution_count": 152,
      "outputs": [
        {
          "output_type": "execute_result",
          "data": {
            "text/plain": [
              "<matplotlib.collections.PathCollection at 0x7f9ce87f8550>"
            ]
          },
          "metadata": {
            "tags": []
          },
          "execution_count": 152
        },
        {
          "output_type": "display_data",
          "data": {
            "image/png": "[encoded data removed]",
            "text/plain": [
              "<Figure size 432x288 with 1 Axes>"
            ]
          },
          "metadata": {
            "tags": [],
            "needs_background": "light"
          }
        }
      ]
    },
    {
      "cell_type": "code",
      "metadata": {
        "colab": {
          "base_uri": "https://localhost:8080/"
        },
        "id": "KHEDdbpJ6BLU",
        "outputId": "fa064d06-69b7-4328-84c1-7e42b08b9f0e"
      },
      "source": [
        "print(X_train)"
      ],
      "execution_count": 153,
      "outputs": [
        {
          "output_type": "stream",
          "text": [
            "[[5.3353  3.0393 ]\n",
            " [3.1343  4.9618 ]\n",
            " [6.2921  2.7757 ]\n",
            " [3.2784  1.7504 ]\n",
            " [2.9518  0.89583]\n",
            " [2.5407  0.98393]\n",
            " [2.3256  4.7487 ]\n",
            " [1.5318  1.1005 ]\n",
            " [3.2311  5.7843 ]\n",
            " [5.6175  2.5975 ]\n",
            " [4.8255  2.7796 ]\n",
            " [4.0539  0.53292]\n",
            " [5.8766  3.2166 ]\n",
            " [7.2878  2.7518 ]\n",
            " [5.503   2.6292 ]\n",
            " [4.2559  0.90644]\n",
            " [2.9834  4.8405 ]\n",
            " [5.9942  2.7571 ]\n",
            " [1.7516  0.68854]\n",
            " [2.7959  0.99527]\n",
            " [4.1691  0.20581]\n",
            " [2.301   4.9724 ]\n",
            " [2.8473  0.26759]\n",
            " [5.8874  3.3462 ]\n",
            " [0.17783 5.2977 ]\n",
            " [2.6143  5.2229 ]\n",
            " [0.10512 4.7292 ]\n",
            " [5.7328  2.8774 ]\n",
            " [3.6485  1.6285 ]\n",
            " [1.5233  4.8792 ]\n",
            " [1.5178  5.0384 ]\n",
            " [6.3787  2.6502 ]\n",
            " [2.9582  1.0189 ]\n",
            " [5.7877  3.2926 ]\n",
            " [1.893   4.8904 ]\n",
            " [5.6333  2.99   ]\n",
            " [6.8858  2.8885 ]\n",
            " [0.47647 5.1354 ]\n",
            " [1.1299  0.77085]\n",
            " [3.8142  4.7353 ]\n",
            " [2.904   4.6122 ]\n",
            " [5.6403  2.6939 ]\n",
            " [3.0619  1.5719 ]\n",
            " [2.127   0.95672]\n",
            " [4.888   5.5067 ]\n",
            " [5.9128  2.8563 ]\n",
            " [2.2096  4.9147 ]\n",
            " [5.5291  3.3368 ]\n",
            " [2.372   1.4279 ]\n",
            " [6.1744  3.2903 ]\n",
            " [3.9555  0.83269]\n",
            " [2.1217  5.2085 ]\n",
            " [3.1241  0.67822]\n",
            " [2.8     5.1153 ]\n",
            " [2.07    4.6847 ]\n",
            " [1.6049  5.1366 ]\n",
            " [3.0897  1.0881 ]\n",
            " [3.0835  1.1963 ]\n",
            " [2.7391  1.1007 ]\n",
            " [5.5026  3.1187 ]\n",
            " [0.96791 1.1617 ]\n",
            " [3.9056  1.1658 ]\n",
            " [5.0361  2.9249 ]\n",
            " [1.0206  4.6299 ]\n",
            " [6.1177  2.8548 ]\n",
            " [6.7811  3.0568 ]\n",
            " [5.3874  2.2674 ]\n",
            " [3.0068  0.62519]\n",
            " [0.94049 5.7156 ]\n",
            " [5.7404  3.1039 ]\n",
            " [1.5914  4.8321 ]\n",
            " [3.7136  0.45813]\n",
            " [6.6326  3.148  ]\n",
            " [2.2515  5.445  ]\n",
            " [8.2034  2.4169 ]\n",
            " [6.2844  3.1736 ]\n",
            " [5.3705  2.4495 ]\n",
            " [1.4026  1.0873 ]\n",
            " [3.0284  1.3564 ]\n",
            " [2.685   0.35345]\n",
            " [5.6586  4.8    ]\n",
            " [7.1714  3.4123 ]\n",
            " [2.1565  0.40359]\n",
            " [5.3171  2.8174 ]\n",
            " [7.2168  2.729  ]\n",
            " [1.1607  4.6773 ]\n",
            " [3.3106  1.0312 ]\n",
            " [4.6165  2.7932 ]\n",
            " [1.7073  4.0423 ]\n",
            " [0.94623 0.24522]\n",
            " [4.6063  3.3295 ]\n",
            " [5.8607  2.9958 ]\n",
            " [3.1841  1.4141 ]\n",
            " [3.0071  4.679  ]\n",
            " [2.115   5.3737 ]\n",
            " [2.0567  5.2339 ]\n",
            " [7.655   2.871  ]\n",
            " [3.4593  2.6848 ]\n",
            " [1.0173  4.8447 ]\n",
            " [1.3668  5.2616 ]\n",
            " [2.4287  0.86499]\n",
            " [4.1591  0.61721]\n",
            " [0.36392 4.7333 ]\n",
            " [2.7649  1.4315 ]\n",
            " [2.7173  0.48698]\n",
            " [4.7237  0.62044]\n",
            " [5.5816  3.3351 ]\n",
            " [4.3047  1.1073 ]\n",
            " [0.99253 5.0157 ]\n",
            " [6.6408  2.4107 ]\n",
            " [3.498   1.1005 ]\n",
            " [1.1535  4.6787 ]\n",
            " [4.0607  4.995  ]\n",
            " [1.8538  5.0075 ]\n",
            " [2.4558  0.78905]\n",
            " [2.0213  4.4127 ]\n",
            " [6.4077  2.6755 ]\n",
            " [4.1384  1.2478 ]\n",
            " [7.2469  2.9688 ]\n",
            " [3.1527  0.98156]\n",
            " [6.4821  2.5509 ]\n",
            " [5.0527  2.7569 ]\n",
            " [1.8173  5.1333 ]\n",
            " [3.5066  0.73878]\n",
            " [3.1188  1.3329 ]\n",
            " [3.5401  0.86446]\n",
            " [5.0243  2.9868 ]\n",
            " [1.0229  5.0105 ]\n",
            " [2.1778  4.8615 ]\n",
            " [0.66583 5.244  ]\n",
            " [3.4349  5.3408 ]\n",
            " [5.6318  3.0476 ]\n",
            " [4.1877  2.8928 ]\n",
            " [3.3006  1.2811 ]\n",
            " [2.81    5.5385 ]\n",
            " [6.5871  3.3751 ]\n",
            " [3.2038  1.0273 ]\n",
            " [3.9616  2.7203 ]\n",
            " [5.3671  3.195  ]\n",
            " [3.0308  5.2406 ]\n",
            " [6.057   2.9497 ]\n",
            " [2.8596  5.2604 ]\n",
            " [3.9362  1.462  ]\n",
            " [6.0102  2.724  ]\n",
            " [3.7876  1.4544 ]\n",
            " [2.4052  1.1178 ]\n",
            " [5.1453  4.1323 ]\n",
            " [1.5144  4.77   ]\n",
            " [1.6784  5.269  ]\n",
            " [2.2032  4.9452 ]\n",
            " [7.4949  2.8402 ]\n",
            " [4.0171  1.1607 ]\n",
            " [2.5418  4.811  ]\n",
            " [1.6052  1.1098 ]\n",
            " [3.5648  1.1176 ]\n",
            " [1.9191  5.5785 ]\n",
            " [6.4483  3.353  ]\n",
            " [2.2841  0.64865]\n",
            " [2.5598  5.264  ]\n",
            " [6.2426  2.7918 ]\n",
            " [6.0051  2.7278 ]\n",
            " [5.3262  3.0331 ]\n",
            " [5.8956  2.8984 ]\n",
            " [3.232   4.9399 ]\n",
            " [2.2419  4.9245 ]\n",
            " [7.7566  3.156  ]\n",
            " [1.8442  5.0315 ]\n",
            " [7.3981  3.4849 ]\n",
            " [3.4519  0.42784]\n",
            " [3.9078  5.0946 ]\n",
            " [3.916   1.0123 ]\n",
            " [2.6104  0.88028]\n",
            " [1.3813  5.0019 ]\n",
            " [2.1286  5.0115 ]\n",
            " [2.9429  1.0283 ]\n",
            " [7.3028  3.3802 ]\n",
            " [6.2177  2.8099 ]\n",
            " [1.406   5.0664 ]\n",
            " [1.5745  1.3481 ]\n",
            " [1.6546  1.1863 ]\n",
            " [0.66632 4.8719 ]\n",
            " [5.132   2.1981 ]\n",
            " [4.0816  0.872  ]\n",
            " [2.1789  5.2976 ]\n",
            " [6.3356  3.3086 ]\n",
            " [3.4116  1.1596 ]\n",
            " [3.2037  4.8592 ]\n",
            " [4.7078  2.7871 ]\n",
            " [6.597   3.0708 ]\n",
            " [6.6245  2.7445 ]\n",
            " [2.8838  0.80455]\n",
            " [0.95312 5.5804 ]\n",
            " [6.2738  2.2426 ]\n",
            " [3.9416  0.82577]\n",
            " [3.1622  4.8366 ]\n",
            " [6.3747  2.5625 ]\n",
            " [1.9655  1.2173 ]\n",
            " [2.4705  4.8042 ]\n",
            " [3.2646  1.3837 ]\n",
            " [2.5437  0.95733]]\n"
          ],
          "name": "stdout"
        }
      ]
    },
    {
      "cell_type": "code",
      "metadata": {
        "colab": {
          "base_uri": "https://localhost:8080/"
        },
        "id": "RayY0y55d9SL",
        "outputId": "4db58d62-04d2-4104-b96d-f58a272ccbb5"
      },
      "source": [
        "###############################################\r\n",
        "## Initialize each cluster centroids which are mu1 mu2 mu3 ... muK:\r\n",
        "\r\n",
        "# We will take the min and max value of our data and take random centroid between the min and max of our data coordinate:\r\n",
        "max_x = np.max(X_train[:,0])\r\n",
        "min_x = np.min(X_train[:,0])\r\n",
        "\r\n",
        "max_y = np.max(X_train[:,1])\r\n",
        "min_y = np.min(X_train[:,1])\r\n",
        "# we compute mu :\r\n",
        "mu_x = [ np.random.uniform(min_x,max_x) for mu in range(J) ] \r\n",
        "mu_y = [ np.random.uniform(min_y,max_y) for mu in range(J) ] \r\n",
        "mu = np.array((mu_x,mu_y)).T\r\n",
        "print(mu)"
      ],
      "execution_count": 154,
      "outputs": [
        {
          "output_type": "stream",
          "text": [
            "[[5.67010228 1.76332364]\n",
            " [7.57908994 1.11716598]\n",
            " [0.63176213 2.11382713]]\n"
          ],
          "name": "stdout"
        }
      ]
    },
    {
      "cell_type": "code",
      "metadata": {
        "colab": {
          "base_uri": "https://localhost:8080/",
          "height": 284
        },
        "id": "10HAIc_Di4re",
        "outputId": "0bb9d2e3-cbfb-434a-b338-2cf8ea2b1def"
      },
      "source": [
        "# visualisation:\r\n",
        "plt.scatter(X_train[:,:1],X_train[:,1:2], c=\"grey\")\r\n",
        "plt.scatter(mu[:,0],mu[:,1],s=400,marker='+',c=\"black\")"
      ],
      "execution_count": 155,
      "outputs": [
        {
          "output_type": "execute_result",
          "data": {
            "text/plain": [
              "<matplotlib.collections.PathCollection at 0x7f9ce86d2c10>"
            ]
          },
          "metadata": {
            "tags": []
          },
          "execution_count": 155
        },
        {
          "output_type": "display_data",
          "data": {
            "image/png": "[encoded data removed]",
            "text/plain": [
              "<Figure size 432x288 with 1 Axes>"
            ]
          },
          "metadata": {
            "tags": [],
            "needs_background": "light"
          }
        }
      ]
    },
    {
      "cell_type": "code",
      "metadata": {
        "colab": {
          "base_uri": "https://localhost:8080/"
        },
        "id": "rPzmHrfD8mTf",
        "outputId": "c1227208-68f4-419d-ecf8-72b79bb15dd8"
      },
      "source": [
        "######################################\r\n",
        "# compute the distance between each point and each centroid and stock it in a distance array named D using the norm 2 \r\n",
        "# D is of dimension I * K because for each point (I point) we have K distance ( one for each centroid)\r\n",
        "\r\n",
        "D = np.zeros((I_train,K))\r\n",
        "for i in range(I_train):\r\n",
        "  for j in range(J):\r\n",
        "      D[i,j] = (X_train[i,0] - mu[j,0])**2 + (X_train[i,1] - mu[j,1])**2\r\n",
        "\r\n",
        "print(np.max(D))"
      ],
      "execution_count": 156,
      "outputs": [
        {
          "output_type": "stream",
          "text": [
            "72.25551344323466\n"
          ],
          "name": "stdout"
        }
      ]
    },
    {
      "cell_type": "code",
      "metadata": {
        "colab": {
          "base_uri": "https://localhost:8080/"
        },
        "id": "maGvA8o8-pKb",
        "outputId": "9e685a9d-22ea-42f9-bde3-43454ff083eb"
      },
      "source": [
        "#### compute the argmin of the distance between each point and each centroid\r\n",
        "yes = np.argmin(D,axis=1)\r\n",
        "print(yes)"
      ],
      "execution_count": 157,
      "outputs": [
        {
          "output_type": "stream",
          "text": [
            "[0 2 0 0 2 2 2 2 2 0 0 0 0 1 0 0 2 0 2 2 0 2 2 0 2 2 2 0 0 2 2 0 2 0 2 0 0\n",
            " 2 2 0 2 0 2 2 0 0 2 0 2 0 0 2 0 2 2 2 2 2 2 0 2 0 0 2 0 0 0 2 2 0 2 0 0 2\n",
            " 1 0 0 2 2 2 0 0 2 0 1 2 0 0 2 2 0 0 0 2 2 2 1 0 2 2 2 0 2 2 2 0 0 0 2 0 0\n",
            " 2 0 2 2 2 0 0 1 0 0 0 2 0 0 0 0 2 2 2 0 0 0 0 2 0 0 0 0 2 0 2 0 0 0 2 0 2\n",
            " 2 2 1 0 2 2 0 2 0 2 2 0 0 0 0 2 2 1 2 1 0 0 0 2 2 2 2 1 0 2 2 2 2 0 0 2 0\n",
            " 0 2 0 0 0 2 2 0 0 2 0 2 2 0 2]\n"
          ],
          "name": "stdout"
        }
      ]
    },
    {
      "cell_type": "code",
      "metadata": {
        "id": "t-eyIghw_4l0"
      },
      "source": [
        "###### update the centroid by computing the barycenter of the point assigned to that centroid\r\n",
        "for i in range(1,I_train):\r\n",
        "  for k in range(1,K+1):\r\n",
        "    for n in range(N):\r\n",
        "      if yes[i-1] == k:\r\n",
        "        mu[k-1,n] = X_train[i-1][n]/k"
      ],
      "execution_count": 158,
      "outputs": []
    },
    {
      "cell_type": "code",
      "metadata": {
        "colab": {
          "base_uri": "https://localhost:8080/",
          "height": 284
        },
        "id": "oGIPEqipAy1K",
        "outputId": "fbb9474f-651d-4704-c8a9-6c2e1c57eb5a"
      },
      "source": [
        "plt.scatter(X_train[:,:1],X_train[:,1:2], c=\"grey\")\r\n",
        "plt.scatter(mu[:,0],mu[:,1],s=400,marker='+',c=\"black\")"
      ],
      "execution_count": 159,
      "outputs": [
        {
          "output_type": "execute_result",
          "data": {
            "text/plain": [
              "<matplotlib.collections.PathCollection at 0x7f9ce8653150>"
            ]
          },
          "metadata": {
            "tags": []
          },
          "execution_count": 159
        },
        {
          "output_type": "display_data",
          "data": {
            "image/png": "[encoded data removed]",
            "text/plain": [
              "<Figure size 432x288 with 1 Axes>"
            ]
          },
          "metadata": {
            "tags": [],
            "needs_background": "light"
          }
        }
      ]
    },
    {
      "cell_type": "code",
      "metadata": {
        "id": "z3DCgcDABDOm"
      },
      "source": [
        ""
      ],
      "execution_count": null,
      "outputs": []
    }
  ]
}