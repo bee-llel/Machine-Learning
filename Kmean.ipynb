{
  "nbformat": 4,
  "nbformat_minor": 0,
  "metadata": {
    "colab": {
      "name": "Kmean.ipynb",
      "provenance": [],
      "collapsed_sections": [],
      "toc_visible": true,
      "authorship_tag": "ABX9TyPWej32QZfkPvH9QlKAgYO+",
      "include_colab_link": true
    },
    "kernelspec": {
      "name": "python3",
      "display_name": "Python 3"
    }
  },
  "cells": [
    {
      "cell_type": "markdown",
      "metadata": {
        "id": "view-in-github",
        "colab_type": "text"
      },
      "source": [
        "<a href=\"https://colab.research.google.com/github/bee-llel/Machine-Learning/blob/master/Kmean.ipynb\" target=\"_parent\"><img src=\"https://colab.research.google.com/assets/colab-badge.svg\" alt=\"Open In Colab\"/></a>"
      ]
    },
    {
      "cell_type": "code",
      "metadata": {
        "id": "yrzE-5GPVdtT"
      },
      "source": [
        "######################\n",
        "\n",
        "import numpy as np \n",
        "import pandas as pd \n",
        "import matplotlib.pyplot as plt\n",
        "import seaborn as sns\n",
        "import random as rd"
      ],
      "execution_count": null,
      "outputs": []
    },
    {
      "cell_type": "markdown",
      "metadata": {
        "id": "lXcl9IsTZ14m"
      },
      "source": [
        "1) K-means with test data \n"
      ]
    },
    {
      "cell_type": "code",
      "metadata": {
        "id": "WfqwM09kWI7Y"
      },
      "source": [
        "data = np.loadtxt(\"data_kmeans.txt\")\n",
        "np.random.shuffle(data)"
      ],
      "execution_count": null,
      "outputs": []
    },
    {
      "cell_type": "code",
      "metadata": {
        "id": "fSiwjvPmZtsS"
      },
      "source": [
        "#function i will use for math \n",
        "def indicator(A,B):\n",
        "  I = 0\n",
        "  if A == B:\n",
        "    I = 1\n",
        "  else:\n",
        "    I = 0\n",
        "\n",
        "  return I\n",
        "\n",
        "# found on stack overflow \n",
        "def sigma_sum(start, end, expression):\n",
        "    return sum(expression(i) for i in range(start, end))\n"
      ],
      "execution_count": null,
      "outputs": []
    },
    {
      "cell_type": "code",
      "metadata": {
        "id": "FXwJ-08-W3cz"
      },
      "source": [
        "##################\n",
        "#Definitions#\n",
        "#  X -> Represengts the Data Input \n",
        "#  K -> Represents the # of cluster\n",
        "#  I -> Represents the # of element in the Input matrix X = {x1, x2, ..., xI}\n",
        "#  J -> number of centroids which is equal to K\n",
        "##################\n",
        "# inialize and standardize the data\n",
        "## Initialize each cluster centroids which are mu1 mu2 mu3 ... muK\n",
        "### compute the distance between each point for each centroid\n",
        "#### compute the argmin of the distance between each point and each centroid\n",
        "##### assign each point to the closest centroid\n",
        "###### update the centroid by computing the barycenter of the point assigned to that centroid"
      ],
      "execution_count": null,
      "outputs": []
    },
    {
      "cell_type": "code",
      "metadata": {
        "id": "uQcy15pye082"
      },
      "source": [
        "##################\n",
        "#Definitions#\n",
        "#  X -> Represengts the Data Input \n",
        "X_train = data[:200,:]\n",
        "X_test = data[200:,:]\n",
        "\n",
        "#  K -> Represents the # of cluster\n",
        "K = 3\n",
        "#  I -> Represents the # of element in the Input matrix X = {x1, x2, ..., xI}\n",
        "I = 300\n",
        "I_train = 200\n",
        "I_test = 100\n",
        "#  J -> number of centroids which is equal to K\n",
        "J = K\n",
        "# N -> number of features\n",
        "N = 2\n",
        "# initialize the array which will contain the distance\n",
        "D = np.zeros((I_train,K))\n"
      ],
      "execution_count": null,
      "outputs": []
    },
    {
      "cell_type": "code",
      "metadata": {
        "colab": {
          "base_uri": "https://localhost:8080/",
          "height": 286
        },
        "id": "2SxuyBpddV_j",
        "outputId": "d81d0059-0091-4d85-ef29-41aa2babdb4a"
      },
      "source": [
        "# inialize and standardize the data\n",
        "plt.scatter(X_train[:,:1],X_train[:,1:2], c=\"grey\")"
      ],
      "execution_count": null,
      "outputs": [
        {
          "output_type": "execute_result",
          "data": {
            "text/plain": [
              "<matplotlib.collections.PathCollection at 0x7f4381caeb10>"
            ]
          },
          "metadata": {
            "tags": []
          },
          "execution_count": 38
        },
        {
          "output_type": "display_data",
          "data": {
            "image/png": "[encoded data removed]",
            "text/plain": [
              "<Figure size 432x288 with 1 Axes>"
            ]
          },
          "metadata": {
            "tags": [],
            "needs_background": "light"
          }
        }
      ]
    },
    {
      "cell_type": "code",
      "metadata": {
        "colab": {
          "base_uri": "https://localhost:8080/"
        },
        "id": "RayY0y55d9SL",
        "outputId": "8b3dfc4f-3350-455b-8678-4efecd2305b2"
      },
      "source": [
        "###############################################\n",
        "## Initialize each cluster centroids which are mu1 mu2 mu3 ... muK:\n",
        "\n",
        "# We will take the min and max value of our data and take random centroid between the min and max of our data coordinate:\n",
        "max_x = np.max(X_train[:,0])\n",
        "min_x = np.min(X_train[:,0])\n",
        "\n",
        "max_y = np.max(X_train[:,1])\n",
        "min_y = np.min(X_train[:,1])\n",
        "# we compute mu :\n",
        "mu_x = [ np.random.uniform(min_x,max_x) for mu in range(J) ] \n",
        "mu_y = [ np.random.uniform(min_y,max_y) for mu in range(J) ] \n",
        "mu = np.array((mu_x,mu_y)).T\n",
        "print(mu)"
      ],
      "execution_count": null,
      "outputs": [
        {
          "output_type": "stream",
          "text": [
            "[[4.73550378 1.34240177]\n",
            " [3.12760804 4.53391321]\n",
            " [0.4952096  0.94620039]]\n"
          ],
          "name": "stdout"
        }
      ]
    },
    {
      "cell_type": "code",
      "metadata": {
        "colab": {
          "base_uri": "https://localhost:8080/",
          "height": 286
        },
        "id": "10HAIc_Di4re",
        "outputId": "ba088ba3-8729-4802-8378-cb2d5289b522"
      },
      "source": [
        "# visualisation:\n",
        "plt.scatter(X_train[:,:1],X_train[:,1:2], c=\"grey\")\n",
        "plt.scatter(mu[:,0],mu[:,1],s=400,marker='+',c=\"black\")"
      ],
      "execution_count": null,
      "outputs": [
        {
          "output_type": "execute_result",
          "data": {
            "text/plain": [
              "<matplotlib.collections.PathCollection at 0x7f4381bb39d0>"
            ]
          },
          "metadata": {
            "tags": []
          },
          "execution_count": 46
        },
        {
          "output_type": "display_data",
          "data": {
            "image/png": "[encoded data removed]",
            "text/plain": [
              "<Figure size 432x288 with 1 Axes>"
            ]
          },
          "metadata": {
            "tags": [],
            "needs_background": "light"
          }
        }
      ]
    },
    {
      "cell_type": "code",
      "metadata": {
        "id": "rPzmHrfD8mTf"
      },
      "source": [
        "######################################\n",
        "# compute the distance between each point and each centroid and stock it in a distance array named D using the norm 2 \n",
        "# D is of dimension I * K because for each point (I point) we have K distance ( one for each centroid)\n",
        "\n",
        "\n",
        "def distance(I_train,K,mu,X_train,D):\n",
        "  for i in range(I_train):\n",
        "    for j in range(K):\n",
        "        D[i,j] = (X_train[i,0] - mu[j,0])**2 + (X_train[i,1] - mu[j,1])**2\n",
        "\n",
        "  return D\n",
        "\n",
        "###### update the centroid by computing the barycenter of the point assigned to that centroid\n",
        "def update_center(X_train,yes,mu,K,I_train):\n",
        "  for k in range(K):\n",
        "     mu[k,0] = sigma_sum(0,I_train, lambda i: indicator(yes[i],k)*X_train[i,0]) /  sigma_sum(0,I_train, lambda i: indicator(yes[i],k))\n",
        "     mu[k,1] = sigma_sum(0,I_train, lambda i: indicator(yes[i],k)*X_train[i,1]) / sigma_sum(0,I_train, lambda i: indicator(yes[i],k))\n",
        "  return mu\n"
      ],
      "execution_count": null,
      "outputs": []
    },
    {
      "cell_type": "code",
      "metadata": {
        "id": "SrCme5w0c66k"
      },
      "source": [
        "######################################\n",
        "# repeat the training for 10 iteration, it will be enough to reach convergence\n",
        "for h in range(10):\n",
        "  D = distance(I_train,K,mu,X_train,D)\n",
        "  yes = np.argmin(D,axis=1)\n",
        "  update_center(X_train,yes,mu,K,I_train)\n"
      ],
      "execution_count": null,
      "outputs": []
    },
    {
      "cell_type": "code",
      "metadata": {
        "colab": {
          "base_uri": "https://localhost:8080/",
          "height": 286
        },
        "id": "oGIPEqipAy1K",
        "outputId": "3e9f91c2-3b70-48b6-866b-613680c69739"
      },
      "source": [
        "plt.scatter(X_train[:,:1],X_train[:,1:2], c=\"grey\")\n",
        "plt.scatter(mu[:,0],mu[:,1],s=400,marker='+',c=\"black\")"
      ],
      "execution_count": null,
      "outputs": [
        {
          "output_type": "execute_result",
          "data": {
            "text/plain": [
              "<matplotlib.collections.PathCollection at 0x7f4381b71d90>"
            ]
          },
          "metadata": {
            "tags": []
          },
          "execution_count": 49
        },
        {
          "output_type": "display_data",
          "data": {
            "image/png": "[encoded data removed]",
            "text/plain": [
              "<Figure size 432x288 with 1 Axes>"
            ]
          },
          "metadata": {
            "tags": [],
            "needs_background": "light"
          }
        }
      ]
    },
    {
      "cell_type": "code",
      "metadata": {
        "id": "Y33-fa8WaRq8"
      },
      "source": [
        "#this part was a part of the lab, we will now test K-means on some real data."
      ],
      "execution_count": null,
      "outputs": []
    },
    {
      "cell_type": "markdown",
      "metadata": {
        "id": "6p6J4_8yZ-fW"
      },
      "source": [
        "## **2.1 K-means:Clustering some real data**"
      ]
    },
    {
      "cell_type": "code",
      "metadata": {
        "id": "QLqHhvy7b8we"
      },
      "source": [
        "data=pd.read_csv(\"grade_students.csv\")\n",
        "data_array = data.to_numpy()"
      ],
      "execution_count": 124,
      "outputs": []
    },
    {
      "cell_type": "markdown",
      "metadata": {
        "id": "m_d1gbpVqfQQ"
      },
      "source": [
        "all the function used in this part were written above."
      ]
    },
    {
      "cell_type": "code",
      "metadata": {
        "id": "RenPOtekdcjT"
      },
      "source": [
        "##################\n",
        "#Definitions#\n",
        "# data #  X -> Represents the Data Input \n",
        "K = 3#  K -> Represents the # of cluster \n",
        "I = 5550 # I -> Represents the # of element in the Input matrix X = {x1, x2, ..., xI}\n",
        "J = K  #  J -> number of centroids which is equal to K\n",
        "N = 6 # number of feature\n",
        "\n",
        "# initialize the array which will contain the distance\n",
        "D = np.zeros((I,K))\n",
        "\n",
        "##################\n",
        "# inialize and standardize the data\n",
        "## Initialize each cluster centroids which are mu1 mu2 mu3 ... muK\n",
        "### compute the distance between each point for each centroid\n",
        "#### compute the argmin of the distance between each point and each centroid\n",
        "##### assign each point to the closest centroid\n",
        "###### update the centroid by computing the barycenter of the point assigned to that centroid"
      ],
      "execution_count": 125,
      "outputs": []
    },
    {
      "cell_type": "code",
      "metadata": {
        "colab": {
          "base_uri": "https://localhost:8080/",
          "height": 221
        },
        "id": "hYGgBxyqeSfA",
        "outputId": "c4b8131a-cca6-4d7f-bede-f9fc0f4e64f6"
      },
      "source": [
        "# inialize and standardize the data\n",
        "print(data.shape)\n",
        "data.head()"
      ],
      "execution_count": 126,
      "outputs": [
        {
          "output_type": "stream",
          "text": [
            "(5550, 6)\n"
          ],
          "name": "stdout"
        },
        {
          "output_type": "execute_result",
          "data": {
            "text/html": [
              "<div>\n",
              "<style scoped>\n",
              "    .dataframe tbody tr th:only-of-type {\n",
              "        vertical-align: middle;\n",
              "    }\n",
              "\n",
              "    .dataframe tbody tr th {\n",
              "        vertical-align: top;\n",
              "    }\n",
              "\n",
              "    .dataframe thead th {\n",
              "        text-align: right;\n",
              "    }\n",
              "</style>\n",
              "<table border=\"1\" class=\"dataframe\">\n",
              "  <thead>\n",
              "    <tr style=\"text-align: right;\">\n",
              "      <th></th>\n",
              "      <th>g1freelunch</th>\n",
              "      <th>g1absent</th>\n",
              "      <th>g1readscore</th>\n",
              "      <th>g1mathscore</th>\n",
              "      <th>g1listeningscore</th>\n",
              "      <th>g1wordscore</th>\n",
              "    </tr>\n",
              "  </thead>\n",
              "  <tbody>\n",
              "    <tr>\n",
              "      <th>0</th>\n",
              "      <td>1</td>\n",
              "      <td>9</td>\n",
              "      <td>516</td>\n",
              "      <td>578</td>\n",
              "      <td>601</td>\n",
              "      <td>493</td>\n",
              "    </tr>\n",
              "    <tr>\n",
              "      <th>1</th>\n",
              "      <td>0</td>\n",
              "      <td>12</td>\n",
              "      <td>451</td>\n",
              "      <td>507</td>\n",
              "      <td>584</td>\n",
              "      <td>436</td>\n",
              "    </tr>\n",
              "    <tr>\n",
              "      <th>2</th>\n",
              "      <td>1</td>\n",
              "      <td>4</td>\n",
              "      <td>483</td>\n",
              "      <td>526</td>\n",
              "      <td>529</td>\n",
              "      <td>486</td>\n",
              "    </tr>\n",
              "    <tr>\n",
              "      <th>3</th>\n",
              "      <td>1</td>\n",
              "      <td>15</td>\n",
              "      <td>516</td>\n",
              "      <td>505</td>\n",
              "      <td>556</td>\n",
              "      <td>536</td>\n",
              "    </tr>\n",
              "    <tr>\n",
              "      <th>4</th>\n",
              "      <td>1</td>\n",
              "      <td>2</td>\n",
              "      <td>433</td>\n",
              "      <td>463</td>\n",
              "      <td>504</td>\n",
              "      <td>426</td>\n",
              "    </tr>\n",
              "  </tbody>\n",
              "</table>\n",
              "</div>"
            ],
            "text/plain": [
              "   g1freelunch  g1absent  ...  g1listeningscore  g1wordscore\n",
              "0            1         9  ...               601          493\n",
              "1            0        12  ...               584          436\n",
              "2            1         4  ...               529          486\n",
              "3            1        15  ...               556          536\n",
              "4            1         2  ...               504          426\n",
              "\n",
              "[5 rows x 6 columns]"
            ]
          },
          "metadata": {
            "tags": []
          },
          "execution_count": 126
        }
      ]
    },
    {
      "cell_type": "code",
      "metadata": {
        "colab": {
          "base_uri": "https://localhost:8080/"
        },
        "id": "-4d4hE1HfG0Q",
        "outputId": "7bc2faf5-a960-430e-9ddd-23393a4a067b"
      },
      "source": [
        "print(min(data[\"g1freelunch\"]),max(data[\"g1freelunch\"]))\n",
        "print(min(data[\"g1absent\"]),max(data[\"g1absent\"]))\n",
        "print(min(data[\"g1readscore\"]),max(data[\"g1readscore\"]))\n",
        "print(min(data[\"g1mathscore\"]),max(data[\"g1mathscore\"]))\n",
        "print(min(data[\"g1listeningscore\"]),max(data[\"g1listeningscore\"]))\n",
        "print(min(data[\"g1wordscore\"]),max(data[\"g1wordscore\"]))\n",
        "print(\"We have an idea of how the value the data can take for each feature, we can initialize our centroid around such value \")"
      ],
      "execution_count": 127,
      "outputs": [
        {
          "output_type": "stream",
          "text": [
            "0 1\n",
            "0 84\n",
            "404 651\n",
            "404 676\n",
            "477 708\n",
            "317 601\n",
            "We have an idea of how the value the data can take for each feature, we can initialize our centroid around such value \n"
          ],
          "name": "stdout"
        }
      ]
    },
    {
      "cell_type": "code",
      "metadata": {
        "id": "5OHKyxRyfu2P"
      },
      "source": [
        "## Initialize each cluster centroids which are mu1 mu2 mu3 ... muK\n",
        "# we have three cluster namely Weak, Average and Gifted \n",
        "# We have 6 different criteria to build our cluster \n",
        "# We should have 3 different centroid, each of a dimension 6."
      ],
      "execution_count": 128,
      "outputs": []
    },
    {
      "cell_type": "code",
      "metadata": {
        "id": "glrD2tMDgqNs",
        "colab": {
          "base_uri": "https://localhost:8080/"
        },
        "outputId": "f787c45d-57b8-4734-e7dc-c825fc39e90f"
      },
      "source": [
        "###############################################\n",
        "## Initialize each cluster centroids which are mu1 mu2 mu3 ... muK:\n",
        "\n",
        "# We will take the min and max value of our data and take random centroid between the min and max of our data coordinate:\n",
        "# we know the max and min of each column of our dataframe \n",
        "\n",
        "# we compute mu :\n",
        "mu_x = [ np.random.uniform(0,1) for mu in range(J) ] \n",
        "mu_y = [ np.random.uniform(0,84) for mu in range(J) ] \n",
        "mu_z = [ np.random.uniform(404,651) for mu in range(J) ] \n",
        "mu_w = [ np.random.uniform(404,676) for mu in range(J) ] \n",
        "mu_u = [ np.random.uniform(477,708) for mu in range(J) ] \n",
        "mu_t = [ np.random.uniform(317,601) for mu in range(J) ] \n",
        "mu = np.array((mu_x,mu_y,mu_z,mu_w,mu_u,mu_t)).T\n",
        "print(mu)\n",
        "# we can verify that our mu have the right dimension namely 3*6 or J*N\n",
        "mu.shape"
      ],
      "execution_count": 129,
      "outputs": [
        {
          "output_type": "stream",
          "text": [
            "[[5.27233234e-01 7.54074272e+01 5.15089479e+02 6.74118057e+02\n",
            "  5.97504821e+02 3.23426496e+02]\n",
            " [6.19699162e-01 4.15204572e+01 5.82771551e+02 4.26193151e+02\n",
            "  6.88946945e+02 3.36286409e+02]\n",
            " [2.49143161e-01 7.42456569e+01 4.45829632e+02 6.19134408e+02\n",
            "  6.30696168e+02 5.41703440e+02]]\n"
          ],
          "name": "stdout"
        },
        {
          "output_type": "execute_result",
          "data": {
            "text/plain": [
              "(3, 6)"
            ]
          },
          "metadata": {
            "tags": []
          },
          "execution_count": 129
        }
      ]
    },
    {
      "cell_type": "code",
      "metadata": {
        "id": "GEsMCTtpkCTI"
      },
      "source": [
        "for g in range(100):\n",
        "### compute the distance between each point for each centroid\n",
        "  D = distance(I,K,mu,data_array,D)\n",
        "#### compute the argmin of the distance between each point and each centroid\n",
        "  yes = np.argmin(D,axis=1)\n",
        "#### update the centroid by computing the barycenter of the point assigned to that centroid\n",
        "  update_center(data_array,yes,mu,K,I)"
      ],
      "execution_count": 130,
      "outputs": []
    },
    {
      "cell_type": "code",
      "metadata": {
        "colab": {
          "base_uri": "https://localhost:8080/",
          "height": 142
        },
        "id": "adyIHzcNqL5b",
        "outputId": "5c3f9fa2-85d4-40bf-aa02-a4a238a9d36a"
      },
      "source": [
        "mu_data = pd.DataFrame(mu, index=['Weak', 'Average', 'Gifted'], columns=data.columns)\n",
        "mu_data.head()"
      ],
      "execution_count": 131,
      "outputs": [
        {
          "output_type": "execute_result",
          "data": {
            "text/html": [
              "<div>\n",
              "<style scoped>\n",
              "    .dataframe tbody tr th:only-of-type {\n",
              "        vertical-align: middle;\n",
              "    }\n",
              "\n",
              "    .dataframe tbody tr th {\n",
              "        vertical-align: top;\n",
              "    }\n",
              "\n",
              "    .dataframe thead th {\n",
              "        text-align: right;\n",
              "    }\n",
              "</style>\n",
              "<table border=\"1\" class=\"dataframe\">\n",
              "  <thead>\n",
              "    <tr style=\"text-align: right;\">\n",
              "      <th></th>\n",
              "      <th>g1freelunch</th>\n",
              "      <th>g1absent</th>\n",
              "      <th>g1readscore</th>\n",
              "      <th>g1mathscore</th>\n",
              "      <th>g1listeningscore</th>\n",
              "      <th>g1wordscore</th>\n",
              "    </tr>\n",
              "  </thead>\n",
              "  <tbody>\n",
              "    <tr>\n",
              "      <th>Weak</th>\n",
              "      <td>0.708633</td>\n",
              "      <td>27.992806</td>\n",
              "      <td>515.089479</td>\n",
              "      <td>674.118057</td>\n",
              "      <td>597.504821</td>\n",
              "      <td>323.426496</td>\n",
              "    </tr>\n",
              "    <tr>\n",
              "      <th>Average</th>\n",
              "      <td>0.476396</td>\n",
              "      <td>3.664419</td>\n",
              "      <td>582.771551</td>\n",
              "      <td>426.193151</td>\n",
              "      <td>688.946945</td>\n",
              "      <td>336.286409</td>\n",
              "    </tr>\n",
              "    <tr>\n",
              "      <th>Gifted</th>\n",
              "      <td>0.522045</td>\n",
              "      <td>12.665815</td>\n",
              "      <td>445.829632</td>\n",
              "      <td>619.134408</td>\n",
              "      <td>630.696168</td>\n",
              "      <td>541.703440</td>\n",
              "    </tr>\n",
              "  </tbody>\n",
              "</table>\n",
              "</div>"
            ],
            "text/plain": [
              "         g1freelunch   g1absent  ...  g1listeningscore  g1wordscore\n",
              "Weak        0.708633  27.992806  ...        597.504821   323.426496\n",
              "Average     0.476396   3.664419  ...        688.946945   336.286409\n",
              "Gifted      0.522045  12.665815  ...        630.696168   541.703440\n",
              "\n",
              "[3 rows x 6 columns]"
            ]
          },
          "metadata": {
            "tags": []
          },
          "execution_count": 131
        }
      ]
    },
    {
      "cell_type": "code",
      "metadata": {
        "id": "p14S14WErDTP"
      },
      "source": [
        ""
      ],
      "execution_count": null,
      "outputs": []
    }
  ]
}