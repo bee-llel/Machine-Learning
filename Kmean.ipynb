{
  "nbformat": 4,
  "nbformat_minor": 0,
  "metadata": {
    "colab": {
      "name": "Kmean.ipynb",
      "provenance": [],
      "authorship_tag": "ABX9TyPsk53+4CQaUUfSAv1dCh8f",
      "include_colab_link": true
    },
    "kernelspec": {
      "name": "python3",
      "display_name": "Python 3"
    }
  },
  "cells": [
    {
      "cell_type": "markdown",
      "metadata": {
        "id": "view-in-github",
        "colab_type": "text"
      },
      "source": [
        "<a href=\"https://colab.research.google.com/github/bee-llel/Machine-Learning/blob/master/Kmean.ipynb\" target=\"_parent\"><img src=\"https://colab.research.google.com/assets/colab-badge.svg\" alt=\"Open In Colab\"/></a>"
      ]
    },
    {
      "cell_type": "code",
      "metadata": {
        "id": "yrzE-5GPVdtT"
      },
      "source": [
        "######################\r\n",
        "\r\n",
        "import numpy as np \r\n",
        "import pandas as pd \r\n",
        "import matplotlib.pyplot as plt\r\n",
        "import seaborn as sns\r\n",
        "import random as rd"
      ],
      "execution_count": 154,
      "outputs": []
    },
    {
      "cell_type": "code",
      "metadata": {
        "id": "WfqwM09kWI7Y"
      },
      "source": [
        "data = np.loadtxt(\"data_kmeans.txt\")\r\n",
        "np.random.shuffle(data)"
      ],
      "execution_count": 155,
      "outputs": []
    },
    {
      "cell_type": "code",
      "metadata": {
        "id": "fSiwjvPmZtsS"
      },
      "source": [
        "#function i will use for math \r\n",
        "def indicator(A,B):\r\n",
        "  I = 0\r\n",
        "  if A == B:\r\n",
        "    I = 1\r\n",
        "  else:\r\n",
        "    I = 0\r\n",
        "\r\n",
        "  return I\r\n",
        "\r\n",
        "# found on stack overflow \r\n",
        "def sigma_sum(start, end, expression):\r\n",
        "    return sum(expression(i) for i in range(start, end))\r\n"
      ],
      "execution_count": 156,
      "outputs": []
    },
    {
      "cell_type": "code",
      "metadata": {
        "id": "FXwJ-08-W3cz"
      },
      "source": [
        "##################\r\n",
        "#Definitions#\r\n",
        "#  X -> Represengts the Data Input \r\n",
        "#  K -> Represents the # of cluster\r\n",
        "#  I -> Represents the # of element in the Input matrix X = {x1, x2, ..., xI}\r\n",
        "#  J -> number of centroids which is equal to K\r\n",
        "##################\r\n",
        "# inialize and standardize the data\r\n",
        "## Initialize each cluster centroids which are mu1 mu2 mu3 ... muK\r\n",
        "### compute the distance between each point for each centroid\r\n",
        "#### compute the argmin of the distance between each point and each centroid\r\n",
        "##### assign each point to the closest centroid\r\n",
        "###### update the centroid by computing the barycenter of the point assigned to that centroid"
      ],
      "execution_count": 157,
      "outputs": []
    },
    {
      "cell_type": "code",
      "metadata": {
        "id": "uQcy15pye082"
      },
      "source": [
        "##################\r\n",
        "#Definitions#\r\n",
        "#  X -> Represengts the Data Input \r\n",
        "X_train = data[:200,:]\r\n",
        "X_test = data[200:,:]\r\n",
        "\r\n",
        "#  K -> Represents the # of cluster\r\n",
        "K = 3\r\n",
        "#  I -> Represents the # of element in the Input matrix X = {x1, x2, ..., xI}\r\n",
        "I = 300\r\n",
        "I_train = 200\r\n",
        "I_test = 100\r\n",
        "#  J -> number of centroids which is equal to K\r\n",
        "J = K\r\n",
        "# N -> number of features\r\n",
        "N = 2\r\n",
        "# initialize the array which will contain the distance\r\n",
        "D = np.zeros((I_train,K))\r\n"
      ],
      "execution_count": 158,
      "outputs": []
    },
    {
      "cell_type": "code",
      "metadata": {
        "colab": {
          "base_uri": "https://localhost:8080/",
          "height": 284
        },
        "id": "2SxuyBpddV_j",
        "outputId": "dd9e11bd-84c6-4410-8073-780b400f1780"
      },
      "source": [
        "# inialize and standardize the data\r\n",
        "plt.scatter(X_train[:,:1],X_train[:,1:2], c=\"grey\")"
      ],
      "execution_count": 159,
      "outputs": [
        {
          "output_type": "execute_result",
          "data": {
            "text/plain": [
              "<matplotlib.collections.PathCollection at 0x7fc64a72c890>"
            ]
          },
          "metadata": {
            "tags": []
          },
          "execution_count": 159
        },
        {
          "output_type": "display_data",
          "data": {
            "image/png": "[encoded data removed]",
            "text/plain": [
              "<Figure size 432x288 with 1 Axes>"
            ]
          },
          "metadata": {
            "tags": [],
            "needs_background": "light"
          }
        }
      ]
    },
    {
      "cell_type": "code",
      "metadata": {
        "colab": {
          "base_uri": "https://localhost:8080/"
        },
        "id": "KHEDdbpJ6BLU",
        "outputId": "567448f2-0497-40e5-c4e4-4543e1b32412"
      },
      "source": [
        "print(X_train[120,1])"
      ],
      "execution_count": 160,
      "outputs": [
        {
          "output_type": "stream",
          "text": [
            "0.95672\n"
          ],
          "name": "stdout"
        }
      ]
    },
    {
      "cell_type": "code",
      "metadata": {
        "colab": {
          "base_uri": "https://localhost:8080/"
        },
        "id": "RayY0y55d9SL",
        "outputId": "b654d7de-a864-4761-e590-aecc8f9a927f"
      },
      "source": [
        "###############################################\r\n",
        "## Initialize each cluster centroids which are mu1 mu2 mu3 ... muK:\r\n",
        "\r\n",
        "# We will take the min and max value of our data and take random centroid between the min and max of our data coordinate:\r\n",
        "max_x = np.max(X_train[:,0])\r\n",
        "min_x = np.min(X_train[:,0])\r\n",
        "\r\n",
        "max_y = np.max(X_train[:,1])\r\n",
        "min_y = np.min(X_train[:,1])\r\n",
        "# we compute mu :\r\n",
        "mu_x = [ np.random.uniform(min_x,max_x) for mu in range(J) ] \r\n",
        "mu_y = [ np.random.uniform(min_y,max_y) for mu in range(J) ] \r\n",
        "mu = np.array((mu_x,mu_y)).T\r\n",
        "print(mu[0])"
      ],
      "execution_count": 161,
      "outputs": [
        {
          "output_type": "stream",
          "text": [
            "[0.82469423 3.21781995]\n"
          ],
          "name": "stdout"
        }
      ]
    },
    {
      "cell_type": "code",
      "metadata": {
        "colab": {
          "base_uri": "https://localhost:8080/",
          "height": 284
        },
        "id": "10HAIc_Di4re",
        "outputId": "4e753868-2251-44cd-faa0-ed4e4d5b9543"
      },
      "source": [
        "# visualisation:\r\n",
        "plt.scatter(X_train[:,:1],X_train[:,1:2], c=\"grey\")\r\n",
        "plt.scatter(mu[:,0],mu[:,1],s=400,marker='+',c=\"black\")"
      ],
      "execution_count": 162,
      "outputs": [
        {
          "output_type": "execute_result",
          "data": {
            "text/plain": [
              "<matplotlib.collections.PathCollection at 0x7fc64a61b590>"
            ]
          },
          "metadata": {
            "tags": []
          },
          "execution_count": 162
        },
        {
          "output_type": "display_data",
          "data": {
            "image/png": "[encoded data removed]",
            "text/plain": [
              "<Figure size 432x288 with 1 Axes>"
            ]
          },
          "metadata": {
            "tags": [],
            "needs_background": "light"
          }
        }
      ]
    },
    {
      "cell_type": "code",
      "metadata": {
        "id": "rPzmHrfD8mTf"
      },
      "source": [
        "######################################\r\n",
        "# compute the distance between each point and each centroid and stock it in a distance array named D using the norm 2 \r\n",
        "# D is of dimension I * K because for each point (I point) we have K distance ( one for each centroid)\r\n",
        "\r\n",
        "\r\n",
        "def distance(I_train,K,mu,X_train,D):\r\n",
        "  for i in range(I_train):\r\n",
        "    for j in range(K):\r\n",
        "        D[i,j] = (X_train[i,0] - mu[j,0])**2 + (X_train[i,1] - mu[j,1])**2\r\n",
        "\r\n",
        "  return D\r\n",
        "\r\n",
        "###### update the centroid by computing the barycenter of the point assigned to that centroid\r\n",
        "def update_center(X_train,yes,mu,K,I_train):\r\n",
        "  for k in range(K):\r\n",
        "     mu[k,0] = sigma_sum(0,I_train, lambda i: indicator(yes[i],k)*X_train[i,0]) /  sigma_sum(0,I_train, lambda i: indicator(yes[i],k))\r\n",
        "     mu[k,1] = sigma_sum(0,I_train, lambda i: indicator(yes[i],k)*X_train[i,1]) / sigma_sum(0,I_train, lambda i: indicator(yes[i],k))\r\n",
        "  return mu\r\n"
      ],
      "execution_count": 163,
      "outputs": []
    },
    {
      "cell_type": "code",
      "metadata": {
        "colab": {
          "base_uri": "https://localhost:8080/"
        },
        "id": "SrCme5w0c66k",
        "outputId": "38b24863-4fa2-4738-e803-43e6a84d3ab8"
      },
      "source": [
        "\r\n",
        "D = distance(I_train,K,mu,X_train,D)\r\n",
        "yes = np.argmin(D,axis=1)\r\n",
        "update_center(X_train,yes,mu,K,I_train)\r\n"
      ],
      "execution_count": 169,
      "outputs": [
        {
          "output_type": "execute_result",
          "data": {
            "text/plain": [
              "array([[2.07877408, 5.03706197],\n",
              "       [3.0641082 , 1.00811082],\n",
              "       [6.03102647, 2.94974162]])"
            ]
          },
          "metadata": {
            "tags": []
          },
          "execution_count": 169
        }
      ]
    },
    {
      "cell_type": "code",
      "metadata": {
        "colab": {
          "base_uri": "https://localhost:8080/",
          "height": 284
        },
        "id": "oGIPEqipAy1K",
        "outputId": "9a8a3ece-e8ef-4e5e-8218-c945788de414"
      },
      "source": [
        "plt.scatter(X_train[:,:1],X_train[:,1:2], c=\"grey\")\r\n",
        "plt.scatter(mu[:,0],mu[:,1],s=400,marker='+',c=\"black\")"
      ],
      "execution_count": 170,
      "outputs": [
        {
          "output_type": "execute_result",
          "data": {
            "text/plain": [
              "<matplotlib.collections.PathCollection at 0x7fc64aa28ed0>"
            ]
          },
          "metadata": {
            "tags": []
          },
          "execution_count": 170
        },
        {
          "output_type": "display_data",
          "data": {
            "image/png": "[encoded data removed]",
            "text/plain": [
              "<Figure size 432x288 with 1 Axes>"
            ]
          },
          "metadata": {
            "tags": [],
            "needs_background": "light"
          }
        }
      ]
    },
    {
      "cell_type": "code",
      "metadata": {
        "id": "Y33-fa8WaRq8"
      },
      "source": [
        ""
      ],
      "execution_count": null,
      "outputs": []
    }
  ]
}