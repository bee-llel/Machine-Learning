{
  "nbformat": 4,
  "nbformat_minor": 0,
  "metadata": {
    "colab": {
      "name": "FeedForwardNeuralNetwork.ipynb",
      "provenance": [],
      "collapsed_sections": [],
      "authorship_tag": "ABX9TyNT62oZg3GzmGdbi8RD6s+O",
      "include_colab_link": true
    },
    "kernelspec": {
      "name": "python3",
      "display_name": "Python 3"
    }
  },
  "cells": [
    {
      "cell_type": "markdown",
      "metadata": {
        "id": "view-in-github",
        "colab_type": "text"
      },
      "source": [
        "<a href=\"https://colab.research.google.com/github/bee-llel/Machine-Learning/blob/master/FeedForwardNeuralNetwork.ipynb\" target=\"_parent\"><img src=\"https://colab.research.google.com/assets/colab-badge.svg\" alt=\"Open In Colab\"/></a>"
      ]
    },
    {
      "cell_type": "code",
      "metadata": {
        "id": "9ggkp_kYB9Bg"
      },
      "source": [
        "#librairy:\r\n",
        "import pandas as pd # used to manipulate the data \r\n",
        "import numpy as np\r\n",
        "import scipy as sp "
      ],
      "execution_count": 2,
      "outputs": []
    },
    {
      "cell_type": "code",
      "metadata": {
        "id": "wD1qmPWOFe7g"
      },
      "source": [
        "#loading the data in a dataframe\r\n",
        "\r\n",
        "data = pd.read_csv('data_ffnn_3classes.txt', sep=\" \", header=None)"
      ],
      "execution_count": 3,
      "outputs": []
    },
    {
      "cell_type": "code",
      "metadata": {
        "colab": {
          "base_uri": "https://localhost:8080/",
          "height": 204
        },
        "id": "l_JqJ05wGQEX",
        "outputId": "14549002-6d5d-43f8-def4-632cc6cb5cb3"
      },
      "source": [
        "data.columns = ['feature1','feature2','target']\r\n",
        "data.head(10)"
      ],
      "execution_count": 13,
      "outputs": [
        {
          "output_type": "execute_result",
          "data": {
            "text/html": [
              "<div>\n",
              "<style scoped>\n",
              "    .dataframe tbody tr th:only-of-type {\n",
              "        vertical-align: middle;\n",
              "    }\n",
              "\n",
              "    .dataframe tbody tr th {\n",
              "        vertical-align: top;\n",
              "    }\n",
              "\n",
              "    .dataframe thead th {\n",
              "        text-align: right;\n",
              "    }\n",
              "</style>\n",
              "<table border=\"1\" class=\"dataframe\">\n",
              "  <thead>\n",
              "    <tr style=\"text-align: right;\">\n",
              "      <th></th>\n",
              "      <th>feature1</th>\n",
              "      <th>feature2</th>\n",
              "      <th>target</th>\n",
              "    </tr>\n",
              "  </thead>\n",
              "  <tbody>\n",
              "    <tr>\n",
              "      <th>0</th>\n",
              "      <td>1.9643</td>\n",
              "      <td>4.5957</td>\n",
              "      <td>1.0</td>\n",
              "    </tr>\n",
              "    <tr>\n",
              "      <th>1</th>\n",
              "      <td>2.2753</td>\n",
              "      <td>3.8589</td>\n",
              "      <td>1.0</td>\n",
              "    </tr>\n",
              "    <tr>\n",
              "      <th>2</th>\n",
              "      <td>2.9781</td>\n",
              "      <td>4.5651</td>\n",
              "      <td>1.0</td>\n",
              "    </tr>\n",
              "    <tr>\n",
              "      <th>3</th>\n",
              "      <td>2.9320</td>\n",
              "      <td>3.5519</td>\n",
              "      <td>1.0</td>\n",
              "    </tr>\n",
              "    <tr>\n",
              "      <th>4</th>\n",
              "      <td>3.5772</td>\n",
              "      <td>2.8560</td>\n",
              "      <td>1.0</td>\n",
              "    </tr>\n",
              "  </tbody>\n",
              "</table>\n",
              "</div>"
            ],
            "text/plain": [
              "   feature1  feature2  target\n",
              "0    1.9643    4.5957     1.0\n",
              "1    2.2753    3.8589     1.0\n",
              "2    2.9781    4.5651     1.0\n",
              "3    2.9320    3.5519     1.0\n",
              "4    3.5772    2.8560     1.0"
            ]
          },
          "metadata": {
            "tags": []
          },
          "execution_count": 13
        }
      ]
    },
    {
      "cell_type": "code",
      "metadata": {
        "id": "pTgTKgB5Ch3o"
      },
      "source": [
        "#variable definition: first we will take the exercice values then we will generalize our function once it is working\r\n",
        "\r\n",
        "##############################\r\n",
        "#\r\n",
        "#N = number of feature = 2\r\n",
        "#\r\n",
        "#I = data size = 71\r\n",
        "#\r\n",
        "#J = output dimension = 3\r\n",
        "#\r\n",
        "#K = number of hidden neuron = how many we want\r\n",
        "\r\n",
        "##############################\r\n",
        "#feature matrix:\r\n",
        "X = np.transpose(data[['feature1','feature2']].to_numpy())\r\n",
        "\r\n",
        "\r\n",
        "##############################\r\n",
        "#target matrix:\r\n",
        "y = data['target'].to_numpy()\r\n",
        "\r\n",
        "#############################\r\n",
        "#bias matrix: which seem to be a column of 1 in our simple neural network\r\n",
        "B = np.ones(np.transpose(X).shape)\r\n",
        "\r\n",
        "#############################\r\n",
        "# W and V matrix: we will initialize them to one until i know what exactly they are\r\n",
        "\r\n",
        "W = np.ones()\r\n",
        "\r\n"
      ],
      "execution_count": 29,
      "outputs": []
    },
    {
      "cell_type": "code",
      "metadata": {
        "colab": {
          "base_uri": "https://localhost:8080/"
        },
        "id": "hH_kED0GIlbK",
        "outputId": "4fb2da7a-bdf7-47b4-b74f-aa81cc2e4f2d"
      },
      "source": [
        "X.shape"
      ],
      "execution_count": 31,
      "outputs": [
        {
          "output_type": "execute_result",
          "data": {
            "text/plain": [
              "(2, 71)"
            ]
          },
          "metadata": {
            "tags": []
          },
          "execution_count": 31
        }
      ]
    },
    {
      "cell_type": "code",
      "metadata": {
        "id": "Dngy40wzCkeg"
      },
      "source": [
        "#computation function"
      ],
      "execution_count": null,
      "outputs": []
    },
    {
      "cell_type": "code",
      "metadata": {
        "id": "GV79kG8mC2F_"
      },
      "source": [
        "#forward propagation function:"
      ],
      "execution_count": null,
      "outputs": []
    },
    {
      "cell_type": "code",
      "metadata": {
        "id": "clboFVazC8Ee"
      },
      "source": [
        "#backpropagation function:"
      ],
      "execution_count": null,
      "outputs": []
    },
    {
      "cell_type": "code",
      "metadata": {
        "id": "fV_m0YgDDC4v"
      },
      "source": [
        "#FFNN function:"
      ],
      "execution_count": null,
      "outputs": []
    },
    {
      "cell_type": "code",
      "metadata": {
        "id": "JzZqjNXwGhKL"
      },
      "source": [
        "#data visualisation:"
      ],
      "execution_count": null,
      "outputs": []
    },
    {
      "cell_type": "code",
      "metadata": {
        "id": "BA7g8yumGgil"
      },
      "source": [
        "#result:"
      ],
      "execution_count": null,
      "outputs": []
    }
  ]
}