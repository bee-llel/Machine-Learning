{
  "nbformat": 4,
  "nbformat_minor": 0,
  "metadata": {
    "colab": {
      "name": "FeedForwardNeuralNetwork.ipynb",
      "provenance": [],
      "collapsed_sections": [],
      "authorship_tag": "ABX9TyMM7/sr0avw3R3Ove+HO+cY",
      "include_colab_link": true
    },
    "kernelspec": {
      "name": "python3",
      "display_name": "Python 3"
    }
  },
  "cells": [
    {
      "cell_type": "markdown",
      "metadata": {
        "id": "view-in-github",
        "colab_type": "text"
      },
      "source": [
        "<a href=\"https://colab.research.google.com/github/bee-llel/Machine-Learning/blob/master/FeedForwardNeuralNetwork.ipynb\" target=\"_parent\"><img src=\"https://colab.research.google.com/assets/colab-badge.svg\" alt=\"Open In Colab\"/></a>"
      ]
    },
    {
      "cell_type": "code",
      "metadata": {
        "id": "9ggkp_kYB9Bg"
      },
      "source": [
        "#librairy:\r\n",
        "import pandas as pd # used to manipulate the data \r\n",
        "import numpy as np\r\n",
        "import scipy as sp \r\n",
        "from numpy import *"
      ],
      "execution_count": 45,
      "outputs": []
    },
    {
      "cell_type": "code",
      "metadata": {
        "id": "wD1qmPWOFe7g"
      },
      "source": [
        "#loading the data in a dataframe\r\n",
        "\r\n",
        "data = pd.read_csv('data_ffnn_3classes.txt', sep=\" \", header=None)"
      ],
      "execution_count": 46,
      "outputs": []
    },
    {
      "cell_type": "code",
      "metadata": {
        "colab": {
          "base_uri": "https://localhost:8080/",
          "height": 359
        },
        "id": "l_JqJ05wGQEX",
        "outputId": "f726016d-ae8c-41b8-86ff-e1c439bd4188"
      },
      "source": [
        "data.columns = ['feature1','feature2','target']\r\n",
        "data.head(10)"
      ],
      "execution_count": 47,
      "outputs": [
        {
          "output_type": "execute_result",
          "data": {
            "text/html": [
              "<div>\n",
              "<style scoped>\n",
              "    .dataframe tbody tr th:only-of-type {\n",
              "        vertical-align: middle;\n",
              "    }\n",
              "\n",
              "    .dataframe tbody tr th {\n",
              "        vertical-align: top;\n",
              "    }\n",
              "\n",
              "    .dataframe thead th {\n",
              "        text-align: right;\n",
              "    }\n",
              "</style>\n",
              "<table border=\"1\" class=\"dataframe\">\n",
              "  <thead>\n",
              "    <tr style=\"text-align: right;\">\n",
              "      <th></th>\n",
              "      <th>feature1</th>\n",
              "      <th>feature2</th>\n",
              "      <th>target</th>\n",
              "    </tr>\n",
              "  </thead>\n",
              "  <tbody>\n",
              "    <tr>\n",
              "      <th>0</th>\n",
              "      <td>1.9643</td>\n",
              "      <td>4.5957</td>\n",
              "      <td>1.0</td>\n",
              "    </tr>\n",
              "    <tr>\n",
              "      <th>1</th>\n",
              "      <td>2.2753</td>\n",
              "      <td>3.8589</td>\n",
              "      <td>1.0</td>\n",
              "    </tr>\n",
              "    <tr>\n",
              "      <th>2</th>\n",
              "      <td>2.9781</td>\n",
              "      <td>4.5651</td>\n",
              "      <td>1.0</td>\n",
              "    </tr>\n",
              "    <tr>\n",
              "      <th>3</th>\n",
              "      <td>2.9320</td>\n",
              "      <td>3.5519</td>\n",
              "      <td>1.0</td>\n",
              "    </tr>\n",
              "    <tr>\n",
              "      <th>4</th>\n",
              "      <td>3.5772</td>\n",
              "      <td>2.8560</td>\n",
              "      <td>1.0</td>\n",
              "    </tr>\n",
              "    <tr>\n",
              "      <th>5</th>\n",
              "      <td>4.0150</td>\n",
              "      <td>3.1937</td>\n",
              "      <td>1.0</td>\n",
              "    </tr>\n",
              "    <tr>\n",
              "      <th>6</th>\n",
              "      <td>3.3814</td>\n",
              "      <td>3.4291</td>\n",
              "      <td>1.0</td>\n",
              "    </tr>\n",
              "    <tr>\n",
              "      <th>7</th>\n",
              "      <td>3.9113</td>\n",
              "      <td>4.1761</td>\n",
              "      <td>1.0</td>\n",
              "    </tr>\n",
              "    <tr>\n",
              "      <th>8</th>\n",
              "      <td>2.7822</td>\n",
              "      <td>4.0431</td>\n",
              "      <td>1.0</td>\n",
              "    </tr>\n",
              "    <tr>\n",
              "      <th>9</th>\n",
              "      <td>2.5518</td>\n",
              "      <td>4.6162</td>\n",
              "      <td>1.0</td>\n",
              "    </tr>\n",
              "  </tbody>\n",
              "</table>\n",
              "</div>"
            ],
            "text/plain": [
              "   feature1  feature2  target\n",
              "0    1.9643    4.5957     1.0\n",
              "1    2.2753    3.8589     1.0\n",
              "2    2.9781    4.5651     1.0\n",
              "3    2.9320    3.5519     1.0\n",
              "4    3.5772    2.8560     1.0\n",
              "5    4.0150    3.1937     1.0\n",
              "6    3.3814    3.4291     1.0\n",
              "7    3.9113    4.1761     1.0\n",
              "8    2.7822    4.0431     1.0\n",
              "9    2.5518    4.6162     1.0"
            ]
          },
          "metadata": {
            "tags": []
          },
          "execution_count": 47
        }
      ]
    },
    {
      "cell_type": "code",
      "metadata": {
        "id": "pTgTKgB5Ch3o"
      },
      "source": [
        "#variable definition: first we will take the exercice values then we will generalize our function once it is working\r\n",
        "\r\n",
        "##############################\r\n",
        "#\r\n",
        "#N = number of feature = 2\r\n",
        "N = 2\r\n",
        "#\r\n",
        "#I = data size = 71\r\n",
        "I = 71\r\n",
        "#\r\n",
        "#J = output dimension = 3\r\n",
        "J = 3\r\n",
        "#\r\n",
        "#K = number of hidden neuron = how many we want\r\n",
        "K =5\r\n",
        "\r\n",
        "#############################\r\n",
        "#target matrix: data['target'] is actually our target matrix\r\n",
        "#in order to compute the SSE with our estimation we have to transform it into an array of the same shape\r\n",
        "#In order to do that we will use dummy variable and more precisely the get_dummies from pandas librairy\r\n",
        "\r\n",
        "y = pd.get_dummies(data['target']).to_numpy()\r\n",
        "\r\n",
        "#############################\r\n",
        "#feature matrix:\r\n",
        "X = data[['feature1','feature2']].to_numpy()\r\n",
        "\r\n",
        "#############################\r\n",
        "# W and V matrix: we will initialize them to random value between 0 and 1 time 0.1 \r\n",
        "# i have read that it is useful to multiply them by a small coefficient, so we will start with that.\r\n",
        "# it seem they are some kind of neurons so their dimension has to be number of feature + 1 (for the bias) x K\r\n",
        "# with K being the number of hidden neuron i want\r\n",
        "# We will set it to 5 as of now\r\n",
        "V = np.random.randn(N+1,K) *0.5\r\n",
        "\r\n",
        "W = np.random.randn(K+1,J) *0.5"
      ],
      "execution_count": 87,
      "outputs": []
    },
    {
      "cell_type": "code",
      "metadata": {
        "id": "hH_kED0GIlbK"
      },
      "source": [
        "#forward propagation function:\r\n",
        "def forwardprop(X,N,I,J,K,W,V):\r\n",
        "\r\n",
        "#############################\r\n",
        "# bias matrix: which seem to be a column of 1 in our simple neural network\r\n",
        "  B = np.ones(((X.T).shape[1],1))\r\n",
        "\r\n",
        "#############################\r\n",
        "# X completed with the bias \r\n",
        "  X_b = np.concatenate((B,X),axis = 1)\r\n",
        "\r\n",
        "#############################\r\n",
        "# X_b  computed with the hidden neurons = X_bv\r\n",
        "  X_bv = np.matmul(X_b,V)\r\n",
        "\r\n",
        "#############################\r\n",
        "# define sigmoid of X_bv\r\n",
        "  F = 1 / (1 + exp(-X_bv))\r\n",
        "\r\n",
        "#############################\r\n",
        "# complete our F with new bias which is still equal to one in our project\r\n",
        "  F_b = np.concatenate((B,F),axis = 1)\r\n",
        "\r\n",
        "#############################\r\n",
        "# F_b computed with the hidden weight W\r\n",
        "  F_bw = np.matmul(F_b,W)\r\n",
        "\r\n",
        "#############################\r\n",
        "  G  = 1 / (1 + exp(-F_bw))\r\n",
        "\r\n",
        "  return(G)"
      ],
      "execution_count": 88,
      "outputs": []
    },
    {
      "cell_type": "code",
      "metadata": {
        "id": "Dngy40wzCkeg"
      },
      "source": [
        "#computation function\r\n",
        "G = forwardprop(X,2,71,3,5,W,V)"
      ],
      "execution_count": 89,
      "outputs": []
    },
    {
      "cell_type": "code",
      "metadata": {
        "id": "GV79kG8mC2F_"
      },
      "source": [
        "#Sum of square error SSE:\r\n",
        "#found this method on SO\r\n",
        "def SSE(A,B):\r\n",
        "  E = 0.5*(((A-B)).sum())**2\r\n",
        "  return E\r\n"
      ],
      "execution_count": 90,
      "outputs": []
    },
    {
      "cell_type": "code",
      "metadata": {
        "colab": {
          "base_uri": "https://localhost:8080/"
        },
        "id": "YLvjaNpMg6nQ",
        "outputId": "512337ae-6961-4c6d-e787-e4c083a47f77"
      },
      "source": [
        "#########################\r\n",
        "#we can't compute our G with our label y yet as they don't have the same shape\r\n",
        "#let's use dummy variable to create a new y\r\n",
        "SSE(y,G)"
      ],
      "execution_count": 91,
      "outputs": [
        {
          "output_type": "execute_result",
          "data": {
            "text/plain": [
              "457.47553968227527"
            ]
          },
          "metadata": {
            "tags": []
          },
          "execution_count": 91
        }
      ]
    },
    {
      "cell_type": "code",
      "metadata": {
        "colab": {
          "base_uri": "https://localhost:8080/",
          "height": 129
        },
        "id": "clboFVazC8Ee",
        "outputId": "9479f37d-e2a9-4e38-b9fe-1bbcdbb757e2"
      },
      "source": [
        "#backpropagation function:\r\n",
        "def backprop(W,V, alpha1,alpha2):\r\n",
        "  \r\n",
        "  for k in range(K+1):\r\n",
        "    for j in range(J):\r\n",
        "      W[k][j] = W[k][j] - \r\n",
        "wkj wkj − α1\r\n",
        "IX i\r\n",
        "=1\r\n",
        "\u0010gj(i) − yj(i)\u0011 gj(i) \u00101 − gj(i)\u0011 f( ki)\r\n",
        "\r\n",
        "\r\n",
        "#############################################"
      ],
      "execution_count": 53,
      "outputs": [
        {
          "output_type": "error",
          "ename": "SyntaxError",
          "evalue": "ignored",
          "traceback": [
            "\u001b[0;36m  File \u001b[0;32m\"<ipython-input-53-81bb68664c62>\"\u001b[0;36m, line \u001b[0;32m4\u001b[0m\n\u001b[0;31m    for\u001b[0m\n\u001b[0m        ^\u001b[0m\n\u001b[0;31mSyntaxError\u001b[0m\u001b[0;31m:\u001b[0m invalid syntax\n"
          ]
        }
      ]
    },
    {
      "cell_type": "code",
      "metadata": {
        "colab": {
          "base_uri": "https://localhost:8080/"
        },
        "id": "fV_m0YgDDC4v",
        "outputId": "47b59fcb-3b87-4daa-9d7c-4f8f30d9d2d8"
      },
      "source": [
        "#FFNN function:\r\n",
        "V.shape"
      ],
      "execution_count": 93,
      "outputs": [
        {
          "output_type": "execute_result",
          "data": {
            "text/plain": [
              "(3, 5)"
            ]
          },
          "metadata": {
            "tags": []
          },
          "execution_count": 93
        }
      ]
    },
    {
      "cell_type": "code",
      "metadata": {
        "id": "JzZqjNXwGhKL",
        "colab": {
          "base_uri": "https://localhost:8080/"
        },
        "outputId": "1c12a89a-51dc-4940-c97a-a88e19b8223e"
      },
      "source": [
        "#data visualisation:\r\n",
        "for k in range(2):\r\n",
        "  print(2)"
      ],
      "execution_count": 94,
      "outputs": [
        {
          "output_type": "stream",
          "text": [
            "2\n",
            "2\n"
          ],
          "name": "stdout"
        }
      ]
    },
    {
      "cell_type": "code",
      "metadata": {
        "id": "BA7g8yumGgil"
      },
      "source": [
        "#result:"
      ],
      "execution_count": null,
      "outputs": []
    }
  ]
}