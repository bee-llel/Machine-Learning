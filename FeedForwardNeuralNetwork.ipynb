{
  "nbformat": 4,
  "nbformat_minor": 0,
  "metadata": {
    "colab": {
      "name": "FeedForwardNeuralNetwork.ipynb",
      "provenance": [],
      "collapsed_sections": [],
      "authorship_tag": "ABX9TyOpbOo3IINHH6ZRSxE0qZXa",
      "include_colab_link": true
    },
    "kernelspec": {
      "name": "python3",
      "display_name": "Python 3"
    }
  },
  "cells": [
    {
      "cell_type": "markdown",
      "metadata": {
        "id": "view-in-github",
        "colab_type": "text"
      },
      "source": [
        "<a href=\"https://colab.research.google.com/github/bee-llel/Machine-Learning/blob/master/FeedForwardNeuralNetwork.ipynb\" target=\"_parent\"><img src=\"https://colab.research.google.com/assets/colab-badge.svg\" alt=\"Open In Colab\"/></a>"
      ]
    },
    {
      "cell_type": "code",
      "metadata": {
        "id": "9ggkp_kYB9Bg"
      },
      "source": [
        "#librairy:\r\n",
        "import pandas as pd # used to manipulate the data \r\n",
        "import numpy as np\r\n",
        "import scipy as sp \r\n",
        "from numpy import *"
      ],
      "execution_count": 82,
      "outputs": []
    },
    {
      "cell_type": "code",
      "metadata": {
        "id": "wD1qmPWOFe7g"
      },
      "source": [
        "#loading the data in a dataframe\r\n",
        "\r\n",
        "data = pd.read_csv('data_ffnn_3classes.txt', sep=\" \", header=None)"
      ],
      "execution_count": 3,
      "outputs": []
    },
    {
      "cell_type": "code",
      "metadata": {
        "colab": {
          "base_uri": "https://localhost:8080/",
          "height": 204
        },
        "id": "l_JqJ05wGQEX",
        "outputId": "14549002-6d5d-43f8-def4-632cc6cb5cb3"
      },
      "source": [
        "data.columns = ['feature1','feature2','target']\r\n",
        "data.head(10)"
      ],
      "execution_count": 13,
      "outputs": [
        {
          "output_type": "execute_result",
          "data": {
            "text/html": [
              "<div>\n",
              "<style scoped>\n",
              "    .dataframe tbody tr th:only-of-type {\n",
              "        vertical-align: middle;\n",
              "    }\n",
              "\n",
              "    .dataframe tbody tr th {\n",
              "        vertical-align: top;\n",
              "    }\n",
              "\n",
              "    .dataframe thead th {\n",
              "        text-align: right;\n",
              "    }\n",
              "</style>\n",
              "<table border=\"1\" class=\"dataframe\">\n",
              "  <thead>\n",
              "    <tr style=\"text-align: right;\">\n",
              "      <th></th>\n",
              "      <th>feature1</th>\n",
              "      <th>feature2</th>\n",
              "      <th>target</th>\n",
              "    </tr>\n",
              "  </thead>\n",
              "  <tbody>\n",
              "    <tr>\n",
              "      <th>0</th>\n",
              "      <td>1.9643</td>\n",
              "      <td>4.5957</td>\n",
              "      <td>1.0</td>\n",
              "    </tr>\n",
              "    <tr>\n",
              "      <th>1</th>\n",
              "      <td>2.2753</td>\n",
              "      <td>3.8589</td>\n",
              "      <td>1.0</td>\n",
              "    </tr>\n",
              "    <tr>\n",
              "      <th>2</th>\n",
              "      <td>2.9781</td>\n",
              "      <td>4.5651</td>\n",
              "      <td>1.0</td>\n",
              "    </tr>\n",
              "    <tr>\n",
              "      <th>3</th>\n",
              "      <td>2.9320</td>\n",
              "      <td>3.5519</td>\n",
              "      <td>1.0</td>\n",
              "    </tr>\n",
              "    <tr>\n",
              "      <th>4</th>\n",
              "      <td>3.5772</td>\n",
              "      <td>2.8560</td>\n",
              "      <td>1.0</td>\n",
              "    </tr>\n",
              "  </tbody>\n",
              "</table>\n",
              "</div>"
            ],
            "text/plain": [
              "   feature1  feature2  target\n",
              "0    1.9643    4.5957     1.0\n",
              "1    2.2753    3.8589     1.0\n",
              "2    2.9781    4.5651     1.0\n",
              "3    2.9320    3.5519     1.0\n",
              "4    3.5772    2.8560     1.0"
            ]
          },
          "metadata": {
            "tags": []
          },
          "execution_count": 13
        }
      ]
    },
    {
      "cell_type": "code",
      "metadata": {
        "id": "pTgTKgB5Ch3o"
      },
      "source": [
        "#variable definition: first we will take the exercice values then we will generalize our function once it is working\r\n",
        "\r\n",
        "##############################\r\n",
        "#\r\n",
        "#N = number of feature = 2\r\n",
        "N = 2\r\n",
        "#\r\n",
        "#I = data size = 71\r\n",
        "I = 71\r\n",
        "#\r\n",
        "#J = output dimension = 3\r\n",
        "J = 3\r\n",
        "#\r\n",
        "#K = number of hidden neuron = how many we want\r\n",
        "K =5\r\n",
        "\r\n",
        "#############################\r\n",
        "# W and V matrix: we will initialize them to one until i know what exactly they are\r\n",
        "# it seem they are some kind of neurons so their dimension has to be number of feature + 1 (for the bias) x K\r\n",
        "# with K being the number of hidden neuron i want\r\n",
        "# We will set it to 5 as of now\r\n",
        "V = np.ones((N+1,K))\r\n",
        "\r\n",
        "W = np.ones((K+1,J))\r\n",
        "\r\n",
        "#############################\r\n",
        "#target matrix:\r\n",
        "y = data['target'].to_numpy()\r\n",
        "\r\n",
        "#############################\r\n",
        "#feature matrix:\r\n",
        "X = data[['feature1','feature2']].to_numpy()\r\n",
        "\r\n",
        "#############################\r\n",
        "#bias matrix: which seem to be a column of 1 in our simple neural network\r\n",
        "B = np.ones(((X.T).shape[1],1))\r\n",
        "\r\n",
        "#############################\r\n",
        "# X completed with the bias \r\n",
        "X_b = np.concatenate((B,X),axis = 1)\r\n",
        "\r\n",
        "#############################\r\n",
        "# X_b  computed with the hidden neurons = X_bv\r\n",
        "X_bv = np.matmul(X_b,V)\r\n",
        "\r\n",
        "#############################\r\n",
        "# define sigmoid of X_bv\r\n",
        "F = 1 / (1 + exp(-X_bv))\r\n",
        "\r\n",
        "#############################\r\n",
        "# complete our F with new bias which is still equal to one in our project\r\n",
        "F_b = np.concatenate((B,F),axis = 1)\r\n",
        "\r\n",
        "#############################\r\n",
        "# F_b computed with the hidden weight W\r\n",
        "F_bw = np.matmul(F_b,W)\r\n",
        "\r\n",
        "#############################\r\n",
        "G  = 1 / (1 + exp(-F_bw))"
      ],
      "execution_count": 95,
      "outputs": []
    },
    {
      "cell_type": "code",
      "metadata": {
        "colab": {
          "base_uri": "https://localhost:8080/"
        },
        "id": "hH_kED0GIlbK",
        "outputId": "5687d4fa-c222-4be6-ac79-8419379f254e"
      },
      "source": [
        "G"
      ],
      "execution_count": 97,
      "outputs": [
        {
          "output_type": "execute_result",
          "data": {
            "text/plain": [
              "array([[0.99752095, 0.99752095, 0.99752095],\n",
              "       [0.99751753, 0.99751753, 0.99751753],\n",
              "       [0.99752497, 0.99752497, 0.99752497],\n",
              "       [0.99752044, 0.99752044, 0.99752044],\n",
              "       [0.99752008, 0.99752008, 0.99752008],\n",
              "       [0.99752402, 0.99752402, 0.99752402],\n",
              "       [0.99752237, 0.99752237, 0.99752237],\n",
              "       [0.99752598, 0.99752598, 0.99752598],\n",
              "       [0.99752245, 0.99752245, 0.99752245],\n",
              "       [0.99752388, 0.99752388, 0.99752388],\n",
              "       [0.99752425, 0.99752425, 0.99752425],\n",
              "       [0.99751793, 0.99751793, 0.99751793],\n",
              "       [0.99751579, 0.99751579, 0.99751579],\n",
              "       [0.99752141, 0.99752141, 0.99752141],\n",
              "       [0.99751775, 0.99751775, 0.99751775],\n",
              "       [0.9975248 , 0.9975248 , 0.9975248 ],\n",
              "       [0.99752493, 0.99752493, 0.99752493],\n",
              "       [0.99752443, 0.99752443, 0.99752443],\n",
              "       [0.99752191, 0.99752191, 0.99752191],\n",
              "       [0.99751946, 0.99751946, 0.99751946],\n",
              "       [0.99749484, 0.99749484, 0.99749484],\n",
              "       [0.99750263, 0.99750263, 0.99750263],\n",
              "       [0.99748742, 0.99748742, 0.99748742],\n",
              "       [0.99749632, 0.99749632, 0.99749632],\n",
              "       [0.99750394, 0.99750394, 0.99750394],\n",
              "       [0.99750802, 0.99750802, 0.99750802],\n",
              "       [0.99750557, 0.99750557, 0.99750557],\n",
              "       [0.99747768, 0.99747768, 0.99747768],\n",
              "       [0.99749315, 0.99749315, 0.99749315],\n",
              "       [0.99743728, 0.99743728, 0.99743728],\n",
              "       [0.99746928, 0.99746928, 0.99746928],\n",
              "       [0.99739511, 0.99739511, 0.99739511],\n",
              "       [0.99749034, 0.99749034, 0.99749034],\n",
              "       [0.99748297, 0.99748297, 0.99748297],\n",
              "       [0.99746161, 0.99746161, 0.99746161],\n",
              "       [0.99745101, 0.99745101, 0.99745101],\n",
              "       [0.99739077, 0.99739077, 0.99739077],\n",
              "       [0.99740705, 0.99740705, 0.99740705],\n",
              "       [0.99745127, 0.99745127, 0.99745127],\n",
              "       [0.99742582, 0.99742582, 0.99742582],\n",
              "       [0.99746909, 0.99746909, 0.99746909],\n",
              "       [0.99747371, 0.99747371, 0.99747371],\n",
              "       [0.99749098, 0.99749098, 0.99749098],\n",
              "       [0.99747298, 0.99747298, 0.99747298],\n",
              "       [0.99749932, 0.99749932, 0.99749932],\n",
              "       [0.99748831, 0.99748831, 0.99748831],\n",
              "       [0.99741468, 0.99741468, 0.99741468],\n",
              "       [0.99750738, 0.99750738, 0.99750738],\n",
              "       [0.99743677, 0.99743677, 0.99743677],\n",
              "       [0.99736613, 0.99736613, 0.99736613],\n",
              "       [0.99745815, 0.99745815, 0.99745815],\n",
              "       [0.99752249, 0.99752249, 0.99752249],\n",
              "       [0.99751426, 0.99751426, 0.99751426],\n",
              "       [0.9975226 , 0.9975226 , 0.9975226 ],\n",
              "       [0.99750268, 0.99750268, 0.99750268],\n",
              "       [0.99751324, 0.99751324, 0.99751324],\n",
              "       [0.99751381, 0.99751381, 0.99751381],\n",
              "       [0.9975225 , 0.9975225 , 0.9975225 ],\n",
              "       [0.9975205 , 0.9975205 , 0.9975205 ],\n",
              "       [0.99750615, 0.99750615, 0.99750615],\n",
              "       [0.99752265, 0.99752265, 0.99752265],\n",
              "       [0.99750625, 0.99750625, 0.99750625],\n",
              "       [0.99751179, 0.99751179, 0.99751179],\n",
              "       [0.99751983, 0.99751983, 0.99751983],\n",
              "       [0.9975248 , 0.9975248 , 0.9975248 ],\n",
              "       [0.9974967 , 0.9974967 , 0.9974967 ],\n",
              "       [0.99750829, 0.99750829, 0.99750829],\n",
              "       [0.99750636, 0.99750636, 0.99750636],\n",
              "       [0.99751017, 0.99751017, 0.99751017],\n",
              "       [0.9974998 , 0.9974998 , 0.9974998 ],\n",
              "       [0.99750612, 0.99750612, 0.99750612]])"
            ]
          },
          "metadata": {
            "tags": []
          },
          "execution_count": 97
        }
      ]
    },
    {
      "cell_type": "code",
      "metadata": {
        "id": "Dngy40wzCkeg"
      },
      "source": [
        "#computation function"
      ],
      "execution_count": null,
      "outputs": []
    },
    {
      "cell_type": "code",
      "metadata": {
        "id": "GV79kG8mC2F_"
      },
      "source": [
        "#forward propagation function:"
      ],
      "execution_count": null,
      "outputs": []
    },
    {
      "cell_type": "code",
      "metadata": {
        "id": "clboFVazC8Ee"
      },
      "source": [
        "#backpropagation function:"
      ],
      "execution_count": null,
      "outputs": []
    },
    {
      "cell_type": "code",
      "metadata": {
        "id": "fV_m0YgDDC4v"
      },
      "source": [
        "#FFNN function:"
      ],
      "execution_count": null,
      "outputs": []
    },
    {
      "cell_type": "code",
      "metadata": {
        "id": "JzZqjNXwGhKL"
      },
      "source": [
        "#data visualisation:"
      ],
      "execution_count": null,
      "outputs": []
    },
    {
      "cell_type": "code",
      "metadata": {
        "id": "BA7g8yumGgil"
      },
      "source": [
        "#result:"
      ],
      "execution_count": null,
      "outputs": []
    }
  ]
}