{
  "nbformat": 4,
  "nbformat_minor": 0,
  "metadata": {
    "colab": {
      "name": "FeedForwardNeuralNetwork.ipynb",
      "provenance": [],
      "collapsed_sections": [],
      "authorship_tag": "ABX9TyM1KozWSruvMomdYWGqm6AU",
      "include_colab_link": true
    },
    "kernelspec": {
      "name": "python3",
      "display_name": "Python 3"
    }
  },
  "cells": [
    {
      "cell_type": "markdown",
      "metadata": {
        "id": "view-in-github",
        "colab_type": "text"
      },
      "source": [
        "<a href=\"https://colab.research.google.com/github/bee-llel/Machine-Learning/blob/master/FeedForwardNeuralNetwork.ipynb\" target=\"_parent\"><img src=\"https://colab.research.google.com/assets/colab-badge.svg\" alt=\"Open In Colab\"/></a>"
      ]
    },
    {
      "cell_type": "code",
      "metadata": {
        "id": "9ggkp_kYB9Bg"
      },
      "source": [
        "#librairy:\r\n",
        "import pandas as pd # used to manipulate the data \r\n",
        "import numpy as np\r\n",
        "import scipy as sp \r\n",
        "from numpy import *"
      ],
      "execution_count": 2,
      "outputs": []
    },
    {
      "cell_type": "code",
      "metadata": {
        "id": "wD1qmPWOFe7g"
      },
      "source": [
        "#loading the data in a dataframe\r\n",
        "\r\n",
        "data = pd.read_csv('data_ffnn_3classes.txt', sep=\" \", header=None)"
      ],
      "execution_count": 3,
      "outputs": []
    },
    {
      "cell_type": "code",
      "metadata": {
        "colab": {
          "base_uri": "https://localhost:8080/",
          "height": 359
        },
        "id": "l_JqJ05wGQEX",
        "outputId": "cdec9ab2-725b-4bba-91b8-e886511e48ae"
      },
      "source": [
        "data.columns = ['feature1','feature2','target']\r\n",
        "data.head(10)"
      ],
      "execution_count": 4,
      "outputs": [
        {
          "output_type": "execute_result",
          "data": {
            "text/html": [
              "<div>\n",
              "<style scoped>\n",
              "    .dataframe tbody tr th:only-of-type {\n",
              "        vertical-align: middle;\n",
              "    }\n",
              "\n",
              "    .dataframe tbody tr th {\n",
              "        vertical-align: top;\n",
              "    }\n",
              "\n",
              "    .dataframe thead th {\n",
              "        text-align: right;\n",
              "    }\n",
              "</style>\n",
              "<table border=\"1\" class=\"dataframe\">\n",
              "  <thead>\n",
              "    <tr style=\"text-align: right;\">\n",
              "      <th></th>\n",
              "      <th>feature1</th>\n",
              "      <th>feature2</th>\n",
              "      <th>target</th>\n",
              "    </tr>\n",
              "  </thead>\n",
              "  <tbody>\n",
              "    <tr>\n",
              "      <th>0</th>\n",
              "      <td>1.9643</td>\n",
              "      <td>4.5957</td>\n",
              "      <td>1.0</td>\n",
              "    </tr>\n",
              "    <tr>\n",
              "      <th>1</th>\n",
              "      <td>2.2753</td>\n",
              "      <td>3.8589</td>\n",
              "      <td>1.0</td>\n",
              "    </tr>\n",
              "    <tr>\n",
              "      <th>2</th>\n",
              "      <td>2.9781</td>\n",
              "      <td>4.5651</td>\n",
              "      <td>1.0</td>\n",
              "    </tr>\n",
              "    <tr>\n",
              "      <th>3</th>\n",
              "      <td>2.9320</td>\n",
              "      <td>3.5519</td>\n",
              "      <td>1.0</td>\n",
              "    </tr>\n",
              "    <tr>\n",
              "      <th>4</th>\n",
              "      <td>3.5772</td>\n",
              "      <td>2.8560</td>\n",
              "      <td>1.0</td>\n",
              "    </tr>\n",
              "    <tr>\n",
              "      <th>5</th>\n",
              "      <td>4.0150</td>\n",
              "      <td>3.1937</td>\n",
              "      <td>1.0</td>\n",
              "    </tr>\n",
              "    <tr>\n",
              "      <th>6</th>\n",
              "      <td>3.3814</td>\n",
              "      <td>3.4291</td>\n",
              "      <td>1.0</td>\n",
              "    </tr>\n",
              "    <tr>\n",
              "      <th>7</th>\n",
              "      <td>3.9113</td>\n",
              "      <td>4.1761</td>\n",
              "      <td>1.0</td>\n",
              "    </tr>\n",
              "    <tr>\n",
              "      <th>8</th>\n",
              "      <td>2.7822</td>\n",
              "      <td>4.0431</td>\n",
              "      <td>1.0</td>\n",
              "    </tr>\n",
              "    <tr>\n",
              "      <th>9</th>\n",
              "      <td>2.5518</td>\n",
              "      <td>4.6162</td>\n",
              "      <td>1.0</td>\n",
              "    </tr>\n",
              "  </tbody>\n",
              "</table>\n",
              "</div>"
            ],
            "text/plain": [
              "   feature1  feature2  target\n",
              "0    1.9643    4.5957     1.0\n",
              "1    2.2753    3.8589     1.0\n",
              "2    2.9781    4.5651     1.0\n",
              "3    2.9320    3.5519     1.0\n",
              "4    3.5772    2.8560     1.0\n",
              "5    4.0150    3.1937     1.0\n",
              "6    3.3814    3.4291     1.0\n",
              "7    3.9113    4.1761     1.0\n",
              "8    2.7822    4.0431     1.0\n",
              "9    2.5518    4.6162     1.0"
            ]
          },
          "metadata": {
            "tags": []
          },
          "execution_count": 4
        }
      ]
    },
    {
      "cell_type": "code",
      "metadata": {
        "id": "pTgTKgB5Ch3o"
      },
      "source": [
        "#variable definition: first we will take the exercice values then we will generalize our function once it is working\r\n",
        "\r\n",
        "##############################\r\n",
        "#\r\n",
        "#N = number of feature = 2\r\n",
        "N = 2\r\n",
        "#\r\n",
        "#I = data size = 71\r\n",
        "I = 71\r\n",
        "#\r\n",
        "#J = output dimension = 3\r\n",
        "J = 3\r\n",
        "#\r\n",
        "#K = number of hidden neuron = how many we want\r\n",
        "K =5\r\n",
        "\r\n",
        "#############################\r\n",
        "#target matrix: data['target'] is actually our target matrix\r\n",
        "#in order to compute the SSE with our estimation we have to transform it into an array of the same shape\r\n",
        "#In order to do that we will use dummy variable and more precisely the get_dummies from pandas librairy\r\n",
        "\r\n",
        "y = pd.get_dummies(data['target']).to_numpy()\r\n",
        "\r\n",
        "#############################\r\n",
        "#feature matrix:\r\n",
        "X = data[['feature1','feature2']].to_numpy()\r\n",
        "\r\n",
        "#############################\r\n",
        "# W and V matrix: we will initialize them to random value between 0 and 1 time 0.1 \r\n",
        "# i have read that it is useful to multiply them by a small coefficient, so we will start with that.\r\n",
        "# it seem they are some kind of neurons so their dimension has to be number of feature + 1 (for the bias) x K\r\n",
        "# with K being the number of hidden neuron i want\r\n",
        "# We will set it to 5 as of now\r\n",
        "V = np.random.randn(N+1,K) *0.5\r\n",
        "\r\n",
        "W = np.random.randn(K+1,J) *0.5"
      ],
      "execution_count": 111,
      "outputs": []
    },
    {
      "cell_type": "code",
      "metadata": {
        "id": "hH_kED0GIlbK"
      },
      "source": [
        "#forward propagation function:\r\n",
        "#def forwardprop(X,N,I,J,K,W,V):\r\n",
        "\r\n",
        "#############################\r\n",
        "# bias matrix: which seem to be a column of 1 in our simple neural network\r\n",
        "B = np.ones(((X.T).shape[1],1))\r\n",
        "\r\n",
        "#############################\r\n",
        "# X completed with the bias \r\n",
        "X_b = np.concatenate((B,X),axis = 1)\r\n",
        "\r\n",
        "#############################\r\n",
        "# X_b  computed with the hidden neurons = X_bv\r\n",
        "X_bv = np.matmul(X_b,V)\r\n",
        "\r\n",
        "#############################\r\n",
        "# define sigmoid of X_bv\r\n",
        "F = 1 / (1 + exp(-X_bv))\r\n",
        "\r\n",
        "#############################\r\n",
        "# complete our F with new bias which is still equal to one in our project\r\n",
        "F_b = np.concatenate((B,F),axis = 1)\r\n",
        "\r\n",
        "#############################\r\n",
        "# F_b computed with the hidden weight W\r\n",
        "F_bw = np.matmul(F_b,W)\r\n",
        "\r\n",
        "#############################\r\n",
        "G  = 1 / (1 + exp(-F_bw))\r\n"
      ],
      "execution_count": 112,
      "outputs": []
    },
    {
      "cell_type": "code",
      "metadata": {
        "colab": {
          "base_uri": "https://localhost:8080/"
        },
        "id": "Dngy40wzCkeg",
        "outputId": "7c9cfd90-11a6-4797-ec97-34be1f45e572"
      },
      "source": [
        "#computation function\r\n",
        "#forwardprop(X,2,71,3,5,W,V)\r\n",
        "G"
      ],
      "execution_count": 113,
      "outputs": [
        {
          "output_type": "execute_result",
          "data": {
            "text/plain": [
              "array([[0.33973445, 0.17762853, 0.14775594],\n",
              "       [0.34472666, 0.17758891, 0.1470278 ],\n",
              "       [0.34770424, 0.1734772 , 0.14560932],\n",
              "       [0.35021943, 0.17523865, 0.14511839],\n",
              "       [0.3548436 , 0.17410852, 0.14274252],\n",
              "       [0.35547036, 0.17246863, 0.14206566],\n",
              "       [0.35272815, 0.17384739, 0.14380896],\n",
              "       [0.35241525, 0.17150669, 0.14320794],\n",
              "       [0.34805727, 0.17499837, 0.1458222 ],\n",
              "       [0.34490759, 0.17494865, 0.14661603],\n",
              "       [0.35139483, 0.17318921, 0.14423122],\n",
              "       [0.35225364, 0.17539591, 0.14424319],\n",
              "       [0.34066697, 0.1790415 , 0.14783802],\n",
              "       [0.34328972, 0.17663229, 0.14718291],\n",
              "       [0.3485858 , 0.17649174, 0.14585478],\n",
              "       [0.34952592, 0.17321373, 0.14495078],\n",
              "       [0.35256112, 0.17245709, 0.14350631],\n",
              "       [0.35455714, 0.17240617, 0.14253014],\n",
              "       [0.35433652, 0.17363619, 0.14296124],\n",
              "       [0.35135221, 0.17523744, 0.14465043],\n",
              "       [0.33789205, 0.18283396, 0.14837985],\n",
              "       [0.3434237 , 0.18053115, 0.14744065],\n",
              "       [0.34322998, 0.18201428, 0.14736333],\n",
              "       [0.34673129, 0.18019504, 0.14640652],\n",
              "       [0.34679543, 0.17938749, 0.14649066],\n",
              "       [0.35131898, 0.17743628, 0.14463677],\n",
              "       [0.35304765, 0.17714678, 0.14357844],\n",
              "       [0.34874868, 0.1807733 , 0.14503466],\n",
              "       [0.34902289, 0.1796953 , 0.14538467],\n",
              "       [0.34193722, 0.18487642, 0.14692774],\n",
              "       [0.34396605, 0.18289873, 0.14686099],\n",
              "       [0.33233355, 0.18904671, 0.14851332],\n",
              "       [0.34244422, 0.18201631, 0.1475877 ],\n",
              "       [0.33790421, 0.18383449, 0.14836196],\n",
              "       [0.33790447, 0.18512162, 0.1482307 ],\n",
              "       [0.33980542, 0.18505404, 0.14774405],\n",
              "       [0.33626305, 0.18801934, 0.14780355],\n",
              "       [0.32786409, 0.18984106, 0.1489351 ],\n",
              "       [0.33174731, 0.18722139, 0.14885589],\n",
              "       [0.32509157, 0.18984595, 0.14903381],\n",
              "       [0.32797061, 0.187135  , 0.14896819],\n",
              "       [0.3329832 , 0.1856956 , 0.1488113 ],\n",
              "       [0.33371949, 0.18420043, 0.14873328],\n",
              "       [0.34634292, 0.1818969 , 0.14604523],\n",
              "       [0.34837884, 0.17937881, 0.14582153],\n",
              "       [0.35133916, 0.17918133, 0.1439287 ],\n",
              "       [0.34376858, 0.18482138, 0.14565704],\n",
              "       [0.34887399, 0.17830819, 0.14575422],\n",
              "       [0.32688417, 0.18900576, 0.14901905],\n",
              "       [0.32385874, 0.19192173, 0.14895264],\n",
              "       [0.30936201, 0.191827  , 0.14837717],\n",
              "       [0.35921408, 0.17250145, 0.13971431],\n",
              "       [0.35891883, 0.17427203, 0.13952232],\n",
              "       [0.36170129, 0.17230031, 0.13783346],\n",
              "       [0.35779256, 0.17579284, 0.13941426],\n",
              "       [0.35970717, 0.17424766, 0.13864213],\n",
              "       [0.35618196, 0.17505707, 0.14176213],\n",
              "       [0.3616004 , 0.17232939, 0.13790556],\n",
              "       [0.35999244, 0.17294917, 0.13907269],\n",
              "       [0.35680805, 0.17580675, 0.14076055],\n",
              "       [0.36081195, 0.17231375, 0.13852527],\n",
              "       [0.35768705, 0.17552095, 0.13992652],\n",
              "       [0.36014055, 0.17434997, 0.13796286],\n",
              "       [0.361277  , 0.1729755 , 0.13792021],\n",
              "       [0.36048676, 0.17156475, 0.13871766],\n",
              "       [0.35683157, 0.17653125, 0.13980602],\n",
              "       [0.3603885 , 0.17469145, 0.13699   ],\n",
              "       [0.35902115, 0.17513902, 0.13846443],\n",
              "       [0.36042016, 0.17449117, 0.13733269],\n",
              "       [0.35808959, 0.17590628, 0.13866659],\n",
              "       [0.35784538, 0.17548582, 0.1397505 ]])"
            ]
          },
          "metadata": {
            "tags": []
          },
          "execution_count": 113
        }
      ]
    },
    {
      "cell_type": "code",
      "metadata": {
        "id": "GV79kG8mC2F_"
      },
      "source": [
        "#Sum of square error SSE:\r\n",
        "#found this method on SO\r\n",
        "def SSE(A,B):\r\n",
        "  E = 0.5*(((A-B)).sum())**2\r\n",
        "  return E\r\n"
      ],
      "execution_count": 114,
      "outputs": []
    },
    {
      "cell_type": "code",
      "metadata": {
        "colab": {
          "base_uri": "https://localhost:8080/"
        },
        "id": "YLvjaNpMg6nQ",
        "outputId": "6b3e22e8-6571-479b-b3cd-8dd42f89d7ee"
      },
      "source": [
        "#########################\r\n",
        "#we can't compute our G with our label y yet as they don't have the same shape\r\n",
        "#let's use dummy variable to create a new y\r\n",
        "SSE(y,G)"
      ],
      "execution_count": 115,
      "outputs": [
        {
          "output_type": "execute_result",
          "data": {
            "text/plain": [
              "273.6827896008871"
            ]
          },
          "metadata": {
            "tags": []
          },
          "execution_count": 115
        }
      ]
    },
    {
      "cell_type": "code",
      "metadata": {
        "id": "clboFVazC8Ee"
      },
      "source": [
        "#backpropagation function:\r\n",
        "def backprop(W,V,y,G,alpha1,alpha2):\r\n",
        "  \r\n",
        "  for k in range(K+1):\r\n",
        "    for j in range(J):\r\n",
        "      W[k][j] = W[k][j] - alpha1*((G[:,j]-y[:,j])*G[:,j]*(np.ones(G.shape)[:,j]-G[:,j])*F_b[:,k]).sum(axis =0)\r\n",
        "\r\n",
        "#############################################\r\n",
        "  for n in range(N+1):\r\n",
        "    for k in range(K):\r\n",
        "      V[n][k] = V[n][k] - alpha2 * ((G[:,:]-y[:,:]).sum(axis=1) * G[:,:].sum(axis=1) * (np.ones(G.shape)[:,:]-G[:,:]).sum(axis=1) * F[:,k] * W[k,:].sum(axis=0) * (np.ones(F.shape)[:,k]-F[:,k]) * X_b[:,n] ).sum(axis =0)\r\n",
        "\r\n",
        "\r\n",
        "\r\n",
        "  return V\r\n",
        "#############################################"
      ],
      "execution_count": 196,
      "outputs": []
    },
    {
      "cell_type": "code",
      "metadata": {
        "colab": {
          "base_uri": "https://localhost:8080/"
        },
        "id": "fV_m0YgDDC4v",
        "outputId": "c5ded8c4-119f-47c2-e4a1-598c088aeff9"
      },
      "source": [
        "#FFNN function:"
      ],
      "execution_count": 195,
      "outputs": [
        {
          "output_type": "execute_result",
          "data": {
            "text/plain": [
              "-10.815827878980373"
            ]
          },
          "metadata": {
            "tags": []
          },
          "execution_count": 195
        }
      ]
    },
    {
      "cell_type": "code",
      "metadata": {
        "id": "JzZqjNXwGhKL",
        "colab": {
          "base_uri": "https://localhost:8080/"
        },
        "outputId": "60932057-3ae5-45a8-88b0-e3f89be76dd4"
      },
      "source": [
        "#data visualisation:\r\n",
        "backprop(W,V,y,G,0.5,0.5)"
      ],
      "execution_count": 199,
      "outputs": [
        {
          "output_type": "execute_result",
          "data": {
            "text/plain": [
              "(3, 5)"
            ]
          },
          "metadata": {
            "tags": []
          },
          "execution_count": 199
        }
      ]
    },
    {
      "cell_type": "code",
      "metadata": {
        "id": "BA7g8yumGgil",
        "colab": {
          "base_uri": "https://localhost:8080/"
        },
        "outputId": "98c5ea14-42ad-477f-95e9-f19f5a05e6fe"
      },
      "source": [
        "#result:\r\n",
        "V.shape"
      ],
      "execution_count": 141,
      "outputs": [
        {
          "output_type": "execute_result",
          "data": {
            "text/plain": [
              "(3, 5)"
            ]
          },
          "metadata": {
            "tags": []
          },
          "execution_count": 141
        }
      ]
    },
    {
      "cell_type": "code",
      "metadata": {
        "id": "vemexcN3IG2r"
      },
      "source": [
        ""
      ],
      "execution_count": null,
      "outputs": []
    }
  ]
}