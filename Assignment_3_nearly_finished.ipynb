{
  "nbformat": 4,
  "nbformat_minor": 0,
  "metadata": {
    "kernelspec": {
      "display_name": "Python 3",
      "language": "python",
      "name": "python3"
    },
    "language_info": {
      "codemirror_mode": {
        "name": "ipython",
        "version": 3
      },
      "file_extension": ".py",
      "mimetype": "text/x-python",
      "name": "python",
      "nbconvert_exporter": "python",
      "pygments_lexer": "ipython3",
      "version": "3.6.5"
    },
    "colab": {
      "name": "Assignment 3.ipynb",
      "provenance": [],
      "collapsed_sections": [],
      "include_colab_link": true
    }
  },
  "cells": [
    {
      "cell_type": "markdown",
      "metadata": {
        "id": "view-in-github",
        "colab_type": "text"
      },
      "source": [
        "<a href=\"https://colab.research.google.com/github/bee-llel/Machine-Learning/blob/master/Assignment_3_nearly_finished.ipynb\" target=\"_parent\"><img src=\"https://colab.research.google.com/assets/colab-badge.svg\" alt=\"Open In Colab\"/></a>"
      ]
    },
    {
      "cell_type": "markdown",
      "metadata": {
        "id": "Dg-ETmq38b4y"
      },
      "source": [
        "# Assignment 3: Logistic Regression\n"
      ]
    },
    {
      "cell_type": "markdown",
      "metadata": {
        "id": "TwCLWEAq8b45"
      },
      "source": [
        "## Problem statement\n",
        "\n",
        "You are working as a Data Scientist at a Finance company which proposes home loans. When a customer applies for a home loan, the company studies his demand to decide whether he/she is eligible or not.\n",
        "\n",
        "Your boss asks you to develop a decision-aid tool to automate the loan eligibility process. The tool is supposed to be given as input the information provided by the customer while filling his/her online loan application form. These information include customer's personal citeria such as Gender, Marital Status, Education, Number of Dependents, Income, Loan Amount, Credit History, etc... To develop the algorithm/model to be applied in the tool, you are given a data set containing historical information about applicants (**features**) as well as their loan status (**output** given as binary variable indicating whether or not a the loan was approved)."
      ]
    },
    {
      "cell_type": "markdown",
      "metadata": {
        "id": "Z5HSmHmu8b47"
      },
      "source": [
        "![image.png](attachment:image.png)"
      ]
    },
    {
      "cell_type": "markdown",
      "metadata": {
        "id": "cI2Bz0rT8b47"
      },
      "source": [
        "1- Load data"
      ]
    },
    {
      "cell_type": "code",
      "metadata": {
        "id": "J7wzP3ak8b48"
      },
      "source": [
        "# imports\n",
        "import warnings\n",
        "warnings.filterwarnings('ignore')\n",
        "import numpy as np\n",
        "import pandas as pd\n",
        "import matplotlib.pyplot as plt\n",
        "# show plots in the notebook\n",
        "%matplotlib inline"
      ],
      "execution_count": 126,
      "outputs": []
    },
    {
      "cell_type": "code",
      "metadata": {
        "scrolled": true,
        "colab": {
          "base_uri": "https://localhost:8080/"
        },
        "id": "yE6ClIIs8b48",
        "outputId": "7614c152-2e6c-4881-90b3-515e772e17ee"
      },
      "source": [
        "# load dataset\n",
        "df = pd.read_csv('loan_prediction.csv')\n",
        "# shape and type of df\n",
        "print(df.shape)\n",
        "print(type(df))"
      ],
      "execution_count": 127,
      "outputs": [
        {
          "output_type": "stream",
          "text": [
            "(614, 13)\n",
            "<class 'pandas.core.frame.DataFrame'>\n"
          ],
          "name": "stdout"
        }
      ]
    },
    {
      "cell_type": "code",
      "metadata": {
        "id": "qhtqPS_88b49"
      },
      "source": [
        "assert df.shape == (614, 13)"
      ],
      "execution_count": 128,
      "outputs": []
    },
    {
      "cell_type": "code",
      "metadata": {
        "colab": {
          "base_uri": "https://localhost:8080/",
          "height": 204
        },
        "id": "iydLsbga8b49",
        "outputId": "95267e98-7d41-411e-a9bd-c4be5124ed78"
      },
      "source": [
        "# head of df\r\n",
        "df.head()"
      ],
      "execution_count": 129,
      "outputs": [
        {
          "output_type": "execute_result",
          "data": {
            "text/html": [
              "<div>\n",
              "<style scoped>\n",
              "    .dataframe tbody tr th:only-of-type {\n",
              "        vertical-align: middle;\n",
              "    }\n",
              "\n",
              "    .dataframe tbody tr th {\n",
              "        vertical-align: top;\n",
              "    }\n",
              "\n",
              "    .dataframe thead th {\n",
              "        text-align: right;\n",
              "    }\n",
              "</style>\n",
              "<table border=\"1\" class=\"dataframe\">\n",
              "  <thead>\n",
              "    <tr style=\"text-align: right;\">\n",
              "      <th></th>\n",
              "      <th>Loan_ID</th>\n",
              "      <th>Gender</th>\n",
              "      <th>Married</th>\n",
              "      <th>Dependents</th>\n",
              "      <th>Education</th>\n",
              "      <th>Self_Employed</th>\n",
              "      <th>ApplicantIncome</th>\n",
              "      <th>CoapplicantIncome</th>\n",
              "      <th>LoanAmount</th>\n",
              "      <th>Loan_Amount_Term</th>\n",
              "      <th>Credit_History</th>\n",
              "      <th>Property_Area</th>\n",
              "      <th>Loan_Status</th>\n",
              "    </tr>\n",
              "  </thead>\n",
              "  <tbody>\n",
              "    <tr>\n",
              "      <th>0</th>\n",
              "      <td>LP001002</td>\n",
              "      <td>Male</td>\n",
              "      <td>No</td>\n",
              "      <td>0</td>\n",
              "      <td>Graduate</td>\n",
              "      <td>No</td>\n",
              "      <td>5849</td>\n",
              "      <td>0.0</td>\n",
              "      <td>NaN</td>\n",
              "      <td>360.0</td>\n",
              "      <td>1.0</td>\n",
              "      <td>Urban</td>\n",
              "      <td>Y</td>\n",
              "    </tr>\n",
              "    <tr>\n",
              "      <th>1</th>\n",
              "      <td>LP001003</td>\n",
              "      <td>Male</td>\n",
              "      <td>Yes</td>\n",
              "      <td>1</td>\n",
              "      <td>Graduate</td>\n",
              "      <td>No</td>\n",
              "      <td>4583</td>\n",
              "      <td>1508.0</td>\n",
              "      <td>128.0</td>\n",
              "      <td>360.0</td>\n",
              "      <td>1.0</td>\n",
              "      <td>Rural</td>\n",
              "      <td>N</td>\n",
              "    </tr>\n",
              "    <tr>\n",
              "      <th>2</th>\n",
              "      <td>LP001005</td>\n",
              "      <td>Male</td>\n",
              "      <td>Yes</td>\n",
              "      <td>0</td>\n",
              "      <td>Graduate</td>\n",
              "      <td>Yes</td>\n",
              "      <td>3000</td>\n",
              "      <td>0.0</td>\n",
              "      <td>66.0</td>\n",
              "      <td>360.0</td>\n",
              "      <td>1.0</td>\n",
              "      <td>Urban</td>\n",
              "      <td>Y</td>\n",
              "    </tr>\n",
              "    <tr>\n",
              "      <th>3</th>\n",
              "      <td>LP001006</td>\n",
              "      <td>Male</td>\n",
              "      <td>Yes</td>\n",
              "      <td>0</td>\n",
              "      <td>Not Graduate</td>\n",
              "      <td>No</td>\n",
              "      <td>2583</td>\n",
              "      <td>2358.0</td>\n",
              "      <td>120.0</td>\n",
              "      <td>360.0</td>\n",
              "      <td>1.0</td>\n",
              "      <td>Urban</td>\n",
              "      <td>Y</td>\n",
              "    </tr>\n",
              "    <tr>\n",
              "      <th>4</th>\n",
              "      <td>LP001008</td>\n",
              "      <td>Male</td>\n",
              "      <td>No</td>\n",
              "      <td>0</td>\n",
              "      <td>Graduate</td>\n",
              "      <td>No</td>\n",
              "      <td>6000</td>\n",
              "      <td>0.0</td>\n",
              "      <td>141.0</td>\n",
              "      <td>360.0</td>\n",
              "      <td>1.0</td>\n",
              "      <td>Urban</td>\n",
              "      <td>Y</td>\n",
              "    </tr>\n",
              "  </tbody>\n",
              "</table>\n",
              "</div>"
            ],
            "text/plain": [
              "    Loan_ID Gender Married  ... Credit_History Property_Area Loan_Status\n",
              "0  LP001002   Male      No  ...            1.0         Urban           Y\n",
              "1  LP001003   Male     Yes  ...            1.0         Rural           N\n",
              "2  LP001005   Male     Yes  ...            1.0         Urban           Y\n",
              "3  LP001006   Male     Yes  ...            1.0         Urban           Y\n",
              "4  LP001008   Male      No  ...            1.0         Urban           Y\n",
              "\n",
              "[5 rows x 13 columns]"
            ]
          },
          "metadata": {
            "tags": []
          },
          "execution_count": 129
        }
      ]
    },
    {
      "cell_type": "markdown",
      "metadata": {
        "id": "uJgbBKCv8b49"
      },
      "source": [
        "2- Remove the \"Loan_ID\" column, and then transform the \"Loan_Status\" feature from categorical into numerical values (Y ==> 1, N ==> 0)"
      ]
    },
    {
      "cell_type": "code",
      "metadata": {
        "colab": {
          "base_uri": "https://localhost:8080/"
        },
        "id": "UMnMsXBV8b4-",
        "outputId": "fdf19abe-36ce-49da-ee73-11aafb80901c"
      },
      "source": [
        "# dropping loan column\r\n",
        "df.drop('Loan_ID',axis = 1, inplace=True)\r\n",
        "# check Loan_status feature dtype and transform it into numerical values.\r\n",
        "print(type(df['Loan_Status']))\r\n",
        "#cast Loan_status\r\n",
        "df['Loan_Status'] = pd.Categorical(df['Loan_Status']).codes"
      ],
      "execution_count": 130,
      "outputs": [
        {
          "output_type": "stream",
          "text": [
            "<class 'pandas.core.series.Series'>\n"
          ],
          "name": "stdout"
        }
      ]
    },
    {
      "cell_type": "code",
      "metadata": {
        "colab": {
          "base_uri": "https://localhost:8080/",
          "height": 204
        },
        "id": "_8aKaDMsF4ao",
        "outputId": "d4735f2c-7e93-4eab-dde2-a0f2d7b3d031"
      },
      "source": [
        "df.head()"
      ],
      "execution_count": 131,
      "outputs": [
        {
          "output_type": "execute_result",
          "data": {
            "text/html": [
              "<div>\n",
              "<style scoped>\n",
              "    .dataframe tbody tr th:only-of-type {\n",
              "        vertical-align: middle;\n",
              "    }\n",
              "\n",
              "    .dataframe tbody tr th {\n",
              "        vertical-align: top;\n",
              "    }\n",
              "\n",
              "    .dataframe thead th {\n",
              "        text-align: right;\n",
              "    }\n",
              "</style>\n",
              "<table border=\"1\" class=\"dataframe\">\n",
              "  <thead>\n",
              "    <tr style=\"text-align: right;\">\n",
              "      <th></th>\n",
              "      <th>Gender</th>\n",
              "      <th>Married</th>\n",
              "      <th>Dependents</th>\n",
              "      <th>Education</th>\n",
              "      <th>Self_Employed</th>\n",
              "      <th>ApplicantIncome</th>\n",
              "      <th>CoapplicantIncome</th>\n",
              "      <th>LoanAmount</th>\n",
              "      <th>Loan_Amount_Term</th>\n",
              "      <th>Credit_History</th>\n",
              "      <th>Property_Area</th>\n",
              "      <th>Loan_Status</th>\n",
              "    </tr>\n",
              "  </thead>\n",
              "  <tbody>\n",
              "    <tr>\n",
              "      <th>0</th>\n",
              "      <td>Male</td>\n",
              "      <td>No</td>\n",
              "      <td>0</td>\n",
              "      <td>Graduate</td>\n",
              "      <td>No</td>\n",
              "      <td>5849</td>\n",
              "      <td>0.0</td>\n",
              "      <td>NaN</td>\n",
              "      <td>360.0</td>\n",
              "      <td>1.0</td>\n",
              "      <td>Urban</td>\n",
              "      <td>1</td>\n",
              "    </tr>\n",
              "    <tr>\n",
              "      <th>1</th>\n",
              "      <td>Male</td>\n",
              "      <td>Yes</td>\n",
              "      <td>1</td>\n",
              "      <td>Graduate</td>\n",
              "      <td>No</td>\n",
              "      <td>4583</td>\n",
              "      <td>1508.0</td>\n",
              "      <td>128.0</td>\n",
              "      <td>360.0</td>\n",
              "      <td>1.0</td>\n",
              "      <td>Rural</td>\n",
              "      <td>0</td>\n",
              "    </tr>\n",
              "    <tr>\n",
              "      <th>2</th>\n",
              "      <td>Male</td>\n",
              "      <td>Yes</td>\n",
              "      <td>0</td>\n",
              "      <td>Graduate</td>\n",
              "      <td>Yes</td>\n",
              "      <td>3000</td>\n",
              "      <td>0.0</td>\n",
              "      <td>66.0</td>\n",
              "      <td>360.0</td>\n",
              "      <td>1.0</td>\n",
              "      <td>Urban</td>\n",
              "      <td>1</td>\n",
              "    </tr>\n",
              "    <tr>\n",
              "      <th>3</th>\n",
              "      <td>Male</td>\n",
              "      <td>Yes</td>\n",
              "      <td>0</td>\n",
              "      <td>Not Graduate</td>\n",
              "      <td>No</td>\n",
              "      <td>2583</td>\n",
              "      <td>2358.0</td>\n",
              "      <td>120.0</td>\n",
              "      <td>360.0</td>\n",
              "      <td>1.0</td>\n",
              "      <td>Urban</td>\n",
              "      <td>1</td>\n",
              "    </tr>\n",
              "    <tr>\n",
              "      <th>4</th>\n",
              "      <td>Male</td>\n",
              "      <td>No</td>\n",
              "      <td>0</td>\n",
              "      <td>Graduate</td>\n",
              "      <td>No</td>\n",
              "      <td>6000</td>\n",
              "      <td>0.0</td>\n",
              "      <td>141.0</td>\n",
              "      <td>360.0</td>\n",
              "      <td>1.0</td>\n",
              "      <td>Urban</td>\n",
              "      <td>1</td>\n",
              "    </tr>\n",
              "  </tbody>\n",
              "</table>\n",
              "</div>"
            ],
            "text/plain": [
              "  Gender Married Dependents  ... Credit_History Property_Area  Loan_Status\n",
              "0   Male      No          0  ...            1.0         Urban            1\n",
              "1   Male     Yes          1  ...            1.0         Rural            0\n",
              "2   Male     Yes          0  ...            1.0         Urban            1\n",
              "3   Male     Yes          0  ...            1.0         Urban            1\n",
              "4   Male      No          0  ...            1.0         Urban            1\n",
              "\n",
              "[5 rows x 12 columns]"
            ]
          },
          "metadata": {
            "tags": []
          },
          "execution_count": 131
        }
      ]
    },
    {
      "cell_type": "code",
      "metadata": {
        "id": "LKbU05hP8b4-"
      },
      "source": [
        "assert df.shape == (614, 12); assert df[\"Loan_Status\"].dtype != 'O'"
      ],
      "execution_count": 132,
      "outputs": []
    },
    {
      "cell_type": "markdown",
      "metadata": {
        "id": "NK97jfFw8b4-"
      },
      "source": [
        "## Data Exploration"
      ]
    },
    {
      "cell_type": "markdown",
      "metadata": {
        "id": "ODuONozu8b4-"
      },
      "source": [
        "3- Build a dataframe named `stats` displaying information about df columns. The index is the columns names and the columns are the following :\n",
        "\n",
        "* `type` : type of the column\n",
        "* `# null` : number of null values\n",
        "* `# unique` : number of unique values\n",
        "* `unique values` : unique values, concatenated as one text separated with ` - `. If the number of unique values is greater than equal 10 (>= 10), print only the the first *20* characters followed by `...`\n",
        "\n",
        "`stats` would look like this (only the last rows are displayed)\n",
        "\n",
        "![](img/stats.png)"
      ]
    },
    {
      "cell_type": "code",
      "metadata": {
        "colab": {
          "base_uri": "https://localhost:8080/",
          "height": 359
        },
        "id": "dKDU4kKr8b4_",
        "outputId": "2ce62a32-5f7d-47d4-97dc-ab7014cc4308"
      },
      "source": [
        "# building stats\r\n",
        "col = ['type','# null','# unique','unique values']\r\n",
        "stats = pd.DataFrame(columns= col, index = df.columns)\r\n",
        "for i in df.columns:\r\n",
        "  stats[col[0]].loc[i] = df[i].dtype\r\n",
        "  stats[col[1]].loc[i] = df[i].isna().sum()\r\n",
        "  stats[col[2]].loc[i] = df[i].nunique()\r\n",
        "  stats[col[3]].loc[i] = '-'.join(map(str, df[i].unique()))\r\n",
        "\r\n",
        "\r\n",
        "#regarder display width          \r\n",
        "pd.set_option(\"display.max_seq_items\",20)\r\n",
        "pd.set_option(\"max_colwidth\", 20)\r\n",
        "#df['Gender'].dtype\r\n",
        "#df['Gender'].nunique()\r\n",
        "#df['Gender'].isna().sum()\r\n",
        "#df['Gender'].unique()\r\n",
        "#df.info()\r\n",
        "#print(df['LoanAmount'].nunique)\r\n",
        "#print(df.dtypes)\r\n",
        "#print(df.nunique)\r\n",
        "\r\n",
        "stats.head(10)"
      ],
      "execution_count": 133,
      "outputs": [
        {
          "output_type": "execute_result",
          "data": {
            "text/html": [
              "<div>\n",
              "<style scoped>\n",
              "    .dataframe tbody tr th:only-of-type {\n",
              "        vertical-align: middle;\n",
              "    }\n",
              "\n",
              "    .dataframe tbody tr th {\n",
              "        vertical-align: top;\n",
              "    }\n",
              "\n",
              "    .dataframe thead th {\n",
              "        text-align: right;\n",
              "    }\n",
              "</style>\n",
              "<table border=\"1\" class=\"dataframe\">\n",
              "  <thead>\n",
              "    <tr style=\"text-align: right;\">\n",
              "      <th></th>\n",
              "      <th>type</th>\n",
              "      <th># null</th>\n",
              "      <th># unique</th>\n",
              "      <th>unique values</th>\n",
              "    </tr>\n",
              "  </thead>\n",
              "  <tbody>\n",
              "    <tr>\n",
              "      <th>Gender</th>\n",
              "      <td>object</td>\n",
              "      <td>13</td>\n",
              "      <td>2</td>\n",
              "      <td>Male-Female-nan</td>\n",
              "    </tr>\n",
              "    <tr>\n",
              "      <th>Married</th>\n",
              "      <td>object</td>\n",
              "      <td>3</td>\n",
              "      <td>2</td>\n",
              "      <td>No-Yes-nan</td>\n",
              "    </tr>\n",
              "    <tr>\n",
              "      <th>Dependents</th>\n",
              "      <td>object</td>\n",
              "      <td>15</td>\n",
              "      <td>4</td>\n",
              "      <td>0-1-2-3+-nan</td>\n",
              "    </tr>\n",
              "    <tr>\n",
              "      <th>Education</th>\n",
              "      <td>object</td>\n",
              "      <td>0</td>\n",
              "      <td>2</td>\n",
              "      <td>Graduate-Not Gra...</td>\n",
              "    </tr>\n",
              "    <tr>\n",
              "      <th>Self_Employed</th>\n",
              "      <td>object</td>\n",
              "      <td>32</td>\n",
              "      <td>2</td>\n",
              "      <td>No-Yes-nan</td>\n",
              "    </tr>\n",
              "    <tr>\n",
              "      <th>ApplicantIncome</th>\n",
              "      <td>int64</td>\n",
              "      <td>0</td>\n",
              "      <td>505</td>\n",
              "      <td>5849-4583-3000-2...</td>\n",
              "    </tr>\n",
              "    <tr>\n",
              "      <th>CoapplicantIncome</th>\n",
              "      <td>float64</td>\n",
              "      <td>0</td>\n",
              "      <td>287</td>\n",
              "      <td>0.0-1508.0-2358....</td>\n",
              "    </tr>\n",
              "    <tr>\n",
              "      <th>LoanAmount</th>\n",
              "      <td>float64</td>\n",
              "      <td>22</td>\n",
              "      <td>203</td>\n",
              "      <td>nan-128.0-66.0-1...</td>\n",
              "    </tr>\n",
              "    <tr>\n",
              "      <th>Loan_Amount_Term</th>\n",
              "      <td>float64</td>\n",
              "      <td>14</td>\n",
              "      <td>10</td>\n",
              "      <td>360.0-120.0-240....</td>\n",
              "    </tr>\n",
              "    <tr>\n",
              "      <th>Credit_History</th>\n",
              "      <td>float64</td>\n",
              "      <td>50</td>\n",
              "      <td>2</td>\n",
              "      <td>1.0-0.0-nan</td>\n",
              "    </tr>\n",
              "  </tbody>\n",
              "</table>\n",
              "</div>"
            ],
            "text/plain": [
              "                      type # null # unique        unique values\n",
              "Gender              object     13        2      Male-Female-nan\n",
              "Married             object      3        2           No-Yes-nan\n",
              "Dependents          object     15        4         0-1-2-3+-nan\n",
              "Education           object      0        2  Graduate-Not Gra...\n",
              "Self_Employed       object     32        2           No-Yes-nan\n",
              "ApplicantIncome      int64      0      505  5849-4583-3000-2...\n",
              "CoapplicantIncome  float64      0      287  0.0-1508.0-2358....\n",
              "LoanAmount         float64     22      203  nan-128.0-66.0-1...\n",
              "Loan_Amount_Term   float64     14       10  360.0-120.0-240....\n",
              "Credit_History     float64     50        2          1.0-0.0-nan"
            ]
          },
          "metadata": {
            "tags": []
          },
          "execution_count": 133
        }
      ]
    },
    {
      "cell_type": "markdown",
      "metadata": {
        "id": "gICxYK3Z8b4_"
      },
      "source": [
        "4- Fill the null values in the column **[Married]** by the most frequent one (which is \"Yes\"). Then, remove all the rows containing at least one NullValue."
      ]
    },
    {
      "cell_type": "code",
      "metadata": {
        "id": "Dcb1qJwx8b4_",
        "colab": {
          "base_uri": "https://localhost:8080/"
        },
        "outputId": "fc6a1e54-879e-4f59-d28d-cb3d496ddc4f"
      },
      "source": [
        "# filling Married nan value with Yes\n",
        "print(df['Married'].isnull().sum())\n",
        "df['Married'] = df['Married'].fillna(\"Yes\")\n",
        "print(df['Married'].isnull().sum())"
      ],
      "execution_count": 134,
      "outputs": [
        {
          "output_type": "stream",
          "text": [
            "3\n",
            "0\n"
          ],
          "name": "stdout"
        }
      ]
    },
    {
      "cell_type": "code",
      "metadata": {
        "colab": {
          "base_uri": "https://localhost:8080/"
        },
        "id": "WvKroD0cC8Ym",
        "outputId": "2e08a7cd-a981-4498-b2e9-95f5548de019"
      },
      "source": [
        "#dropping missing value row \r\n",
        "print(df.shape)\r\n",
        "df.dropna(inplace=True)\r\n",
        "print(df.shape)"
      ],
      "execution_count": 135,
      "outputs": [
        {
          "output_type": "stream",
          "text": [
            "(614, 12)\n",
            "(480, 12)\n"
          ],
          "name": "stdout"
        }
      ]
    },
    {
      "cell_type": "code",
      "metadata": {
        "colab": {
          "base_uri": "https://localhost:8080/"
        },
        "id": "nveQ14hn8aW6",
        "outputId": "796dcaa6-9eb8-42b4-9a23-d300a0815e8c"
      },
      "source": [
        "#homemade verification:\r\n",
        "for i in df.columns:\r\n",
        "  print(df[i].isnull().sum())\r\n"
      ],
      "execution_count": 136,
      "outputs": [
        {
          "output_type": "stream",
          "text": [
            "0\n",
            "0\n",
            "0\n",
            "0\n",
            "0\n",
            "0\n",
            "0\n",
            "0\n",
            "0\n",
            "0\n",
            "0\n",
            "0\n"
          ],
          "name": "stdout"
        }
      ]
    },
    {
      "cell_type": "code",
      "metadata": {
        "id": "Mh6T3dY88b5A"
      },
      "source": [
        "#better verification:\r\n",
        "assert df.isnull().sum().sum() == 0"
      ],
      "execution_count": 137,
      "outputs": []
    },
    {
      "cell_type": "markdown",
      "metadata": {
        "id": "n_LPAyJ78b5A"
      },
      "source": [
        "# Data Visualization"
      ]
    },
    {
      "cell_type": "markdown",
      "metadata": {
        "id": "QqeE3a3A8b5A"
      },
      "source": [
        "5-1- Plot a **bar plot** of the column **Loan_Status** (% of each class). "
      ]
    },
    {
      "cell_type": "code",
      "metadata": {
        "scrolled": true,
        "id": "p20hlDuT8b5B",
        "colab": {
          "base_uri": "https://localhost:8080/",
          "height": 327
        },
        "outputId": "74d7313b-d59b-4aaa-ecd2-9bf5cf96b660"
      },
      "source": [
        "# your code here\r\n",
        "df.head()\r\n",
        "#based on the titanic example\r\n",
        "%matplotlib inline\r\n",
        "import matplotlib.pyplot as plt\r\n",
        "print ('Loan_Status =', df['Loan_Status'].mean())\r\n",
        "(df.groupby('Loan_Status').size()/df.shape[0]).plot(kind=\"bar\",title=\"Loan_Status(%each class)\")\r\n",
        "\r\n"
      ],
      "execution_count": 138,
      "outputs": [
        {
          "output_type": "stream",
          "text": [
            "Loan_Status = 0.6916666666666667\n"
          ],
          "name": "stdout"
        },
        {
          "output_type": "execute_result",
          "data": {
            "text/plain": [
              "<matplotlib.axes._subplots.AxesSubplot at 0x7f5bae945b00>"
            ]
          },
          "metadata": {
            "tags": []
          },
          "execution_count": 138
        },
        {
          "output_type": "display_data",
          "data": {
            "image/png": "[encoded data removed]",
            "text/plain": [
              "<Figure size 432x288 with 1 Axes>"
            ]
          },
          "metadata": {
            "tags": [],
            "needs_background": "light"
          }
        }
      ]
    },
    {
      "cell_type": "markdown",
      "metadata": {
        "id": "_cYwAHUJ8b5B"
      },
      "source": [
        "5-2- How many approved and non approved loans are there ? How much accuracy can you get if prediction is always equal to \"*1*\" ?"
      ]
    },
    {
      "cell_type": "code",
      "metadata": {
        "id": "RjSP4mnE8b5C",
        "colab": {
          "base_uri": "https://localhost:8080/"
        },
        "outputId": "c8638ddf-e889-4e7e-ccaa-a04b5d60801e"
      },
      "source": [
        "# your code here\r\n",
        "print(\"there is \", df.groupby('Loan_Status').size()[1], \" approved loan\")\r\n",
        "print(\"there is \", df.groupby('Loan_Status').size()[0], \" non approved loan\")\r\n",
        "#\r\n",
        "print(\"we should get a 100% accuracy if we had only '\"'1'\"', i think i am not really understanding the question \")"
      ],
      "execution_count": 139,
      "outputs": [
        {
          "output_type": "stream",
          "text": [
            "there is  332  approved loan\n",
            "there is  148  non approved loan\n",
            "we should get a 100% accuracy if we had only '1', i think i am not really understanding the question \n"
          ],
          "name": "stdout"
        }
      ]
    },
    {
      "cell_type": "code",
      "metadata": {
        "id": "RYG_OPxj8b5C",
        "colab": {
          "base_uri": "https://localhost:8080/"
        },
        "outputId": "97fe68e7-e21e-4445-9a84-3e8ed5c4480d"
      },
      "source": [
        "# your answer here\r\n",
        "print(df['Property_Area'].nunique())"
      ],
      "execution_count": 140,
      "outputs": [
        {
          "output_type": "stream",
          "text": [
            "3\n"
          ],
          "name": "stdout"
        }
      ]
    },
    {
      "cell_type": "markdown",
      "metadata": {
        "id": "P68rTSqp8b5D"
      },
      "source": [
        "6-1- Create a function to be named **make_bar_plot**, which takes two parameters as input: a dataframe df (parameter 1) and a column name (parameter 2). The function must output a borplot of the approval rate `Loan_Status` by value of the column.\n",
        "\n",
        "Calling `make_bar_plot` on `Property_Area` should look like this\n",
        "\n",
        "![](img/bar_plot.png)"
      ]
    },
    {
      "cell_type": "code",
      "metadata": {
        "id": "Vf8HmFyv8b5D"
      },
      "source": [
        "def make_bar_plot(df, column):\n",
        "  plotframe = pd.DataFrame()\n",
        "  plotframe['total']=df.groupby(column).size()\n",
        "  plotframe['Loan_Status'] = df.groupby(column).sum()['Loan_Status']\n",
        "  plotframe['percentage'] = round(plotframe['Loan_Status']/plotframe['total'],2)\n",
        "  print(plotframe)\n",
        "# make a function to plot approval rate against attribute\n",
        "  #plotframe['Loan_Status'].plot(kind=\"barh\")\n",
        "  #plotframe['percentage'].plot(kind=\"barh\",alpha=1,title=\"approval rate per \"+str(column))\n",
        "  plotframe['percentage'].plot.barh(title=\"approval rate per \"+str(column), color=['green','purple','pink'])\n",
        "  plt.show()\n",
        "\n",
        "\n"
      ],
      "execution_count": 141,
      "outputs": []
    },
    {
      "cell_type": "code",
      "metadata": {
        "id": "Dyzuqg_S8b5D",
        "colab": {
          "base_uri": "https://localhost:8080/",
          "height": 366
        },
        "outputId": "50dfcc56-af43-4019-f02b-97d011dd45a3"
      },
      "source": [
        "make_bar_plot(df, 'Property_Area')"
      ],
      "execution_count": 142,
      "outputs": [
        {
          "output_type": "stream",
          "text": [
            "               total  Loan_Status  percentage\n",
            "Property_Area                                \n",
            "Rural            139         85.0        0.61\n",
            "Semiurban        191        149.0        0.78\n",
            "Urban            150         98.0        0.65\n"
          ],
          "name": "stdout"
        },
        {
          "output_type": "display_data",
          "data": {
            "image/png": "[encoded data removed]",
            "text/plain": [
              "<Figure size 432x288 with 1 Axes>"
            ]
          },
          "metadata": {
            "tags": [],
            "needs_background": "light"
          }
        }
      ]
    },
    {
      "cell_type": "markdown",
      "metadata": {
        "id": "HK5dJKGb8b5E"
      },
      "source": [
        "6-2- Create a function to be named **make_box_plot**, which takes two parameters as input: a dataframe df (parameter 1) and a column name (parameter 2). The function must output a boxplot of the distribution of the column by `Loan_Status`.\n",
        "\n",
        "Calling `make_box_plot` on `ApplicantIncome` should look like this\n",
        "\n",
        "![](img/box_plot.png)"
      ]
    },
    {
      "cell_type": "code",
      "metadata": {
        "id": "_0ZjyzP38b5E"
      },
      "source": [
        "def make_box_plot(df, column):  \n",
        "  # your code here\n",
        "  df.boxplot(column= [column], by=['Loan_Status'])\n",
        "  plt.show()\n",
        "  "
      ],
      "execution_count": 143,
      "outputs": []
    },
    {
      "cell_type": "code",
      "metadata": {
        "id": "rwrspqiM8b5E",
        "colab": {
          "base_uri": "https://localhost:8080/",
          "height": 302
        },
        "outputId": "c758282d-5b4e-43a5-fd44-c8147a32409f"
      },
      "source": [
        "make_box_plot(df, 'ApplicantIncome')"
      ],
      "execution_count": 144,
      "outputs": [
        {
          "output_type": "display_data",
          "data": {
            "image/png": "[encoded data removed]",
            "text/plain": [
              "<Figure size 432x288 with 1 Axes>"
            ]
          },
          "metadata": {
            "tags": [],
            "needs_background": "light"
          }
        }
      ]
    },
    {
      "cell_type": "markdown",
      "metadata": {
        "id": "Mm7ym3wM8b5E"
      },
      "source": [
        "6-3- Loop through df columns, except for the target and make a plot depending:\n",
        "\n",
        "* if the column is numeric, call `make_box_plot`\n",
        "* else, call `make_bar_plot`"
      ]
    },
    {
      "cell_type": "code",
      "metadata": {
        "colab": {
          "base_uri": "https://localhost:8080/"
        },
        "id": "8g616U3PvU8F",
        "outputId": "48bc6fe7-7977-47d7-e310-2ee49cd57aae"
      },
      "source": [
        "print(df.columns)\r\n",
        "print(df.dtypes)"
      ],
      "execution_count": 145,
      "outputs": [
        {
          "output_type": "stream",
          "text": [
            "Index(['Gender', 'Married', 'Dependents', 'Education', 'Self_Employed',\n",
            "       'ApplicantIncome', 'CoapplicantIncome', 'LoanAmount',\n",
            "       'Loan_Amount_Term', 'Credit_History', 'Property_Area', 'Loan_Status'],\n",
            "      dtype='object')\n",
            "Gender                object\n",
            "Married               object\n",
            "Dependents            object\n",
            "Education             object\n",
            "Self_Employed         object\n",
            "ApplicantIncome        int64\n",
            "CoapplicantIncome    float64\n",
            "LoanAmount           float64\n",
            "Loan_Amount_Term     float64\n",
            "Credit_History       float64\n",
            "Property_Area         object\n",
            "Loan_Status             int8\n",
            "dtype: object\n"
          ],
          "name": "stdout"
        }
      ]
    },
    {
      "cell_type": "code",
      "metadata": {
        "id": "BUqPa-RN8b5F",
        "colab": {
          "base_uri": "https://localhost:8080/",
          "height": 1000
        },
        "outputId": "f35ee8ec-f743-403d-813f-296ef3e98ab2"
      },
      "source": [
        "#mycodehere:\n",
        "# On a remarqué qu'il semblait plus logique de faire des barplot avec Credit_History et Loan_Amount_term,\n",
        "# du moins les graphs etaient plus lisible ainsi alors\n",
        "# on a pris la liberté de les afficher sous forme de bar plutot que de box\n",
        "\n",
        "for col in df.columns[:-1]: \n",
        "    if df[col].dtype == 'object':\n",
        "      make_bar_plot(df,col)\n",
        "    elif col == 'Credit_History':\n",
        "      make_bar_plot(df,col)\n",
        "    elif col == 'Loan_Amount_Term':\n",
        "      make_bar_plot(df,col)\n",
        "    else:\n",
        "      make_box_plot(df,col)  \n",
        "\n",
        "\n",
        "    # your code here\n"
      ],
      "execution_count": 146,
      "outputs": [
        {
          "output_type": "stream",
          "text": [
            "        total  Loan_Status  percentage\n",
            "Gender                                \n",
            "Female     86         54.0        0.63\n",
            "Male      394        278.0        0.71\n"
          ],
          "name": "stdout"
        },
        {
          "output_type": "display_data",
          "data": {
            "image/png": "[encoded data removed]",
            "text/plain": [
              "<Figure size 432x288 with 1 Axes>"
            ]
          },
          "metadata": {
            "tags": [],
            "needs_background": "light"
          }
        },
        {
          "output_type": "stream",
          "text": [
            "         total  Loan_Status  percentage\n",
            "Married                                \n",
            "No         169        105.0        0.62\n",
            "Yes        311        227.0        0.73\n"
          ],
          "name": "stdout"
        },
        {
          "output_type": "display_data",
          "data": {
            "image/png": "[encoded data removed]",
            "text/plain": [
              "<Figure size 432x288 with 1 Axes>"
            ]
          },
          "metadata": {
            "tags": [],
            "needs_background": "light"
          }
        },
        {
          "output_type": "stream",
          "text": [
            "            total  Loan_Status  percentage\n",
            "Dependents                                \n",
            "0             274        187.0        0.68\n",
            "1              80         52.0        0.65\n",
            "2              85         65.0        0.76\n",
            "3+             41         28.0        0.68\n"
          ],
          "name": "stdout"
        },
        {
          "output_type": "display_data",
          "data": {
            "image/png": "[encoded data removed]",
            "text/plain": [
              "<Figure size 432x288 with 1 Axes>"
            ]
          },
          "metadata": {
            "tags": [],
            "needs_background": "light"
          }
        },
        {
          "output_type": "stream",
          "text": [
            "              total  Loan_Status  percentage\n",
            "Education                                   \n",
            "Graduate        383        271.0        0.71\n",
            "Not Graduate     97         61.0        0.63\n"
          ],
          "name": "stdout"
        },
        {
          "output_type": "display_data",
          "data": {
            "image/png": "[encoded data removed]",
            "text/plain": [
              "<Figure size 432x288 with 1 Axes>"
            ]
          },
          "metadata": {
            "tags": [],
            "needs_background": "light"
          }
        },
        {
          "output_type": "stream",
          "text": [
            "               total  Loan_Status  percentage\n",
            "Self_Employed                                \n",
            "No               414        289.0        0.70\n",
            "Yes               66         43.0        0.65\n"
          ],
          "name": "stdout"
        },
        {
          "output_type": "display_data",
          "data": {
            "image/png": "[encoded data removed]",
            "text/plain": [
              "<Figure size 432x288 with 1 Axes>"
            ]
          },
          "metadata": {
            "tags": [],
            "needs_background": "light"
          }
        },
        {
          "output_type": "display_data",
          "data": {
            "image/png": "[encoded data removed]",
            "text/plain": [
              "<Figure size 432x288 with 1 Axes>"
            ]
          },
          "metadata": {
            "tags": [],
            "needs_background": "light"
          }
        },
        {
          "output_type": "display_data",
          "data": {
            "image/png": "[encoded data removed]",
            "text/plain": [
              "<Figure size 432x288 with 1 Axes>"
            ]
          },
          "metadata": {
            "tags": [],
            "needs_background": "light"
          }
        },
        {
          "output_type": "display_data",
          "data": {
            "image/png": "[encoded data removed]",
            "text/plain": [
              "<Figure size 432x288 with 1 Axes>"
            ]
          },
          "metadata": {
            "tags": [],
            "needs_background": "light"
          }
        },
        {
          "output_type": "stream",
          "text": [
            "                  total  Loan_Status  percentage\n",
            "Loan_Amount_Term                                \n",
            "36.0                  2          0.0        0.00\n",
            "60.0                  2          2.0        1.00\n",
            "84.0                  3          2.0        0.67\n",
            "120.0                 3          3.0        1.00\n",
            "180.0                36         24.0        0.67\n",
            "240.0                 2          1.0        0.50\n",
            "300.0                 9          4.0        0.44\n",
            "360.0               411        292.0        0.71\n",
            "480.0                12          4.0        0.33\n"
          ],
          "name": "stdout"
        },
        {
          "output_type": "display_data",
          "data": {
            "image/png": "[encoded data removed]",
            "text/plain": [
              "<Figure size 432x288 with 1 Axes>"
            ]
          },
          "metadata": {
            "tags": [],
            "needs_background": "light"
          }
        },
        {
          "output_type": "stream",
          "text": [
            "                total  Loan_Status  percentage\n",
            "Credit_History                                \n",
            "0.0                70          7.0        0.10\n",
            "1.0               410        325.0        0.79\n"
          ],
          "name": "stdout"
        },
        {
          "output_type": "display_data",
          "data": {
            "image/png": "[encoded data removed]",
            "text/plain": [
              "<Figure size 432x288 with 1 Axes>"
            ]
          },
          "metadata": {
            "tags": [],
            "needs_background": "light"
          }
        },
        {
          "output_type": "stream",
          "text": [
            "               total  Loan_Status  percentage\n",
            "Property_Area                                \n",
            "Rural            139         85.0        0.61\n",
            "Semiurban        191        149.0        0.78\n",
            "Urban            150         98.0        0.65\n"
          ],
          "name": "stdout"
        },
        {
          "output_type": "display_data",
          "data": {
            "image/png": "[encoded data removed]",
            "text/plain": [
              "<Figure size 432x288 with 1 Axes>"
            ]
          },
          "metadata": {
            "tags": [],
            "needs_background": "light"
          }
        }
      ]
    },
    {
      "cell_type": "code",
      "metadata": {
        "colab": {
          "base_uri": "https://localhost:8080/",
          "height": 681
        },
        "id": "Pton7rm8KVOy",
        "outputId": "10b6560d-2dee-4183-b3a9-01ba19ef1c31"
      },
      "source": [
        "make_bar_plot(df,'Gender')\r\n",
        "make_bar_plot(df,'Credit_History')"
      ],
      "execution_count": 147,
      "outputs": [
        {
          "output_type": "stream",
          "text": [
            "        total  Loan_Status  percentage\n",
            "Gender                                \n",
            "Female     86         54.0        0.63\n",
            "Male      394        278.0        0.71\n"
          ],
          "name": "stdout"
        },
        {
          "output_type": "display_data",
          "data": {
            "image/png": "[encoded data removed]",
            "text/plain": [
              "<Figure size 432x288 with 1 Axes>"
            ]
          },
          "metadata": {
            "tags": [],
            "needs_background": "light"
          }
        },
        {
          "output_type": "stream",
          "text": [
            "                total  Loan_Status  percentage\n",
            "Credit_History                                \n",
            "0.0                70          7.0        0.10\n",
            "1.0               410        325.0        0.79\n"
          ],
          "name": "stdout"
        },
        {
          "output_type": "display_data",
          "data": {
            "image/png": "[encoded data removed]",
            "text/plain": [
              "<Figure size 432x288 with 1 Axes>"
            ]
          },
          "metadata": {
            "tags": [],
            "needs_background": "light"
          }
        }
      ]
    },
    {
      "cell_type": "markdown",
      "metadata": {
        "id": "Aw6Ax2kC8b5F"
      },
      "source": [
        "# Model Training & Evaluation"
      ]
    },
    {
      "cell_type": "markdown",
      "metadata": {
        "id": "qHp5ExJq8b5F"
      },
      "source": [
        "7-1- Use [pandas.get_dummies](https://pandas.pydata.org/pandas-docs/stable/generated/pandas.get_dummies.html) to transform `Property_Area` and `Dependents` into dummy variables"
      ]
    },
    {
      "cell_type": "code",
      "metadata": {
        "scrolled": true,
        "id": "9AA2JX8X8b5F"
      },
      "source": [
        "# your code here\r\n",
        "df = pd.get_dummies(df, columns=['Property_Area','Dependents'])"
      ],
      "execution_count": 148,
      "outputs": []
    },
    {
      "cell_type": "markdown",
      "metadata": {
        "id": "NYT3aNI_8b5F"
      },
      "source": [
        "print the head of df"
      ]
    },
    {
      "cell_type": "code",
      "metadata": {
        "id": "BiVjvZHJ8b5G",
        "colab": {
          "base_uri": "https://localhost:8080/",
          "height": 241
        },
        "outputId": "c5ff0095-1c6d-4c68-c3a4-3c3f60ae0e37"
      },
      "source": [
        "# your code here\r\n",
        "df.head()"
      ],
      "execution_count": 151,
      "outputs": [
        {
          "output_type": "execute_result",
          "data": {
            "text/html": [
              "<div>\n",
              "<style scoped>\n",
              "    .dataframe tbody tr th:only-of-type {\n",
              "        vertical-align: middle;\n",
              "    }\n",
              "\n",
              "    .dataframe tbody tr th {\n",
              "        vertical-align: top;\n",
              "    }\n",
              "\n",
              "    .dataframe thead th {\n",
              "        text-align: right;\n",
              "    }\n",
              "</style>\n",
              "<table border=\"1\" class=\"dataframe\">\n",
              "  <thead>\n",
              "    <tr style=\"text-align: right;\">\n",
              "      <th></th>\n",
              "      <th>Gender</th>\n",
              "      <th>Married</th>\n",
              "      <th>Education</th>\n",
              "      <th>Self_Employed</th>\n",
              "      <th>ApplicantIncome</th>\n",
              "      <th>CoapplicantIncome</th>\n",
              "      <th>LoanAmount</th>\n",
              "      <th>Loan_Amount_Term</th>\n",
              "      <th>Credit_History</th>\n",
              "      <th>Loan_Status</th>\n",
              "      <th>Property_Area_Rural</th>\n",
              "      <th>Property_Area_Semiurban</th>\n",
              "      <th>Property_Area_Urban</th>\n",
              "      <th>Dependents_0</th>\n",
              "      <th>Dependents_1</th>\n",
              "      <th>Dependents_2</th>\n",
              "      <th>Dependents_3+</th>\n",
              "    </tr>\n",
              "  </thead>\n",
              "  <tbody>\n",
              "    <tr>\n",
              "      <th>1</th>\n",
              "      <td>Male</td>\n",
              "      <td>Yes</td>\n",
              "      <td>Graduate</td>\n",
              "      <td>No</td>\n",
              "      <td>4583</td>\n",
              "      <td>1508.0</td>\n",
              "      <td>128.0</td>\n",
              "      <td>360.0</td>\n",
              "      <td>1.0</td>\n",
              "      <td>0</td>\n",
              "      <td>1</td>\n",
              "      <td>0</td>\n",
              "      <td>0</td>\n",
              "      <td>0</td>\n",
              "      <td>1</td>\n",
              "      <td>0</td>\n",
              "      <td>0</td>\n",
              "    </tr>\n",
              "    <tr>\n",
              "      <th>2</th>\n",
              "      <td>Male</td>\n",
              "      <td>Yes</td>\n",
              "      <td>Graduate</td>\n",
              "      <td>Yes</td>\n",
              "      <td>3000</td>\n",
              "      <td>0.0</td>\n",
              "      <td>66.0</td>\n",
              "      <td>360.0</td>\n",
              "      <td>1.0</td>\n",
              "      <td>1</td>\n",
              "      <td>0</td>\n",
              "      <td>0</td>\n",
              "      <td>1</td>\n",
              "      <td>1</td>\n",
              "      <td>0</td>\n",
              "      <td>0</td>\n",
              "      <td>0</td>\n",
              "    </tr>\n",
              "    <tr>\n",
              "      <th>3</th>\n",
              "      <td>Male</td>\n",
              "      <td>Yes</td>\n",
              "      <td>Not Graduate</td>\n",
              "      <td>No</td>\n",
              "      <td>2583</td>\n",
              "      <td>2358.0</td>\n",
              "      <td>120.0</td>\n",
              "      <td>360.0</td>\n",
              "      <td>1.0</td>\n",
              "      <td>1</td>\n",
              "      <td>0</td>\n",
              "      <td>0</td>\n",
              "      <td>1</td>\n",
              "      <td>1</td>\n",
              "      <td>0</td>\n",
              "      <td>0</td>\n",
              "      <td>0</td>\n",
              "    </tr>\n",
              "    <tr>\n",
              "      <th>4</th>\n",
              "      <td>Male</td>\n",
              "      <td>No</td>\n",
              "      <td>Graduate</td>\n",
              "      <td>No</td>\n",
              "      <td>6000</td>\n",
              "      <td>0.0</td>\n",
              "      <td>141.0</td>\n",
              "      <td>360.0</td>\n",
              "      <td>1.0</td>\n",
              "      <td>1</td>\n",
              "      <td>0</td>\n",
              "      <td>0</td>\n",
              "      <td>1</td>\n",
              "      <td>1</td>\n",
              "      <td>0</td>\n",
              "      <td>0</td>\n",
              "      <td>0</td>\n",
              "    </tr>\n",
              "    <tr>\n",
              "      <th>5</th>\n",
              "      <td>Male</td>\n",
              "      <td>Yes</td>\n",
              "      <td>Graduate</td>\n",
              "      <td>Yes</td>\n",
              "      <td>5417</td>\n",
              "      <td>4196.0</td>\n",
              "      <td>267.0</td>\n",
              "      <td>360.0</td>\n",
              "      <td>1.0</td>\n",
              "      <td>1</td>\n",
              "      <td>0</td>\n",
              "      <td>0</td>\n",
              "      <td>1</td>\n",
              "      <td>0</td>\n",
              "      <td>0</td>\n",
              "      <td>1</td>\n",
              "      <td>0</td>\n",
              "    </tr>\n",
              "  </tbody>\n",
              "</table>\n",
              "</div>"
            ],
            "text/plain": [
              "  Gender Married     Education  ... Dependents_1  Dependents_2  Dependents_3+\n",
              "1   Male     Yes      Graduate  ...            1             0              0\n",
              "2   Male     Yes      Graduate  ...            0             0              0\n",
              "3   Male     Yes  Not Graduate  ...            0             0              0\n",
              "4   Male      No      Graduate  ...            0             0              0\n",
              "5   Male     Yes      Graduate  ...            0             1              0\n",
              "\n",
              "[5 rows x 17 columns]"
            ]
          },
          "metadata": {
            "tags": []
          },
          "execution_count": 151
        }
      ]
    },
    {
      "cell_type": "code",
      "metadata": {
        "id": "5Zg4F63N8b5G"
      },
      "source": [
        "assert df.shape == (480, 17)"
      ],
      "execution_count": 150,
      "outputs": []
    },
    {
      "cell_type": "markdown",
      "metadata": {
        "id": "5Upa-0HC8b5G"
      },
      "source": [
        "7-2- Use `pandas.Categorical` (as seen in *Titanic* notebook) to transform the remaining text columns of df into numerical ones"
      ]
    },
    {
      "cell_type": "code",
      "metadata": {
        "id": "s2rqob4w8b5G"
      },
      "source": [
        "# freshly imported from titanic notebook:\r\n",
        "for col in df.columns: # Loop through all columns in predictors\r\n",
        "    if df[col].dtype == 'object':  # check if column's type is object (text)\r\n",
        "        df[col] = pd.Categorical(df[col]).codes  # convert text to numerical"
      ],
      "execution_count": 152,
      "outputs": []
    },
    {
      "cell_type": "markdown",
      "metadata": {
        "id": "ICadimOj8b5G"
      },
      "source": [
        "Print the head of df"
      ]
    },
    {
      "cell_type": "code",
      "metadata": {
        "scrolled": true,
        "id": "vTWblmq68b5G",
        "colab": {
          "base_uri": "https://localhost:8080/",
          "height": 224
        },
        "outputId": "f52819f0-292e-408b-a84b-fd7e3dbce66f"
      },
      "source": [
        "# your code here\r\n",
        "df.head()"
      ],
      "execution_count": 153,
      "outputs": [
        {
          "output_type": "execute_result",
          "data": {
            "text/html": [
              "<div>\n",
              "<style scoped>\n",
              "    .dataframe tbody tr th:only-of-type {\n",
              "        vertical-align: middle;\n",
              "    }\n",
              "\n",
              "    .dataframe tbody tr th {\n",
              "        vertical-align: top;\n",
              "    }\n",
              "\n",
              "    .dataframe thead th {\n",
              "        text-align: right;\n",
              "    }\n",
              "</style>\n",
              "<table border=\"1\" class=\"dataframe\">\n",
              "  <thead>\n",
              "    <tr style=\"text-align: right;\">\n",
              "      <th></th>\n",
              "      <th>Gender</th>\n",
              "      <th>Married</th>\n",
              "      <th>Education</th>\n",
              "      <th>Self_Employed</th>\n",
              "      <th>ApplicantIncome</th>\n",
              "      <th>CoapplicantIncome</th>\n",
              "      <th>LoanAmount</th>\n",
              "      <th>Loan_Amount_Term</th>\n",
              "      <th>Credit_History</th>\n",
              "      <th>Loan_Status</th>\n",
              "      <th>Property_Area_Rural</th>\n",
              "      <th>Property_Area_Semiurban</th>\n",
              "      <th>Property_Area_Urban</th>\n",
              "      <th>Dependents_0</th>\n",
              "      <th>Dependents_1</th>\n",
              "      <th>Dependents_2</th>\n",
              "      <th>Dependents_3+</th>\n",
              "    </tr>\n",
              "  </thead>\n",
              "  <tbody>\n",
              "    <tr>\n",
              "      <th>1</th>\n",
              "      <td>1</td>\n",
              "      <td>1</td>\n",
              "      <td>0</td>\n",
              "      <td>0</td>\n",
              "      <td>4583</td>\n",
              "      <td>1508.0</td>\n",
              "      <td>128.0</td>\n",
              "      <td>360.0</td>\n",
              "      <td>1.0</td>\n",
              "      <td>0</td>\n",
              "      <td>1</td>\n",
              "      <td>0</td>\n",
              "      <td>0</td>\n",
              "      <td>0</td>\n",
              "      <td>1</td>\n",
              "      <td>0</td>\n",
              "      <td>0</td>\n",
              "    </tr>\n",
              "    <tr>\n",
              "      <th>2</th>\n",
              "      <td>1</td>\n",
              "      <td>1</td>\n",
              "      <td>0</td>\n",
              "      <td>1</td>\n",
              "      <td>3000</td>\n",
              "      <td>0.0</td>\n",
              "      <td>66.0</td>\n",
              "      <td>360.0</td>\n",
              "      <td>1.0</td>\n",
              "      <td>1</td>\n",
              "      <td>0</td>\n",
              "      <td>0</td>\n",
              "      <td>1</td>\n",
              "      <td>1</td>\n",
              "      <td>0</td>\n",
              "      <td>0</td>\n",
              "      <td>0</td>\n",
              "    </tr>\n",
              "    <tr>\n",
              "      <th>3</th>\n",
              "      <td>1</td>\n",
              "      <td>1</td>\n",
              "      <td>1</td>\n",
              "      <td>0</td>\n",
              "      <td>2583</td>\n",
              "      <td>2358.0</td>\n",
              "      <td>120.0</td>\n",
              "      <td>360.0</td>\n",
              "      <td>1.0</td>\n",
              "      <td>1</td>\n",
              "      <td>0</td>\n",
              "      <td>0</td>\n",
              "      <td>1</td>\n",
              "      <td>1</td>\n",
              "      <td>0</td>\n",
              "      <td>0</td>\n",
              "      <td>0</td>\n",
              "    </tr>\n",
              "    <tr>\n",
              "      <th>4</th>\n",
              "      <td>1</td>\n",
              "      <td>0</td>\n",
              "      <td>0</td>\n",
              "      <td>0</td>\n",
              "      <td>6000</td>\n",
              "      <td>0.0</td>\n",
              "      <td>141.0</td>\n",
              "      <td>360.0</td>\n",
              "      <td>1.0</td>\n",
              "      <td>1</td>\n",
              "      <td>0</td>\n",
              "      <td>0</td>\n",
              "      <td>1</td>\n",
              "      <td>1</td>\n",
              "      <td>0</td>\n",
              "      <td>0</td>\n",
              "      <td>0</td>\n",
              "    </tr>\n",
              "    <tr>\n",
              "      <th>5</th>\n",
              "      <td>1</td>\n",
              "      <td>1</td>\n",
              "      <td>0</td>\n",
              "      <td>1</td>\n",
              "      <td>5417</td>\n",
              "      <td>4196.0</td>\n",
              "      <td>267.0</td>\n",
              "      <td>360.0</td>\n",
              "      <td>1.0</td>\n",
              "      <td>1</td>\n",
              "      <td>0</td>\n",
              "      <td>0</td>\n",
              "      <td>1</td>\n",
              "      <td>0</td>\n",
              "      <td>0</td>\n",
              "      <td>1</td>\n",
              "      <td>0</td>\n",
              "    </tr>\n",
              "  </tbody>\n",
              "</table>\n",
              "</div>"
            ],
            "text/plain": [
              "   Gender  Married  Education  ...  Dependents_1  Dependents_2  Dependents_3+\n",
              "1       1        1          0  ...             1             0              0\n",
              "2       1        1          0  ...             0             0              0\n",
              "3       1        1          1  ...             0             0              0\n",
              "4       1        0          0  ...             0             0              0\n",
              "5       1        1          0  ...             0             1              0\n",
              "\n",
              "[5 rows x 17 columns]"
            ]
          },
          "metadata": {
            "tags": []
          },
          "execution_count": 153
        }
      ]
    },
    {
      "cell_type": "code",
      "metadata": {
        "id": "p-qakPto8b5H"
      },
      "source": [
        "assert 'object' not in [df[f].dtype for f in df.columns]"
      ],
      "execution_count": 154,
      "outputs": []
    },
    {
      "cell_type": "markdown",
      "metadata": {
        "id": "_UOHGBsb8b5H"
      },
      "source": [
        "8-1 Load the target variable \"Loan_Status\" into a dataframe and call it y. Then, load the features into a second dataframe and call it X. "
      ]
    },
    {
      "cell_type": "code",
      "metadata": {
        "id": "N3W2wfLe8b5H",
        "colab": {
          "base_uri": "https://localhost:8080/"
        },
        "outputId": "ad8b1fcc-3931-4503-f808-1220548f0d6a"
      },
      "source": [
        "y = df['Loan_Status']\n",
        "X = df.drop('Loan_Status',axis=1,inplace=False)\n",
        "print (df.columns)"
      ],
      "execution_count": 158,
      "outputs": [
        {
          "output_type": "stream",
          "text": [
            "Index(['Gender', 'Married', 'Education', 'Self_Employed', 'ApplicantIncome',\n",
            "       'CoapplicantIncome', 'LoanAmount', 'Loan_Amount_Term', 'Credit_History',\n",
            "       'Loan_Status', 'Property_Area_Rural', 'Property_Area_Semiurban',\n",
            "       'Property_Area_Urban', 'Dependents_0', 'Dependents_1', 'Dependents_2',\n",
            "       'Dependents_3+'],\n",
            "      dtype='object')\n"
          ],
          "name": "stdout"
        }
      ]
    },
    {
      "cell_type": "markdown",
      "metadata": {
        "id": "cj0jV44c8b5H"
      },
      "source": [
        "8-2 Split the data set into a training set and a test set. Set: test_size=0.3, random_state=123"
      ]
    },
    {
      "cell_type": "code",
      "metadata": {
        "id": "fCvbiklr8b5H",
        "colab": {
          "base_uri": "https://localhost:8080/"
        },
        "outputId": "6b9596b3-6d4b-45e1-94c0-14e10dd838ef"
      },
      "source": [
        "# freshly imported from the titanic notebook\n",
        "from sklearn.model_selection import train_test_split\n",
        "X_train,X_test ,y_train, y_test = train_test_split(X,y, test_size = 0.3, random_state = 11)\n",
        "\n",
        "print (\"train shape\", X_train.shape, y_train.shape)\n",
        "print (\"test shape\", X_test.shape, y_test.shape)"
      ],
      "execution_count": 164,
      "outputs": [
        {
          "output_type": "stream",
          "text": [
            "train shape (336, 16) (336,)\n",
            "test shape (144, 16) (144,)\n"
          ],
          "name": "stdout"
        }
      ]
    },
    {
      "cell_type": "markdown",
      "metadata": {
        "id": "nbDi-9rC8b5I"
      },
      "source": [
        "8-3- Fit a logistic model to the training set, and then report the training and testing accuracies"
      ]
    },
    {
      "cell_type": "code",
      "metadata": {
        "id": "95lv7u0o8b5I",
        "colab": {
          "base_uri": "https://localhost:8080/"
        },
        "outputId": "25725df0-1160-4e8f-9e2f-06d5f67a66b5"
      },
      "source": [
        "# same as before \n",
        "from sklearn.linear_model import LogisticRegression\n",
        "\n",
        "clf = LogisticRegression(random_state=11)\n",
        "# your code here\n",
        "clf.fit(X_train,y_train) #Fit the model according to the given training data. (doc )\n",
        "train_score = clf.score(X_train,y_train)\n",
        "test_score = clf.score(X_test,y_test)\n",
        "print ('train accuracy =', train_score)\n",
        "print ('test accuracy =', test_score)"
      ],
      "execution_count": 167,
      "outputs": [
        {
          "output_type": "stream",
          "text": [
            "train accuracy = 0.8154761904761905\n",
            "test accuracy = 0.7916666666666666\n"
          ],
          "name": "stdout"
        }
      ]
    },
    {
      "cell_type": "markdown",
      "metadata": {
        "id": "ozzXpH2s8b5I"
      },
      "source": [
        "\r\n",
        "\r\n",
        "9- Print the confusion matrix and compute the **precision** for class **0**, **recall** for class **1** using the formulas learned in class (you should not use metrics.classification_report)"
      ]
    },
    {
      "cell_type": "code",
      "metadata": {
        "id": "h6glTu_Z8b5J",
        "colab": {
          "base_uri": "https://localhost:8080/"
        },
        "outputId": "9c13e4b0-56b4-4236-a6c9-2d878729a5d7"
      },
      "source": [
        "# After looking again at the course we need to establish a y_pred to create our confusion matrix\r\n",
        "#until now we just fitted our model with the logistic regression, now is time to predict the future\r\n",
        "from sklearn.metrics import confusion_matrix\r\n",
        "y_pred = clf.predict(X_test)\r\n",
        "\r\n",
        "absolute_confusion = confusion_matrix(y_test, y_pred)\r\n",
        "\r\n",
        "print(absolute_confusion)\r\n",
        "#we can see we have around 23 true negative, 91 true positive which are good prediction and\r\n",
        "#we have 26 false positive and only 4 false negative so our model is biased toward not giving loan which is okay for a bank\r\n",
        "#because the bank wont lose money by not giving the loan anyway, so that's our interpretation of the confusion matrix."
      ],
      "execution_count": 171,
      "outputs": [
        {
          "output_type": "stream",
          "text": [
            "[[23 26]\n",
            " [ 4 91]]\n"
          ],
          "name": "stdout"
        }
      ]
    },
    {
      "cell_type": "code",
      "metadata": {
        "colab": {
          "base_uri": "https://localhost:8080/"
        },
        "id": "4wX8NelSERN9",
        "outputId": "14087b89-b9bf-4a5c-876e-9b5708294cfd"
      },
      "source": [
        "#give name to the variable to understand the coming formula\r\n",
        "True_Negative = absolute_confusion[0][0]\r\n",
        "False_Positive = absolute_confusion[0][1]\r\n",
        "False_Negative = absolute_confusion[1][0]\r\n",
        "True_Positive = absolute_confusion[1][1]"
      ],
      "execution_count": 177,
      "outputs": [
        {
          "output_type": "stream",
          "text": [
            "91\n"
          ],
          "name": "stdout"
        }
      ]
    },
    {
      "cell_type": "code",
      "metadata": {
        "id": "NLImGk_D8b5J"
      },
      "source": [
        "#now let's look at the precison and recall\n",
        "# Precision = (𝑇𝑟𝑢𝑒 𝑝𝑜𝑠𝑖𝑡𝑖𝑣𝑒)/(𝑇𝑟𝑢𝑒 𝑝𝑜𝑠𝑖𝑡𝑖𝑣𝑒 + 𝐹𝑎𝑙𝑠𝑒 𝑝𝑜𝑠𝑖𝑡𝑖𝑣𝑒) according to the course\n",
        "precision_0 = \n",
        "recall_1 = # your code here\n",
        "print ('precision_0 =', # your code here)\n",
        "print ('recall_1 =',# your code here)"
      ],
      "execution_count": null,
      "outputs": []
    },
    {
      "cell_type": "markdown",
      "metadata": {
        "id": "mGhGA9Z88b5J"
      },
      "source": [
        "10- Use 5-fold [cross-validation](https://scikit-learn.org/stable/modules/generated/sklearn.model_selection.cross_val_score.html) and choose `f1` for scoring. Print the mean and standard deviation of scores"
      ]
    },
    {
      "cell_type": "code",
      "metadata": {
        "id": "kz8bIYYu8b5J"
      },
      "source": [
        "# evaluate the model using 5-fold cross-validation\n",
        "# your code here\n",
        "scores = # your code here\n",
        "print (scores)\n",
        "print ('scores mean =', '# your code here', 'scores std =', '# your code here')"
      ],
      "execution_count": null,
      "outputs": []
    },
    {
      "cell_type": "markdown",
      "metadata": {
        "id": "Lb915VCB8b5K"
      },
      "source": [
        "how is the mean `f1_score` compared to the first one with train_test_split"
      ]
    },
    {
      "cell_type": "markdown",
      "metadata": {
        "id": "IufTKANu8b5K"
      },
      "source": [
        "Looks good. It's still performing at the same range of f1 score."
      ]
    },
    {
      "cell_type": "code",
      "metadata": {
        "id": "d6Y3XFad8b5L"
      },
      "source": [
        ""
      ],
      "execution_count": null,
      "outputs": []
    }
  ]
}